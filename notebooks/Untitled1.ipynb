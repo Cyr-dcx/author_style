{
 "cells": [
  {
   "cell_type": "code",
   "execution_count": 1,
   "id": "efb254fd",
   "metadata": {},
   "outputs": [],
   "source": [
    "ajar1 = \"Il n'a pas répondu. Il but un peu de thé de menthe qui est bon pour la santé. Monsieur machin portait toujours une machin grise, depuis quelque temps, pour ne pas être surpris en veston s'il était appelé. Il m'a regardé et a observé le silence. Il devait penser que j'étais encore interdit aux mineurs et qu'il y avait des choses que je ne devais pas savoir. En ce moment je devais avoir sept ans ou peut-être huit, je ne peux pas vous dire juste parce que je n'ai pas été daté, comme vous allez voir quand on se connaîtra mieux, si vous trouvez que ça vaut la peine\"\n",
    "ajar2 = \"Madame Rosa était née en Pologne comme Juive mais elle s'était défendue, au Maroc et en Algérie pendant plusieurs années et elle savait l'arabe comme vous et moi. Elle savait aussi le juif pour les mêmes raisons et on se parlait souvent dans cette langue. La plupart des autres locataires de l'immeuble étaient des Noirs. Il y a trois foyers noirs rue Bisson et deux autres où ils vivent par tribus, comme ils font ça en Afrique. Il y a surtout les Sarakollé, qui sont les plus nombreux et les Toucouleurs, qui sont pas mal non plus. Il y a beaucoup d'autres tribus rue Bisson mais je n'ai pas le temps de vous les nommer toutes. Le reste de la rue et du boulevard de Belleville est surtout juif et arabe. Ça continue Comme ça jusqu’à la Goutte d’Or et après c’est les quartiers français qui commencent.\"\n",
    "ajar3 = \"Au début je ne savais pas que je n'avais pas de mère et je ne savais même pas qu'il en fallait une. Madame Rosa évitait d'en parler pour ne pas me donner des idées. Je ne sais pas pourquoi je suis né et qu'est-ce qui s'est passé exactement. Mon copain le Mahoute qui a plusieurs années de plus que moi m'a dit que c'est les conditions d'hygiène qui font ça. Lui était né à la Casbah à Alger et il était venu en France seulement après. Il n'y avait pas encore d'hygiène à la Casbah et il était né parce qu'il n'y avait ni bidet ni eau potable ni rien. Le Mahoute a appris tout cela plus tard, quand son père a cherché à se justifier et lui a juré qu'il n'y avait aucune mauvaise volonté chez personne. Le Mahoute m'a dit que les femmes qui se défendent ont maintenant une pilule pour l'hygiène mais qu'il était né trop tôt.\"\n",
    "ajar4 = \"Il y avait chez nous pas mal de mères qui venaient une ou deux fois par semaine mais c'était toujours pour les autres. Nous étions presque tous des enfants de putes chez Madame Rosa, et quand elles partaient plusieurs mois en province pour se défendre là-bas, elles venaient voir leurs mômes avant et après. C'est comme ça que j'ai commencé à avoir des ennuis avec ma mère. Il me semblait que tout le monde en avait une sauf moi. \"\n",
    "ajar5 = \"J'ai commencé à avoir des crampes d'estomac et des convulsions pour la faire venir. Il y avait sur le trottoir d'en face un môme qui avait un ballon et qui m'avait dit que sa mère venait toujours quand il avait mal au ventre. J'ai eu mal au ventre mais ça n'a rien donné et ensuite j'ai eu des convulsions, pour rien aussi. J'ai même chié partout dans l'appartement pour plus de remarque. Rien. Ma mère n'est pas venue et Madame Rosa m'a traité de cul d'Arabe pour la première fois, car elle n'était pas française. \"\n",
    "ajar6 = \"Je lui hurlais que je voulais voir ma mère et pendant des semaines j'ai continué à chier partout pour me venger. Madame Rosa a fini par me dire que si je continuais c'était l'Assistance publique et là j'ai eu peur, parce que l'Assistance publique c'est la première chose qu'on apprend aux enfants. J'ai continué à chier pour le principe mais ce n'était pas une vie. On était alors sept enfants de putes en pension chez Madame Rosa et ils se sont tous mis à chier à qui mieux mieux car il n'y a rien de plus conformiste que les mômes et il y avait tant de caca partout que je passais inaperçu là-dedans.\"\n",
    "\n",
    "kessel1 = \"« Non… Pas mon père. Il n’y a pas d’homme meilleur. Il ne fait que du bien aux animaux. Je ne veux pas qu’on parle de tous ceux qu’il a pu tuer.— Mais comment le savez-vous ? demandai-je.— Il racontait à maman, à ses amis, quand j’étais très petite. Il pensait que je ne comprenais pas. Maintenant je ne veux pas, je ne supporte pas… Je l’aime trop. »Alors me revint à l’esprit et dans toute sa véritable signification le regard par lequel, la veille, dans le bungalow, la petite fille avait interdit à Bullit d’achever le récit de sa chasse aux lions du Serenguetti.Patricia baissa la vitre de la portière, plongea dehors sa tête coiffée en boule et aspira longuement la poussière brûlante que soulevait notre course. Quand je revis sa figure, elle ne portait plus un signe de tourment. On ne pouvait y déceler qu’une impatience heureuse. Elle donna un ordre à Bogo. Notre voiture s’engagea dans un sentier bosselé, tortueux.Était-ce la configuration du terrain ou l’orientation du sentier qui menait vers les taillis mystérieux et les refuges protégés des animaux sauvages – mais, contrairement à son habitude, Bogo conduisait très mal. Ressorts, freins, changement de vitesse gémissaient, grinçaient. Nous avancions dans un affreux tintamarre.\"\n",
    "kessel2 = \"Je fis comme Patricia. Mais je n’avais pas la faculté qu’elle possédait naturellement de fermer sa pensée aussi bien que les yeux et de subir sans malaise les feux du soleil tropical au sommet de sa course, sur une terre qui, à travers l’herbe sèche et les vêtements, brûlait le corps. À cause de cela, sans doute, je fus le premier averti ou incommodé par une odeur en même temps fétide et suave. Elle ne venait pas de l’enclos des vaches, ainsi que je l’avais cru d’abord, mais d’un rideau de buissons qui en était assez éloigné. Je le fis remarquer à Patricia.« Je sais, dit-elle avec paresse. Quelque bête morte. » Elle referma de nouveau les yeux mais les rouvrit aussitôt et se redressa sur un coude. Une plainte s’était élevée de ces mêmes buissons. Et, toute basse et faible qu’elle fût, elle ressemblait à une plainte humaine. Elle cessa, reprit et se tut de nouveau. Patricia tourna la tête vers le sommet de la petite colline. Une rumeur barbare scandée par des battements de mains résonnait dans la manyatta.\"\n",
    "\n",
    "Beauvoir1 = \"Au cours Désir, nous faisions bande à part. L’institut ne préparait que latin-langues. M. Mabille voulait que sa fille eût une formation scientifique ; moi, j’aimais ce qui résistait : les mathématiques me plaisaient. On fit venir une extra qui à partir de la seconde nous enseigna l’algèbre, la trigonométrie, la physique. Jeune, vive, compétente, Mademoiselle Chassin ne perdait pas de temps en palabres morales : on travaillait sans niaiserie. Elle nous aimait bien. Quand Zaza se perdait trop longtemps dans l’invisible, elle lui demandait gentiment : « Où êtes-vous, Élisabeth ? » Zaza sursautait, souriait. Nous n’avions pour condisciples que deux jumelles toujours endeuillées et quasi muettes. L’intimité de ces classes me charmait. En latin, nous avions obtenu de sauter une année, et de passer dès la seconde dans le cours supérieur ; la compétition avec des élèves de première me tenait en haleine. Quand je me retrouvai, l’année du bachot, avec mes condisciples ordinaires et que le piment de la nouveauté fit défaut, le savoir de l’abbé Trécourt me parut un peu mince ; il n’évitait pas toujours les contresens ; mais ce gros homme au teint couperosé était plus ouvert, plus jovial que ces demoiselles et nous éprouvions pour lui une sympathie que visiblement il nous rendait. Nos parents trouvant amusant que nous présentions aussi latin-langues, nous commençâmes, vers janvier, à apprendre l’italien et nous sûmes très vite déchiffrer Cuore et Le mie prigioni. Zaza faisait de l’allemand ; néanmoins, comme mon professeur d’anglais n’appartenait pas à la confrérie et me manifestait de l’amitié, je suivais ses cours avec plaisir. En revanche, nous supportions avec impatience les patriotiques radotages de Mademoiselle Gontran, notre professeur d’histoire ; et Mademoiselle Lejeune nous irritait par l’étroitesse de ses partis pris littéraires. Pour élargir nos horizons, nous lisions beaucoup et nous discutions entre nous. Souvent en classe nous défendions opiniâtrement nos points de vue ; je ne sais si Mademoiselle Lejeune fut assez perspicace pour me percer à jour mais elle semblait, à présent, se méfier beaucoup plus de moi que de Zaza.\"\n",
    "Beauvoir2 = \"C’est par mon père qu’elle me fut annoncée ; j’avais compté sur son appui, sa sympathie, son approbation : je fus profondément déçue qu’il me les refusât. Il y avait bien de la distance entre mes ambitieuses visées et son scepticisme morose ; sa morale exigeait le respect des institutions ; quant aux individus, ils n’avaient rien à faire sur terre, sinon éviter les ennuis et jouir le mieux possible de l’existence. Mon père répétait souvent qu’il faut avoir un idéal, et tout en les détestant, il enviait les Italiens parce que Mussolini leur en fournissait un : cependant il ne m’en proposait aucun. Mais je ne lui en demandais pas tant. Étant donné son âge et les circonstances, je trouvais son attitude normale et il me semblait qu’il aurait pu comprendre la mienne. Sur bien des points — la Société des Nations, le cartel des gauches, la guerre du Maroc — je n’avais aucune opinion et j’acquiesçais à tout ce qu’il me disait. Nos désaccords me paraissaient si bénins que je ne fis d’abord aucun effort pour les atténuer.\"\n",
    "\n",
    "Perec1 = \"Je ne vois pas ma mère vieillir. Les années passent pourtant ; je ne sais comment elle grandit ; je ne sais ni ce qu’elle découvre ni ce qu’elle pense. Il me semble que très longtemps les choses continuent à être pour elle ce qu’elles ont toujours été : la pauvreté, la peur, l’ignorance. Apprit-elle à lire ? Je n’en sais rien22. Il m’arrive d’avoir envie de le savoir, mais trop de choses maintenant m’éloignent à jamais de ces souvenirs. L’image que j’ai d’elle, arbitraire et schématique, me convient ; elle lui ressemble, elle la définit, pour moi, presque parfaitement.Il n’y eut dans la vie de ma mère qu’un seul événement : un jour elle sut qu’elle allait partir pour Paris. Je crois qu’elle rêva. Elle alla chercher, quelque part, un atlas, une carte, une image, elle vit la tour Eiffel ou l’Arc de triomphe. Elle pensa peut-être à des tas de choses : sans doute pas aux toilettes ou aux bals, mais peut-être au climat doux, à la tranquillité, au bonheur. On dut lui dire qu’il n’y aurait plus de massacres et plus de ghettos, et de l’argent pour tout le monde.Le départ se fit. Je ne sais ni quand, ni comment, ni pourquoi. Était-ce un pogrom qui les chassait, quelqu’un qui les faisait venir23 ? Je sais qu’ils arrivèrent à Paris, ses parents, elle, Soura la jeune sœur, les autres peut-être aussi. Ils s’installèrent dans le vingtième arrondissement, dans une rue dont j’ai oublié le nom.Laja, la mère, mourut. Ma mère apprit, je crois, le métier de coiffeuse. Puis elle rencontra mon père. Ils se marièrent. Elle avait vingt et un ans et dix jours. C’était le 30 août 1934 à la Mairie du vingtième. Ils s’installèrent rue Vilin ; ils prirent en gérance un petit salon de coiffure.Je naquis au mois de mars 1936. Ce furent peut-être trois années d’un bonheur relatif que vinrent noircir sans doute les maladies de ma prime enfance (coqueluche, rougeole, varicelle)24, plusieurs sortes de difficultés matérielles, un avenir qui s’annonçait mal.La guerre survint. Mon père s’engagea et mourut. Ma mère devint veuve de guerre. Elle prit le deuil. Elle me mit en nourrice. Son salon fut fermé. Elle s’engagea comme ouvrière dans une fabrique de réveille-matin25. Il me semble me souvenir qu’elle se blessa un jour et eut la main transpercée. Elle porta l’étoile.Un jour elle m’accompagna à la gare. C’était en 1942. C’était la gare de Lyon. Elle m’acheta un illustré qui devait être un Charlot. Je l’aperçus, il me semble, agitant un mouchoir blanc sur le quai cependant que le train se mettait en route. J’allais à Villard-de-Lans, avec la Croix-Rouge.Elle tenta plus tard, me raconta-t-on, de passer la Loire. Le passeur qu’elle alla trouver, et dont sa belle-sœur, déjà en zone libre, lui avait communiqué l’adresse, se trouva être absent. Elle n’insista pas davantage et retourna à Paris. On lui conseilla de déménager, de se cacher. Elle n’en fit rien. Elle pensait que son titre de veuve de guerre lui éviterait tout ennui26. Elle fut prise dans une rafle avec sa sœur, ma tante. Elle fut internée à Drancy le 23 janvier 1943, puis déportée le 11 février suivant en direction d’Auschwitz. Elle revit son pays natal avant de mourir. Elle mourut sans avoir compris.\"\n",
    "Perec2 = \"C’est ici que l’on pourra apprécier à quel point le système d’alimentation W s’insère d’une manière subtile dans le système global de la société et en devient même une des articulations essentielles. Il va de soi que l’absence de repas du soir ne constitue pas, en elle-même, une privation vitale. Si tel était le cas, il n’y aurait plus depuis longtemps de vie sportive, ni même de vie tout court, sur W : un simple calcul montre en effet que, dans le meilleur des cas, celui des championnats de classement, 264 Athlètes seulement, sur un total de 1320, ont une chance de dîner. Après des championnats locaux ou des épreuves de sélection, il n’y en a plus que 132 et, à l’issue des Jeux, il n’en reste que 66, c’est-à-dire, très exactement, un sur vingt. La grande majorité des Athlètes serait donc sous-alimentée d’une manière chronique. Ils ne le sont pas : leur régime comporte trois repas par jour, le premier le matin, très tôt, avant le cross de mise en train, le second à midi, à la fin des séances d’entraînement, le troisième à 16 heures, au cours de la mi-temps traditionnelle qui sépare les éliminatoires des finales. Par contre, ces repas sont calculés de façon à ne pas satisfaire pleinement les besoins diététiques et énergétiques des athlètes. Le sucre en est presque complètement absent, de même que la vitamine B1, indispensable à l’assimilation des glucides. Les Athlètes sont donc, d’une façon permanente, soumis à un régime de carence qui, à plus ou moins long terme, risque de compromettre sérieusement leur résistance à la fatigue musculaire. Le repas des vainqueurs, avec ses fruits frais, ses vins doux, ses bananes séchées, ses dattes, ses confitures de fraises, ses compotes, ses médailles de chocolat, constitue donc, de ce point de vue, une véritable récupération glucidique indispensable à la bonne condition des Athlètes.L’inconvénient de cette méthode est évidemment qu’elle risque, en favorisant les vainqueurs et en pénalisant sévèrement les vaincus dans un domaine précisément lié aux conditions physiologiques de la compétition, d’accentuer les différences entre les Athlètes et d’aboutir à une sorte de système en circuit fermé : les vainqueurs du jour, récompensés le soir même par une ration supplémentaire de sucre, ont toutes les chances d’être aussi les vainqueurs du lendemain, et ainsi de suite, les uns étant de plus en plus vigoureux, les autres de plus en plus faibles. Ceci ôterait évidemment tout intérêt aux compétitions, les résultats en étant pour ainsi dire connus d’avance. Pour pallier cet inconvénient, les organisateurs n’ont pris aucune mesure particulière ; plutôt que d’interdire aux vainqueurs l’entrée des stades au lendemain de leur victoire — mesure évidemment contraire à l’esprit même de la vie W —, ils ont préféré, faisant encore une fois la preuve de leur sagacité, de leur profonde connaissance du cœur humain, faire confiance à ce qu’en riant ils appellent la nature. L’expérience leur a donné raison. Les vainqueurs ne sont pas exclus des compétitions du lendemain. Mais, le plus souvent, ils ont passé une nuit blanche et n’ont regagné leurs quartiers que pour l’appel du matin. Affamés de sucre, ils se sont précipités sur les nourritures, ils se sont empiffrés comme des goinfres. Grisés par leur victoire, ils se sont laissés aller à répondre à tous les toasts qu’on portait en leur honneur, mélangeant les vins et les liqueurs jusqu’à rouler sous la table. On comprend aisément pourquoi, dans ces conditions, il est rarissime qu’un Athlète triomphe deux fois de suite. La sagesse voudrait que le vainqueur se refrène, qu’il refuse ou, au moins, limite les libations, qu’il consomme avec modération des aliments choisis. Mais les tentations sont si fortes pour les lauréats fêtés qu’il faudrait une âme singulièrement trempée pour y résister. Nul ne les y pousse, d’ailleurs, ni les Officiels — au contraire, ils les invitent à tout instant à vider leurs verres —, ni les Directeurs sportifs, qui, soucieux du bien-être de leur équipe, ont tout intérêt à ce qu’une permutation rapide des vainqueurs assure le plus régulièrement possible au maximum d’Athlètes l’indispensable appoint énergétique de ces repas du soir.\"\n",
    "\n",
    "Duras1 = \"On rit, comme si c'était là une bonne blague.Il s'en alla lui aussi. Le crépuscule avança encore. Il y eut quatre jours et trois nuits que je la connaissais. Je ne m'endormis pas tout de suite. J'eus le temps de voir plusieurs petits ports passer devant le bateau et la nuit arriver. L'ombre recouvrit le pont, la mer. Elle me recouvrit moi aussi et me dévora le cœur. Le ciel resta clair assez longtemps encore. Je dus m'endormir un peu avant qu'il devînt noir à son tour. Je me réveillai peut-être une heure après. J'avais faim. J'allai au réfectoire. Elle y était. Elle me sourit, je m'assis devant elle. Laurent aussi était là, il me fit un signe d'amitié.– Tu as un drôle d'air, dit-elle.– J'ai dormi sur le pont, je n'ai jamais dormi comme ça.– Tu avais tout oublié ?– Tout, dis-je. En me réveillant je n'y comprenais plus rien.– Plus rien ?– Plus rien.– Et maintenant ?– J'ai faim, dis-je.Elle prit mon assiette et se leva. Je la suivis au bar. Il y avait encore des poissons grillés et du ragoût d'agneau. Je choisis le ragoût d'agneau.– C'est pas une raison parce qu'on est sur un bateau, dis-je, pour manger du poisson tous les jours.Elle rit. Elle me regarda manger avec attention, mais à la dérobée.– Le grand air, dis-je, ça donne faim.Elle rit encore, elle était de très bonne humeur. On parla de choses et d'autres avec les marins. On plaisanta. Les uns auraient voulu aller jusqu'en Sicile avant de remonter à Sète. Les autres disaient qu'on y aurait encore très chaud et qu'il valait mieux obliquer avant, au large de Piombino. Aucun ne parla de ce qu'on ferait après Sète. Le dîner terminé, j'allai sur le pont regarder défiler la côte italienne. Elle vint m'y rejoindre.\"\n",
    "Duras2 = \"J'avalai le café, brûlant. Il était assez bon. J'aimais le café. J'en prenais beaucoup le matin. La place était à sens unique et les camions la contournaient sans arrêt. La limaille de fer flamblait dans le soleil. Un marchand arabe s'arrêta devant moi. Il vendait des cartes postales, innocentes, des vues de la ville. Je lui en achetai une. Je pris un crayon dans ma poche et sur la droite de la carte j'écrivis l'adresse de Jacqueline, c'est-à-dire la mienne. C'était une chose que je m'étais promis de faire avant de quitter l'Europe. En l'écrivant je vis mes mains. Depuis Rocca, faute de vêtements, je ne m'étais pas changé et je n'avais pas eu le temps ni le besoin de beaucoup me laver. Debout à mes côtés, le garçon regardait le port. Je lui étais tout à fait indifférent. Mais c'était cette heure de la journée où les garçons de café ne savent que faire d'eux-mêmes et l'apprécient.– C'est une femme qui l'habite, dit-il. Elle fait le tour du monde.– Mais, comme ça, sans arrêt le tour du monde ?– On dit qu'elle cherche quelqu'un. Mais ce qu'on dit...– C'est vrai... ce qu'on dit...\""
   ]
  },
  {
   "cell_type": "code",
   "execution_count": 17,
   "id": "e41ae95c",
   "metadata": {},
   "outputs": [
    {
     "data": {
      "text/plain": [
       "566"
      ]
     },
     "execution_count": 17,
     "metadata": {},
     "output_type": "execute_result"
    }
   ],
   "source": [
    "len(ajar1)"
   ]
  },
  {
   "cell_type": "code",
   "execution_count": 18,
   "id": "d2e927f9",
   "metadata": {},
   "outputs": [
    {
     "data": {
      "text/plain": [
       "73"
      ]
     },
     "execution_count": 18,
     "metadata": {},
     "output_type": "execute_result"
    }
   ],
   "source": [
    "2016-1943\n"
   ]
  },
  {
   "cell_type": "code",
   "execution_count": null,
   "id": "b2f88050",
   "metadata": {},
   "outputs": [],
   "source": []
  }
 ],
 "metadata": {
  "kernelspec": {
   "display_name": "Python 3 (ipykernel)",
   "language": "python",
   "name": "python3"
  },
  "language_info": {
   "codemirror_mode": {
    "name": "ipython",
    "version": 3
   },
   "file_extension": ".py",
   "mimetype": "text/x-python",
   "name": "python",
   "nbconvert_exporter": "python",
   "pygments_lexer": "ipython3",
   "version": "3.8.6"
  },
  "toc": {
   "base_numbering": 1,
   "nav_menu": {},
   "number_sections": true,
   "sideBar": true,
   "skip_h1_title": false,
   "title_cell": "Table of Contents",
   "title_sidebar": "Contents",
   "toc_cell": false,
   "toc_position": {},
   "toc_section_display": true,
   "toc_window_display": false
  },
  "varInspector": {
   "cols": {
    "lenName": 16,
    "lenType": 16,
    "lenVar": 40
   },
   "kernels_config": {
    "python": {
     "delete_cmd_postfix": "",
     "delete_cmd_prefix": "del ",
     "library": "var_list.py",
     "varRefreshCmd": "print(var_dic_list())"
    },
    "r": {
     "delete_cmd_postfix": ") ",
     "delete_cmd_prefix": "rm(",
     "library": "var_list.r",
     "varRefreshCmd": "cat(var_dic_list()) "
    }
   },
   "types_to_exclude": [
    "module",
    "function",
    "builtin_function_or_method",
    "instance",
    "_Feature"
   ],
   "window_display": false
  }
 },
 "nbformat": 4,
 "nbformat_minor": 5
}
