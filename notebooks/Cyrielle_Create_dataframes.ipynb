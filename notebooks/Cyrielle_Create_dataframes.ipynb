{
 "cells": [
  {
   "cell_type": "code",
   "execution_count": 3,
   "id": "2810d99d",
   "metadata": {},
   "outputs": [],
   "source": [
    "from author_style.utils import *\n",
    "import tensorflow"
   ]
  },
  {
   "cell_type": "code",
   "execution_count": 13,
   "id": "cf471cb3",
   "metadata": {},
   "outputs": [],
   "source": [
    "import string\n",
    "from nltk.corpus import stopwords\n",
    "from nltk.tokenize import word_tokenize\n",
    "from nltk.stem import WordNetLemmatizer\n",
    "from sklearn.feature_extraction.text import CountVectorizer, TfidfVectorizer\n",
    "import re\n",
    "import unidecode\n",
    "#import spacy\n",
    "import numpy as np\n",
    "import pandas as pd"
   ]
  },
  {
   "cell_type": "code",
   "execution_count": 22,
   "id": "eb2456f1",
   "metadata": {},
   "outputs": [],
   "source": [
    "df = csv_to_dataframes(output=\"s\")"
   ]
  },
  {
   "cell_type": "code",
   "execution_count": 23,
   "id": "ce252629",
   "metadata": {},
   "outputs": [
    {
     "data": {
      "text/html": [
       "<div>\n",
       "<style scoped>\n",
       "    .dataframe tbody tr th:only-of-type {\n",
       "        vertical-align: middle;\n",
       "    }\n",
       "\n",
       "    .dataframe tbody tr th {\n",
       "        vertical-align: top;\n",
       "    }\n",
       "\n",
       "    .dataframe thead th {\n",
       "        text-align: right;\n",
       "    }\n",
       "</style>\n",
       "<table border=\"1\" class=\"dataframe\">\n",
       "  <thead>\n",
       "    <tr style=\"text-align: right;\">\n",
       "      <th></th>\n",
       "      <th>text</th>\n",
       "      <th>author</th>\n",
       "      <th>title</th>\n",
       "      <th>book_date</th>\n",
       "    </tr>\n",
       "  </thead>\n",
       "  <tbody>\n",
       "    <tr>\n",
       "      <th>0</th>\n",
       "      <td>Pendant que Nous franchissions la porte du Nor...</td>\n",
       "      <td>GUTH Paul</td>\n",
       "      <td>Si j_étais le Bon Dieu</td>\n",
       "      <td>1987</td>\n",
       "    </tr>\n",
       "    <tr>\n",
       "      <th>1</th>\n",
       "      <td>Pour compenser la fatigue que pourrait causer ...</td>\n",
       "      <td>GUTH Paul</td>\n",
       "      <td>Si j_étais le Bon Dieu</td>\n",
       "      <td>1987</td>\n",
       "    </tr>\n",
       "    <tr>\n",
       "      <th>2</th>\n",
       "      <td>Un silence de rêve suspendrait, sur la terre, ...</td>\n",
       "      <td>GUTH Paul</td>\n",
       "      <td>Si j_étais le Bon Dieu</td>\n",
       "      <td>1987</td>\n",
       "    </tr>\n",
       "    <tr>\n",
       "      <th>3</th>\n",
       "      <td>Il éteindrait, dans l’univers, la musique des ...</td>\n",
       "      <td>GUTH Paul</td>\n",
       "      <td>Si j_étais le Bon Dieu</td>\n",
       "      <td>1987</td>\n",
       "    </tr>\n",
       "    <tr>\n",
       "      <th>4</th>\n",
       "      <td>Cette semaine mensuelle de silence serait voué...</td>\n",
       "      <td>GUTH Paul</td>\n",
       "      <td>Si j_étais le Bon Dieu</td>\n",
       "      <td>1987</td>\n",
       "    </tr>\n",
       "  </tbody>\n",
       "</table>\n",
       "</div>"
      ],
      "text/plain": [
       "                                                text     author  \\\n",
       "0  Pendant que Nous franchissions la porte du Nor...  GUTH Paul   \n",
       "1  Pour compenser la fatigue que pourrait causer ...  GUTH Paul   \n",
       "2  Un silence de rêve suspendrait, sur la terre, ...  GUTH Paul   \n",
       "3  Il éteindrait, dans l’univers, la musique des ...  GUTH Paul   \n",
       "4  Cette semaine mensuelle de silence serait voué...  GUTH Paul   \n",
       "\n",
       "                     title book_date  \n",
       "0  Si j_étais le Bon Dieu      1987  \n",
       "1  Si j_étais le Bon Dieu      1987  \n",
       "2  Si j_étais le Bon Dieu      1987  \n",
       "3  Si j_étais le Bon Dieu      1987  \n",
       "4  Si j_étais le Bon Dieu      1987  "
      ]
     },
     "execution_count": 23,
     "metadata": {},
     "output_type": "execute_result"
    }
   ],
   "source": [
    "df.head()"
   ]
  },
  {
   "cell_type": "code",
   "execution_count": 24,
   "id": "38c7d265",
   "metadata": {},
   "outputs": [],
   "source": [
    "data = df[[\"text\",\"author\"]]"
   ]
  },
  {
   "cell_type": "code",
   "execution_count": 25,
   "id": "67c66eb6",
   "metadata": {},
   "outputs": [],
   "source": [
    "def preprocess(text,\n",
    "               punctuation=True,\n",
    "               lower_case=True,\n",
    "               remove_stopwords=True,\n",
    "               accents=True,\n",
    "               numbers=True,\n",
    "               lemmatize=False,\n",
    "               language='french'):\n",
    "\n",
    "    if numbers:\n",
    "        text = ''.join(char for char in text if not char.isdigit())\n",
    "    if punctuation:\n",
    "        text = ''.join(char for char in text if not char in string.punctuation)\n",
    "        text = text.replace(\"*\",\"\")\n",
    "    if lower_case:\n",
    "        text = text.lower()\n",
    "    if accents:\n",
    "        text = unidecode.unidecode(text)\n",
    "    if remove_stopwords:\n",
    "        stop_words = set(stopwords.words(language))\n",
    "        word_tokens = word_tokenize(text)\n",
    "        text = ' '.join(char for char in word_tokens if not char in stop_words)\n",
    "    if lemmatize:\n",
    "        text = word_tokenize(text)\n",
    "        lemmatizer = WordNetLemmatizer()\n",
    "        lemmatized = [lemmatizer.lemmatize(char) for char in text]\n",
    "        text = ' '.join(lemmatized)\n",
    "    return text"
   ]
  },
  {
   "cell_type": "code",
   "execution_count": 26,
   "id": "1ffd20ea",
   "metadata": {},
   "outputs": [
    {
     "name": "stderr",
     "output_type": "stream",
     "text": [
      "/var/folders/t8/clhcfp2n5sgcs4b81syf8xym0000gp/T/ipykernel_16919/1989513621.py:1: SettingWithCopyWarning: \n",
      "A value is trying to be set on a copy of a slice from a DataFrame.\n",
      "Try using .loc[row_indexer,col_indexer] = value instead\n",
      "\n",
      "See the caveats in the documentation: https://pandas.pydata.org/pandas-docs/stable/user_guide/indexing.html#returning-a-view-versus-a-copy\n",
      "  data[\"text\"] = data[\"text\"].apply(preprocess)\n"
     ]
    }
   ],
   "source": [
    "data[\"text\"] = data[\"text\"].apply(preprocess)"
   ]
  },
  {
   "cell_type": "code",
   "execution_count": 27,
   "id": "68253132",
   "metadata": {},
   "outputs": [
    {
     "data": {
      "text/plain": [
       "(284865, 2)"
      ]
     },
     "execution_count": 27,
     "metadata": {},
     "output_type": "execute_result"
    }
   ],
   "source": [
    "data.shape"
   ]
  },
  {
   "cell_type": "code",
   "execution_count": 28,
   "id": "d46fc7dc",
   "metadata": {},
   "outputs": [
    {
     "name": "stderr",
     "output_type": "stream",
     "text": [
      "/var/folders/t8/clhcfp2n5sgcs4b81syf8xym0000gp/T/ipykernel_16919/92849788.py:1: SettingWithCopyWarning: \n",
      "A value is trying to be set on a copy of a slice from a DataFrame.\n",
      "Try using .loc[row_indexer,col_indexer] = value instead\n",
      "\n",
      "See the caveats in the documentation: https://pandas.pydata.org/pandas-docs/stable/user_guide/indexing.html#returning-a-view-versus-a-copy\n",
      "  data[\"taille\"] = data.text.apply(lambda x : len(x))\n"
     ]
    }
   ],
   "source": [
    "data[\"taille\"] = data.text.apply(lambda x : len(x))"
   ]
  },
  {
   "cell_type": "code",
   "execution_count": 29,
   "id": "eb218813",
   "metadata": {},
   "outputs": [
    {
     "data": {
      "text/html": [
       "<div>\n",
       "<style scoped>\n",
       "    .dataframe tbody tr th:only-of-type {\n",
       "        vertical-align: middle;\n",
       "    }\n",
       "\n",
       "    .dataframe tbody tr th {\n",
       "        vertical-align: top;\n",
       "    }\n",
       "\n",
       "    .dataframe thead th {\n",
       "        text-align: right;\n",
       "    }\n",
       "</style>\n",
       "<table border=\"1\" class=\"dataframe\">\n",
       "  <thead>\n",
       "    <tr style=\"text-align: right;\">\n",
       "      <th></th>\n",
       "      <th>text</th>\n",
       "      <th>author</th>\n",
       "      <th>taille</th>\n",
       "    </tr>\n",
       "  </thead>\n",
       "  <tbody>\n",
       "    <tr>\n",
       "      <th>0</th>\n",
       "      <td>pendant franchissions porte nord dediee a isht...</td>\n",
       "      <td>GUTH Paul</td>\n",
       "      <td>137</td>\n",
       "    </tr>\n",
       "    <tr>\n",
       "      <th>1</th>\n",
       "      <td>compenser fatigue pourrait causer jacassement ...</td>\n",
       "      <td>GUTH Paul</td>\n",
       "      <td>110</td>\n",
       "    </tr>\n",
       "    <tr>\n",
       "      <th>2</th>\n",
       "      <td>silence reve suspendrait terre grondement mers...</td>\n",
       "      <td>GUTH Paul</td>\n",
       "      <td>121</td>\n",
       "    </tr>\n",
       "    <tr>\n",
       "      <th>3</th>\n",
       "      <td>eteindrait l'univers musique spheres tout frem...</td>\n",
       "      <td>GUTH Paul</td>\n",
       "      <td>58</td>\n",
       "    </tr>\n",
       "    <tr>\n",
       "      <th>4</th>\n",
       "      <td>cette semaine mensuelle silence vouee a l'amour</td>\n",
       "      <td>GUTH Paul</td>\n",
       "      <td>47</td>\n",
       "    </tr>\n",
       "    <tr>\n",
       "      <th>...</th>\n",
       "      <td>...</td>\n",
       "      <td>...</td>\n",
       "      <td>...</td>\n",
       "    </tr>\n",
       "    <tr>\n",
       "      <th>284860</th>\n",
       "      <td>lendemain matin leve tard trainant lit jusqu '...</td>\n",
       "      <td>ECHENOZ Jean</td>\n",
       "      <td>249</td>\n",
       "    </tr>\n",
       "    <tr>\n",
       "      <th>284861</th>\n",
       "      <td>part direction gare maritime havre afin rendre...</td>\n",
       "      <td>ECHENOZ Jean</td>\n",
       "      <td>60</td>\n",
       "    </tr>\n",
       "    <tr>\n",
       "      <th>284862</th>\n",
       "      <td>c'est premiere fois qu'il va derniere</td>\n",
       "      <td>ECHENOZ Jean</td>\n",
       "      <td>37</td>\n",
       "    </tr>\n",
       "    <tr>\n",
       "      <th>284863</th>\n",
       "      <td>reste aujourd'hui pile dix ans a vivre</td>\n",
       "      <td>ECHENOZ Jean</td>\n",
       "      <td>38</td>\n",
       "    </tr>\n",
       "    <tr>\n",
       "      <th>284864</th>\n",
       "      <td>technique ndeg bromure potassium laudanum vero...</td>\n",
       "      <td>ECHENOZ Jean</td>\n",
       "      <td>96</td>\n",
       "    </tr>\n",
       "  </tbody>\n",
       "</table>\n",
       "<p>284865 rows × 3 columns</p>\n",
       "</div>"
      ],
      "text/plain": [
       "                                                     text        author  \\\n",
       "0       pendant franchissions porte nord dediee a isht...     GUTH Paul   \n",
       "1       compenser fatigue pourrait causer jacassement ...     GUTH Paul   \n",
       "2       silence reve suspendrait terre grondement mers...     GUTH Paul   \n",
       "3       eteindrait l'univers musique spheres tout frem...     GUTH Paul   \n",
       "4         cette semaine mensuelle silence vouee a l'amour     GUTH Paul   \n",
       "...                                                   ...           ...   \n",
       "284860  lendemain matin leve tard trainant lit jusqu '...  ECHENOZ Jean   \n",
       "284861  part direction gare maritime havre afin rendre...  ECHENOZ Jean   \n",
       "284862              c'est premiere fois qu'il va derniere  ECHENOZ Jean   \n",
       "284863             reste aujourd'hui pile dix ans a vivre  ECHENOZ Jean   \n",
       "284864  technique ndeg bromure potassium laudanum vero...  ECHENOZ Jean   \n",
       "\n",
       "        taille  \n",
       "0          137  \n",
       "1          110  \n",
       "2          121  \n",
       "3           58  \n",
       "4           47  \n",
       "...        ...  \n",
       "284860     249  \n",
       "284861      60  \n",
       "284862      37  \n",
       "284863      38  \n",
       "284864      96  \n",
       "\n",
       "[284865 rows x 3 columns]"
      ]
     },
     "execution_count": 29,
     "metadata": {},
     "output_type": "execute_result"
    }
   ],
   "source": [
    "data"
   ]
  },
  {
   "cell_type": "code",
   "execution_count": 32,
   "id": "d633480b",
   "metadata": {},
   "outputs": [],
   "source": [
    "X_sen = data[\"text\"].to_numpy()\n",
    "y_sen = data[\"author\"].to_numpy()"
   ]
  },
  {
   "cell_type": "code",
   "execution_count": 33,
   "id": "272b2e67",
   "metadata": {},
   "outputs": [
    {
     "data": {
      "text/plain": [
       "['y_sen.pkl']"
      ]
     },
     "execution_count": 33,
     "metadata": {},
     "output_type": "execute_result"
    }
   ],
   "source": [
    "import joblib\n",
    "\n",
    "joblib.dump(X_sen,\"X_sen.pkl\")\n",
    "joblib.dump(y_sen,\"y_sen.pkl\")"
   ]
  },
  {
   "cell_type": "code",
   "execution_count": null,
   "id": "b09c632e",
   "metadata": {},
   "outputs": [],
   "source": []
  }
 ],
 "metadata": {
  "kernelspec": {
   "display_name": "Python 3 (ipykernel)",
   "language": "python",
   "name": "python3"
  },
  "language_info": {
   "codemirror_mode": {
    "name": "ipython",
    "version": 3
   },
   "file_extension": ".py",
   "mimetype": "text/x-python",
   "name": "python",
   "nbconvert_exporter": "python",
   "pygments_lexer": "ipython3",
   "version": "3.8.6"
  },
  "toc": {
   "base_numbering": 1,
   "nav_menu": {},
   "number_sections": true,
   "sideBar": true,
   "skip_h1_title": false,
   "title_cell": "Table of Contents",
   "title_sidebar": "Contents",
   "toc_cell": false,
   "toc_position": {},
   "toc_section_display": true,
   "toc_window_display": false
  },
  "varInspector": {
   "cols": {
    "lenName": 16,
    "lenType": 16,
    "lenVar": 40
   },
   "kernels_config": {
    "python": {
     "delete_cmd_postfix": "",
     "delete_cmd_prefix": "del ",
     "library": "var_list.py",
     "varRefreshCmd": "print(var_dic_list())"
    },
    "r": {
     "delete_cmd_postfix": ") ",
     "delete_cmd_prefix": "rm(",
     "library": "var_list.r",
     "varRefreshCmd": "cat(var_dic_list()) "
    }
   },
   "types_to_exclude": [
    "module",
    "function",
    "builtin_function_or_method",
    "instance",
    "_Feature"
   ],
   "window_display": false
  }
 },
 "nbformat": 4,
 "nbformat_minor": 5
}
