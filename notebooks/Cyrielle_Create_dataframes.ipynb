{
 "cells": [
  {
   "cell_type": "code",
   "execution_count": 3,
   "id": "2810d99d",
   "metadata": {},
   "outputs": [],
   "source": [
    "from author_style.utils import *"
   ]
  },
  {
   "cell_type": "code",
   "execution_count": 4,
   "id": "cf471cb3",
   "metadata": {},
   "outputs": [],
   "source": [
    "import string\n",
    "from nltk.corpus import stopwords\n",
    "from nltk.tokenize import word_tokenize\n",
    "from nltk.stem import WordNetLemmatizer\n",
    "from sklearn.feature_extraction.text import CountVectorizer, TfidfVectorizer\n",
    "import re\n",
    "import unidecode\n",
    "#import spacy\n",
    "import numpy as np\n",
    "import pandas as pd"
   ]
  },
  {
   "cell_type": "code",
   "execution_count": 3,
   "id": "1492f818",
   "metadata": {},
   "outputs": [],
   "source": [
    "#clean_texts_large()"
   ]
  },
  {
   "cell_type": "code",
   "execution_count": 92,
   "id": "eb2456f1",
   "metadata": {},
   "outputs": [],
   "source": [
    "seq_len = 512\n",
    "\n",
    "df = csv_to_dataframes(output='c', MAX_LEN=seq_len)"
   ]
  },
  {
   "cell_type": "code",
   "execution_count": 93,
   "id": "ce252629",
   "metadata": {},
   "outputs": [
    {
     "data": {
      "text/html": [
       "<div>\n",
       "<style scoped>\n",
       "    .dataframe tbody tr th:only-of-type {\n",
       "        vertical-align: middle;\n",
       "    }\n",
       "\n",
       "    .dataframe tbody tr th {\n",
       "        vertical-align: top;\n",
       "    }\n",
       "\n",
       "    .dataframe thead th {\n",
       "        text-align: right;\n",
       "    }\n",
       "</style>\n",
       "<table border=\"1\" class=\"dataframe\">\n",
       "  <thead>\n",
       "    <tr style=\"text-align: right;\">\n",
       "      <th></th>\n",
       "      <th>text</th>\n",
       "      <th>author</th>\n",
       "      <th>title</th>\n",
       "      <th>book_date</th>\n",
       "    </tr>\n",
       "  </thead>\n",
       "  <tbody>\n",
       "    <tr>\n",
       "      <th>0</th>\n",
       "      <td>Pendant que Nous franchissions la porte du Nord, dédiée à Ishtar, déesse de la Fécondité, la Vierge, toujours l’esprit en éveil, Me donna une idée qui reçut immédiatement force de loi. Pour compenser la fatigue que pourrait causer le jacassement universel, la dernière semaine de chaque mois serait vouée entièrement au silence. Un silence de rêve suspendrait, sur la terre, le grondement des mers, le fracas des cascades, le souffle des vents, le vrombissement des avions, le bruit des trains, des voitures, des machines. Il éteindrait, dans l’univers, la musique des sphères et tout frémissement de vie. Cette semaine mensuelle de silence serait vouée à l’amour. En retenant leur souffle, les amoureux redoubleraient de regards, de caresses. Ils ne seraient plus que rayonnements d’âme, scintillements d’indicible. Quand ils retourneraient au monde de la parole, ils garderaient une telle nostalgie du silence qu’ils croiraient en dire infiniment moins avec leurs mots qu’auparavant avec leurs yeux. Les plus nostalgiques seront les perroquets. Et surtout Kohkoh, perroquet en chef de Nabuchodonosor, qui s’était illustré en chantant des hymnes, des psaumes et les chefs-d’œuvre de la poésie de Babylone. Après chaque cure de silence, il était si malheureux d’avoir à parler en service commandé que, pour clore son bec à jamais, il finit par le plonger dans un ciment indestructible. Pleuré par le roi et par tout le royaume, il mourut d’amour du silence et du silence de l’amour. [sep] « En 486 après Jésus-Christ, les troupes de Syagrius avaient enlevé d’une église un vase d’une grandeur et d’une beauté merveilleuse, avec tous les autres ornements du ministère sacré. L’évêque de cette ville envoya au roi Clovis des messagers demandant que, s’ils ne pouvaient obtenir de recouvrer les autres vases, on lui rendît au moins celui-là. Aux paroles de l’envoyé le roi répondit : “ Suis-nous jusqu’à Soissons car c est là que sera partagé le butin ; et quand ce vase sera entré dans ma part, je ferai ce que l’évêque demande. ” En arrivant à Soissons, le roi fit déposer la charge du butin au milieu de ses soldats et dit : “ Je vous prie, mes braves guerriers, de bien vouloir m’accorder, hors part7, le vase que voilà ”, et il montrait le vase dont nous avons parlé. A ces paroles, les plus sensés répondirent : “ Glorieux roi, tout ce que nous avons ici est à toi, et nous-mêmes sommes soumis à ton pouvoir ; qu’il en soit donc fait selon ton jugement car personne ne peut résister à ta puissance. ” Comme ils avaient ainsi parlé, l’un des soldats, léger, jaloux et emporté, éleva la voix, brandit la hache à deux tranchants et frappa le vase en disant : “ Tu n’auras rien de plus que ce qui te sera donné véritablement par le sort. ” Tous restèrent stupéfaits. Le roi comprima l’outrage, avec une patiente douceur, et le vase lui étant échu, il le rendit à l’envoyé de l’évêque, gardant la blessure dans son cœur. [sep] Van Eyck présenta La Vierge au chanoine Van der Paele, avec le chanoine lui-même,</td>\n",
       "      <td>GUTH Paul</td>\n",
       "      <td>Si j_étais le Bon Dieu</td>\n",
       "      <td>1987</td>\n",
       "    </tr>\n",
       "    <tr>\n",
       "      <th>1</th>\n",
       "      <td>la Vierge à la fontaine et, avec le chancelier en personne, « gros et gras, le teint frais et la bouche vermeille », la Vierge au chancelier Rolin. Pour mieux contempler ce chef-d’œuvre, Je fis arrêter le cortège. Sérénité de la Vierge peinte dans son grand manteau rouge. Ce regard en biais, attentif, de sage et discrète personne, empêchant, du bout des doigts, l’Enfant de glisser sur son genou et s’apprêtant à lui donner l’envol. Les magiques cheveux d’or crespelés cascadant sur les épaules. Au-dessus de sa tête, un ange élève une couronne à faire pâlir d’envie saint Éloi. Un immense joyau arachnéen, une dentelle d’or, un souffle de filigranes, royauté des cieux. Et puis le coup de génie, que J’ai inspiré, auquel Van Eyck a obéi, autant que le permettaient ses forces : la Vierge à l’Enfant est assise dans la pénombre d’une loggia, à l’angle de laquelle l’ange se niche comme une hirondelle. Des arceaux s’ouvrent sur un ciel idéal. En bas, apparaît une de ces villes de rêve dont le petit Paul Guth, au musée de Toulouse, pendant la Grande Guerre, nourrissait à jamais ses songes. Assise au bord d’un fleuve, une cité, hérissée de flèches et de tours, ciselée, orfévrée comme la couronne de la Vierge. Une de ces villes où l’on voudrait vivre, dans la réalisation de tous les vœux, sous un ciel sans bornes. [sep] Parce que Je suis le Tout-Puissant, ne me traitez pas de brute ! J’ai inventé un circuit original qui témoigne d’une qualité que l’on Me prête rarement : la délicatesse. « Le circuit des petites manières » (P.M.) J’ai remarqué que, dans l’amour, ce qui touche les humains, plus que le bel canto lyrique, qui s’éteindra un jour, plus que les suprêmes vagues de passion qui retomberont en poudre, ce que l’on retient le plus profondément de l’être aimé, ce qui nous l’évoque le plus exactement dans l’absence, le différencie le plus délicieusement des autres, et, dans la séparation ou la mort, nous arrache les plus inguérissables larmes, ce sont « les petites manières ». Une façon de marcher, en posant le pied selon un certain angle, qui laisse, sur le trottoir de la rue Nicolo, une empreinte ineffaçable. Un essoufflement de petite fille qui a trop sauté à la corde pour dire au téléphone : « J’ n’ te dérange pas ? » Un cheveu sur la langue pour prononcer « l’eau de roze » ou « la bouche chèche ». Un accent gascon ou bourguignon, personnel, comme si l’être aimé formait à lui seul tout un royaume. Mélanger la brosse à dents et la brosse à chaussures, au cabinet de toilette. Laisser traîner ses manches dans les sauces. Fermer mollement le robinet du lavabo d’où suinte un perpétuel filet d’eau. Laisser filtrer du fourneau à gaz des effluves mortels. [sep] Puisqu’il en est ainsi, La Fontaine aura son théâtre à lui : ses Fables. Là, il se moque de la tyrannie des directeurs, comédiens, costumiers, décorateurs, machinistes, musiciens, et du public. Il défie les règles d’Aristote et de tous</td>\n",
       "      <td>GUTH Paul</td>\n",
       "      <td>Si j_étais le Bon Dieu</td>\n",
       "      <td>1987</td>\n",
       "    </tr>\n",
       "    <tr>\n",
       "      <th>...</th>\n",
       "      <td>...</td>\n",
       "      <td>...</td>\n",
       "      <td>...</td>\n",
       "      <td>...</td>\n",
       "    </tr>\n",
       "    <tr>\n",
       "      <th>9694</th>\n",
       "      <td>l’étroite surveillance de ses deux chats siamois. [sep] La veille de l’arrivée, peu avant l’heure du thé, le commandant de bord frappe à la porte de sa suite. Vêtu d’un veston d’intérieur à ramages, Ravel vient ouvrir à l’officier de marine qui, s’inclinant légèrement, porte sous son bras gauche un fort volume relié en cuir rouge sombre et doré sur tranche. Ravel voit tout de suite de quoi il retourne : le livre d’or du bâtiment sur lequel le commandant le prie non sans cérémonie de porter quelques mots. Il répond que bien volontiers. [sep] Heureusement que les trains ne manquent pas, encore heureux que ce soit à bord de convois luxueux qu’il doive sillonner en tous sens le continent nord-américain car on lui a monté un itinéraire aberrant. C’est un parcours aussi déconcertant que celui d’une mouche dans l’air et qui va lui faire effectuer, du glacial au tropical, des allers-retours absurdes, escales incertaines et dérivations incongrues au fil de vingt-cinq villes traversées. [sep] Cela dit, Ravel file en voiture visiter le golfe du Mexique avant de rebondir vers le Grand Canyon où, basé à Phoenix, il passe une semaine, puis à bord du California Limited vers Buffalo, à l’autre bout du continent. Et ensuite, abrégeons, il retourne à New York et à Montréal d’où il part se produire encore à Toronto, Milwaukee, Détroit, dernier saut à Boston, dernier passage par New York où il embarque sur le Paris, à minuit. [sep] C’est à bord d’un train de la Southern Pacific que, venant de Perth, il se dirige vers Seattle en passant par Portland et Vancouver, puis dans un convoi du Union Pacific System qu’il quitte Denver — mines d’or et d’argent, soleil, air pur, altitude — pour Minneapolis via Kansas City. Mais comme on dirait que ça se couvre, il craint de retrouver la semaine prochaine l’air glacé de New York. [sep] Quelle que soit, pour signer, la solution adoptée, il apparaît surtout à Ravel que tout cela doit prendre un temps fou à dessiner. Lui se contente d’un rapide envoi sobre de sa haute écriture nerveuse, tout en pics, suivi de son prénom et de son nom parfaitement lisibles et même pas soulignés, à peine décorés de jambages verticaux prolongés dans leurs initiales majuscules. [sep] Reste la possibilité d’aller faire un tour dans le jardin qui est un espace à trois côtés, herbu, pentu, bombé comme un triangle de fille. Mais ce jardin, ce jour-là, Ravel a beau s’y tenir d’habitude attentif, c’est à peine à présent s’il le voit, à peine s’il s’intéresse aux travaux effectués en son absence par le jardinier. On dirait qu’il commence à s’ennuyer. [sep] Technique n° 3 : s’imposer une énumération. Se remémorer par exemple tous les lits dans lesquels il a dormi depuis l’enfance. La tâche est importante, cela peut prendre du temps, il trouve chaque fois de nouveaux lits dans sa mémoire, cela prend tellement de temps que c’en devient ennuyeux — il peut compter sur cet ennui comme facteur soporifique. [sep] Le lendemain matin, il se lève tard, traînant au</td>\n",
       "      <td>ECHENOZ Jean</td>\n",
       "      <td>Ravel</td>\n",
       "      <td>2006</td>\n",
       "    </tr>\n",
       "    <tr>\n",
       "      <th>9695</th>\n",
       "      <td>lit jusqu’à rater le bouillon sur le pont puis, vêtu de coton gaufré décontracté, il va faire un tour sur le pont promenade à peu près désert : deux mousses y regroupent sur des plateaux des bols épars entre les pieds des chaises longues, la mer est d’un vert presque noir. [sep] Il part en direction de la gare maritime du Havre afin de se rendre en Amérique du Nord. C’est la première fois qu’il y va, ce sera la dernière. Il lui reste aujourd’hui, pile, dix ans à vivre. [sep] Technique n° 4 : Bromure de potassium, Laudanum, Véronal, Nembutal, Prominai, Soneryl et autres barbituriques.</td>\n",
       "      <td>ECHENOZ Jean</td>\n",
       "      <td>Ravel</td>\n",
       "      <td>2006</td>\n",
       "    </tr>\n",
       "  </tbody>\n",
       "</table>\n",
       "<p>9696 rows × 4 columns</p>\n",
       "</div>"
      ],
      "text/plain": [
       "                                                                                                                                                                                                                                                                                                                                                                                                                                                                                                                                                                                                                                                                                                                                                                                                                                                                                                                                                                                                                                                                                                                                                                                                                                                                                                                                                                                                                                                                                                                                                                                                                                                                                                                                                                                                                                                                                                                                                                                                                                                                                                                                                                                                                                                                                                                                                                                                                                                                                                                                                                                                                                                                                                                                                                                                                                                                                                                                                                                                                                                                                                                                text  \\\n",
       "0     Pendant que Nous franchissions la porte du Nord, dédiée à Ishtar, déesse de la Fécondité, la Vierge, toujours l’esprit en éveil, Me donna une idée qui reçut immédiatement force de loi. Pour compenser la fatigue que pourrait causer le jacassement universel, la dernière semaine de chaque mois serait vouée entièrement au silence. Un silence de rêve suspendrait, sur la terre, le grondement des mers, le fracas des cascades, le souffle des vents, le vrombissement des avions, le bruit des trains, des voitures, des machines. Il éteindrait, dans l’univers, la musique des sphères et tout frémissement de vie. Cette semaine mensuelle de silence serait vouée à l’amour. En retenant leur souffle, les amoureux redoubleraient de regards, de caresses. Ils ne seraient plus que rayonnements d’âme, scintillements d’indicible. Quand ils retourneraient au monde de la parole, ils garderaient une telle nostalgie du silence qu’ils croiraient en dire infiniment moins avec leurs mots qu’auparavant avec leurs yeux. Les plus nostalgiques seront les perroquets. Et surtout Kohkoh, perroquet en chef de Nabuchodonosor, qui s’était illustré en chantant des hymnes, des psaumes et les chefs-d’œuvre de la poésie de Babylone. Après chaque cure de silence, il était si malheureux d’avoir à parler en service commandé que, pour clore son bec à jamais, il finit par le plonger dans un ciment indestructible. Pleuré par le roi et par tout le royaume, il mourut d’amour du silence et du silence de l’amour. [sep] « En 486 après Jésus-Christ, les troupes de Syagrius avaient enlevé d’une église un vase d’une grandeur et d’une beauté merveilleuse, avec tous les autres ornements du ministère sacré. L’évêque de cette ville envoya au roi Clovis des messagers demandant que, s’ils ne pouvaient obtenir de recouvrer les autres vases, on lui rendît au moins celui-là. Aux paroles de l’envoyé le roi répondit : “ Suis-nous jusqu’à Soissons car c est là que sera partagé le butin ; et quand ce vase sera entré dans ma part, je ferai ce que l’évêque demande. ” En arrivant à Soissons, le roi fit déposer la charge du butin au milieu de ses soldats et dit : “ Je vous prie, mes braves guerriers, de bien vouloir m’accorder, hors part7, le vase que voilà ”, et il montrait le vase dont nous avons parlé. A ces paroles, les plus sensés répondirent : “ Glorieux roi, tout ce que nous avons ici est à toi, et nous-mêmes sommes soumis à ton pouvoir ; qu’il en soit donc fait selon ton jugement car personne ne peut résister à ta puissance. ” Comme ils avaient ainsi parlé, l’un des soldats, léger, jaloux et emporté, éleva la voix, brandit la hache à deux tranchants et frappa le vase en disant : “ Tu n’auras rien de plus que ce qui te sera donné véritablement par le sort. ” Tous restèrent stupéfaits. Le roi comprima l’outrage, avec une patiente douceur, et le vase lui étant échu, il le rendit à l’envoyé de l’évêque, gardant la blessure dans son cœur. [sep] Van Eyck présenta La Vierge au chanoine Van der Paele, avec le chanoine lui-même,   \n",
       "1                                                                                   la Vierge à la fontaine et, avec le chancelier en personne, « gros et gras, le teint frais et la bouche vermeille », la Vierge au chancelier Rolin. Pour mieux contempler ce chef-d’œuvre, Je fis arrêter le cortège. Sérénité de la Vierge peinte dans son grand manteau rouge. Ce regard en biais, attentif, de sage et discrète personne, empêchant, du bout des doigts, l’Enfant de glisser sur son genou et s’apprêtant à lui donner l’envol. Les magiques cheveux d’or crespelés cascadant sur les épaules. Au-dessus de sa tête, un ange élève une couronne à faire pâlir d’envie saint Éloi. Un immense joyau arachnéen, une dentelle d’or, un souffle de filigranes, royauté des cieux. Et puis le coup de génie, que J’ai inspiré, auquel Van Eyck a obéi, autant que le permettaient ses forces : la Vierge à l’Enfant est assise dans la pénombre d’une loggia, à l’angle de laquelle l’ange se niche comme une hirondelle. Des arceaux s’ouvrent sur un ciel idéal. En bas, apparaît une de ces villes de rêve dont le petit Paul Guth, au musée de Toulouse, pendant la Grande Guerre, nourrissait à jamais ses songes. Assise au bord d’un fleuve, une cité, hérissée de flèches et de tours, ciselée, orfévrée comme la couronne de la Vierge. Une de ces villes où l’on voudrait vivre, dans la réalisation de tous les vœux, sous un ciel sans bornes. [sep] Parce que Je suis le Tout-Puissant, ne me traitez pas de brute ! J’ai inventé un circuit original qui témoigne d’une qualité que l’on Me prête rarement : la délicatesse. « Le circuit des petites manières » (P.M.) J’ai remarqué que, dans l’amour, ce qui touche les humains, plus que le bel canto lyrique, qui s’éteindra un jour, plus que les suprêmes vagues de passion qui retomberont en poudre, ce que l’on retient le plus profondément de l’être aimé, ce qui nous l’évoque le plus exactement dans l’absence, le différencie le plus délicieusement des autres, et, dans la séparation ou la mort, nous arrache les plus inguérissables larmes, ce sont « les petites manières ». Une façon de marcher, en posant le pied selon un certain angle, qui laisse, sur le trottoir de la rue Nicolo, une empreinte ineffaçable. Un essoufflement de petite fille qui a trop sauté à la corde pour dire au téléphone : « J’ n’ te dérange pas ? » Un cheveu sur la langue pour prononcer « l’eau de roze » ou « la bouche chèche ». Un accent gascon ou bourguignon, personnel, comme si l’être aimé formait à lui seul tout un royaume. Mélanger la brosse à dents et la brosse à chaussures, au cabinet de toilette. Laisser traîner ses manches dans les sauces. Fermer mollement le robinet du lavabo d’où suinte un perpétuel filet d’eau. Laisser filtrer du fourneau à gaz des effluves mortels. [sep] Puisqu’il en est ainsi, La Fontaine aura son théâtre à lui : ses Fables. Là, il se moque de la tyrannie des directeurs, comédiens, costumiers, décorateurs, machinistes, musiciens, et du public. Il défie les règles d’Aristote et de tous   \n",
       "...                                                                                                                                                                                                                                                                                                                                                                                                                                                                                                                                                                                                                                                                                                                                                                                                                                                                                                                                                                                                                                                                                                                                                                                                                                                                                                                                                                                                                                                                                                                                                                                                                                                                                                                                                                                                                                                                                                                                                                                                                                                                                                                                                                                                                                                                                                                                                                                                                                                                                                                                                                                                                                                                                                                                                                                                                                                                                                                                                                                                                                                                                                                              ...   \n",
       "9694              l’étroite surveillance de ses deux chats siamois. [sep] La veille de l’arrivée, peu avant l’heure du thé, le commandant de bord frappe à la porte de sa suite. Vêtu d’un veston d’intérieur à ramages, Ravel vient ouvrir à l’officier de marine qui, s’inclinant légèrement, porte sous son bras gauche un fort volume relié en cuir rouge sombre et doré sur tranche. Ravel voit tout de suite de quoi il retourne : le livre d’or du bâtiment sur lequel le commandant le prie non sans cérémonie de porter quelques mots. Il répond que bien volontiers. [sep] Heureusement que les trains ne manquent pas, encore heureux que ce soit à bord de convois luxueux qu’il doive sillonner en tous sens le continent nord-américain car on lui a monté un itinéraire aberrant. C’est un parcours aussi déconcertant que celui d’une mouche dans l’air et qui va lui faire effectuer, du glacial au tropical, des allers-retours absurdes, escales incertaines et dérivations incongrues au fil de vingt-cinq villes traversées. [sep] Cela dit, Ravel file en voiture visiter le golfe du Mexique avant de rebondir vers le Grand Canyon où, basé à Phoenix, il passe une semaine, puis à bord du California Limited vers Buffalo, à l’autre bout du continent. Et ensuite, abrégeons, il retourne à New York et à Montréal d’où il part se produire encore à Toronto, Milwaukee, Détroit, dernier saut à Boston, dernier passage par New York où il embarque sur le Paris, à minuit. [sep] C’est à bord d’un train de la Southern Pacific que, venant de Perth, il se dirige vers Seattle en passant par Portland et Vancouver, puis dans un convoi du Union Pacific System qu’il quitte Denver — mines d’or et d’argent, soleil, air pur, altitude — pour Minneapolis via Kansas City. Mais comme on dirait que ça se couvre, il craint de retrouver la semaine prochaine l’air glacé de New York. [sep] Quelle que soit, pour signer, la solution adoptée, il apparaît surtout à Ravel que tout cela doit prendre un temps fou à dessiner. Lui se contente d’un rapide envoi sobre de sa haute écriture nerveuse, tout en pics, suivi de son prénom et de son nom parfaitement lisibles et même pas soulignés, à peine décorés de jambages verticaux prolongés dans leurs initiales majuscules. [sep] Reste la possibilité d’aller faire un tour dans le jardin qui est un espace à trois côtés, herbu, pentu, bombé comme un triangle de fille. Mais ce jardin, ce jour-là, Ravel a beau s’y tenir d’habitude attentif, c’est à peine à présent s’il le voit, à peine s’il s’intéresse aux travaux effectués en son absence par le jardinier. On dirait qu’il commence à s’ennuyer. [sep] Technique n° 3 : s’imposer une énumération. Se remémorer par exemple tous les lits dans lesquels il a dormi depuis l’enfance. La tâche est importante, cela peut prendre du temps, il trouve chaque fois de nouveaux lits dans sa mémoire, cela prend tellement de temps que c’en devient ennuyeux — il peut compter sur cet ennui comme facteur soporifique. [sep] Le lendemain matin, il se lève tard, traînant au   \n",
       "9695                                                                                                                                                                                                                                                                                                                                                                                                                                                                                                                                                                                                                                                                                                                                                                                                                                                                                                                                                                                                                                                                                                                                                                                                                                                                                                                                                                                                                                                                                                                                                                                                                                                                                                                                                                                                                                                                                                                                                                                                                                                                                                                                                                                                                                                                                                                                                                                                                                                                                                                  lit jusqu’à rater le bouillon sur le pont puis, vêtu de coton gaufré décontracté, il va faire un tour sur le pont promenade à peu près désert : deux mousses y regroupent sur des plateaux des bols épars entre les pieds des chaises longues, la mer est d’un vert presque noir. [sep] Il part en direction de la gare maritime du Havre afin de se rendre en Amérique du Nord. C’est la première fois qu’il y va, ce sera la dernière. Il lui reste aujourd’hui, pile, dix ans à vivre. [sep] Technique n° 4 : Bromure de potassium, Laudanum, Véronal, Nembutal, Prominai, Soneryl et autres barbituriques.   \n",
       "\n",
       "            author                    title book_date  \n",
       "0        GUTH Paul  Si j_étais le Bon Dieu      1987  \n",
       "1        GUTH Paul  Si j_étais le Bon Dieu      1987  \n",
       "...            ...                      ...       ...  \n",
       "9694  ECHENOZ Jean                    Ravel      2006  \n",
       "9695  ECHENOZ Jean                    Ravel      2006  \n",
       "\n",
       "[9696 rows x 4 columns]"
      ]
     },
     "execution_count": 93,
     "metadata": {},
     "output_type": "execute_result"
    }
   ],
   "source": [
    "pd.options.display.max_rows = 5\n",
    "pd.options.display.max_seq_items = None\n",
    "pd.options.display.max_colwidth = 4000\n",
    "df"
   ]
  },
  {
   "cell_type": "code",
   "execution_count": 94,
   "id": "38c7d265",
   "metadata": {},
   "outputs": [],
   "source": [
    "data = df[[\"text\",\"author\"]]"
   ]
  },
  {
   "cell_type": "raw",
   "id": "f116ebe1",
   "metadata": {},
   "source": [
    "def preprocess(text,\n",
    "               punctuation=False,\n",
    "               lower_case=False,\n",
    "               remove_stopwords=False,\n",
    "               accents=False,\n",
    "               numbers=False,\n",
    "               lemmatize=False,\n",
    "               language='french'):\n",
    "\n",
    "    if numbers:\n",
    "        text = ''.join(char for char in text if not char.isdigit())\n",
    "    if punctuation:\n",
    "        text = ''.join(char for char in text if not char in string.punctuation)\n",
    "    if lower_case:\n",
    "        text = text.lower()\n",
    "        text = text.replace(\"*\",\"\")\n",
    "    if accents:\n",
    "        text = unidecode.unidecode(text)\n",
    "    if remove_stopwords:\n",
    "        stop_words = set(stopwords.words(language))\n",
    "        word_tokens = word_tokenize(text)\n",
    "        text = ' '.join(char for char in word_tokens if not char in stop_words)\n",
    "    if lemmatize:\n",
    "        text = word_tokenize(text)\n",
    "        lemmatizer = WordNetLemmatizer()\n",
    "        lemmatized = [lemmatizer.lemmatize(char) for char in text]\n",
    "        text = ' '.join(lemmatized)\n",
    "    return text"
   ]
  },
  {
   "cell_type": "raw",
   "id": "21d5dc51",
   "metadata": {},
   "source": [
    "data[\"text\"] = data[\"text\"].apply(preprocess)"
   ]
  },
  {
   "cell_type": "code",
   "execution_count": 64,
   "id": "68253132",
   "metadata": {},
   "outputs": [
    {
     "data": {
      "text/plain": [
       "(4862, 2)"
      ]
     },
     "execution_count": 64,
     "metadata": {},
     "output_type": "execute_result"
    }
   ],
   "source": [
    "data.shape"
   ]
  },
  {
   "cell_type": "code",
   "execution_count": 95,
   "id": "d46fc7dc",
   "metadata": {},
   "outputs": [
    {
     "name": "stderr",
     "output_type": "stream",
     "text": [
      "/var/folders/t8/clhcfp2n5sgcs4b81syf8xym0000gp/T/ipykernel_22713/3158990497.py:1: SettingWithCopyWarning: \n",
      "A value is trying to be set on a copy of a slice from a DataFrame.\n",
      "Try using .loc[row_indexer,col_indexer] = value instead\n",
      "\n",
      "See the caveats in the documentation: https://pandas.pydata.org/pandas-docs/stable/user_guide/indexing.html#returning-a-view-versus-a-copy\n",
      "  data[\"taille\"] = data.text.apply(lambda x : len(x.split(\" \")))\n"
     ]
    },
    {
     "data": {
      "text/html": [
       "<div>\n",
       "<style scoped>\n",
       "    .dataframe tbody tr th:only-of-type {\n",
       "        vertical-align: middle;\n",
       "    }\n",
       "\n",
       "    .dataframe tbody tr th {\n",
       "        vertical-align: top;\n",
       "    }\n",
       "\n",
       "    .dataframe thead th {\n",
       "        text-align: right;\n",
       "    }\n",
       "</style>\n",
       "<table border=\"1\" class=\"dataframe\">\n",
       "  <thead>\n",
       "    <tr style=\"text-align: right;\">\n",
       "      <th></th>\n",
       "      <th>text</th>\n",
       "      <th>author</th>\n",
       "      <th>taille</th>\n",
       "    </tr>\n",
       "  </thead>\n",
       "  <tbody>\n",
       "    <tr>\n",
       "      <th>0</th>\n",
       "      <td>Pendant que Nous franchissions la porte du Nord, dédiée à Ishtar, déesse de la Fécondité, la Vierge, toujours l’esprit en éveil, Me donna une idée qui reçut immédiatement force de loi. Pour compenser la fatigue que pourrait causer le jacassement universel, la dernière semaine de chaque mois serait vouée entièrement au silence. Un silence de rêve suspendrait, sur la terre, le grondement des mers, le fracas des cascades, le souffle des vents, le vrombissement des avions, le bruit des trains, des voitures, des machines. Il éteindrait, dans l’univers, la musique des sphères et tout frémissement de vie. Cette semaine mensuelle de silence serait vouée à l’amour. En retenant leur souffle, les amoureux redoubleraient de regards, de caresses. Ils ne seraient plus que rayonnements d’âme, scintillements d’indicible. Quand ils retourneraient au monde de la parole, ils garderaient une telle nostalgie du silence qu’ils croiraient en dire infiniment moins avec leurs mots qu’auparavant avec leurs yeux. Les plus nostalgiques seront les perroquets. Et surtout Kohkoh, perroquet en chef de Nabuchodonosor, qui s’était illustré en chantant des hymnes, des psaumes et les chefs-d’œuvre de la poésie de Babylone. Après chaque cure de silence, il était si malheureux d’avoir à parler en service commandé que, pour clore son bec à jamais, il finit par le plonger dans un ciment indestructible. Pleuré par le roi et par tout le royaume, il mourut d’amour du silence et du silence de l’amour. [sep] « En 486 après Jésus-Christ, les troupes de Syagrius avaient enlevé d’une église un vase d’une grandeur et d’une beauté merveilleuse, avec tous les autres ornements du ministère sacré. L’évêque de cette ville envoya au roi Clovis des messagers demandant que, s’ils ne pouvaient obtenir de recouvrer les autres vases, on lui rendît au moins celui-là. Aux paroles de l’envoyé le roi répondit : “ Suis-nous jusqu’à Soissons car c est là que sera partagé le butin ; et quand ce vase sera entré dans ma part, je ferai ce que l’évêque demande. ” En arrivant à Soissons, le roi fit déposer la charge du butin au milieu de ses soldats et dit : “ Je vous prie, mes braves guerriers, de bien vouloir m’accorder, hors part7, le vase que voilà ”, et il montrait le vase dont nous avons parlé. A ces paroles, les plus sensés répondirent : “ Glorieux roi, tout ce que nous avons ici est à toi, et nous-mêmes sommes soumis à ton pouvoir ; qu’il en soit donc fait selon ton jugement car personne ne peut résister à ta puissance. ” Comme ils avaient ainsi parlé, l’un des soldats, léger, jaloux et emporté, éleva la voix, brandit la hache à deux tranchants et frappa le vase en disant : “ Tu n’auras rien de plus que ce qui te sera donné véritablement par le sort. ” Tous restèrent stupéfaits. Le roi comprima l’outrage, avec une patiente douceur, et le vase lui étant échu, il le rendit à l’envoyé de l’évêque, gardant la blessure dans son cœur. [sep] Van Eyck présenta La Vierge au chanoine Van der Paele, avec le chanoine lui-même,</td>\n",
       "      <td>GUTH Paul</td>\n",
       "      <td>512</td>\n",
       "    </tr>\n",
       "    <tr>\n",
       "      <th>1</th>\n",
       "      <td>la Vierge à la fontaine et, avec le chancelier en personne, « gros et gras, le teint frais et la bouche vermeille », la Vierge au chancelier Rolin. Pour mieux contempler ce chef-d’œuvre, Je fis arrêter le cortège. Sérénité de la Vierge peinte dans son grand manteau rouge. Ce regard en biais, attentif, de sage et discrète personne, empêchant, du bout des doigts, l’Enfant de glisser sur son genou et s’apprêtant à lui donner l’envol. Les magiques cheveux d’or crespelés cascadant sur les épaules. Au-dessus de sa tête, un ange élève une couronne à faire pâlir d’envie saint Éloi. Un immense joyau arachnéen, une dentelle d’or, un souffle de filigranes, royauté des cieux. Et puis le coup de génie, que J’ai inspiré, auquel Van Eyck a obéi, autant que le permettaient ses forces : la Vierge à l’Enfant est assise dans la pénombre d’une loggia, à l’angle de laquelle l’ange se niche comme une hirondelle. Des arceaux s’ouvrent sur un ciel idéal. En bas, apparaît une de ces villes de rêve dont le petit Paul Guth, au musée de Toulouse, pendant la Grande Guerre, nourrissait à jamais ses songes. Assise au bord d’un fleuve, une cité, hérissée de flèches et de tours, ciselée, orfévrée comme la couronne de la Vierge. Une de ces villes où l’on voudrait vivre, dans la réalisation de tous les vœux, sous un ciel sans bornes. [sep] Parce que Je suis le Tout-Puissant, ne me traitez pas de brute ! J’ai inventé un circuit original qui témoigne d’une qualité que l’on Me prête rarement : la délicatesse. « Le circuit des petites manières » (P.M.) J’ai remarqué que, dans l’amour, ce qui touche les humains, plus que le bel canto lyrique, qui s’éteindra un jour, plus que les suprêmes vagues de passion qui retomberont en poudre, ce que l’on retient le plus profondément de l’être aimé, ce qui nous l’évoque le plus exactement dans l’absence, le différencie le plus délicieusement des autres, et, dans la séparation ou la mort, nous arrache les plus inguérissables larmes, ce sont « les petites manières ». Une façon de marcher, en posant le pied selon un certain angle, qui laisse, sur le trottoir de la rue Nicolo, une empreinte ineffaçable. Un essoufflement de petite fille qui a trop sauté à la corde pour dire au téléphone : « J’ n’ te dérange pas ? » Un cheveu sur la langue pour prononcer « l’eau de roze » ou « la bouche chèche ». Un accent gascon ou bourguignon, personnel, comme si l’être aimé formait à lui seul tout un royaume. Mélanger la brosse à dents et la brosse à chaussures, au cabinet de toilette. Laisser traîner ses manches dans les sauces. Fermer mollement le robinet du lavabo d’où suinte un perpétuel filet d’eau. Laisser filtrer du fourneau à gaz des effluves mortels. [sep] Puisqu’il en est ainsi, La Fontaine aura son théâtre à lui : ses Fables. Là, il se moque de la tyrannie des directeurs, comédiens, costumiers, décorateurs, machinistes, musiciens, et du public. Il défie les règles d’Aristote et de tous</td>\n",
       "      <td>GUTH Paul</td>\n",
       "      <td>512</td>\n",
       "    </tr>\n",
       "  </tbody>\n",
       "</table>\n",
       "</div>"
      ],
      "text/plain": [
       "                                                                                                                                                                                                                                                                                                                                                                                                                                                                                                                                                                                                                                                                                                                                                                                                                                                                                                                                                                                                                                                                                                                                                                                                                                                                                                                                                                                                                                                                                                                                                                                                                                                                                                                                                                                                                                                                                                                                                                                                                                                                                                                                                                                                                                                                                                                                                                                                                                                                                                                                                                                                                                                                                                                                                                                                                                                                                                                                                                                                                                                                                                                             text  \\\n",
       "0  Pendant que Nous franchissions la porte du Nord, dédiée à Ishtar, déesse de la Fécondité, la Vierge, toujours l’esprit en éveil, Me donna une idée qui reçut immédiatement force de loi. Pour compenser la fatigue que pourrait causer le jacassement universel, la dernière semaine de chaque mois serait vouée entièrement au silence. Un silence de rêve suspendrait, sur la terre, le grondement des mers, le fracas des cascades, le souffle des vents, le vrombissement des avions, le bruit des trains, des voitures, des machines. Il éteindrait, dans l’univers, la musique des sphères et tout frémissement de vie. Cette semaine mensuelle de silence serait vouée à l’amour. En retenant leur souffle, les amoureux redoubleraient de regards, de caresses. Ils ne seraient plus que rayonnements d’âme, scintillements d’indicible. Quand ils retourneraient au monde de la parole, ils garderaient une telle nostalgie du silence qu’ils croiraient en dire infiniment moins avec leurs mots qu’auparavant avec leurs yeux. Les plus nostalgiques seront les perroquets. Et surtout Kohkoh, perroquet en chef de Nabuchodonosor, qui s’était illustré en chantant des hymnes, des psaumes et les chefs-d’œuvre de la poésie de Babylone. Après chaque cure de silence, il était si malheureux d’avoir à parler en service commandé que, pour clore son bec à jamais, il finit par le plonger dans un ciment indestructible. Pleuré par le roi et par tout le royaume, il mourut d’amour du silence et du silence de l’amour. [sep] « En 486 après Jésus-Christ, les troupes de Syagrius avaient enlevé d’une église un vase d’une grandeur et d’une beauté merveilleuse, avec tous les autres ornements du ministère sacré. L’évêque de cette ville envoya au roi Clovis des messagers demandant que, s’ils ne pouvaient obtenir de recouvrer les autres vases, on lui rendît au moins celui-là. Aux paroles de l’envoyé le roi répondit : “ Suis-nous jusqu’à Soissons car c est là que sera partagé le butin ; et quand ce vase sera entré dans ma part, je ferai ce que l’évêque demande. ” En arrivant à Soissons, le roi fit déposer la charge du butin au milieu de ses soldats et dit : “ Je vous prie, mes braves guerriers, de bien vouloir m’accorder, hors part7, le vase que voilà ”, et il montrait le vase dont nous avons parlé. A ces paroles, les plus sensés répondirent : “ Glorieux roi, tout ce que nous avons ici est à toi, et nous-mêmes sommes soumis à ton pouvoir ; qu’il en soit donc fait selon ton jugement car personne ne peut résister à ta puissance. ” Comme ils avaient ainsi parlé, l’un des soldats, léger, jaloux et emporté, éleva la voix, brandit la hache à deux tranchants et frappa le vase en disant : “ Tu n’auras rien de plus que ce qui te sera donné véritablement par le sort. ” Tous restèrent stupéfaits. Le roi comprima l’outrage, avec une patiente douceur, et le vase lui étant échu, il le rendit à l’envoyé de l’évêque, gardant la blessure dans son cœur. [sep] Van Eyck présenta La Vierge au chanoine Van der Paele, avec le chanoine lui-même,   \n",
       "1                                                                                la Vierge à la fontaine et, avec le chancelier en personne, « gros et gras, le teint frais et la bouche vermeille », la Vierge au chancelier Rolin. Pour mieux contempler ce chef-d’œuvre, Je fis arrêter le cortège. Sérénité de la Vierge peinte dans son grand manteau rouge. Ce regard en biais, attentif, de sage et discrète personne, empêchant, du bout des doigts, l’Enfant de glisser sur son genou et s’apprêtant à lui donner l’envol. Les magiques cheveux d’or crespelés cascadant sur les épaules. Au-dessus de sa tête, un ange élève une couronne à faire pâlir d’envie saint Éloi. Un immense joyau arachnéen, une dentelle d’or, un souffle de filigranes, royauté des cieux. Et puis le coup de génie, que J’ai inspiré, auquel Van Eyck a obéi, autant que le permettaient ses forces : la Vierge à l’Enfant est assise dans la pénombre d’une loggia, à l’angle de laquelle l’ange se niche comme une hirondelle. Des arceaux s’ouvrent sur un ciel idéal. En bas, apparaît une de ces villes de rêve dont le petit Paul Guth, au musée de Toulouse, pendant la Grande Guerre, nourrissait à jamais ses songes. Assise au bord d’un fleuve, une cité, hérissée de flèches et de tours, ciselée, orfévrée comme la couronne de la Vierge. Une de ces villes où l’on voudrait vivre, dans la réalisation de tous les vœux, sous un ciel sans bornes. [sep] Parce que Je suis le Tout-Puissant, ne me traitez pas de brute ! J’ai inventé un circuit original qui témoigne d’une qualité que l’on Me prête rarement : la délicatesse. « Le circuit des petites manières » (P.M.) J’ai remarqué que, dans l’amour, ce qui touche les humains, plus que le bel canto lyrique, qui s’éteindra un jour, plus que les suprêmes vagues de passion qui retomberont en poudre, ce que l’on retient le plus profondément de l’être aimé, ce qui nous l’évoque le plus exactement dans l’absence, le différencie le plus délicieusement des autres, et, dans la séparation ou la mort, nous arrache les plus inguérissables larmes, ce sont « les petites manières ». Une façon de marcher, en posant le pied selon un certain angle, qui laisse, sur le trottoir de la rue Nicolo, une empreinte ineffaçable. Un essoufflement de petite fille qui a trop sauté à la corde pour dire au téléphone : « J’ n’ te dérange pas ? » Un cheveu sur la langue pour prononcer « l’eau de roze » ou « la bouche chèche ». Un accent gascon ou bourguignon, personnel, comme si l’être aimé formait à lui seul tout un royaume. Mélanger la brosse à dents et la brosse à chaussures, au cabinet de toilette. Laisser traîner ses manches dans les sauces. Fermer mollement le robinet du lavabo d’où suinte un perpétuel filet d’eau. Laisser filtrer du fourneau à gaz des effluves mortels. [sep] Puisqu’il en est ainsi, La Fontaine aura son théâtre à lui : ses Fables. Là, il se moque de la tyrannie des directeurs, comédiens, costumiers, décorateurs, machinistes, musiciens, et du public. Il défie les règles d’Aristote et de tous   \n",
       "\n",
       "      author  taille  \n",
       "0  GUTH Paul     512  \n",
       "1  GUTH Paul     512  "
      ]
     },
     "execution_count": 95,
     "metadata": {},
     "output_type": "execute_result"
    }
   ],
   "source": [
    "data[\"taille\"] = data.text.apply(lambda x : len(x.split(\" \")))\n",
    "data.head(2)"
   ]
  },
  {
   "cell_type": "code",
   "execution_count": 96,
   "id": "eb218813",
   "metadata": {},
   "outputs": [
    {
     "data": {
      "text/plain": [
       "1         1\n",
       "16        1\n",
       "       ... \n",
       "507       1\n",
       "512    9627\n",
       "Name: taille, Length: 65, dtype: int64"
      ]
     },
     "execution_count": 96,
     "metadata": {},
     "output_type": "execute_result"
    }
   ],
   "source": [
    "data.taille.value_counts().sort_index()"
   ]
  },
  {
   "cell_type": "code",
   "execution_count": 97,
   "id": "26bb3391",
   "metadata": {},
   "outputs": [
    {
     "data": {
      "text/plain": [
       "(9627, 9696, 69)"
      ]
     },
     "execution_count": 97,
     "metadata": {},
     "output_type": "execute_result"
    }
   ],
   "source": [
    "len(data[data.taille >= 512]), len(data), len(data[data.taille < 512])"
   ]
  },
  {
   "cell_type": "code",
   "execution_count": 98,
   "id": "f9826c73",
   "metadata": {},
   "outputs": [
    {
     "data": {
      "text/plain": [
       "(9627, 3)"
      ]
     },
     "execution_count": 98,
     "metadata": {},
     "output_type": "execute_result"
    }
   ],
   "source": [
    "data_lim = data[data.taille==seq_len]\n",
    "data_lim.shape"
   ]
  },
  {
   "cell_type": "code",
   "execution_count": 99,
   "id": "5292203a",
   "metadata": {},
   "outputs": [],
   "source": [
    "#data[data.taille >= 512].value_counts().plot(kind=\"bar\");"
   ]
  },
  {
   "cell_type": "code",
   "execution_count": 100,
   "id": "bc070aad",
   "metadata": {},
   "outputs": [
    {
     "data": {
      "image/png": "[encoded data removed]",
      "text/plain": [
       "<Figure size 432x288 with 1 Axes>"
      ]
     },
     "metadata": {
      "needs_background": "light"
     },
     "output_type": "display_data"
    }
   ],
   "source": [
    "data_lim.author.value_counts().plot(kind=\"bar\");"
   ]
  },
  {
   "cell_type": "code",
   "execution_count": 110,
   "id": "953a9c46",
   "metadata": {},
   "outputs": [],
   "source": [
    "car = pd.DataFrame(data_lim.author.value_counts())"
   ]
  },
  {
   "cell_type": "code",
   "execution_count": 111,
   "id": "2f4a0a32",
   "metadata": {},
   "outputs": [
    {
     "data": {
      "text/html": [
       "<div>\n",
       "<style scoped>\n",
       "    .dataframe tbody tr th:only-of-type {\n",
       "        vertical-align: middle;\n",
       "    }\n",
       "\n",
       "    .dataframe tbody tr th {\n",
       "        vertical-align: top;\n",
       "    }\n",
       "\n",
       "    .dataframe thead th {\n",
       "        text-align: right;\n",
       "    }\n",
       "</style>\n",
       "<table border=\"1\" class=\"dataframe\">\n",
       "  <thead>\n",
       "    <tr style=\"text-align: right;\">\n",
       "      <th></th>\n",
       "      <th>author</th>\n",
       "    </tr>\n",
       "  </thead>\n",
       "  <tbody>\n",
       "    <tr>\n",
       "      <th>COHEN Albert</th>\n",
       "      <td>1212</td>\n",
       "    </tr>\n",
       "    <tr>\n",
       "      <th>DEBEAUVOIR Simone</th>\n",
       "      <td>1171</td>\n",
       "    </tr>\n",
       "    <tr>\n",
       "      <th>...</th>\n",
       "      <td>...</td>\n",
       "    </tr>\n",
       "    <tr>\n",
       "      <th>DURAS Marguerite</th>\n",
       "      <td>265</td>\n",
       "    </tr>\n",
       "    <tr>\n",
       "      <th>VIAN Boris</th>\n",
       "      <td>257</td>\n",
       "    </tr>\n",
       "  </tbody>\n",
       "</table>\n",
       "<p>20 rows × 1 columns</p>\n",
       "</div>"
      ],
      "text/plain": [
       "                   author\n",
       "COHEN Albert         1212\n",
       "DEBEAUVOIR Simone    1171\n",
       "...                   ...\n",
       "DURAS Marguerite      265\n",
       "VIAN Boris            257\n",
       "\n",
       "[20 rows x 1 columns]"
      ]
     },
     "execution_count": 111,
     "metadata": {},
     "output_type": "execute_result"
    }
   ],
   "source": [
    "car"
   ]
  },
  {
   "cell_type": "code",
   "execution_count": 72,
   "id": "9e11d032",
   "metadata": {},
   "outputs": [],
   "source": [
    "#define variables\n",
    "min_lines = data_lim.author.value_counts().min()\n",
    "last_author = data_lim.author.value_counts().index[-1]\n",
    "author_without_last = data_lim.author.value_counts().index[:-1].to_list()"
   ]
  },
  {
   "cell_type": "code",
   "execution_count": 73,
   "id": "cdcddd12",
   "metadata": {},
   "outputs": [
    {
     "data": {
      "text/plain": [
       "['COHEN Albert',\n",
       " 'DEBEAUVOIR Simone',\n",
       " 'KESSEL Joseph',\n",
       " 'GARY Romain',\n",
       " 'CELINE Louis-Ferdinand',\n",
       " 'GIONO Jean',\n",
       " 'PEREC Georges',\n",
       " 'GUTH Paul',\n",
       " 'JOFFO Joseph',\n",
       " 'QUEFFELEC Yann',\n",
       " 'BAZIN Herve',\n",
       " 'SCHOENDOERFFER Pierre',\n",
       " 'QUEFFELEC Henri',\n",
       " 'YOURCENAR Marguerite',\n",
       " 'MODIANO Patrick',\n",
       " 'SARRAUTE Nathalie',\n",
       " 'ECHENOZ Jean',\n",
       " 'CAMUS Albert',\n",
       " 'DURAS Marguerite']"
      ]
     },
     "execution_count": 73,
     "metadata": {},
     "output_type": "execute_result"
    }
   ],
   "source": [
    "author_without_last "
   ]
  },
  {
   "cell_type": "code",
   "execution_count": 74,
   "id": "a80e1549",
   "metadata": {},
   "outputs": [
    {
     "data": {
      "text/html": [
       "<div>\n",
       "<style scoped>\n",
       "    .dataframe tbody tr th:only-of-type {\n",
       "        vertical-align: middle;\n",
       "    }\n",
       "\n",
       "    .dataframe tbody tr th {\n",
       "        vertical-align: top;\n",
       "    }\n",
       "\n",
       "    .dataframe thead th {\n",
       "        text-align: right;\n",
       "    }\n",
       "</style>\n",
       "<table border=\"1\" class=\"dataframe\">\n",
       "  <thead>\n",
       "    <tr style=\"text-align: right;\">\n",
       "      <th></th>\n",
       "      <th>text</th>\n",
       "      <th>author</th>\n",
       "      <th>taille</th>\n",
       "    </tr>\n",
       "  </thead>\n",
       "  <tbody>\n",
       "    <tr>\n",
       "      <th>1453</th>\n",
       "      <td>Que devient donc Jacquemort ? pensa-t-elle à ce propos ou vice versa. Je ne le vois plus guère. Ça vaut autant. Sous prétexte qu’il est à la fois psychiatre et psychanalyste, il se mêlerait peut-être de l’éducation de Joël, Noël et de Citroën. Et de quel droit, on se le demande. Les enfants appartiennent à leur mère. Puisqu’elles ont eu mal en les faisant, ils appartiennent à leur mère. Et pas à leur père. Et leurs mères les aiment, par conséquent, il faut qu’ils fassent ce qu’elles disent. Elles savent mieux qu’eux ce qu’il leur faut, ce qui est bon pour eux, ce qui fera qu’ils resteront des enfants le plus longtemps possible. Les pieds des Chinoises. Les Chinoises, on leur met les pieds dans des chaussures spéciales. Peut-être des bandelettes. Ou des petits étaux. Ou des moules d’acier. Mais en tout cas, on s’arrange pour que leurs pieds restent tout petits. On devrait faire la même chose avec les enfants entiers. Les empêcher de grandir. Ils sont bien mieux à cet âge-là. Ils n’ont pas de soucis. Ils n’ont pas de besoins. Ils n’ont pas de mauvais désirs. Plus tard, ils vont pousser. Ils vont étendre leur domaine. Ils vont vouloir aller plus loin. Et que de risques nouveaux. S’ils sortent du jardin, il y a mille dangers supplémentaires. Que dis-je mille ? Dix mille. Et je ne suis pas généreuse. Il faut éviter à tout prix qu’ils sortent du jardin. Déjà, dans le jardin, ils courent un nombre incalculable de risques. Il peut y avoir un coup de vent imprévu qui casse une branche et les assomme. Que la pluie survienne, et, s’ils sont en sueur après avoir joué au cheval, ou au train, ou au gendarme et au voleur, ou à un autre jeu courant, que la pluie survienne et ils vont attraper une congestion pulmonaire, ou une pleurésie, ou un froid, ou une crise de rhumatismes, ou la poliomyélite, ou la typhoïde, ou la scarlatine, ou la rougeole, ou la varicelle, ou cette nouvelle maladie dont personne ne sait encore le nom. Et si un orage se lève. La foudre. Les éclairs. Je ne sais pas, il peut même y avoir ce qu’ils disent, ces phénomènes d’ionisation, ça a un assez sale nom pour que ça soit terrible, ça rappelle inanition. Et il peut arriver tant d’autres choses. S’ils sortaient du jardin, cela serait évidemment bien pire. Mais n’y pensons pas pour l’instant. Il y a assez à faire pour épuiser toutes les possibilités propres du jardin. Et quand ils seront plus grands, ah ! la ! la ! Oui, voilà les deux choses terrifiantes, évidemment : qu’ils grandissent et qu’ils sortent du jardin. Que de dangers à prévoir. C’est vrai, une mère doit tout prévoir. Mais laissons ça de côté. Je réfléchirai à tout ça un peu plus tard ; je ne l’oublie pas : grandir et sortir. Mais je veux me contenter du jardin pour le moment. Rien que dans le jardin, le nombre d’accidents est énorme. Ah ! Justement ! le gravier des allées. Combien de fois n’ai-je pas dit qu’il était ridicule de laisser les enfants jouer avec le gravier. S’ils en avalent ? On ne peut pas s’en apercevoir tout de suite. Et trois jours après, c’est l’appendicite. Obligé d’opérer d’urgence. Et qui le ferait ? Jacquemort ? Ce n’est pas un docteur. Le médecin du village ? Il n’y a qu’un vétérinaire. Alors, ils mourraient, tout simplement. Et après avoir souffert. La fièvre. Leurs cris. Non, pas de cris, ils gémiraient, ce serait encore plus horrible. Et pas de glace. Impossible de trouver de la glace pour leur mettre sur le ventre. La température monte, monte. Le mercure dépasse la limite. Le thermomètre éclate. Et un éclat de verre vient crever l’œil de Joël qui regarde Citroën souffrir. Il saigne. Il va perdre l’œil. Personne pour le soigner. Tout le monde est occupé de Citroën, qui geint de plus en plus doucement. Profitant du désordre, Noël se faufile dans la cuisine. Une bassine d’eau bouillante sur le fourneau. Il a faim. On ne lui a pas donné son goûter, naturellement, ses frères malades, on l’oublie. Il monte sur une chaise devant le fourneau. Pour prendre le pot de confiture. Mais la bon...</td>\n",
       "      <td>VIAN Boris</td>\n",
       "      <td>1024</td>\n",
       "    </tr>\n",
       "    <tr>\n",
       "      <th>1454</th>\n",
       "      <td>de leur combinaison ternaire, voici que résulte un hybride immonde, un crobe monstrueux, visible à l’œil nu, qui a la propriété singulière de provoquer la croissance de ganglions doux et terribles, en chapelets mollasses sur les articulations des enfants étendus, et voici que crèvent les ganglions distendus, et les microbes ruissellent hors des blessures, oui, voilà, voilà tout ce que peut apporter la pluie, la pluie grisâtre d’octembre et le vent de novrier l’accompagne ; ah ! le vent, maintenant, ne peut plus arracher aux arbres les branches pesantes qu’il projette sur les têtes des innocents. Mais si le vent se venge aussi, gifle la mer de son souffle brutal, et montent, montent les embruns sur la falaise détrempée ; à l’un d’eux s’accroche une bête, un coquillage minuscule. Joël regardait les vagues, et (oh rien ! un effleurement à peine) la coquille vient à lui tomber dans l’œil. Sitôt tombée sitôt sortie, il frotte sa manche sur son œil, il n’a rien, rien qu’une imperceptible égratignure ; et de jour en jour cette fêlure s’étend, et l’œil de Joël, mon Dieu, cet œil, voilà qu’il ressemble aux prunelles de blanc d’œuf coagulé des vieux qui ont trop regardé le feu – et l’autre œil, gagné par le mal sournois, tourne vers le ciel son regard terne ; Joël, mon Dieu, aveugle… et les embruns, sur la falaise, montent, montent, et la terre, comme du sucre, s’amollit sous leur manteau d’écume, et comme du sucre, elle fond, elle fond et s’effondre et coule, et Citroën et Noël, mon Dieu, comme une lave froide, la terre fondante les entraîne et leurs corps légers d’enfants flottent un instant à la surface du flot noirâtre et s’enfoncent, et la terre, ah ! la terre leur emplit la bouche ; criez, criez donc, que l’on sache, que l’on vienne !… [sep] Clémentine avait faim. Elle ne mangeait plus guère au repas de midi pendant lequel elle s’occupait de gaver ses trois. Elle alla vérifier la porte de sa chambre et tourna la clé dans la serrure. Tranquille. Personne n’entrerait. Elle revint au milieu de la chambre, desserra légèrement la ceinture de sa robe de toile. Elle se regardait discrètement dans la glace de l’armoire. Elle s’en fut à la fenêtre et la ferma également. Puis elle s’approcha de l’armoire. Elle prenait son temps, savourait les minutes à passer. Elle portait la clé de l’armoire accrochée à sa ceinture par une légère tresse de cuir. Elle la regarda et la glissa dans la serrure. Dans l’armoire, ça sentait mauvais. Ça sentait la charogne, très exactement. Il y avait une boîte à chaussures en carton d’où venait l’odeur. Clémentine la saisit et flaira. Dans la boîte, sur une soucoupe, un reste de bifteck achevait de se putréfier. Une pourriture propre, sans mouches et sans asticots. Simplement, il devenait vert et il puait. Affreusement. Elle passa son doigt sur le bifteck, tâta. Cela cédait facilement. Elle sentit son doigt. Assez pourri. Délicatement, elle saisit le bifteck entre le pouce et l’index et elle mordit avec soin, faisant attention d’en détacher une bouchée bien nette. C’était facile, c’était tendre. Elle mâchait avec lenteur, percevant autant la consistance un peu savonneuse de la chair faisandée, qui lui faisait une sensation acide derrière les joues, que le parfum puissant s’exhalant de la boîte. Elle en mangea la moitié et le remit dans la boîte qu’elle repoussa à son emplacement primitif. Il y avait à côté un triangle de fromage à peu près dans le même état, totalement abandonné à son assiette. Elle y trempa son doigt, le lécha, ceci à plusieurs reprises. À regret, elle referma l’armoire et passa dans le cabinet de toilette où elle se lava les mains. Puis elle s’étendit sur son lit. Cette fois, elle ne vomirait pas. Elle le savait. Maintenant elle conserverait tout. Il suffisait d’avoir assez faim. Elle y prendrait garde. De toute façon, le principe devait triompher : les meilleurs morceaux pour les enfants ; elle rit en pensant au début, elle se contentait de manger les rogatons, de finir les gras des côtele...</td>\n",
       "      <td>VIAN Boris</td>\n",
       "      <td>1024</td>\n",
       "    </tr>\n",
       "    <tr>\n",
       "      <th>...</th>\n",
       "      <td>...</td>\n",
       "      <td>...</td>\n",
       "      <td>...</td>\n",
       "    </tr>\n",
       "    <tr>\n",
       "      <th>4073</th>\n",
       "      <td>puis, il toussa, car il s’était, par malheur, rencontré avec un piquant de hérisson dissimulé dans le gâteau. [sep] Ils marchaient, suivant le premier trottoir venu. Un petit nuage rose descendait de l’air et s’approchait d’eux. [sep] Ils entendirent, assez loin, une porte se fermer, et le marchand de remèdes surgit soudain derrière le comptoir. [sep] « Ça peut être pour beaucoup de choses… conclut-il. Mais une plante ordinaire ne résisterait pas longtemps à ça. [sep] « Vous êtes stupide, dit le marchand de remèdes en les raccompagnant à la porte. Je suis vieux et pas résistant. [sep] Colin resta debout jusqu’à ce qu’une sonnerie ordonnât à l’huissier de l’introduire dans le bureau du directeur. [sep] Elle se leva, tira le petit anneau de sa fermeture et la robe tomba par terre. C’était une robe de laine claire. [sep] – Il m’aimait beaucoup, dit Alise. Il croyait que les livres accepteraient de partager ! Mais ça ne se peut pas. [sep] – Ça vous regarde, dit Alise, je ne peux pas tout prendre en considération puisque je veux vous tuer avant tout. [sep] – Eh bien, dit Colin, nous voici presque en famille. Vous ne m’aviez pas dit que vous aviez une nièce, Nicolas. [sep] – Et trois mois… rectifia Nicolas. Si Monsieur n’a plus besoin de moi, je vais retourner surveiller ma cuisine. [sep] « Ne dites pas des choses comme ça. Je n’aime pas les garçons qui disent des horreurs devant les jeunes filles. [sep] – Je suis désolé, dit Colin. Je voudrais que tout aille bien pour vous. Vous devriez déplier votre serviette. » [sep] – Ses parents ne veulent pas, répondit Chick, et je ne veux pas qu’elle se fâche avec eux. Elle est trop jeune… [sep] La porte vitrée grinça faiblement. Nicolas réapparut. Sa casquette était de travers et son costume en désordre. [sep] – Non, dit le professeur, ce n’est pas grave, ça. Je vais vous donner une ordonnance, mais il faudra la suivre. [sep] « Ce n’est rien, dit le marchand. De temps en temps, le lapin l’emporte sur l’acier et il faut les supprimer. » [sep] – Je vais vous expliquer : Chick dépense tout son argent à acheter ce que vous faites, et il n’a plus d’argent. [sep] – Mais vous admettez bien que je ne puisse pas me rendre à une raison comme celle-là ? demanda Jean-Sol Partre. [sep] – Pourquoi, peste diable bouffre, dit Colin, me parlez-vous toujours perpétuellement à la troisième personne ? [sep] « Quand le camion des peintureurs arrivera, vous le ferez entrer jusqu’à l’autel, Joseph », dit-il au Chuiche. [sep] Le ciel restait bleu, les nuages légers et vagues. Il faisait froid sans exagération. L’hiver tirait à sa fin. [sep] L’église n’était pas très éloignée. La voiture décrivit une élégante cardioïde et s’arrêta en bas des marches. [sep] – Et toi ? demanda Colin qui glissa et se retrouva assis par terre, sans faire aucun effort pour se rattraper. [sep] « Voilà, expliqua-t-il, quand ils furent arrivés à la cuisine. Goûtez ça et dites-moi ce que vous en pensez. » [sep] – Je préfère… » commença Colin, et il se rappela Chloé qui attendait, et poussa le professeur dans la chambre. [sep] – Sale truc !… marmotta le professeur. Vous n’avez pas eu de chance. De cette taille-là, ce n’est pas courant. [sep] Isis le détacha de sa chevelure et le donna à Chloé qui l’approcha de ses lèvres et le respira à longs traits. [sep] – Il en est question à la page 638 de son Livre de cuisine. Je vais lire à Monsieur le passage en question. » [sep] Une fumée légère s’échappa du bec de la bouilloire et Nicolas alla ouvrir. Le concierge montait deux lettres. [sep] « Je la trouve jolie… murmura-t-il. On a envie de lui toucher la poitrine… Ça ne te fait pas cet effet-là ? » [sep] C’étaient des abricots fourrés aux dattes et aux pruneaux dans un sirop onctueux et caramélisé sur le dessus. [sep] Le professeur sortit de sa trousse un stéthoscope à amplificateur et appliqua la capsule sur le dos de Chloé. [sep] Colin s’assit à côté d’elle et mit un bras autour de son cou. Elle saisit sa main entre les siennes et gémit. [sep]...</td>\n",
       "      <td>VIAN Boris</td>\n",
       "      <td>1024</td>\n",
       "    </tr>\n",
       "    <tr>\n",
       "      <th>4074</th>\n",
       "      <td>sa reliure et Chick se rua en avant, lâchant le tue-fliques inutilisable. [sep] Il regardait ailleurs et semblait s’ennuyer. Le Religieux tournait une crécelle en hurlant des vers latins. [sep] « Voilà où passe l’argent, dit Colin. Ça doit leur coûter horriblement cher de nettoyer ça tous les soirs. [sep] – Ça ne fait rien, dit Chloé. Vous n’allez pas épiloguer sur ce ventre. Il est bien trop gros, d’ailleurs… [sep] – Bien sûr ! dit Nicolas. Je peux aussi. Mais dis-moi, poursuivit-il, si on se tutoyait, tous les quatre ? [sep] – Je ne sais pas, dit Nicolas. Mais, au toucher, je donnerais seize ans à l’une et dix-huit ans à l’autre. [sep] « Tu vois, dit Colin. C’est un grand spécialiste. Les autres maisons n’ont pas une si complète décoration. [sep] – Bien, dit Isis. Mais il n’est plus gai comme avant. Je t’apporterai d’autres fleurs quand je reviendrai. [sep] « C’est très différent, dit Colin. Cette fois, Chloé est morte… Je n’aime pas l’idée de cette boîte noire. [sep] – Monsieur m’excusera, dit Nicolas, mais j’en ferais autant. Monsieur est certainement assez beau garçon… [sep] « Ce n’est pas un joli nom, dit Colin. Mais toi tu es une souris et tu as bien de la moustache. Alors ? » [sep] Dès le début de la rue, la foule se bousculait pour accéder à la salle où Jean-Sol donnait sa conférence. [sep] – Elle a voulu nettoyer les carreaux du couloir, dit Nicolas. Elle y est arrivée, mais ça lui a fait mal. [sep] – Quoi ? dit Nicolas. Il y a juste le gaz et un frigiploque, comme partout. Qu’est-ce que vous imaginez ? [sep] – Je les ai fait retenir sur ceux de ma secrétaire, dit le sous-directeur. Ne vous inquiétez pas, patron. [sep] – Votre pianocktail est un truc fantastique, dit l’antiquitaire, je vous en offre trois mille doublezons. [sep] « J’ai eu peur, dit Colin. Un moment, tu as fait une fausse note. Heureusement, c’était dans l’harmonie. [sep] « Si je peux faire vingt pas sans marcher dessus, dit Colin, je n’aurai pas de bouton sur le nez demain… [sep] « Les boutiques des fleuristes n’ont jamais de rideaux de fer. Personne ne cherche à voler des fleurs. » [sep] Alise et Chick, cependant, se livraient à une remarquable démonstration de biglemoi dans le style nègre. [sep] Il avait l’air si désolé qu’elle sourit et le secoua un peu pour lui montrer qu’elle n’était pas fâchée. [sep] – Alors, détaille », dit Chloé, en se laissant aller dans les bras de Colin, câline comme une couleuvre. [sep] « Notre véhicule est passablement souillé, dit Nicolas. C’est toute cette boue que nous avons traversée. [sep] Le docteur se mit en route, mais dans le mauvais sens. Il paraissait assez peu maître de ses mouvements. [sep] – Ben, dit le docteur, j’aimerais avoir l’avis d’un confrère, alors j’ai demandé à Mangemanche de venir… [sep] « Encore, dit Chloé. Et pas seulement ma figure… Tu ne m’aimes plus alors ? Tu ne veux plus de femme ? » [sep] « Je reconnais que c’est une belle pièce, dit l’antiquitaire en tournant autour du pianocktail de Colin. [sep] – Je ne veux même pas envisager cette solution, dit le Religieux. Vous irez bien jusqu’à cent cinquante. [sep] Le Religieux quitta le premier l’église et retourna dans la sacristoche mettre de gros souliers à clous. [sep] – L’homme de la malle ? s’enquit Chick horrifié, et sa petite moustache noire s’abaissait tragiquement. [sep] – Évidemment, dit Chick. Vous êtes bâti comme Johnny Weissmüller. Mais ce n’est pas la règle générale ! [sep] « Je crois, dit-il, que les vingt-cinq mille doublezons que je t’ai promis ne dureront pas longtemps. » [sep] – C’est depuis quelques temps, dit Chloé. C’est depuis quelques temps. Il n’y a rien à faire. Essaie. » [sep] – Évidemment, dit l’antiquitaire. Écoutez, coupons la poire en deux : deux mille cinq cents doublezons. [sep] – Ah ? dit l’homme. Voilà un mois qu’elle passe sans résultats. C’est un travail assez dur, vous savez… [sep] – C’est tout ? dit Chick. Redonne-moi du pâté. J’espère qu’elle a une nombreuse famille dans le tuyau. [sep] – Oui, je ne re...</td>\n",
       "      <td>VIAN Boris</td>\n",
       "      <td>1024</td>\n",
       "    </tr>\n",
       "  </tbody>\n",
       "</table>\n",
       "<p>127 rows × 3 columns</p>\n",
       "</div>"
      ],
      "text/plain": [
       "                                                                                                                                                                                                                                                                                                                                                                                                                                                                                                                                                                                                                                                                                                                                                                                                                                                                                                                                                                                                                                                                                                                                                                                                                                                                                                                                                                                                                                                                                                                                                                                                                                                                                                                                                                                                                                                                                                                                                                                                                                                                                                                                                                                                                                                                                                                                                                                                                                                                                                                                                                                                                                                                                                                                                                                                                                                                                                                                                                                                                                                                                                                                                                                                                                                                                                                                                                                                                                                                                                                                                                                                                                                                                                                                                                                                                                                                                                                                                                                                                                                                                                                                                                 text  \\\n",
       "1453  Que devient donc Jacquemort ? pensa-t-elle à ce propos ou vice versa. Je ne le vois plus guère. Ça vaut autant. Sous prétexte qu’il est à la fois psychiatre et psychanalyste, il se mêlerait peut-être de l’éducation de Joël, Noël et de Citroën. Et de quel droit, on se le demande. Les enfants appartiennent à leur mère. Puisqu’elles ont eu mal en les faisant, ils appartiennent à leur mère. Et pas à leur père. Et leurs mères les aiment, par conséquent, il faut qu’ils fassent ce qu’elles disent. Elles savent mieux qu’eux ce qu’il leur faut, ce qui est bon pour eux, ce qui fera qu’ils resteront des enfants le plus longtemps possible. Les pieds des Chinoises. Les Chinoises, on leur met les pieds dans des chaussures spéciales. Peut-être des bandelettes. Ou des petits étaux. Ou des moules d’acier. Mais en tout cas, on s’arrange pour que leurs pieds restent tout petits. On devrait faire la même chose avec les enfants entiers. Les empêcher de grandir. Ils sont bien mieux à cet âge-là. Ils n’ont pas de soucis. Ils n’ont pas de besoins. Ils n’ont pas de mauvais désirs. Plus tard, ils vont pousser. Ils vont étendre leur domaine. Ils vont vouloir aller plus loin. Et que de risques nouveaux. S’ils sortent du jardin, il y a mille dangers supplémentaires. Que dis-je mille ? Dix mille. Et je ne suis pas généreuse. Il faut éviter à tout prix qu’ils sortent du jardin. Déjà, dans le jardin, ils courent un nombre incalculable de risques. Il peut y avoir un coup de vent imprévu qui casse une branche et les assomme. Que la pluie survienne, et, s’ils sont en sueur après avoir joué au cheval, ou au train, ou au gendarme et au voleur, ou à un autre jeu courant, que la pluie survienne et ils vont attraper une congestion pulmonaire, ou une pleurésie, ou un froid, ou une crise de rhumatismes, ou la poliomyélite, ou la typhoïde, ou la scarlatine, ou la rougeole, ou la varicelle, ou cette nouvelle maladie dont personne ne sait encore le nom. Et si un orage se lève. La foudre. Les éclairs. Je ne sais pas, il peut même y avoir ce qu’ils disent, ces phénomènes d’ionisation, ça a un assez sale nom pour que ça soit terrible, ça rappelle inanition. Et il peut arriver tant d’autres choses. S’ils sortaient du jardin, cela serait évidemment bien pire. Mais n’y pensons pas pour l’instant. Il y a assez à faire pour épuiser toutes les possibilités propres du jardin. Et quand ils seront plus grands, ah ! la ! la ! Oui, voilà les deux choses terrifiantes, évidemment : qu’ils grandissent et qu’ils sortent du jardin. Que de dangers à prévoir. C’est vrai, une mère doit tout prévoir. Mais laissons ça de côté. Je réfléchirai à tout ça un peu plus tard ; je ne l’oublie pas : grandir et sortir. Mais je veux me contenter du jardin pour le moment. Rien que dans le jardin, le nombre d’accidents est énorme. Ah ! Justement ! le gravier des allées. Combien de fois n’ai-je pas dit qu’il était ridicule de laisser les enfants jouer avec le gravier. S’ils en avalent ? On ne peut pas s’en apercevoir tout de suite. Et trois jours après, c’est l’appendicite. Obligé d’opérer d’urgence. Et qui le ferait ? Jacquemort ? Ce n’est pas un docteur. Le médecin du village ? Il n’y a qu’un vétérinaire. Alors, ils mourraient, tout simplement. Et après avoir souffert. La fièvre. Leurs cris. Non, pas de cris, ils gémiraient, ce serait encore plus horrible. Et pas de glace. Impossible de trouver de la glace pour leur mettre sur le ventre. La température monte, monte. Le mercure dépasse la limite. Le thermomètre éclate. Et un éclat de verre vient crever l’œil de Joël qui regarde Citroën souffrir. Il saigne. Il va perdre l’œil. Personne pour le soigner. Tout le monde est occupé de Citroën, qui geint de plus en plus doucement. Profitant du désordre, Noël se faufile dans la cuisine. Une bassine d’eau bouillante sur le fourneau. Il a faim. On ne lui a pas donné son goûter, naturellement, ses frères malades, on l’oublie. Il monte sur une chaise devant le fourneau. Pour prendre le pot de confiture. Mais la bon...   \n",
       "1454  de leur combinaison ternaire, voici que résulte un hybride immonde, un crobe monstrueux, visible à l’œil nu, qui a la propriété singulière de provoquer la croissance de ganglions doux et terribles, en chapelets mollasses sur les articulations des enfants étendus, et voici que crèvent les ganglions distendus, et les microbes ruissellent hors des blessures, oui, voilà, voilà tout ce que peut apporter la pluie, la pluie grisâtre d’octembre et le vent de novrier l’accompagne ; ah ! le vent, maintenant, ne peut plus arracher aux arbres les branches pesantes qu’il projette sur les têtes des innocents. Mais si le vent se venge aussi, gifle la mer de son souffle brutal, et montent, montent les embruns sur la falaise détrempée ; à l’un d’eux s’accroche une bête, un coquillage minuscule. Joël regardait les vagues, et (oh rien ! un effleurement à peine) la coquille vient à lui tomber dans l’œil. Sitôt tombée sitôt sortie, il frotte sa manche sur son œil, il n’a rien, rien qu’une imperceptible égratignure ; et de jour en jour cette fêlure s’étend, et l’œil de Joël, mon Dieu, cet œil, voilà qu’il ressemble aux prunelles de blanc d’œuf coagulé des vieux qui ont trop regardé le feu – et l’autre œil, gagné par le mal sournois, tourne vers le ciel son regard terne ; Joël, mon Dieu, aveugle… et les embruns, sur la falaise, montent, montent, et la terre, comme du sucre, s’amollit sous leur manteau d’écume, et comme du sucre, elle fond, elle fond et s’effondre et coule, et Citroën et Noël, mon Dieu, comme une lave froide, la terre fondante les entraîne et leurs corps légers d’enfants flottent un instant à la surface du flot noirâtre et s’enfoncent, et la terre, ah ! la terre leur emplit la bouche ; criez, criez donc, que l’on sache, que l’on vienne !… [sep] Clémentine avait faim. Elle ne mangeait plus guère au repas de midi pendant lequel elle s’occupait de gaver ses trois. Elle alla vérifier la porte de sa chambre et tourna la clé dans la serrure. Tranquille. Personne n’entrerait. Elle revint au milieu de la chambre, desserra légèrement la ceinture de sa robe de toile. Elle se regardait discrètement dans la glace de l’armoire. Elle s’en fut à la fenêtre et la ferma également. Puis elle s’approcha de l’armoire. Elle prenait son temps, savourait les minutes à passer. Elle portait la clé de l’armoire accrochée à sa ceinture par une légère tresse de cuir. Elle la regarda et la glissa dans la serrure. Dans l’armoire, ça sentait mauvais. Ça sentait la charogne, très exactement. Il y avait une boîte à chaussures en carton d’où venait l’odeur. Clémentine la saisit et flaira. Dans la boîte, sur une soucoupe, un reste de bifteck achevait de se putréfier. Une pourriture propre, sans mouches et sans asticots. Simplement, il devenait vert et il puait. Affreusement. Elle passa son doigt sur le bifteck, tâta. Cela cédait facilement. Elle sentit son doigt. Assez pourri. Délicatement, elle saisit le bifteck entre le pouce et l’index et elle mordit avec soin, faisant attention d’en détacher une bouchée bien nette. C’était facile, c’était tendre. Elle mâchait avec lenteur, percevant autant la consistance un peu savonneuse de la chair faisandée, qui lui faisait une sensation acide derrière les joues, que le parfum puissant s’exhalant de la boîte. Elle en mangea la moitié et le remit dans la boîte qu’elle repoussa à son emplacement primitif. Il y avait à côté un triangle de fromage à peu près dans le même état, totalement abandonné à son assiette. Elle y trempa son doigt, le lécha, ceci à plusieurs reprises. À regret, elle referma l’armoire et passa dans le cabinet de toilette où elle se lava les mains. Puis elle s’étendit sur son lit. Cette fois, elle ne vomirait pas. Elle le savait. Maintenant elle conserverait tout. Il suffisait d’avoir assez faim. Elle y prendrait garde. De toute façon, le principe devait triompher : les meilleurs morceaux pour les enfants ; elle rit en pensant au début, elle se contentait de manger les rogatons, de finir les gras des côtele...   \n",
       "...                                                                                                                                                                                                                                                                                                                                                                                                                                                                                                                                                                                                                                                                                                                                                                                                                                                                                                                                                                                                                                                                                                                                                                                                                                                                                                                                                                                                                                                                                                                                                                                                                                                                                                                                                                                                                                                                                                                                                                                                                                                                                                                                                                                                                                                                                                                                                                                                                                                                                                                                                                                                                                                                                                                                                                                                                                                                                                                                                                                                                                                                                                                                                                                                                                                                                                                                                                                                                                                                                                                                                                                                                                                                                                                                                                                                                                                                                                                                                                                                                                                                                                                                                               ...   \n",
       "4073  puis, il toussa, car il s’était, par malheur, rencontré avec un piquant de hérisson dissimulé dans le gâteau. [sep] Ils marchaient, suivant le premier trottoir venu. Un petit nuage rose descendait de l’air et s’approchait d’eux. [sep] Ils entendirent, assez loin, une porte se fermer, et le marchand de remèdes surgit soudain derrière le comptoir. [sep] « Ça peut être pour beaucoup de choses… conclut-il. Mais une plante ordinaire ne résisterait pas longtemps à ça. [sep] « Vous êtes stupide, dit le marchand de remèdes en les raccompagnant à la porte. Je suis vieux et pas résistant. [sep] Colin resta debout jusqu’à ce qu’une sonnerie ordonnât à l’huissier de l’introduire dans le bureau du directeur. [sep] Elle se leva, tira le petit anneau de sa fermeture et la robe tomba par terre. C’était une robe de laine claire. [sep] – Il m’aimait beaucoup, dit Alise. Il croyait que les livres accepteraient de partager ! Mais ça ne se peut pas. [sep] – Ça vous regarde, dit Alise, je ne peux pas tout prendre en considération puisque je veux vous tuer avant tout. [sep] – Eh bien, dit Colin, nous voici presque en famille. Vous ne m’aviez pas dit que vous aviez une nièce, Nicolas. [sep] – Et trois mois… rectifia Nicolas. Si Monsieur n’a plus besoin de moi, je vais retourner surveiller ma cuisine. [sep] « Ne dites pas des choses comme ça. Je n’aime pas les garçons qui disent des horreurs devant les jeunes filles. [sep] – Je suis désolé, dit Colin. Je voudrais que tout aille bien pour vous. Vous devriez déplier votre serviette. » [sep] – Ses parents ne veulent pas, répondit Chick, et je ne veux pas qu’elle se fâche avec eux. Elle est trop jeune… [sep] La porte vitrée grinça faiblement. Nicolas réapparut. Sa casquette était de travers et son costume en désordre. [sep] – Non, dit le professeur, ce n’est pas grave, ça. Je vais vous donner une ordonnance, mais il faudra la suivre. [sep] « Ce n’est rien, dit le marchand. De temps en temps, le lapin l’emporte sur l’acier et il faut les supprimer. » [sep] – Je vais vous expliquer : Chick dépense tout son argent à acheter ce que vous faites, et il n’a plus d’argent. [sep] – Mais vous admettez bien que je ne puisse pas me rendre à une raison comme celle-là ? demanda Jean-Sol Partre. [sep] – Pourquoi, peste diable bouffre, dit Colin, me parlez-vous toujours perpétuellement à la troisième personne ? [sep] « Quand le camion des peintureurs arrivera, vous le ferez entrer jusqu’à l’autel, Joseph », dit-il au Chuiche. [sep] Le ciel restait bleu, les nuages légers et vagues. Il faisait froid sans exagération. L’hiver tirait à sa fin. [sep] L’église n’était pas très éloignée. La voiture décrivit une élégante cardioïde et s’arrêta en bas des marches. [sep] – Et toi ? demanda Colin qui glissa et se retrouva assis par terre, sans faire aucun effort pour se rattraper. [sep] « Voilà, expliqua-t-il, quand ils furent arrivés à la cuisine. Goûtez ça et dites-moi ce que vous en pensez. » [sep] – Je préfère… » commença Colin, et il se rappela Chloé qui attendait, et poussa le professeur dans la chambre. [sep] – Sale truc !… marmotta le professeur. Vous n’avez pas eu de chance. De cette taille-là, ce n’est pas courant. [sep] Isis le détacha de sa chevelure et le donna à Chloé qui l’approcha de ses lèvres et le respira à longs traits. [sep] – Il en est question à la page 638 de son Livre de cuisine. Je vais lire à Monsieur le passage en question. » [sep] Une fumée légère s’échappa du bec de la bouilloire et Nicolas alla ouvrir. Le concierge montait deux lettres. [sep] « Je la trouve jolie… murmura-t-il. On a envie de lui toucher la poitrine… Ça ne te fait pas cet effet-là ? » [sep] C’étaient des abricots fourrés aux dattes et aux pruneaux dans un sirop onctueux et caramélisé sur le dessus. [sep] Le professeur sortit de sa trousse un stéthoscope à amplificateur et appliqua la capsule sur le dos de Chloé. [sep] Colin s’assit à côté d’elle et mit un bras autour de son cou. Elle saisit sa main entre les siennes et gémit. [sep]...   \n",
       "4074  sa reliure et Chick se rua en avant, lâchant le tue-fliques inutilisable. [sep] Il regardait ailleurs et semblait s’ennuyer. Le Religieux tournait une crécelle en hurlant des vers latins. [sep] « Voilà où passe l’argent, dit Colin. Ça doit leur coûter horriblement cher de nettoyer ça tous les soirs. [sep] – Ça ne fait rien, dit Chloé. Vous n’allez pas épiloguer sur ce ventre. Il est bien trop gros, d’ailleurs… [sep] – Bien sûr ! dit Nicolas. Je peux aussi. Mais dis-moi, poursuivit-il, si on se tutoyait, tous les quatre ? [sep] – Je ne sais pas, dit Nicolas. Mais, au toucher, je donnerais seize ans à l’une et dix-huit ans à l’autre. [sep] « Tu vois, dit Colin. C’est un grand spécialiste. Les autres maisons n’ont pas une si complète décoration. [sep] – Bien, dit Isis. Mais il n’est plus gai comme avant. Je t’apporterai d’autres fleurs quand je reviendrai. [sep] « C’est très différent, dit Colin. Cette fois, Chloé est morte… Je n’aime pas l’idée de cette boîte noire. [sep] – Monsieur m’excusera, dit Nicolas, mais j’en ferais autant. Monsieur est certainement assez beau garçon… [sep] « Ce n’est pas un joli nom, dit Colin. Mais toi tu es une souris et tu as bien de la moustache. Alors ? » [sep] Dès le début de la rue, la foule se bousculait pour accéder à la salle où Jean-Sol donnait sa conférence. [sep] – Elle a voulu nettoyer les carreaux du couloir, dit Nicolas. Elle y est arrivée, mais ça lui a fait mal. [sep] – Quoi ? dit Nicolas. Il y a juste le gaz et un frigiploque, comme partout. Qu’est-ce que vous imaginez ? [sep] – Je les ai fait retenir sur ceux de ma secrétaire, dit le sous-directeur. Ne vous inquiétez pas, patron. [sep] – Votre pianocktail est un truc fantastique, dit l’antiquitaire, je vous en offre trois mille doublezons. [sep] « J’ai eu peur, dit Colin. Un moment, tu as fait une fausse note. Heureusement, c’était dans l’harmonie. [sep] « Si je peux faire vingt pas sans marcher dessus, dit Colin, je n’aurai pas de bouton sur le nez demain… [sep] « Les boutiques des fleuristes n’ont jamais de rideaux de fer. Personne ne cherche à voler des fleurs. » [sep] Alise et Chick, cependant, se livraient à une remarquable démonstration de biglemoi dans le style nègre. [sep] Il avait l’air si désolé qu’elle sourit et le secoua un peu pour lui montrer qu’elle n’était pas fâchée. [sep] – Alors, détaille », dit Chloé, en se laissant aller dans les bras de Colin, câline comme une couleuvre. [sep] « Notre véhicule est passablement souillé, dit Nicolas. C’est toute cette boue que nous avons traversée. [sep] Le docteur se mit en route, mais dans le mauvais sens. Il paraissait assez peu maître de ses mouvements. [sep] – Ben, dit le docteur, j’aimerais avoir l’avis d’un confrère, alors j’ai demandé à Mangemanche de venir… [sep] « Encore, dit Chloé. Et pas seulement ma figure… Tu ne m’aimes plus alors ? Tu ne veux plus de femme ? » [sep] « Je reconnais que c’est une belle pièce, dit l’antiquitaire en tournant autour du pianocktail de Colin. [sep] – Je ne veux même pas envisager cette solution, dit le Religieux. Vous irez bien jusqu’à cent cinquante. [sep] Le Religieux quitta le premier l’église et retourna dans la sacristoche mettre de gros souliers à clous. [sep] – L’homme de la malle ? s’enquit Chick horrifié, et sa petite moustache noire s’abaissait tragiquement. [sep] – Évidemment, dit Chick. Vous êtes bâti comme Johnny Weissmüller. Mais ce n’est pas la règle générale ! [sep] « Je crois, dit-il, que les vingt-cinq mille doublezons que je t’ai promis ne dureront pas longtemps. » [sep] – C’est depuis quelques temps, dit Chloé. C’est depuis quelques temps. Il n’y a rien à faire. Essaie. » [sep] – Évidemment, dit l’antiquitaire. Écoutez, coupons la poire en deux : deux mille cinq cents doublezons. [sep] – Ah ? dit l’homme. Voilà un mois qu’elle passe sans résultats. C’est un travail assez dur, vous savez… [sep] – C’est tout ? dit Chick. Redonne-moi du pâté. J’espère qu’elle a une nombreuse famille dans le tuyau. [sep] – Oui, je ne re...   \n",
       "\n",
       "          author  taille  \n",
       "1453  VIAN Boris    1024  \n",
       "1454  VIAN Boris    1024  \n",
       "...          ...     ...  \n",
       "4073  VIAN Boris    1024  \n",
       "4074  VIAN Boris    1024  \n",
       "\n",
       "[127 rows x 3 columns]"
      ]
     },
     "execution_count": 74,
     "metadata": {},
     "output_type": "execute_result"
    }
   ],
   "source": [
    "#Downsample majority classPython\n",
    "# Separate majority and minority classes\n",
    "\n",
    "df_minority = data_lim[data_lim.author==last_author]\n",
    "df_minority"
   ]
  },
  {
   "cell_type": "code",
   "execution_count": 75,
   "id": "4803e3be",
   "metadata": {},
   "outputs": [],
   "source": [
    "from sklearn.utils import resample \n",
    "\n",
    "#Downsample majority classPython\n",
    "\n",
    "#df_downsampled=pd.DataFrame(columns=['text','author','title','book_date'])\n",
    "df_all = []\n",
    "\n",
    "for _ in author_without_last:\n",
    "    df_majority = data_lim[data_lim.author==_]\n",
    "\n",
    "\n",
    "    # Downsample majority class\n",
    "    df_majority_downsampled = resample(df_majority, \n",
    "                                     replace=False,    # sample without replacement\n",
    "                                     n_samples=min_lines,     # to match minority class\n",
    "                                     random_state=123) # reproducible results\n",
    "    \n",
    "    df_all.append(df_majority_downsampled)\n",
    "\n",
    "# Combine minority class with downsampled majority class\n",
    "df_all.append(df_minority)\n",
    "df_downsampled = pd.concat(df_all, ignore_index= True, axis=0)    "
   ]
  },
  {
   "cell_type": "code",
   "execution_count": 76,
   "id": "0741674e",
   "metadata": {},
   "outputs": [
    {
     "data": {
      "text/plain": [
       "COHEN Albert         127\n",
       "DEBEAUVOIR Simone    127\n",
       "                    ... \n",
       "KESSEL Joseph        127\n",
       "VIAN Boris           127\n",
       "Name: author, Length: 20, dtype: int64"
      ]
     },
     "execution_count": 76,
     "metadata": {},
     "output_type": "execute_result"
    }
   ],
   "source": [
    "df_downsampled.author.value_counts()"
   ]
  },
  {
   "cell_type": "code",
   "execution_count": 77,
   "id": "436af8d2",
   "metadata": {},
   "outputs": [
    {
     "data": {
      "text/html": [
       "<div>\n",
       "<style scoped>\n",
       "    .dataframe tbody tr th:only-of-type {\n",
       "        vertical-align: middle;\n",
       "    }\n",
       "\n",
       "    .dataframe tbody tr th {\n",
       "        vertical-align: top;\n",
       "    }\n",
       "\n",
       "    .dataframe thead th {\n",
       "        text-align: right;\n",
       "    }\n",
       "</style>\n",
       "<table border=\"1\" class=\"dataframe\">\n",
       "  <thead>\n",
       "    <tr style=\"text-align: right;\">\n",
       "      <th></th>\n",
       "      <th>text</th>\n",
       "      <th>author</th>\n",
       "      <th>taille</th>\n",
       "    </tr>\n",
       "  </thead>\n",
       "  <tbody>\n",
       "    <tr>\n",
       "      <th>0</th>\n",
       "      <td>persécutions au renoncement. Qui préférait la honte au renoncement. Qui préférait les massacres, l’ignominie même. Au Moyen Âge, tous ceux qui avaient préféré la mort à l’apostasie. À Carentan, à Blois, à Bray, à Nuremberg, à Verdun, à Worms, à Francfort, à Oppenheim, à Mayence, à Burgos, à Barcelone, à Tolède, à Trente et dans d’autres villes, tous ces vaillants qui n’avaient pas voulu renier leur Dieu, qui avaient mis le feu à leurs maisons et s’étaient lancés dans les flammes, en tenant leurs enfants dans leurs bras et en chantant des psaumes. Ces héros, ces humiliés pour Dieu, ces grands nostalgiques de Dieu, ces faméliques errants à travers les siècles. Ce peuple passionné et fort qui avait traversé l’histoire comme une épée et qui avait marqué la terre de sa marque royale et de son Dieu. Ce peuple sublime d’espoir à travers les déserts vers Chanaan et dans les captivités en tant de terres étrangères. Ce peuple qui avait tenu tête, dans sa sainte bourgade, à Rome, et qui avait fait trembler le plus puissant des empires. Ce peuple de l’Esprit. Ce peuple du demain éternel. [sep] Pauvres raisons. En réalité, elle aurait dû avoir le courage de partir. Qu’avait-elle fait en ces trente-deux ans de vie, à quoi avait-elle servi et pourquoi était-elle née ? Tout de même, elle avait été jeune et pleine de feu, elle aussi. Et maintenant, elle se laissait vivre et ne croyait à rien. Tout aurait pu être différent. Et encore, cet amour lui donnait-il de la joie ? Non, une affection sauvage et triste de bête désemparée. Oh, avoir un petit enfant à elle, sans toutes ces vilenies de lettres truquées. « Gâde, gâde, maman, le ouaou ouaou ! » Pourquoi Maussane avait-il si vite accepté que sa fille rejoignît Jacques à Versailles ? Évidemment, elle était là, elle, le chaperon. Ces scrupules de moralité lui seyaient à elle ! La maîtresse de Maussane vivait sans doute avec lui et il préférait éloigner sa fille. Comme tout était misérable. Ce vieux, qui mourrait dans cinq ou six ans, avait besoin d’une femme. Mais qu’avons-nous tous, pauvres humains, à vouloir nous serrer contre un autre corps ? Depuis la lettre, comme Aude la méprisait ! Elle se laissait traiter par cette petite comme une domestique commode. Autrefois, elle était fière et maintenant, elle suivait lâchement, sans bien savoir pourquoi. Pour surveiller sans doute, pour espionner. Tout de même comme cette petite avait su se reprendre. [sep] — Je ne suis pas beau évidemment, mais plus je me regarde plus je m’aperçois que je ne suis pas laid non plus. Il faut être impartial. Figure sympathique, vive, ouverte, franche et non dénuée d’intelligence et peut-être même de malice. Le rabbin mon beau-frère me fait des sermons parce que je me rase, il prétend qu’il y a impudeur à montrer sa face nue. J’ai l’âme aussi pure que vous, ô très magnifique Gamaliel Solal, ô éminentissime grand rabbin de la Communauté des Sept Îles Ioniennes avec siège à Céphalonie ! Et s’il me plaît à moi d’être pareil aux Saxons quant à la face ? Mais je ne veux pas me fâcher. Ah, le cadeau pour le neveu de mon âme, le petit cadeau. Solal des Solal. Il a le même prénom et le même nom. Enfin je me comprends. C’est une tradition, messieurs, dans cette grande famille. (Rictus respectueux à gauche pour les Solal et à droite méprisant pour toutes les autres familles.) Toutes les deux générations, le premier-né du chef de la famille s’appelle Solal des Solal. Cela me plaît. Moi je l’appelle Sol. C’est plus affectueux. Les autres ont pris l’habitude de l’appeler Sol aussi, ce qui ne me plaît point. Bref, tant pis. Et qui est le vrai papa de cet enfant ? C’est moi puisqu’il m’aime plus que son père. Ah ah, messieurs de la Richesse, à nous deux ! Saltiel vainqueur éternel ! [sep] — Imbécile ! articula-t-il. Ô idiote, je t’ai fait ce royal hommage d’être sincère et désarmé. Tu m’as vu à genoux, moi ! Le mépris que j’ai toujours éprouvé pour la femme, comme il était juste. Avant ma naissance, je détestais ces créatures de ...</td>\n",
       "      <td>COHEN Albert</td>\n",
       "      <td>1024</td>\n",
       "    </tr>\n",
       "    <tr>\n",
       "      <th>1</th>\n",
       "      <td>c’est d’être respectés à l’étranger Dreyfus a trahi c’est bien connu D’ailleurs le colonel Henry avait donné sa parole d’officier C’est tout dire Un colonel c’est quand même un colonel il n’y a pas à tortiller C’est de la peinture dégénérée comme dit mon fils Nous avons été trop bons Le docteur Schweitzer c’est le grand homme Moi j’ai sa photographie au-dessus de mon lit C’est quand même drôle qu’il ne soit pas de l’Académie J’ai fini le Blé qui lève je vous le rapporterai Est-ce que ça vous a plu J’en ai beaucoup joui c’est tellement beau Je vous en prêterai un autre de René Bazin aussi la Sarcelle bleue vous verrez c’est d’une finesse Socialiste et juif c’est du pareil au même Je vous dirai que je ne lis que les romans d’académiciens C’est toujours si bien écrit c’est le joli style J’aime bien Alphonse Daudet aussi c’est toujours fin Le docteur Schweitzer Un livre d’académicien c’est une garantie Une divorcée c’est toujours une divorcée C’est des livres qui vous font réfléchir Voilà qui vous élèvent l’âme Alors vous disiez des graines de lin plutôt Vous verrez c’est radical Des gens charmants Une grosse situation On a du plaisir à les entourer Vous les faites tremper la veille et vous les prenez le matin à jeun Les tenants et les aboutissants En tout cas moi ça me réussit mieux que les pruneaux Toutes les portes leur sont fermées Je vais essayer parce qu’à vrai dire ça aurait pu être mieux ce matin Mais non ce n’est pas sa femme Et puis la petite promenade après le déjeuner il n’y a rien de tel pour faciliter Oh l’alliance ça ne veut rien dire Avec ces diminutions je me trompe toujours La finance internationale est entre leurs mains Un bon coup de balai Les vieux domestiques d’autrefois qui étaient vraiment de la famille Qui mouraient dans la famille Moi je tiens toujours registre des invitations à rendre Mussolini a un si bon sourire Tandis que ces bonnes d’aujourd’hui Moi j’inscris toujours les menus pour ne pas risquer des répétitions avec les mêmes personnes Et il paraît que le Duce joue admirablement du violon Toutes des voleuses Comme c’est joli Au fond c’est un tendre Et exigeantes avec ça Les Italiens ont bien de la chance Un immeuble c’est quand même le meilleur placement Blum est de mèche avec Staline Entre Juifs on s’entend toujours Une belle propriété Des sentiments élevés Une réputation irréprochable Moi je préfère les pruneaux à jeun On dit que le pain d’épices aussi est très rafraîchissant Je vous dirai que j’aime mieux les lavements Ça m’a mis la puce à l’oreille Ils ne reçoivent pas n’importe qui Une belle âme Une jolie fortune Il a perdu sa situation par sa faute Nous avons tout de suite coupé les ponts Je dirais même une belle fortune Les parents sont des amis de trente ans À fuir comme la peste m’a dit la dame du consul Consul général ma chère c’est plus haut en grade Il faut être charitable que voulez-vous C’est excellent aussi contre la constipation Des protestants mais recevant et reçus Oui nous allons chaque année en Suisse On s’abstient d’aborder les sujets religieux voilà tout Il m’a dit Maman écoute-moi bien On ne peut pas ignorer des gens dont l’oncle est général à trois étoiles Les banques suisses sont discrètes La mère est charmante d’ailleurs c’est une demoiselle Bomboin Avec ces impôts on ne peut pas faire autrement c’est un cas de légitime défense Le docteur Schweitzer Imaginez-vous qu’il pèse déjà dix livres Il y avait foule au mariage Et puis ce qui m’a mis tout de suite en méfiance Il faut encore savoir si la famille est consentante Nous plaçons tout en francs suisses ou en dollars Nous plaçons toute notre confiance en Dieu Un faire-part gravé Mon mari aime beaucoup les actions Nestlé Ils ont reçu des cadeaux magnifiques Les actions au porteur c’est plus commode pour ce que vous savez Enfin vous aurez beau dire Les situations tout à fait en rapport Il y avait foule à l’enterrement ça faisait plaisir à voir Et comme ça vous évitez ces affreux droits de succession La probité en personne ...</td>\n",
       "      <td>COHEN Albert</td>\n",
       "      <td>1024</td>\n",
       "    </tr>\n",
       "    <tr>\n",
       "      <th>...</th>\n",
       "      <td>...</td>\n",
       "      <td>...</td>\n",
       "      <td>...</td>\n",
       "    </tr>\n",
       "    <tr>\n",
       "      <th>2538</th>\n",
       "      <td>puis, il toussa, car il s’était, par malheur, rencontré avec un piquant de hérisson dissimulé dans le gâteau. [sep] Ils marchaient, suivant le premier trottoir venu. Un petit nuage rose descendait de l’air et s’approchait d’eux. [sep] Ils entendirent, assez loin, une porte se fermer, et le marchand de remèdes surgit soudain derrière le comptoir. [sep] « Ça peut être pour beaucoup de choses… conclut-il. Mais une plante ordinaire ne résisterait pas longtemps à ça. [sep] « Vous êtes stupide, dit le marchand de remèdes en les raccompagnant à la porte. Je suis vieux et pas résistant. [sep] Colin resta debout jusqu’à ce qu’une sonnerie ordonnât à l’huissier de l’introduire dans le bureau du directeur. [sep] Elle se leva, tira le petit anneau de sa fermeture et la robe tomba par terre. C’était une robe de laine claire. [sep] – Il m’aimait beaucoup, dit Alise. Il croyait que les livres accepteraient de partager ! Mais ça ne se peut pas. [sep] – Ça vous regarde, dit Alise, je ne peux pas tout prendre en considération puisque je veux vous tuer avant tout. [sep] – Eh bien, dit Colin, nous voici presque en famille. Vous ne m’aviez pas dit que vous aviez une nièce, Nicolas. [sep] – Et trois mois… rectifia Nicolas. Si Monsieur n’a plus besoin de moi, je vais retourner surveiller ma cuisine. [sep] « Ne dites pas des choses comme ça. Je n’aime pas les garçons qui disent des horreurs devant les jeunes filles. [sep] – Je suis désolé, dit Colin. Je voudrais que tout aille bien pour vous. Vous devriez déplier votre serviette. » [sep] – Ses parents ne veulent pas, répondit Chick, et je ne veux pas qu’elle se fâche avec eux. Elle est trop jeune… [sep] La porte vitrée grinça faiblement. Nicolas réapparut. Sa casquette était de travers et son costume en désordre. [sep] – Non, dit le professeur, ce n’est pas grave, ça. Je vais vous donner une ordonnance, mais il faudra la suivre. [sep] « Ce n’est rien, dit le marchand. De temps en temps, le lapin l’emporte sur l’acier et il faut les supprimer. » [sep] – Je vais vous expliquer : Chick dépense tout son argent à acheter ce que vous faites, et il n’a plus d’argent. [sep] – Mais vous admettez bien que je ne puisse pas me rendre à une raison comme celle-là ? demanda Jean-Sol Partre. [sep] – Pourquoi, peste diable bouffre, dit Colin, me parlez-vous toujours perpétuellement à la troisième personne ? [sep] « Quand le camion des peintureurs arrivera, vous le ferez entrer jusqu’à l’autel, Joseph », dit-il au Chuiche. [sep] Le ciel restait bleu, les nuages légers et vagues. Il faisait froid sans exagération. L’hiver tirait à sa fin. [sep] L’église n’était pas très éloignée. La voiture décrivit une élégante cardioïde et s’arrêta en bas des marches. [sep] – Et toi ? demanda Colin qui glissa et se retrouva assis par terre, sans faire aucun effort pour se rattraper. [sep] « Voilà, expliqua-t-il, quand ils furent arrivés à la cuisine. Goûtez ça et dites-moi ce que vous en pensez. » [sep] – Je préfère… » commença Colin, et il se rappela Chloé qui attendait, et poussa le professeur dans la chambre. [sep] – Sale truc !… marmotta le professeur. Vous n’avez pas eu de chance. De cette taille-là, ce n’est pas courant. [sep] Isis le détacha de sa chevelure et le donna à Chloé qui l’approcha de ses lèvres et le respira à longs traits. [sep] – Il en est question à la page 638 de son Livre de cuisine. Je vais lire à Monsieur le passage en question. » [sep] Une fumée légère s’échappa du bec de la bouilloire et Nicolas alla ouvrir. Le concierge montait deux lettres. [sep] « Je la trouve jolie… murmura-t-il. On a envie de lui toucher la poitrine… Ça ne te fait pas cet effet-là ? » [sep] C’étaient des abricots fourrés aux dattes et aux pruneaux dans un sirop onctueux et caramélisé sur le dessus. [sep] Le professeur sortit de sa trousse un stéthoscope à amplificateur et appliqua la capsule sur le dos de Chloé. [sep] Colin s’assit à côté d’elle et mit un bras autour de son cou. Elle saisit sa main entre les siennes et gémit. [sep]...</td>\n",
       "      <td>VIAN Boris</td>\n",
       "      <td>1024</td>\n",
       "    </tr>\n",
       "    <tr>\n",
       "      <th>2539</th>\n",
       "      <td>sa reliure et Chick se rua en avant, lâchant le tue-fliques inutilisable. [sep] Il regardait ailleurs et semblait s’ennuyer. Le Religieux tournait une crécelle en hurlant des vers latins. [sep] « Voilà où passe l’argent, dit Colin. Ça doit leur coûter horriblement cher de nettoyer ça tous les soirs. [sep] – Ça ne fait rien, dit Chloé. Vous n’allez pas épiloguer sur ce ventre. Il est bien trop gros, d’ailleurs… [sep] – Bien sûr ! dit Nicolas. Je peux aussi. Mais dis-moi, poursuivit-il, si on se tutoyait, tous les quatre ? [sep] – Je ne sais pas, dit Nicolas. Mais, au toucher, je donnerais seize ans à l’une et dix-huit ans à l’autre. [sep] « Tu vois, dit Colin. C’est un grand spécialiste. Les autres maisons n’ont pas une si complète décoration. [sep] – Bien, dit Isis. Mais il n’est plus gai comme avant. Je t’apporterai d’autres fleurs quand je reviendrai. [sep] « C’est très différent, dit Colin. Cette fois, Chloé est morte… Je n’aime pas l’idée de cette boîte noire. [sep] – Monsieur m’excusera, dit Nicolas, mais j’en ferais autant. Monsieur est certainement assez beau garçon… [sep] « Ce n’est pas un joli nom, dit Colin. Mais toi tu es une souris et tu as bien de la moustache. Alors ? » [sep] Dès le début de la rue, la foule se bousculait pour accéder à la salle où Jean-Sol donnait sa conférence. [sep] – Elle a voulu nettoyer les carreaux du couloir, dit Nicolas. Elle y est arrivée, mais ça lui a fait mal. [sep] – Quoi ? dit Nicolas. Il y a juste le gaz et un frigiploque, comme partout. Qu’est-ce que vous imaginez ? [sep] – Je les ai fait retenir sur ceux de ma secrétaire, dit le sous-directeur. Ne vous inquiétez pas, patron. [sep] – Votre pianocktail est un truc fantastique, dit l’antiquitaire, je vous en offre trois mille doublezons. [sep] « J’ai eu peur, dit Colin. Un moment, tu as fait une fausse note. Heureusement, c’était dans l’harmonie. [sep] « Si je peux faire vingt pas sans marcher dessus, dit Colin, je n’aurai pas de bouton sur le nez demain… [sep] « Les boutiques des fleuristes n’ont jamais de rideaux de fer. Personne ne cherche à voler des fleurs. » [sep] Alise et Chick, cependant, se livraient à une remarquable démonstration de biglemoi dans le style nègre. [sep] Il avait l’air si désolé qu’elle sourit et le secoua un peu pour lui montrer qu’elle n’était pas fâchée. [sep] – Alors, détaille », dit Chloé, en se laissant aller dans les bras de Colin, câline comme une couleuvre. [sep] « Notre véhicule est passablement souillé, dit Nicolas. C’est toute cette boue que nous avons traversée. [sep] Le docteur se mit en route, mais dans le mauvais sens. Il paraissait assez peu maître de ses mouvements. [sep] – Ben, dit le docteur, j’aimerais avoir l’avis d’un confrère, alors j’ai demandé à Mangemanche de venir… [sep] « Encore, dit Chloé. Et pas seulement ma figure… Tu ne m’aimes plus alors ? Tu ne veux plus de femme ? » [sep] « Je reconnais que c’est une belle pièce, dit l’antiquitaire en tournant autour du pianocktail de Colin. [sep] – Je ne veux même pas envisager cette solution, dit le Religieux. Vous irez bien jusqu’à cent cinquante. [sep] Le Religieux quitta le premier l’église et retourna dans la sacristoche mettre de gros souliers à clous. [sep] – L’homme de la malle ? s’enquit Chick horrifié, et sa petite moustache noire s’abaissait tragiquement. [sep] – Évidemment, dit Chick. Vous êtes bâti comme Johnny Weissmüller. Mais ce n’est pas la règle générale ! [sep] « Je crois, dit-il, que les vingt-cinq mille doublezons que je t’ai promis ne dureront pas longtemps. » [sep] – C’est depuis quelques temps, dit Chloé. C’est depuis quelques temps. Il n’y a rien à faire. Essaie. » [sep] – Évidemment, dit l’antiquitaire. Écoutez, coupons la poire en deux : deux mille cinq cents doublezons. [sep] – Ah ? dit l’homme. Voilà un mois qu’elle passe sans résultats. C’est un travail assez dur, vous savez… [sep] – C’est tout ? dit Chick. Redonne-moi du pâté. J’espère qu’elle a une nombreuse famille dans le tuyau. [sep] – Oui, je ne re...</td>\n",
       "      <td>VIAN Boris</td>\n",
       "      <td>1024</td>\n",
       "    </tr>\n",
       "  </tbody>\n",
       "</table>\n",
       "<p>2540 rows × 3 columns</p>\n",
       "</div>"
      ],
      "text/plain": [
       "                                                                                                                                                                                                                                                                                                                                                                                                                                                                                                                                                                                                                                                                                                                                                                                                                                                                                                                                                                                                                                                                                                                                                                                                                                                                                                                                                                                                                                                                                                                                                                                                                                                                                                                                                                                                                                                                                                                                                                                                                                                                                                                                                                                                                                                                                                                                                                                                                                                                                                                                                                                                                                                                                                                                                                                                                                                                                                                                                                                                                                                                                                                                                                                                                                                                                                                                                                                                                                                                                                                                                                                                                                                                                                                                                                                                                                                                                                                                                                                                                                                                                                                                                                 text  \\\n",
       "0     persécutions au renoncement. Qui préférait la honte au renoncement. Qui préférait les massacres, l’ignominie même. Au Moyen Âge, tous ceux qui avaient préféré la mort à l’apostasie. À Carentan, à Blois, à Bray, à Nuremberg, à Verdun, à Worms, à Francfort, à Oppenheim, à Mayence, à Burgos, à Barcelone, à Tolède, à Trente et dans d’autres villes, tous ces vaillants qui n’avaient pas voulu renier leur Dieu, qui avaient mis le feu à leurs maisons et s’étaient lancés dans les flammes, en tenant leurs enfants dans leurs bras et en chantant des psaumes. Ces héros, ces humiliés pour Dieu, ces grands nostalgiques de Dieu, ces faméliques errants à travers les siècles. Ce peuple passionné et fort qui avait traversé l’histoire comme une épée et qui avait marqué la terre de sa marque royale et de son Dieu. Ce peuple sublime d’espoir à travers les déserts vers Chanaan et dans les captivités en tant de terres étrangères. Ce peuple qui avait tenu tête, dans sa sainte bourgade, à Rome, et qui avait fait trembler le plus puissant des empires. Ce peuple de l’Esprit. Ce peuple du demain éternel. [sep] Pauvres raisons. En réalité, elle aurait dû avoir le courage de partir. Qu’avait-elle fait en ces trente-deux ans de vie, à quoi avait-elle servi et pourquoi était-elle née ? Tout de même, elle avait été jeune et pleine de feu, elle aussi. Et maintenant, elle se laissait vivre et ne croyait à rien. Tout aurait pu être différent. Et encore, cet amour lui donnait-il de la joie ? Non, une affection sauvage et triste de bête désemparée. Oh, avoir un petit enfant à elle, sans toutes ces vilenies de lettres truquées. « Gâde, gâde, maman, le ouaou ouaou ! » Pourquoi Maussane avait-il si vite accepté que sa fille rejoignît Jacques à Versailles ? Évidemment, elle était là, elle, le chaperon. Ces scrupules de moralité lui seyaient à elle ! La maîtresse de Maussane vivait sans doute avec lui et il préférait éloigner sa fille. Comme tout était misérable. Ce vieux, qui mourrait dans cinq ou six ans, avait besoin d’une femme. Mais qu’avons-nous tous, pauvres humains, à vouloir nous serrer contre un autre corps ? Depuis la lettre, comme Aude la méprisait ! Elle se laissait traiter par cette petite comme une domestique commode. Autrefois, elle était fière et maintenant, elle suivait lâchement, sans bien savoir pourquoi. Pour surveiller sans doute, pour espionner. Tout de même comme cette petite avait su se reprendre. [sep] — Je ne suis pas beau évidemment, mais plus je me regarde plus je m’aperçois que je ne suis pas laid non plus. Il faut être impartial. Figure sympathique, vive, ouverte, franche et non dénuée d’intelligence et peut-être même de malice. Le rabbin mon beau-frère me fait des sermons parce que je me rase, il prétend qu’il y a impudeur à montrer sa face nue. J’ai l’âme aussi pure que vous, ô très magnifique Gamaliel Solal, ô éminentissime grand rabbin de la Communauté des Sept Îles Ioniennes avec siège à Céphalonie ! Et s’il me plaît à moi d’être pareil aux Saxons quant à la face ? Mais je ne veux pas me fâcher. Ah, le cadeau pour le neveu de mon âme, le petit cadeau. Solal des Solal. Il a le même prénom et le même nom. Enfin je me comprends. C’est une tradition, messieurs, dans cette grande famille. (Rictus respectueux à gauche pour les Solal et à droite méprisant pour toutes les autres familles.) Toutes les deux générations, le premier-né du chef de la famille s’appelle Solal des Solal. Cela me plaît. Moi je l’appelle Sol. C’est plus affectueux. Les autres ont pris l’habitude de l’appeler Sol aussi, ce qui ne me plaît point. Bref, tant pis. Et qui est le vrai papa de cet enfant ? C’est moi puisqu’il m’aime plus que son père. Ah ah, messieurs de la Richesse, à nous deux ! Saltiel vainqueur éternel ! [sep] — Imbécile ! articula-t-il. Ô idiote, je t’ai fait ce royal hommage d’être sincère et désarmé. Tu m’as vu à genoux, moi ! Le mépris que j’ai toujours éprouvé pour la femme, comme il était juste. Avant ma naissance, je détestais ces créatures de ...   \n",
       "1     c’est d’être respectés à l’étranger Dreyfus a trahi c’est bien connu D’ailleurs le colonel Henry avait donné sa parole d’officier C’est tout dire Un colonel c’est quand même un colonel il n’y a pas à tortiller C’est de la peinture dégénérée comme dit mon fils Nous avons été trop bons Le docteur Schweitzer c’est le grand homme Moi j’ai sa photographie au-dessus de mon lit C’est quand même drôle qu’il ne soit pas de l’Académie J’ai fini le Blé qui lève je vous le rapporterai Est-ce que ça vous a plu J’en ai beaucoup joui c’est tellement beau Je vous en prêterai un autre de René Bazin aussi la Sarcelle bleue vous verrez c’est d’une finesse Socialiste et juif c’est du pareil au même Je vous dirai que je ne lis que les romans d’académiciens C’est toujours si bien écrit c’est le joli style J’aime bien Alphonse Daudet aussi c’est toujours fin Le docteur Schweitzer Un livre d’académicien c’est une garantie Une divorcée c’est toujours une divorcée C’est des livres qui vous font réfléchir Voilà qui vous élèvent l’âme Alors vous disiez des graines de lin plutôt Vous verrez c’est radical Des gens charmants Une grosse situation On a du plaisir à les entourer Vous les faites tremper la veille et vous les prenez le matin à jeun Les tenants et les aboutissants En tout cas moi ça me réussit mieux que les pruneaux Toutes les portes leur sont fermées Je vais essayer parce qu’à vrai dire ça aurait pu être mieux ce matin Mais non ce n’est pas sa femme Et puis la petite promenade après le déjeuner il n’y a rien de tel pour faciliter Oh l’alliance ça ne veut rien dire Avec ces diminutions je me trompe toujours La finance internationale est entre leurs mains Un bon coup de balai Les vieux domestiques d’autrefois qui étaient vraiment de la famille Qui mouraient dans la famille Moi je tiens toujours registre des invitations à rendre Mussolini a un si bon sourire Tandis que ces bonnes d’aujourd’hui Moi j’inscris toujours les menus pour ne pas risquer des répétitions avec les mêmes personnes Et il paraît que le Duce joue admirablement du violon Toutes des voleuses Comme c’est joli Au fond c’est un tendre Et exigeantes avec ça Les Italiens ont bien de la chance Un immeuble c’est quand même le meilleur placement Blum est de mèche avec Staline Entre Juifs on s’entend toujours Une belle propriété Des sentiments élevés Une réputation irréprochable Moi je préfère les pruneaux à jeun On dit que le pain d’épices aussi est très rafraîchissant Je vous dirai que j’aime mieux les lavements Ça m’a mis la puce à l’oreille Ils ne reçoivent pas n’importe qui Une belle âme Une jolie fortune Il a perdu sa situation par sa faute Nous avons tout de suite coupé les ponts Je dirais même une belle fortune Les parents sont des amis de trente ans À fuir comme la peste m’a dit la dame du consul Consul général ma chère c’est plus haut en grade Il faut être charitable que voulez-vous C’est excellent aussi contre la constipation Des protestants mais recevant et reçus Oui nous allons chaque année en Suisse On s’abstient d’aborder les sujets religieux voilà tout Il m’a dit Maman écoute-moi bien On ne peut pas ignorer des gens dont l’oncle est général à trois étoiles Les banques suisses sont discrètes La mère est charmante d’ailleurs c’est une demoiselle Bomboin Avec ces impôts on ne peut pas faire autrement c’est un cas de légitime défense Le docteur Schweitzer Imaginez-vous qu’il pèse déjà dix livres Il y avait foule au mariage Et puis ce qui m’a mis tout de suite en méfiance Il faut encore savoir si la famille est consentante Nous plaçons tout en francs suisses ou en dollars Nous plaçons toute notre confiance en Dieu Un faire-part gravé Mon mari aime beaucoup les actions Nestlé Ils ont reçu des cadeaux magnifiques Les actions au porteur c’est plus commode pour ce que vous savez Enfin vous aurez beau dire Les situations tout à fait en rapport Il y avait foule à l’enterrement ça faisait plaisir à voir Et comme ça vous évitez ces affreux droits de succession La probité en personne ...   \n",
       "...                                                                                                                                                                                                                                                                                                                                                                                                                                                                                                                                                                                                                                                                                                                                                                                                                                                                                                                                                                                                                                                                                                                                                                                                                                                                                                                                                                                                                                                                                                                                                                                                                                                                                                                                                                                                                                                                                                                                                                                                                                                                                                                                                                                                                                                                                                                                                                                                                                                                                                                                                                                                                                                                                                                                                                                                                                                                                                                                                                                                                                                                                                                                                                                                                                                                                                                                                                                                                                                                                                                                                                                                                                                                                                                                                                                                                                                                                                                                                                                                                                                                                                                                                               ...   \n",
       "2538  puis, il toussa, car il s’était, par malheur, rencontré avec un piquant de hérisson dissimulé dans le gâteau. [sep] Ils marchaient, suivant le premier trottoir venu. Un petit nuage rose descendait de l’air et s’approchait d’eux. [sep] Ils entendirent, assez loin, une porte se fermer, et le marchand de remèdes surgit soudain derrière le comptoir. [sep] « Ça peut être pour beaucoup de choses… conclut-il. Mais une plante ordinaire ne résisterait pas longtemps à ça. [sep] « Vous êtes stupide, dit le marchand de remèdes en les raccompagnant à la porte. Je suis vieux et pas résistant. [sep] Colin resta debout jusqu’à ce qu’une sonnerie ordonnât à l’huissier de l’introduire dans le bureau du directeur. [sep] Elle se leva, tira le petit anneau de sa fermeture et la robe tomba par terre. C’était une robe de laine claire. [sep] – Il m’aimait beaucoup, dit Alise. Il croyait que les livres accepteraient de partager ! Mais ça ne se peut pas. [sep] – Ça vous regarde, dit Alise, je ne peux pas tout prendre en considération puisque je veux vous tuer avant tout. [sep] – Eh bien, dit Colin, nous voici presque en famille. Vous ne m’aviez pas dit que vous aviez une nièce, Nicolas. [sep] – Et trois mois… rectifia Nicolas. Si Monsieur n’a plus besoin de moi, je vais retourner surveiller ma cuisine. [sep] « Ne dites pas des choses comme ça. Je n’aime pas les garçons qui disent des horreurs devant les jeunes filles. [sep] – Je suis désolé, dit Colin. Je voudrais que tout aille bien pour vous. Vous devriez déplier votre serviette. » [sep] – Ses parents ne veulent pas, répondit Chick, et je ne veux pas qu’elle se fâche avec eux. Elle est trop jeune… [sep] La porte vitrée grinça faiblement. Nicolas réapparut. Sa casquette était de travers et son costume en désordre. [sep] – Non, dit le professeur, ce n’est pas grave, ça. Je vais vous donner une ordonnance, mais il faudra la suivre. [sep] « Ce n’est rien, dit le marchand. De temps en temps, le lapin l’emporte sur l’acier et il faut les supprimer. » [sep] – Je vais vous expliquer : Chick dépense tout son argent à acheter ce que vous faites, et il n’a plus d’argent. [sep] – Mais vous admettez bien que je ne puisse pas me rendre à une raison comme celle-là ? demanda Jean-Sol Partre. [sep] – Pourquoi, peste diable bouffre, dit Colin, me parlez-vous toujours perpétuellement à la troisième personne ? [sep] « Quand le camion des peintureurs arrivera, vous le ferez entrer jusqu’à l’autel, Joseph », dit-il au Chuiche. [sep] Le ciel restait bleu, les nuages légers et vagues. Il faisait froid sans exagération. L’hiver tirait à sa fin. [sep] L’église n’était pas très éloignée. La voiture décrivit une élégante cardioïde et s’arrêta en bas des marches. [sep] – Et toi ? demanda Colin qui glissa et se retrouva assis par terre, sans faire aucun effort pour se rattraper. [sep] « Voilà, expliqua-t-il, quand ils furent arrivés à la cuisine. Goûtez ça et dites-moi ce que vous en pensez. » [sep] – Je préfère… » commença Colin, et il se rappela Chloé qui attendait, et poussa le professeur dans la chambre. [sep] – Sale truc !… marmotta le professeur. Vous n’avez pas eu de chance. De cette taille-là, ce n’est pas courant. [sep] Isis le détacha de sa chevelure et le donna à Chloé qui l’approcha de ses lèvres et le respira à longs traits. [sep] – Il en est question à la page 638 de son Livre de cuisine. Je vais lire à Monsieur le passage en question. » [sep] Une fumée légère s’échappa du bec de la bouilloire et Nicolas alla ouvrir. Le concierge montait deux lettres. [sep] « Je la trouve jolie… murmura-t-il. On a envie de lui toucher la poitrine… Ça ne te fait pas cet effet-là ? » [sep] C’étaient des abricots fourrés aux dattes et aux pruneaux dans un sirop onctueux et caramélisé sur le dessus. [sep] Le professeur sortit de sa trousse un stéthoscope à amplificateur et appliqua la capsule sur le dos de Chloé. [sep] Colin s’assit à côté d’elle et mit un bras autour de son cou. Elle saisit sa main entre les siennes et gémit. [sep]...   \n",
       "2539  sa reliure et Chick se rua en avant, lâchant le tue-fliques inutilisable. [sep] Il regardait ailleurs et semblait s’ennuyer. Le Religieux tournait une crécelle en hurlant des vers latins. [sep] « Voilà où passe l’argent, dit Colin. Ça doit leur coûter horriblement cher de nettoyer ça tous les soirs. [sep] – Ça ne fait rien, dit Chloé. Vous n’allez pas épiloguer sur ce ventre. Il est bien trop gros, d’ailleurs… [sep] – Bien sûr ! dit Nicolas. Je peux aussi. Mais dis-moi, poursuivit-il, si on se tutoyait, tous les quatre ? [sep] – Je ne sais pas, dit Nicolas. Mais, au toucher, je donnerais seize ans à l’une et dix-huit ans à l’autre. [sep] « Tu vois, dit Colin. C’est un grand spécialiste. Les autres maisons n’ont pas une si complète décoration. [sep] – Bien, dit Isis. Mais il n’est plus gai comme avant. Je t’apporterai d’autres fleurs quand je reviendrai. [sep] « C’est très différent, dit Colin. Cette fois, Chloé est morte… Je n’aime pas l’idée de cette boîte noire. [sep] – Monsieur m’excusera, dit Nicolas, mais j’en ferais autant. Monsieur est certainement assez beau garçon… [sep] « Ce n’est pas un joli nom, dit Colin. Mais toi tu es une souris et tu as bien de la moustache. Alors ? » [sep] Dès le début de la rue, la foule se bousculait pour accéder à la salle où Jean-Sol donnait sa conférence. [sep] – Elle a voulu nettoyer les carreaux du couloir, dit Nicolas. Elle y est arrivée, mais ça lui a fait mal. [sep] – Quoi ? dit Nicolas. Il y a juste le gaz et un frigiploque, comme partout. Qu’est-ce que vous imaginez ? [sep] – Je les ai fait retenir sur ceux de ma secrétaire, dit le sous-directeur. Ne vous inquiétez pas, patron. [sep] – Votre pianocktail est un truc fantastique, dit l’antiquitaire, je vous en offre trois mille doublezons. [sep] « J’ai eu peur, dit Colin. Un moment, tu as fait une fausse note. Heureusement, c’était dans l’harmonie. [sep] « Si je peux faire vingt pas sans marcher dessus, dit Colin, je n’aurai pas de bouton sur le nez demain… [sep] « Les boutiques des fleuristes n’ont jamais de rideaux de fer. Personne ne cherche à voler des fleurs. » [sep] Alise et Chick, cependant, se livraient à une remarquable démonstration de biglemoi dans le style nègre. [sep] Il avait l’air si désolé qu’elle sourit et le secoua un peu pour lui montrer qu’elle n’était pas fâchée. [sep] – Alors, détaille », dit Chloé, en se laissant aller dans les bras de Colin, câline comme une couleuvre. [sep] « Notre véhicule est passablement souillé, dit Nicolas. C’est toute cette boue que nous avons traversée. [sep] Le docteur se mit en route, mais dans le mauvais sens. Il paraissait assez peu maître de ses mouvements. [sep] – Ben, dit le docteur, j’aimerais avoir l’avis d’un confrère, alors j’ai demandé à Mangemanche de venir… [sep] « Encore, dit Chloé. Et pas seulement ma figure… Tu ne m’aimes plus alors ? Tu ne veux plus de femme ? » [sep] « Je reconnais que c’est une belle pièce, dit l’antiquitaire en tournant autour du pianocktail de Colin. [sep] – Je ne veux même pas envisager cette solution, dit le Religieux. Vous irez bien jusqu’à cent cinquante. [sep] Le Religieux quitta le premier l’église et retourna dans la sacristoche mettre de gros souliers à clous. [sep] – L’homme de la malle ? s’enquit Chick horrifié, et sa petite moustache noire s’abaissait tragiquement. [sep] – Évidemment, dit Chick. Vous êtes bâti comme Johnny Weissmüller. Mais ce n’est pas la règle générale ! [sep] « Je crois, dit-il, que les vingt-cinq mille doublezons que je t’ai promis ne dureront pas longtemps. » [sep] – C’est depuis quelques temps, dit Chloé. C’est depuis quelques temps. Il n’y a rien à faire. Essaie. » [sep] – Évidemment, dit l’antiquitaire. Écoutez, coupons la poire en deux : deux mille cinq cents doublezons. [sep] – Ah ? dit l’homme. Voilà un mois qu’elle passe sans résultats. C’est un travail assez dur, vous savez… [sep] – C’est tout ? dit Chick. Redonne-moi du pâté. J’espère qu’elle a une nombreuse famille dans le tuyau. [sep] – Oui, je ne re...   \n",
       "\n",
       "            author  taille  \n",
       "0     COHEN Albert    1024  \n",
       "1     COHEN Albert    1024  \n",
       "...            ...     ...  \n",
       "2538    VIAN Boris    1024  \n",
       "2539    VIAN Boris    1024  \n",
       "\n",
       "[2540 rows x 3 columns]"
      ]
     },
     "execution_count": 77,
     "metadata": {},
     "output_type": "execute_result"
    }
   ],
   "source": [
    "df_downsampled"
   ]
  },
  {
   "cell_type": "code",
   "execution_count": 78,
   "id": "d633480b",
   "metadata": {},
   "outputs": [],
   "source": [
    "X_0pre = df_downsampled[\"text\"].to_numpy()\n",
    "y_0pre = df_downsampled[\"author\"].to_numpy()"
   ]
  },
  {
   "cell_type": "code",
   "execution_count": 79,
   "id": "272b2e67",
   "metadata": {},
   "outputs": [
    {
     "data": {
      "text/plain": [
       "['y_0pre_1024.pkl']"
      ]
     },
     "execution_count": 79,
     "metadata": {},
     "output_type": "execute_result"
    }
   ],
   "source": [
    "import joblib\n",
    "\n",
    "joblib.dump(X_0pre,f\"X_0pre_{seq_len}.pkl\")\n",
    "joblib.dump(y_0pre,f\"y_0pre_{seq_len}.pkl\")"
   ]
  },
  {
   "cell_type": "code",
   "execution_count": null,
   "id": "14bc5d62",
   "metadata": {},
   "outputs": [],
   "source": [
    "def dict_proba(pred):\n",
    "  \n",
    "  list_dicts = []\n",
    "  authors = cat_transformer.classes_ #label encoder\n",
    "\n",
    "  for probas in pred:\n",
    "    i = 0\n",
    "    dict = {}\n",
    "    for proba in probas:\n",
    "      dict[authors[i]] = round(proba,4)\n",
    "      i = i+1\n",
    "    list_dicts.append(dict)\n",
    "  \n",
    "  return list_dicts"
   ]
  },
  {
   "cell_type": "code",
   "execution_count": 81,
   "id": "c5dbcff1",
   "metadata": {},
   "outputs": [],
   "source": [
    "proba = [1.8824009e-07, 3.3401844e-01, 5.0492155e-05, 3.3612199e-05, 7.3939465e-02,\n",
    " 1.1347712e-01, 7.5885514e-04, 2.7993086e-01, 4.8975877e-02, 1.8440338e-04,\n",
    " 2.5028788e-02, 4.6786014e-02, 2.0136466e-02 ,3.5923633e-05, 4.6142832e-05,\n",
    " 9.3711233e-06, 1.8443435e-02, 8.6399080e-04, 3.6973104e-02, 3.0744291e-04]"
   ]
  },
  {
   "cell_type": "code",
   "execution_count": 82,
   "id": "dd2ff669",
   "metadata": {},
   "outputs": [
    {
     "data": {
      "text/plain": [
       "[1.8824009e-07,\n",
       " 9.3711233e-06,\n",
       " 3.3612199e-05,\n",
       " 3.5923633e-05,\n",
       " 4.6142832e-05,\n",
       " 5.0492155e-05,\n",
       " 0.00018440338,\n",
       " 0.00030744291,\n",
       " 0.00075885514,\n",
       " 0.0008639908,\n",
       " 0.018443435,\n",
       " 0.020136466,\n",
       " 0.025028788,\n",
       " 0.036973104,\n",
       " 0.046786014,\n",
       " 0.048975877,\n",
       " 0.073939465,\n",
       " 0.11347712,\n",
       " 0.27993086,\n",
       " 0.33401844]"
      ]
     },
     "execution_count": 82,
     "metadata": {},
     "output_type": "execute_result"
    }
   ],
   "source": []
  },
  {
   "cell_type": "code",
   "execution_count": 86,
   "id": "105ae35a",
   "metadata": {},
   "outputs": [
    {
     "data": {
      "text/plain": [
       "[1.8824009e-07, 9.3711233e-06, 3.3612199e-05]"
      ]
     },
     "execution_count": 86,
     "metadata": {},
     "output_type": "execute_result"
    }
   ],
   "source": [
    "sorted(proba)[0:3]"
   ]
  },
  {
   "cell_type": "code",
   "execution_count": null,
   "id": "2df6d071",
   "metadata": {},
   "outputs": [],
   "source": []
  }
 ],
 "metadata": {
  "kernelspec": {
   "display_name": "Python 3 (ipykernel)",
   "language": "python",
   "name": "python3"
  },
  "language_info": {
   "codemirror_mode": {
    "name": "ipython",
    "version": 3
   },
   "file_extension": ".py",
   "mimetype": "text/x-python",
   "name": "python",
   "nbconvert_exporter": "python",
   "pygments_lexer": "ipython3",
   "version": "3.8.6"
  },
  "toc": {
   "base_numbering": 1,
   "nav_menu": {},
   "number_sections": true,
   "sideBar": true,
   "skip_h1_title": false,
   "title_cell": "Table of Contents",
   "title_sidebar": "Contents",
   "toc_cell": false,
   "toc_position": {},
   "toc_section_display": true,
   "toc_window_display": false
  },
  "varInspector": {
   "cols": {
    "lenName": 16,
    "lenType": 16,
    "lenVar": 40
   },
   "kernels_config": {
    "python": {
     "delete_cmd_postfix": "",
     "delete_cmd_prefix": "del ",
     "library": "var_list.py",
     "varRefreshCmd": "print(var_dic_list())"
    },
    "r": {
     "delete_cmd_postfix": ") ",
     "delete_cmd_prefix": "rm(",
     "library": "var_list.r",
     "varRefreshCmd": "cat(var_dic_list()) "
    }
   },
   "types_to_exclude": [
    "module",
    "function",
    "builtin_function_or_method",
    "instance",
    "_Feature"
   ],
   "window_display": false
  }
 },
 "nbformat": 4,
 "nbformat_minor": 5
}
