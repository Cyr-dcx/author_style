{
 "cells": [
  {
   "cell_type": "code",
   "execution_count": 1,
   "id": "2810d99d",
   "metadata": {},
   "outputs": [],
   "source": [
    "from author_style.utils import *\n",
    "import tensorflow"
   ]
  },
  {
   "cell_type": "code",
   "execution_count": 2,
   "id": "cf471cb3",
   "metadata": {},
   "outputs": [],
   "source": [
    "import string\n",
    "from nltk.corpus import stopwords\n",
    "from nltk.tokenize import word_tokenize\n",
    "from nltk.stem import WordNetLemmatizer\n",
    "from sklearn.feature_extraction.text import CountVectorizer, TfidfVectorizer\n",
    "import re\n",
    "import unidecode\n",
    "#import spacy\n",
    "import numpy as np\n",
    "import pandas as pd"
   ]
  },
  {
   "cell_type": "code",
   "execution_count": 3,
   "id": "1492f818",
   "metadata": {},
   "outputs": [],
   "source": [
    "clean_texts()"
   ]
  },
  {
   "cell_type": "code",
   "execution_count": 4,
   "id": "eb2456f1",
   "metadata": {},
   "outputs": [],
   "source": [
    "df = csv_to_dataframes(output=\"p\")"
   ]
  },
  {
   "cell_type": "code",
   "execution_count": 5,
   "id": "ce252629",
   "metadata": {},
   "outputs": [
    {
     "data": {
      "text/html": [
       "<div>\n",
       "<style scoped>\n",
       "    .dataframe tbody tr th:only-of-type {\n",
       "        vertical-align: middle;\n",
       "    }\n",
       "\n",
       "    .dataframe tbody tr th {\n",
       "        vertical-align: top;\n",
       "    }\n",
       "\n",
       "    .dataframe thead th {\n",
       "        text-align: right;\n",
       "    }\n",
       "</style>\n",
       "<table border=\"1\" class=\"dataframe\">\n",
       "  <thead>\n",
       "    <tr style=\"text-align: right;\">\n",
       "      <th></th>\n",
       "      <th>text</th>\n",
       "      <th>author</th>\n",
       "      <th>title</th>\n",
       "      <th>book_date</th>\n",
       "    </tr>\n",
       "  </thead>\n",
       "  <tbody>\n",
       "    <tr>\n",
       "      <th>0</th>\n",
       "      <td>Pendant que Nous franchissions la porte du Nor...</td>\n",
       "      <td>GUTH Paul</td>\n",
       "      <td>Si j_étais le Bon Dieu</td>\n",
       "      <td>1987</td>\n",
       "    </tr>\n",
       "    <tr>\n",
       "      <th>1</th>\n",
       "      <td>« En 486 après Jésus-Christ, les troupes de Sy...</td>\n",
       "      <td>GUTH Paul</td>\n",
       "      <td>Si j_étais le Bon Dieu</td>\n",
       "      <td>1987</td>\n",
       "    </tr>\n",
       "    <tr>\n",
       "      <th>2</th>\n",
       "      <td>Van Eyck présenta La Vierge au chanoine Van de...</td>\n",
       "      <td>GUTH Paul</td>\n",
       "      <td>Si j_étais le Bon Dieu</td>\n",
       "      <td>1987</td>\n",
       "    </tr>\n",
       "    <tr>\n",
       "      <th>3</th>\n",
       "      <td>Parce que Je suis le Tout-Puissant, ne me trai...</td>\n",
       "      <td>GUTH Paul</td>\n",
       "      <td>Si j_étais le Bon Dieu</td>\n",
       "      <td>1987</td>\n",
       "    </tr>\n",
       "    <tr>\n",
       "      <th>4</th>\n",
       "      <td>Puisqu’il en est ainsi, La Fontaine aura son t...</td>\n",
       "      <td>GUTH Paul</td>\n",
       "      <td>Si j_étais le Bon Dieu</td>\n",
       "      <td>1987</td>\n",
       "    </tr>\n",
       "  </tbody>\n",
       "</table>\n",
       "</div>"
      ],
      "text/plain": [
       "                                                text     author  \\\n",
       "0  Pendant que Nous franchissions la porte du Nor...  GUTH Paul   \n",
       "1  « En 486 après Jésus-Christ, les troupes de Sy...  GUTH Paul   \n",
       "2  Van Eyck présenta La Vierge au chanoine Van de...  GUTH Paul   \n",
       "3  Parce que Je suis le Tout-Puissant, ne me trai...  GUTH Paul   \n",
       "4  Puisqu’il en est ainsi, La Fontaine aura son t...  GUTH Paul   \n",
       "\n",
       "                     title book_date  \n",
       "0  Si j_étais le Bon Dieu      1987  \n",
       "1  Si j_étais le Bon Dieu      1987  \n",
       "2  Si j_étais le Bon Dieu      1987  \n",
       "3  Si j_étais le Bon Dieu      1987  \n",
       "4  Si j_étais le Bon Dieu      1987  "
      ]
     },
     "execution_count": 5,
     "metadata": {},
     "output_type": "execute_result"
    }
   ],
   "source": [
    "df.head()"
   ]
  },
  {
   "cell_type": "code",
   "execution_count": 5,
   "id": "38c7d265",
   "metadata": {},
   "outputs": [],
   "source": [
    "data = df[[\"text\",\"author\"]]"
   ]
  },
  {
   "cell_type": "raw",
   "id": "f116ebe1",
   "metadata": {},
   "source": [
    "def preprocess(text,\n",
    "               punctuation=False,\n",
    "               lower_case=False,\n",
    "               remove_stopwords=False,\n",
    "               accents=False,\n",
    "               numbers=False,\n",
    "               lemmatize=False,\n",
    "               language='french'):\n",
    "\n",
    "    if numbers:\n",
    "        text = ''.join(char for char in text if not char.isdigit())\n",
    "    if punctuation:\n",
    "        text = ''.join(char for char in text if not char in string.punctuation)\n",
    "    if lower_case:\n",
    "        text = text.lower()\n",
    "        text = text.replace(\"*\",\"\")\n",
    "    if accents:\n",
    "        text = unidecode.unidecode(text)\n",
    "    if remove_stopwords:\n",
    "        stop_words = set(stopwords.words(language))\n",
    "        word_tokens = word_tokenize(text)\n",
    "        text = ' '.join(char for char in word_tokens if not char in stop_words)\n",
    "    if lemmatize:\n",
    "        text = word_tokenize(text)\n",
    "        lemmatizer = WordNetLemmatizer()\n",
    "        lemmatized = [lemmatizer.lemmatize(char) for char in text]\n",
    "        text = ' '.join(lemmatized)\n",
    "    return text"
   ]
  },
  {
   "cell_type": "raw",
   "id": "21d5dc51",
   "metadata": {},
   "source": [
    "data[\"text\"] = data[\"text\"].apply(preprocess)"
   ]
  },
  {
   "cell_type": "code",
   "execution_count": 6,
   "id": "68253132",
   "metadata": {},
   "outputs": [
    {
     "data": {
      "text/plain": [
       "(69654, 2)"
      ]
     },
     "execution_count": 6,
     "metadata": {},
     "output_type": "execute_result"
    }
   ],
   "source": [
    "data.shape"
   ]
  },
  {
   "cell_type": "code",
   "execution_count": 7,
   "id": "d46fc7dc",
   "metadata": {},
   "outputs": [
    {
     "name": "stderr",
     "output_type": "stream",
     "text": [
      "/var/folders/t8/clhcfp2n5sgcs4b81syf8xym0000gp/T/ipykernel_14838/92849788.py:1: SettingWithCopyWarning: \n",
      "A value is trying to be set on a copy of a slice from a DataFrame.\n",
      "Try using .loc[row_indexer,col_indexer] = value instead\n",
      "\n",
      "See the caveats in the documentation: https://pandas.pydata.org/pandas-docs/stable/user_guide/indexing.html#returning-a-view-versus-a-copy\n",
      "  data[\"taille\"] = data.text.apply(lambda x : len(x))\n"
     ]
    }
   ],
   "source": [
    "data[\"taille\"] = data.text.apply(lambda x : len(x))"
   ]
  },
  {
   "cell_type": "code",
   "execution_count": 8,
   "id": "eb218813",
   "metadata": {},
   "outputs": [
    {
     "data": {
      "text/html": [
       "<div>\n",
       "<style scoped>\n",
       "    .dataframe tbody tr th:only-of-type {\n",
       "        vertical-align: middle;\n",
       "    }\n",
       "\n",
       "    .dataframe tbody tr th {\n",
       "        vertical-align: top;\n",
       "    }\n",
       "\n",
       "    .dataframe thead th {\n",
       "        text-align: right;\n",
       "    }\n",
       "</style>\n",
       "<table border=\"1\" class=\"dataframe\">\n",
       "  <thead>\n",
       "    <tr style=\"text-align: right;\">\n",
       "      <th></th>\n",
       "      <th>text</th>\n",
       "      <th>author</th>\n",
       "      <th>taille</th>\n",
       "    </tr>\n",
       "  </thead>\n",
       "  <tbody>\n",
       "    <tr>\n",
       "      <th>0</th>\n",
       "      <td>Pendant que Nous franchissions la porte du Nor...</td>\n",
       "      <td>GUTH Paul</td>\n",
       "      <td>1482</td>\n",
       "    </tr>\n",
       "    <tr>\n",
       "      <th>1</th>\n",
       "      <td>« En 486 après Jésus-Christ, les troupes de Sy...</td>\n",
       "      <td>GUTH Paul</td>\n",
       "      <td>1429</td>\n",
       "    </tr>\n",
       "    <tr>\n",
       "      <th>2</th>\n",
       "      <td>Van Eyck présenta La Vierge au chanoine Van de...</td>\n",
       "      <td>GUTH Paul</td>\n",
       "      <td>1402</td>\n",
       "    </tr>\n",
       "    <tr>\n",
       "      <th>3</th>\n",
       "      <td>Parce que Je suis le Tout-Puissant, ne me trai...</td>\n",
       "      <td>GUTH Paul</td>\n",
       "      <td>1359</td>\n",
       "    </tr>\n",
       "    <tr>\n",
       "      <th>4</th>\n",
       "      <td>Puisqu’il en est ainsi, La Fontaine aura son t...</td>\n",
       "      <td>GUTH Paul</td>\n",
       "      <td>1353</td>\n",
       "    </tr>\n",
       "    <tr>\n",
       "      <th>...</th>\n",
       "      <td>...</td>\n",
       "      <td>...</td>\n",
       "      <td>...</td>\n",
       "    </tr>\n",
       "    <tr>\n",
       "      <th>69649</th>\n",
       "      <td>Reste la possibilité d’aller faire un tour dan...</td>\n",
       "      <td>ECHENOZ Jean</td>\n",
       "      <td>366</td>\n",
       "    </tr>\n",
       "    <tr>\n",
       "      <th>69650</th>\n",
       "      <td>Technique n° 3 : s’imposer une énumération. Se...</td>\n",
       "      <td>ECHENOZ Jean</td>\n",
       "      <td>349</td>\n",
       "    </tr>\n",
       "    <tr>\n",
       "      <th>69651</th>\n",
       "      <td>Le lendemain matin, il se lève tard, traînant ...</td>\n",
       "      <td>ECHENOZ Jean</td>\n",
       "      <td>322</td>\n",
       "    </tr>\n",
       "    <tr>\n",
       "      <th>69652</th>\n",
       "      <td>Il part en direction de la gare maritime du Ha...</td>\n",
       "      <td>ECHENOZ Jean</td>\n",
       "      <td>193</td>\n",
       "    </tr>\n",
       "    <tr>\n",
       "      <th>69653</th>\n",
       "      <td>Technique n° 4 : Bromure de potassium, Laudanu...</td>\n",
       "      <td>ECHENOZ Jean</td>\n",
       "      <td>110</td>\n",
       "    </tr>\n",
       "  </tbody>\n",
       "</table>\n",
       "<p>69654 rows × 3 columns</p>\n",
       "</div>"
      ],
      "text/plain": [
       "                                                    text        author  taille\n",
       "0      Pendant que Nous franchissions la porte du Nor...     GUTH Paul    1482\n",
       "1      « En 486 après Jésus-Christ, les troupes de Sy...     GUTH Paul    1429\n",
       "2      Van Eyck présenta La Vierge au chanoine Van de...     GUTH Paul    1402\n",
       "3      Parce que Je suis le Tout-Puissant, ne me trai...     GUTH Paul    1359\n",
       "4      Puisqu’il en est ainsi, La Fontaine aura son t...     GUTH Paul    1353\n",
       "...                                                  ...           ...     ...\n",
       "69649  Reste la possibilité d’aller faire un tour dan...  ECHENOZ Jean     366\n",
       "69650  Technique n° 3 : s’imposer une énumération. Se...  ECHENOZ Jean     349\n",
       "69651  Le lendemain matin, il se lève tard, traînant ...  ECHENOZ Jean     322\n",
       "69652  Il part en direction de la gare maritime du Ha...  ECHENOZ Jean     193\n",
       "69653  Technique n° 4 : Bromure de potassium, Laudanu...  ECHENOZ Jean     110\n",
       "\n",
       "[69654 rows x 3 columns]"
      ]
     },
     "execution_count": 8,
     "metadata": {},
     "output_type": "execute_result"
    }
   ],
   "source": [
    "data"
   ]
  },
  {
   "cell_type": "code",
   "execution_count": 9,
   "id": "bc070aad",
   "metadata": {},
   "outputs": [
    {
     "data": {
      "text/plain": [
       "<AxesSubplot:>"
      ]
     },
     "execution_count": 9,
     "metadata": {},
     "output_type": "execute_result"
    },
    {
     "data": {
      "image/png": "[encoded data removed]",
      "text/plain": [
       "<Figure size 432x288 with 1 Axes>"
      ]
     },
     "metadata": {
      "needs_background": "light"
     },
     "output_type": "display_data"
    }
   ],
   "source": [
    "df.author.value_counts().plot(kind=\"bar\")"
   ]
  },
  {
   "cell_type": "code",
   "execution_count": 10,
   "id": "953a9c46",
   "metadata": {},
   "outputs": [
    {
     "data": {
      "text/plain": [
       "GARY Romain               6086\n",
       "COHEN Albert              5646\n",
       "JOFFO Joseph              5540\n",
       "KESSEL Joseph             5259\n",
       "VIAN Boris                4861\n",
       "GUTH Paul                 4250\n",
       "DEBEAUVOIR Simone         4133\n",
       "BAZIN Herve               3887\n",
       "SCHOENDOERFFER Pierre     3758\n",
       "MODIANO Patrick           3661\n",
       "CELINE Louis-Ferdinand    3498\n",
       "DURAS Marguerite          3387\n",
       "QUEFFELEC Henri           2786\n",
       "QUEFFELEC Yann            2636\n",
       "GIONO Jean                2635\n",
       "ECHENOZ Jean              1849\n",
       "PEREC Georges             1739\n",
       "CAMUS Albert              1545\n",
       "SARRAUTE Nathalie         1450\n",
       "YOURCENAR Marguerite      1048\n",
       "Name: author, dtype: int64"
      ]
     },
     "execution_count": 10,
     "metadata": {},
     "output_type": "execute_result"
    }
   ],
   "source": [
    "df.author.value_counts()"
   ]
  },
  {
   "cell_type": "code",
   "execution_count": 11,
   "id": "9e11d032",
   "metadata": {},
   "outputs": [],
   "source": [
    "min_lines = df.author.value_counts().min()\n",
    "last_author = df.author.value_counts().index[-1]\n",
    "author_without_last = df.author.value_counts().index[:-1].to_list()"
   ]
  },
  {
   "cell_type": "code",
   "execution_count": 12,
   "id": "cdcddd12",
   "metadata": {},
   "outputs": [
    {
     "data": {
      "text/plain": [
       "['GARY Romain',\n",
       " 'COHEN Albert',\n",
       " 'JOFFO Joseph',\n",
       " 'KESSEL Joseph',\n",
       " 'VIAN Boris',\n",
       " 'GUTH Paul',\n",
       " 'DEBEAUVOIR Simone',\n",
       " 'BAZIN Herve',\n",
       " 'SCHOENDOERFFER Pierre',\n",
       " 'MODIANO Patrick',\n",
       " 'CELINE Louis-Ferdinand',\n",
       " 'DURAS Marguerite',\n",
       " 'QUEFFELEC Henri',\n",
       " 'QUEFFELEC Yann',\n",
       " 'GIONO Jean',\n",
       " 'ECHENOZ Jean',\n",
       " 'PEREC Georges',\n",
       " 'CAMUS Albert',\n",
       " 'SARRAUTE Nathalie']"
      ]
     },
     "execution_count": 12,
     "metadata": {},
     "output_type": "execute_result"
    }
   ],
   "source": [
    "author_without_last "
   ]
  },
  {
   "cell_type": "code",
   "execution_count": 13,
   "id": "a80e1549",
   "metadata": {},
   "outputs": [
    {
     "data": {
      "text/html": [
       "<div>\n",
       "<style scoped>\n",
       "    .dataframe tbody tr th:only-of-type {\n",
       "        vertical-align: middle;\n",
       "    }\n",
       "\n",
       "    .dataframe tbody tr th {\n",
       "        vertical-align: top;\n",
       "    }\n",
       "\n",
       "    .dataframe thead th {\n",
       "        text-align: right;\n",
       "    }\n",
       "</style>\n",
       "<table border=\"1\" class=\"dataframe\">\n",
       "  <thead>\n",
       "    <tr style=\"text-align: right;\">\n",
       "      <th></th>\n",
       "      <th>text</th>\n",
       "      <th>author</th>\n",
       "      <th>title</th>\n",
       "      <th>book_date</th>\n",
       "    </tr>\n",
       "  </thead>\n",
       "  <tbody>\n",
       "    <tr>\n",
       "      <th>4447</th>\n",
       "      <td>Jeune, la mère Dida avait ressemblé aux fleurs...</td>\n",
       "      <td>YOURCENAR Marguerite</td>\n",
       "      <td>Denier-Du-Reve</td>\n",
       "      <td>1934</td>\n",
       "    </tr>\n",
       "    <tr>\n",
       "      <th>4448</th>\n",
       "      <td>Marcella Ardeati était née en Romagne ; à Cese...</td>\n",
       "      <td>YOURCENAR Marguerite</td>\n",
       "      <td>Denier-Du-Reve</td>\n",
       "      <td>1934</td>\n",
       "    </tr>\n",
       "    <tr>\n",
       "      <th>4449</th>\n",
       "      <td>Elle s'était échappée seule, sitôt après le dî...</td>\n",
       "      <td>YOURCENAR Marguerite</td>\n",
       "      <td>Denier-Du-Reve</td>\n",
       "      <td>1934</td>\n",
       "    </tr>\n",
       "    <tr>\n",
       "      <th>4450</th>\n",
       "      <td>– Tu parles de la guerre de 14, reprend le vie...</td>\n",
       "      <td>YOURCENAR Marguerite</td>\n",
       "      <td>Denier-Du-Reve</td>\n",
       "      <td>1934</td>\n",
       "    </tr>\n",
       "    <tr>\n",
       "      <th>4451</th>\n",
       "      <td>Le mur de la chambre magique s'écroula : des v...</td>\n",
       "      <td>YOURCENAR Marguerite</td>\n",
       "      <td>Denier-Du-Reve</td>\n",
       "      <td>1934</td>\n",
       "    </tr>\n",
       "    <tr>\n",
       "      <th>...</th>\n",
       "      <td>...</td>\n",
       "      <td>...</td>\n",
       "      <td>...</td>\n",
       "      <td>...</td>\n",
       "    </tr>\n",
       "    <tr>\n",
       "      <th>57373</th>\n",
       "      <td>Petite âme, âme tendre et flottante, compagne ...</td>\n",
       "      <td>YOURCENAR Marguerite</td>\n",
       "      <td>Les mémoires d_Hadrien</td>\n",
       "      <td>1950</td>\n",
       "    </tr>\n",
       "    <tr>\n",
       "      <th>57374</th>\n",
       "      <td>Mais la révolte en Maurétanie fumait encore. J...</td>\n",
       "      <td>YOURCENAR Marguerite</td>\n",
       "      <td>Les mémoires d_Hadrien</td>\n",
       "      <td>1950</td>\n",
       "    </tr>\n",
       "    <tr>\n",
       "      <th>57375</th>\n",
       "      <td>Nous avons longé la Colchide. Sachant combien ...</td>\n",
       "      <td>YOURCENAR Marguerite</td>\n",
       "      <td>Les mémoires d_Hadrien</td>\n",
       "      <td>1950</td>\n",
       "    </tr>\n",
       "    <tr>\n",
       "      <th>57376</th>\n",
       "      <td>Mais j’avais hâte de quitter Rome. Mes prédéce...</td>\n",
       "      <td>YOURCENAR Marguerite</td>\n",
       "      <td>Les mémoires d_Hadrien</td>\n",
       "      <td>1950</td>\n",
       "    </tr>\n",
       "    <tr>\n",
       "      <th>57377</th>\n",
       "      <td>Par malheur, ces songes étaient beaux. C’étaie...</td>\n",
       "      <td>YOURCENAR Marguerite</td>\n",
       "      <td>Les mémoires d_Hadrien</td>\n",
       "      <td>1950</td>\n",
       "    </tr>\n",
       "  </tbody>\n",
       "</table>\n",
       "<p>1048 rows × 4 columns</p>\n",
       "</div>"
      ],
      "text/plain": [
       "                                                    text  \\\n",
       "4447   Jeune, la mère Dida avait ressemblé aux fleurs...   \n",
       "4448   Marcella Ardeati était née en Romagne ; à Cese...   \n",
       "4449   Elle s'était échappée seule, sitôt après le dî...   \n",
       "4450   – Tu parles de la guerre de 14, reprend le vie...   \n",
       "4451   Le mur de la chambre magique s'écroula : des v...   \n",
       "...                                                  ...   \n",
       "57373  Petite âme, âme tendre et flottante, compagne ...   \n",
       "57374  Mais la révolte en Maurétanie fumait encore. J...   \n",
       "57375  Nous avons longé la Colchide. Sachant combien ...   \n",
       "57376  Mais j’avais hâte de quitter Rome. Mes prédéce...   \n",
       "57377  Par malheur, ces songes étaient beaux. C’étaie...   \n",
       "\n",
       "                     author                    title book_date  \n",
       "4447   YOURCENAR Marguerite           Denier-Du-Reve      1934  \n",
       "4448   YOURCENAR Marguerite           Denier-Du-Reve      1934  \n",
       "4449   YOURCENAR Marguerite           Denier-Du-Reve      1934  \n",
       "4450   YOURCENAR Marguerite           Denier-Du-Reve      1934  \n",
       "4451   YOURCENAR Marguerite           Denier-Du-Reve      1934  \n",
       "...                     ...                      ...       ...  \n",
       "57373  YOURCENAR Marguerite  Les mémoires d_Hadrien      1950  \n",
       "57374  YOURCENAR Marguerite  Les mémoires d_Hadrien      1950  \n",
       "57375  YOURCENAR Marguerite  Les mémoires d_Hadrien      1950  \n",
       "57376  YOURCENAR Marguerite  Les mémoires d_Hadrien      1950  \n",
       "57377  YOURCENAR Marguerite  Les mémoires d_Hadrien      1950  \n",
       "\n",
       "[1048 rows x 4 columns]"
      ]
     },
     "execution_count": 13,
     "metadata": {},
     "output_type": "execute_result"
    }
   ],
   "source": [
    "#Downsample majority classPython\n",
    "# Separate majority and minority classes\n",
    "\n",
    "df_minority = df[df.author==last_author]\n",
    "df_minority"
   ]
  },
  {
   "cell_type": "code",
   "execution_count": 14,
   "id": "4803e3be",
   "metadata": {},
   "outputs": [],
   "source": [
    "from sklearn.utils import resample \n",
    "\n",
    "#df_downsampled=pd.DataFrame(columns=['text','author','title','book_date'])\n",
    "df_all = []\n",
    "for _ in author_without_last:\n",
    "    df_majority = df[df.author==_]\n",
    "\n",
    "\n",
    "    # Downsample majority class\n",
    "    df_majority_downsampled = resample(df_majority, \n",
    "                                     replace=False,    # sample without replacement\n",
    "                                     n_samples=min_lines,     # to match minority class\n",
    "                                     random_state=123) # reproducible results\n",
    "    \n",
    "    df_all.append(df_majority_downsampled)\n",
    "\n",
    "# Combine minority class with downsampled majority class\n",
    "df_all.append(df_minority)\n",
    "df_downsampled = pd.concat(df_all, ignore_index= True, axis=0)    "
   ]
  },
  {
   "cell_type": "code",
   "execution_count": 15,
   "id": "0741674e",
   "metadata": {},
   "outputs": [
    {
     "data": {
      "text/plain": [
       "GARY Romain               1048\n",
       "COHEN Albert              1048\n",
       "SARRAUTE Nathalie         1048\n",
       "CAMUS Albert              1048\n",
       "PEREC Georges             1048\n",
       "ECHENOZ Jean              1048\n",
       "GIONO Jean                1048\n",
       "QUEFFELEC Yann            1048\n",
       "QUEFFELEC Henri           1048\n",
       "DURAS Marguerite          1048\n",
       "CELINE Louis-Ferdinand    1048\n",
       "MODIANO Patrick           1048\n",
       "SCHOENDOERFFER Pierre     1048\n",
       "BAZIN Herve               1048\n",
       "DEBEAUVOIR Simone         1048\n",
       "GUTH Paul                 1048\n",
       "VIAN Boris                1048\n",
       "KESSEL Joseph             1048\n",
       "JOFFO Joseph              1048\n",
       "YOURCENAR Marguerite      1048\n",
       "Name: author, dtype: int64"
      ]
     },
     "execution_count": 15,
     "metadata": {},
     "output_type": "execute_result"
    }
   ],
   "source": [
    "df_downsampled.author.value_counts()"
   ]
  },
  {
   "cell_type": "code",
   "execution_count": 16,
   "id": "d633480b",
   "metadata": {},
   "outputs": [],
   "source": [
    "X_0_preproc = df_downsampled[\"text\"].to_numpy()\n",
    "y_0_preproc = df_downsampled[\"author\"].to_numpy()"
   ]
  },
  {
   "cell_type": "code",
   "execution_count": 18,
   "id": "272b2e67",
   "metadata": {},
   "outputs": [
    {
     "data": {
      "text/plain": [
       "['y_0_preproc.pkl']"
      ]
     },
     "execution_count": 18,
     "metadata": {},
     "output_type": "execute_result"
    }
   ],
   "source": [
    "import joblib\n",
    "\n",
    "joblib.dump(X_0_preproc,\"X_0_preproc.pkl\")\n",
    "joblib.dump(y_0_preproc,\"y_0_preproc.pkl\")"
   ]
  }
 ],
 "metadata": {
  "kernelspec": {
   "display_name": "Python 3 (ipykernel)",
   "language": "python",
   "name": "python3"
  },
  "language_info": {
   "codemirror_mode": {
    "name": "ipython",
    "version": 3
   },
   "file_extension": ".py",
   "mimetype": "text/x-python",
   "name": "python",
   "nbconvert_exporter": "python",
   "pygments_lexer": "ipython3",
   "version": "3.8.6"
  },
  "toc": {
   "base_numbering": 1,
   "nav_menu": {},
   "number_sections": true,
   "sideBar": true,
   "skip_h1_title": false,
   "title_cell": "Table of Contents",
   "title_sidebar": "Contents",
   "toc_cell": false,
   "toc_position": {},
   "toc_section_display": true,
   "toc_window_display": false
  },
  "varInspector": {
   "cols": {
    "lenName": 16,
    "lenType": 16,
    "lenVar": 40
   },
   "kernels_config": {
    "python": {
     "delete_cmd_postfix": "",
     "delete_cmd_prefix": "del ",
     "library": "var_list.py",
     "varRefreshCmd": "print(var_dic_list())"
    },
    "r": {
     "delete_cmd_postfix": ") ",
     "delete_cmd_prefix": "rm(",
     "library": "var_list.r",
     "varRefreshCmd": "cat(var_dic_list()) "
    }
   },
   "types_to_exclude": [
    "module",
    "function",
    "builtin_function_or_method",
    "instance",
    "_Feature"
   ],
   "window_display": false
  }
 },
 "nbformat": 4,
 "nbformat_minor": 5
}
