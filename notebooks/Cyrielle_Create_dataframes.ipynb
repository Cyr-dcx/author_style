{
 "cells": [
  {
   "cell_type": "code",
   "execution_count": 1,
   "id": "2810d99d",
   "metadata": {},
   "outputs": [],
   "source": [
    "from author_style.utils import *"
   ]
  },
  {
   "cell_type": "code",
   "execution_count": 2,
   "id": "cf471cb3",
   "metadata": {},
   "outputs": [],
   "source": [
    "import string\n",
    "from nltk.corpus import stopwords\n",
    "from nltk.tokenize import word_tokenize\n",
    "from nltk.stem import WordNetLemmatizer\n",
    "from sklearn.feature_extraction.text import CountVectorizer, TfidfVectorizer\n",
    "import re\n",
    "import unidecode\n",
    "#import spacy\n",
    "import numpy as np\n",
    "import pandas as pd"
   ]
  },
  {
   "cell_type": "code",
   "execution_count": 114,
   "id": "1492f818",
   "metadata": {},
   "outputs": [],
   "source": [
    "clean_texts_large()"
   ]
  },
  {
   "cell_type": "code",
   "execution_count": 23,
   "id": "eb2456f1",
   "metadata": {},
   "outputs": [],
   "source": [
    "seq_len = 512\n",
    "\n",
    "df = csv_to_dataframes(output='c', MAX_LEN=seq_len)"
   ]
  },
  {
   "cell_type": "code",
   "execution_count": 24,
   "id": "ce252629",
   "metadata": {},
   "outputs": [
    {
     "data": {
      "text/html": [
       "<div>\n",
       "<style scoped>\n",
       "    .dataframe tbody tr th:only-of-type {\n",
       "        vertical-align: middle;\n",
       "    }\n",
       "\n",
       "    .dataframe tbody tr th {\n",
       "        vertical-align: top;\n",
       "    }\n",
       "\n",
       "    .dataframe thead th {\n",
       "        text-align: right;\n",
       "    }\n",
       "</style>\n",
       "<table border=\"1\" class=\"dataframe\">\n",
       "  <thead>\n",
       "    <tr style=\"text-align: right;\">\n",
       "      <th></th>\n",
       "      <th>text</th>\n",
       "      <th>author</th>\n",
       "      <th>title</th>\n",
       "      <th>book_date</th>\n",
       "    </tr>\n",
       "  </thead>\n",
       "  <tbody>\n",
       "    <tr>\n",
       "      <th>0</th>\n",
       "      <td>— Il paraît qu’il collectionne des cartes postales et des timbres-poste et des photos de gens qu’il n’a même pas connus. Je ne sais pas s’il a gardé une photo de moi. Autrefois, il en avait des tas et des tas. Il me découpait même dans le journal et puis il me collait dans un album. Une fois, j’ai eu droit à toute une page dans Pour vous. Il a acheté cent numéros. Il a dû jeter tout ça dehors, à présent. Je n’ai jamais vu un homme aussi rancunier. Évidemment, il était fou de moi, et alors il a dû détruire tous les souvenirs pour ne pas se rappeler. Tu sais, quand on s’est vus pour la dernière fois et qu’il m’a donné l’adresse de la cave où il s’est retiré pour que je vienne le voir, il tenait ma main dans la sienne et tout ce qu’il pouvait répéter, c’était Cora, Cora, Cora. J’ai fait une bêtise, j’aurais dû aller le voir, mais qu’est-ce que tu veux, quand j’ai rencontré Maurice, ça a été le coup de foudre, j’ai perdu la tête. Je ne suis pas le genre qui calcule et qui pense à l’avenir. Si j’avais été maligne, je serais allée le voir deux ou trois fois, juste pour le cas où les Allemands perdraient la guerre. Mais c’est pas mon genre. C’était le moment où j’avais le plus de succès, je chantais partout, j’étais très demandée. Mais il n’y avait que Maurice qui comptait, et rien d’autre. Un jour, il y a un garçon de café qui est venu me dire vous devriez faire attention, mademoiselle Cora, Maurice est un homme très dangereux. Vous aurez des ennuis, après. C’est tout ce qu’il m’a dit et puis il a eu des ennuis lui-même, la Gestapo l’a ramassé. Je me suis un peu renseignée, et c’est là que j’ai appris que Maurice travaillait pour la Gestapo. Mais c’était déjà trop tard, je l’aimais. Les gens ne comprennent jamais qu’on puisse aimer quelqu’un qui ne vous mérite pas. Moi non plus je ne comprends pas maintenant comment j’ai pu l’aimer. Seulement, en amour, il n’y a rien à comprendre, c’est comme ça, on n’y peut rien. C’est pas un truc où on peut faire ses comptes. C’est la plus belle connerie que j’ai faite dans ma vie mais je n’ai jamais été calculatrice. Je vivais comme si c’était une chanson. Et puis, quand on est jeune, on ne s’imagine pas qu’un jour on va être vieux. C’est trop loin, ça dépasse l’imagination. Une fois, je suis passée aux Champs-Élysées à côté de l’immeuble où monsieur Salomon était dans sa cave et j’ai eu du remords. Je me souviens très bien, j’ai même tout de suite traversé. Si tu m’avais dit à l’époque que j’allais avoir soixante-cinq ans et monsieur Salomon quatre-vingt-quatre, je t’aurais ri au nez. Évidemment, j’aurais pu venir le voir, la nuit, lui apporter du champagne et du foie gras, lui demander comment ça allait et s’il avait le moral. J’y ai pensé. Mais tu sais quoi ? Je</td>\n",
       "      <td>GARY Romain</td>\n",
       "      <td>L_angoisse Du Roi Salomon</td>\n",
       "      <td>1979</td>\n",
       "    </tr>\n",
       "    <tr>\n",
       "      <th>1</th>\n",
       "      <td>crois que c’est maintenant seulement que je l’aime vraiment. Avant la guerre, il me couvrait de cadeaux, il était encore jeune, il me flattait, j’aimais aller dans des endroits avec lui, mais ce n’était pas le vrai sentiment. Alors tu comprends que quand j’ai rencontré Maurice et quand ça a été le vrai sentiment, la folie, la passion, quoi, monsieur Salomon, c’était comme s’il n’avait jamais existé. J’avais eu d’autres amants, tu sais. J’étais un peu folle de moi-même quand j’étais jeune. Je me souviens que ce qui me gênait le plus pendant l’occupation, quand je n’allais pas le voir dans sa cave, c’était qu’il était juif. Tu comprends bien que ce n’était pas du tout parce qu’il était juif. Ça m’était bien égal. C’est comme pour Maurice, ça m’était bien égal qu’il était pour les nazis. Un homme est un homme on aime ou on n’aime pas. J’étais trop jeune, je n’ai pas su apprécier monsieur Salomon à sa juste valeur. Il faut la maturité. Mais c’est trop tard. C’est ce qu’il y a de plus bête avec la maturité, ça vient toujours trop tard. Et tu veux que je te dise ? Monsieur Salomon, il n’a pas encore la maturité. Sans ça il y a longtemps qu’il m’aurait demandé de vivre avec lui. Il est aussi vieux que possible, et il a encore des passions, des intensités, des colères noires. Il n’a pas su s’adoucir. Parce qu’enfin, il n’y a pas de doute, il m’aime toujours, et c’est la passion qui le rend si rancunier. S’il ne m’aimait plus comme avant et si ce n’était pas la passion, il y a longtemps qu’il m’aurait demandé de venir vivre avec lui, on aurait eu un arrangement. Ce serait la maturité et le bon sens, chez lui. Mais non, mais non, c’est la passion, la rancune, la colère noire. Tu connais bien son regard : ça brûle là-dedans. [sep] Je me suis vite aperçu que, bien que très riche, monsieur Salomon était seul au monde. La plupart du temps, je le trouvais assis devant son grand bureau de philatéliste, une loupe dans l’œil, et il regardait les timbres avec plaisir, comme de vrais amis, et aussi les cartes postales qui lui parvenaient du passé et de tous les coins de la terre. Elles ne lui avaient pas été adressées personnellement, car il y en avait qui avaient été mises à la poste au siècle dernier, quand monsieur Salomon existait à peine, mais c’est chez lui qu’elles sont arrivées pour finir. Je l’ai plusieurs fois conduit aux puces et chez les brocanteurs où il les achète et les commerçants lui mettent tout spécialement de côté celles qui sont les plus personnelles et qui ont été écrites avec le plus d’émotion. J’en ai lu quelques-unes par indiscrétion, car monsieur Salomon les cache plutôt, à cause de leur caractère privé. Il y en avait une qui représentait une jeune fille habillée comme au début des temps modernes, avec quatre petits garçons en costumes de matelots et en chapeaux de paille canotiers, qui disait chéri chéri</td>\n",
       "      <td>GARY Romain</td>\n",
       "      <td>L_angoisse Du Roi Salomon</td>\n",
       "      <td>1979</td>\n",
       "    </tr>\n",
       "    <tr>\n",
       "      <th>...</th>\n",
       "      <td>...</td>\n",
       "      <td>...</td>\n",
       "      <td>...</td>\n",
       "      <td>...</td>\n",
       "    </tr>\n",
       "    <tr>\n",
       "      <th>247</th>\n",
       "      <td>Nous étions au pied du monticule. Patricia bondit de la voiture avant qu’elle ne fût complètement arrêtée. [sep] — Il n’a pu vous raconter grand-chose, dis-je. Il n’y a pas d’homme plus renfermé, plus avare de paroles. [sep] Les yeux de la jeune femme allaient d’objet en objet comme d’ami en ami. Quelques-uns étaient très beaux. [sep] « Il était si faible, si menu, vous n’avez pas idée, quand Kihoro m’en a fait cadeau », s’écria Patricia. [sep] Quand elle vit la Land Rover s’engager sur la pente douce qui conduisait à la manyatta, Patricia me dit : [sep] — Et qu’est-ce que vous allez répondre ? demanda Sybil dont les lèvres blanchies remuaient difficilement. [sep] — Et je l’élèverai, et il sera mon ami, et, alors, vous, vous allez encore tirer sur lui », dit Patricia. [sep] « Je ne veux pas inquiéter les bêtes, lui dis-je. Mais seulement vivre un peu avec elles, comme elles. » [sep] Il m’est difficile d’expliquer la joie que me firent éprouver ce sourire et cette réponse. Je demandai : [sep] Bien que le matin fût encore très frais, de grosses mouches arrivaient en essaims pressés, bourdonnants. [sep] Bullit avait obéi. La petite fille fut au sol sans même ouvrir la portière. Bullit ébaucha un mouvement. [sep] — Il a passé la nuit aux environs de notre bungalow, dans le bois, à guetter que je sorte, dit Patricia. [sep] Pour la première fois depuis que nous voyagions ensemble, Bogo s’oublia suffisamment pour m’interrompre. [sep] Je quittai Sybil peu après. Elle ne chercha pas à me retenir. Elle pensait à sa lettre, à sa réception. [sep] Il ne gronda plus cette fois, mais sa gueule s’ouvrit comme un piège étincelant et il se dressa à demi. [sep] Je fis comme elle voulait. Ma paume se trouva posée sur le cou de King, juste au défaut de la crinière. [sep] Lui non plus il ne bougeait pas. Les gouttes elles-mêmes dans le loup de satin noir étaient immobiles. [sep] « Vos lions, vos rhinocéros, vos éléphants… Les animaux sauvages semblent pour vous un bien personnel. [sep] — Et sans le vouloir, ni même le savoir », dis-je. Bullit secoua son mufle avec entêtement et gronda : [sep] Les têtes superposées se déplacèrent insensiblement de branche en branche et finirent par disparaître. [sep] — Eh bien, conseilla Sybil, prenez l’histoire que vous m’avez dite le soir où nous nous sommes connus. [sep] Ce que je m’étais refusé jusque-là d’admettre à moi-même, il me parut tout simple soudain de l’avouer. [sep] « Vous avez tort, dit-elle. Si je le désire, King vous mettra en morceaux tout de suite. On essaie ? » [sep] Pour attaquer, les jeunes hommes n’avaient qu’une lance et un coutelas. Pour se défendre, un bouclier. [sep] Il n’y avait pas trace d’émotion dans sa voix et ses grands yeux fixés sur Ol’Kalou étaient paisibles. [sep] Pensait-il au Dieu des missionnaires ou à d’autres plus anciens et puissants sur la terre d’Afrique ? [sep] Le vieil homme se tenait aussi droit que la haute lance qu’il</td>\n",
       "      <td>KESSEL Joseph</td>\n",
       "      <td>Le-Lion</td>\n",
       "      <td>1958</td>\n",
       "    </tr>\n",
       "    <tr>\n",
       "      <th>248</th>\n",
       "      <td>avait plantée devant lui d’un coup sec. [sep] « Je bois trop, dit-il comme s’il n’avait pas entendu ma question. Je vous souhaite un bon sommeil. » [sep] « C’est l’heure où les bêtes reviennent de boire, dit Patricia. Les unes vont brouter, se promener… » [sep] Je me rappelai que la maison de ce chasseur professionnel ne contenait ni une carabine ni un trophée. [sep] « Eh bien, nous y voilà tout de même », dit Patricia en riant avec gentillesse de mon visage harassé. [sep] « Mon Dieu ! Si seulement cela pouvait être vrai, dit-elle, est-ce qu’alors je souffrirais autant ? » [sep] « Mon père lui reste, elle se plaira à le consoler », dit encore Patricia d’une voix qui faisait mal. [sep] Patricia m’évalua d’un regard attentif et soupçonneux « Vous les aimez vraiment ? me demanda-t-elle. [sep] Le sourire que j’avais déjà remarqué, indécis, timide et plein de charme, vint aux lèvres de Bullit. [sep] Ol’Kalou fit osciller la lance d’une main et passa l’autre le long de sa blessure terrible. Il dit : [sep] Bien que la fenêtre fût complètement aveuglée, Sybil dirigea vers elle un regard éperdu et murmura : [sep] Patricia s’arrêta de souffler sur l’eau gazeuse pour y faire des bulles. Elle poursuivit à mi-voix : [sep] Patricia se glissa entre les pattes de devant, mêla ses cheveux en boule à la toison énorme et dit : [sep] Sybil revint la première, avec un grand album plat, relié d’une affreuse toile et dorée sur tranche. [sep] Bullit s’avança sur la plus haute marche. Les Wakamba l’assaillirent de cris en agitant leurs armes. [sep] Je compris pourquoi en voyant que dans la Land Rover, en même temps que Patricia, se trouvait Sybil. [sep] Je pensai qu’il s’agissait seulement de l’endroit où nous étions. Mais la petite fille cria encore :</td>\n",
       "      <td>KESSEL Joseph</td>\n",
       "      <td>Le-Lion</td>\n",
       "      <td>1958</td>\n",
       "    </tr>\n",
       "  </tbody>\n",
       "</table>\n",
       "<p>249 rows × 4 columns</p>\n",
       "</div>"
      ],
      "text/plain": [
       "                                                                                                                                                                                                                                                                                                                                                                                                                                                                                                                                                                                                                                                                                                                                                                                                                                                                                                                                                                                                                                                                                                                                                                                                                                                                                                                                                                                                                                                                                                                                                                                                                                                                                                                                                                                                                                                                                                                                                                                                                                                                                                                                                                                                                                                                                                                                                                                                                                                                                                                                                                                                                                                                                                                                                                                                                                                                                                                                                                                                                                                    text  \\\n",
       "0                                                                                                                                                                                               — Il paraît qu’il collectionne des cartes postales et des timbres-poste et des photos de gens qu’il n’a même pas connus. Je ne sais pas s’il a gardé une photo de moi. Autrefois, il en avait des tas et des tas. Il me découpait même dans le journal et puis il me collait dans un album. Une fois, j’ai eu droit à toute une page dans Pour vous. Il a acheté cent numéros. Il a dû jeter tout ça dehors, à présent. Je n’ai jamais vu un homme aussi rancunier. Évidemment, il était fou de moi, et alors il a dû détruire tous les souvenirs pour ne pas se rappeler. Tu sais, quand on s’est vus pour la dernière fois et qu’il m’a donné l’adresse de la cave où il s’est retiré pour que je vienne le voir, il tenait ma main dans la sienne et tout ce qu’il pouvait répéter, c’était Cora, Cora, Cora. J’ai fait une bêtise, j’aurais dû aller le voir, mais qu’est-ce que tu veux, quand j’ai rencontré Maurice, ça a été le coup de foudre, j’ai perdu la tête. Je ne suis pas le genre qui calcule et qui pense à l’avenir. Si j’avais été maligne, je serais allée le voir deux ou trois fois, juste pour le cas où les Allemands perdraient la guerre. Mais c’est pas mon genre. C’était le moment où j’avais le plus de succès, je chantais partout, j’étais très demandée. Mais il n’y avait que Maurice qui comptait, et rien d’autre. Un jour, il y a un garçon de café qui est venu me dire vous devriez faire attention, mademoiselle Cora, Maurice est un homme très dangereux. Vous aurez des ennuis, après. C’est tout ce qu’il m’a dit et puis il a eu des ennuis lui-même, la Gestapo l’a ramassé. Je me suis un peu renseignée, et c’est là que j’ai appris que Maurice travaillait pour la Gestapo. Mais c’était déjà trop tard, je l’aimais. Les gens ne comprennent jamais qu’on puisse aimer quelqu’un qui ne vous mérite pas. Moi non plus je ne comprends pas maintenant comment j’ai pu l’aimer. Seulement, en amour, il n’y a rien à comprendre, c’est comme ça, on n’y peut rien. C’est pas un truc où on peut faire ses comptes. C’est la plus belle connerie que j’ai faite dans ma vie mais je n’ai jamais été calculatrice. Je vivais comme si c’était une chanson. Et puis, quand on est jeune, on ne s’imagine pas qu’un jour on va être vieux. C’est trop loin, ça dépasse l’imagination. Une fois, je suis passée aux Champs-Élysées à côté de l’immeuble où monsieur Salomon était dans sa cave et j’ai eu du remords. Je me souviens très bien, j’ai même tout de suite traversé. Si tu m’avais dit à l’époque que j’allais avoir soixante-cinq ans et monsieur Salomon quatre-vingt-quatre, je t’aurais ri au nez. Évidemment, j’aurais pu venir le voir, la nuit, lui apporter du champagne et du foie gras, lui demander comment ça allait et s’il avait le moral. J’y ai pensé. Mais tu sais quoi ? Je   \n",
       "1                                                                         crois que c’est maintenant seulement que je l’aime vraiment. Avant la guerre, il me couvrait de cadeaux, il était encore jeune, il me flattait, j’aimais aller dans des endroits avec lui, mais ce n’était pas le vrai sentiment. Alors tu comprends que quand j’ai rencontré Maurice et quand ça a été le vrai sentiment, la folie, la passion, quoi, monsieur Salomon, c’était comme s’il n’avait jamais existé. J’avais eu d’autres amants, tu sais. J’étais un peu folle de moi-même quand j’étais jeune. Je me souviens que ce qui me gênait le plus pendant l’occupation, quand je n’allais pas le voir dans sa cave, c’était qu’il était juif. Tu comprends bien que ce n’était pas du tout parce qu’il était juif. Ça m’était bien égal. C’est comme pour Maurice, ça m’était bien égal qu’il était pour les nazis. Un homme est un homme on aime ou on n’aime pas. J’étais trop jeune, je n’ai pas su apprécier monsieur Salomon à sa juste valeur. Il faut la maturité. Mais c’est trop tard. C’est ce qu’il y a de plus bête avec la maturité, ça vient toujours trop tard. Et tu veux que je te dise ? Monsieur Salomon, il n’a pas encore la maturité. Sans ça il y a longtemps qu’il m’aurait demandé de vivre avec lui. Il est aussi vieux que possible, et il a encore des passions, des intensités, des colères noires. Il n’a pas su s’adoucir. Parce qu’enfin, il n’y a pas de doute, il m’aime toujours, et c’est la passion qui le rend si rancunier. S’il ne m’aimait plus comme avant et si ce n’était pas la passion, il y a longtemps qu’il m’aurait demandé de venir vivre avec lui, on aurait eu un arrangement. Ce serait la maturité et le bon sens, chez lui. Mais non, mais non, c’est la passion, la rancune, la colère noire. Tu connais bien son regard : ça brûle là-dedans. [sep] Je me suis vite aperçu que, bien que très riche, monsieur Salomon était seul au monde. La plupart du temps, je le trouvais assis devant son grand bureau de philatéliste, une loupe dans l’œil, et il regardait les timbres avec plaisir, comme de vrais amis, et aussi les cartes postales qui lui parvenaient du passé et de tous les coins de la terre. Elles ne lui avaient pas été adressées personnellement, car il y en avait qui avaient été mises à la poste au siècle dernier, quand monsieur Salomon existait à peine, mais c’est chez lui qu’elles sont arrivées pour finir. Je l’ai plusieurs fois conduit aux puces et chez les brocanteurs où il les achète et les commerçants lui mettent tout spécialement de côté celles qui sont les plus personnelles et qui ont été écrites avec le plus d’émotion. J’en ai lu quelques-unes par indiscrétion, car monsieur Salomon les cache plutôt, à cause de leur caractère privé. Il y en avait une qui représentait une jeune fille habillée comme au début des temps modernes, avec quatre petits garçons en costumes de matelots et en chapeaux de paille canotiers, qui disait chéri chéri   \n",
       "..                                                                                                                                                                                                                                                                                                                                                                                                                                                                                                                                                                                                                                                                                                                                                                                                                                                                                                                                                                                                                                                                                                                                                                                                                                                                                                                                                                                                                                                                                                                                                                                                                                                                                                                                                                                                                                                                                                                                                                                                                                                                                                                                                                                                                                                                                                                                                                                                                                                                                                                                                                                                                                                                                                                                                                                                                                                                                                                                                                                                                                                   ...   \n",
       "247  Nous étions au pied du monticule. Patricia bondit de la voiture avant qu’elle ne fût complètement arrêtée. [sep] — Il n’a pu vous raconter grand-chose, dis-je. Il n’y a pas d’homme plus renfermé, plus avare de paroles. [sep] Les yeux de la jeune femme allaient d’objet en objet comme d’ami en ami. Quelques-uns étaient très beaux. [sep] « Il était si faible, si menu, vous n’avez pas idée, quand Kihoro m’en a fait cadeau », s’écria Patricia. [sep] Quand elle vit la Land Rover s’engager sur la pente douce qui conduisait à la manyatta, Patricia me dit : [sep] — Et qu’est-ce que vous allez répondre ? demanda Sybil dont les lèvres blanchies remuaient difficilement. [sep] — Et je l’élèverai, et il sera mon ami, et, alors, vous, vous allez encore tirer sur lui », dit Patricia. [sep] « Je ne veux pas inquiéter les bêtes, lui dis-je. Mais seulement vivre un peu avec elles, comme elles. » [sep] Il m’est difficile d’expliquer la joie que me firent éprouver ce sourire et cette réponse. Je demandai : [sep] Bien que le matin fût encore très frais, de grosses mouches arrivaient en essaims pressés, bourdonnants. [sep] Bullit avait obéi. La petite fille fut au sol sans même ouvrir la portière. Bullit ébaucha un mouvement. [sep] — Il a passé la nuit aux environs de notre bungalow, dans le bois, à guetter que je sorte, dit Patricia. [sep] Pour la première fois depuis que nous voyagions ensemble, Bogo s’oublia suffisamment pour m’interrompre. [sep] Je quittai Sybil peu après. Elle ne chercha pas à me retenir. Elle pensait à sa lettre, à sa réception. [sep] Il ne gronda plus cette fois, mais sa gueule s’ouvrit comme un piège étincelant et il se dressa à demi. [sep] Je fis comme elle voulait. Ma paume se trouva posée sur le cou de King, juste au défaut de la crinière. [sep] Lui non plus il ne bougeait pas. Les gouttes elles-mêmes dans le loup de satin noir étaient immobiles. [sep] « Vos lions, vos rhinocéros, vos éléphants… Les animaux sauvages semblent pour vous un bien personnel. [sep] — Et sans le vouloir, ni même le savoir », dis-je. Bullit secoua son mufle avec entêtement et gronda : [sep] Les têtes superposées se déplacèrent insensiblement de branche en branche et finirent par disparaître. [sep] — Eh bien, conseilla Sybil, prenez l’histoire que vous m’avez dite le soir où nous nous sommes connus. [sep] Ce que je m’étais refusé jusque-là d’admettre à moi-même, il me parut tout simple soudain de l’avouer. [sep] « Vous avez tort, dit-elle. Si je le désire, King vous mettra en morceaux tout de suite. On essaie ? » [sep] Pour attaquer, les jeunes hommes n’avaient qu’une lance et un coutelas. Pour se défendre, un bouclier. [sep] Il n’y avait pas trace d’émotion dans sa voix et ses grands yeux fixés sur Ol’Kalou étaient paisibles. [sep] Pensait-il au Dieu des missionnaires ou à d’autres plus anciens et puissants sur la terre d’Afrique ? [sep] Le vieil homme se tenait aussi droit que la haute lance qu’il   \n",
       "248                                                                                                                                                                                                                                                                                                                                                                                                                                                                                                                                                                                                                                                                                                                                                                                                                                                                                                                                                                                                                                                                                                                                                                                                                        avait plantée devant lui d’un coup sec. [sep] « Je bois trop, dit-il comme s’il n’avait pas entendu ma question. Je vous souhaite un bon sommeil. » [sep] « C’est l’heure où les bêtes reviennent de boire, dit Patricia. Les unes vont brouter, se promener… » [sep] Je me rappelai que la maison de ce chasseur professionnel ne contenait ni une carabine ni un trophée. [sep] « Eh bien, nous y voilà tout de même », dit Patricia en riant avec gentillesse de mon visage harassé. [sep] « Mon Dieu ! Si seulement cela pouvait être vrai, dit-elle, est-ce qu’alors je souffrirais autant ? » [sep] « Mon père lui reste, elle se plaira à le consoler », dit encore Patricia d’une voix qui faisait mal. [sep] Patricia m’évalua d’un regard attentif et soupçonneux « Vous les aimez vraiment ? me demanda-t-elle. [sep] Le sourire que j’avais déjà remarqué, indécis, timide et plein de charme, vint aux lèvres de Bullit. [sep] Ol’Kalou fit osciller la lance d’une main et passa l’autre le long de sa blessure terrible. Il dit : [sep] Bien que la fenêtre fût complètement aveuglée, Sybil dirigea vers elle un regard éperdu et murmura : [sep] Patricia s’arrêta de souffler sur l’eau gazeuse pour y faire des bulles. Elle poursuivit à mi-voix : [sep] Patricia se glissa entre les pattes de devant, mêla ses cheveux en boule à la toison énorme et dit : [sep] Sybil revint la première, avec un grand album plat, relié d’une affreuse toile et dorée sur tranche. [sep] Bullit s’avança sur la plus haute marche. Les Wakamba l’assaillirent de cris en agitant leurs armes. [sep] Je compris pourquoi en voyant que dans la Land Rover, en même temps que Patricia, se trouvait Sybil. [sep] Je pensai qu’il s’agissait seulement de l’endroit où nous étions. Mais la petite fille cria encore :   \n",
       "\n",
       "            author                      title book_date  \n",
       "0      GARY Romain  L_angoisse Du Roi Salomon      1979  \n",
       "1      GARY Romain  L_angoisse Du Roi Salomon      1979  \n",
       "..             ...                        ...       ...  \n",
       "247  KESSEL Joseph                    Le-Lion      1958  \n",
       "248  KESSEL Joseph                    Le-Lion      1958  \n",
       "\n",
       "[249 rows x 4 columns]"
      ]
     },
     "execution_count": 24,
     "metadata": {},
     "output_type": "execute_result"
    }
   ],
   "source": [
    "pd.options.display.max_rows = 5\n",
    "pd.options.display.max_seq_items = None\n",
    "pd.options.display.max_colwidth = 4000\n",
    "df"
   ]
  },
  {
   "cell_type": "code",
   "execution_count": 25,
   "id": "38c7d265",
   "metadata": {},
   "outputs": [],
   "source": [
    "data = df[[\"text\",\"author\"]]"
   ]
  },
  {
   "cell_type": "raw",
   "id": "f116ebe1",
   "metadata": {},
   "source": [
    "def preprocess(text,\n",
    "               punctuation=False,\n",
    "               lower_case=False,\n",
    "               remove_stopwords=False,\n",
    "               accents=False,\n",
    "               numbers=False,\n",
    "               lemmatize=False,\n",
    "               language='french'):\n",
    "\n",
    "    if numbers:\n",
    "        text = ''.join(char for char in text if not char.isdigit())\n",
    "    if punctuation:\n",
    "        text = ''.join(char for char in text if not char in string.punctuation)\n",
    "    if lower_case:\n",
    "        text = text.lower()\n",
    "        text = text.replace(\"*\",\"\")\n",
    "    if accents:\n",
    "        text = unidecode.unidecode(text)\n",
    "    if remove_stopwords:\n",
    "        stop_words = set(stopwords.words(language))\n",
    "        word_tokens = word_tokenize(text)\n",
    "        text = ' '.join(char for char in word_tokens if not char in stop_words)\n",
    "    if lemmatize:\n",
    "        text = word_tokenize(text)\n",
    "        lemmatizer = WordNetLemmatizer()\n",
    "        lemmatized = [lemmatizer.lemmatize(char) for char in text]\n",
    "        text = ' '.join(lemmatized)\n",
    "    return text"
   ]
  },
  {
   "cell_type": "raw",
   "id": "21d5dc51",
   "metadata": {},
   "source": [
    "data[\"text\"] = data[\"text\"].apply(preprocess)"
   ]
  },
  {
   "cell_type": "code",
   "execution_count": 26,
   "id": "68253132",
   "metadata": {},
   "outputs": [
    {
     "data": {
      "text/plain": [
       "(249, 2)"
      ]
     },
     "execution_count": 26,
     "metadata": {},
     "output_type": "execute_result"
    }
   ],
   "source": [
    "data.shape"
   ]
  },
  {
   "cell_type": "code",
   "execution_count": 27,
   "id": "d46fc7dc",
   "metadata": {},
   "outputs": [
    {
     "name": "stderr",
     "output_type": "stream",
     "text": [
      "/var/folders/t8/clhcfp2n5sgcs4b81syf8xym0000gp/T/ipykernel_28916/3158990497.py:1: SettingWithCopyWarning: \n",
      "A value is trying to be set on a copy of a slice from a DataFrame.\n",
      "Try using .loc[row_indexer,col_indexer] = value instead\n",
      "\n",
      "See the caveats in the documentation: https://pandas.pydata.org/pandas-docs/stable/user_guide/indexing.html#returning-a-view-versus-a-copy\n",
      "  data[\"taille\"] = data.text.apply(lambda x : len(x.split(\" \")))\n"
     ]
    },
    {
     "data": {
      "text/html": [
       "<div>\n",
       "<style scoped>\n",
       "    .dataframe tbody tr th:only-of-type {\n",
       "        vertical-align: middle;\n",
       "    }\n",
       "\n",
       "    .dataframe tbody tr th {\n",
       "        vertical-align: top;\n",
       "    }\n",
       "\n",
       "    .dataframe thead th {\n",
       "        text-align: right;\n",
       "    }\n",
       "</style>\n",
       "<table border=\"1\" class=\"dataframe\">\n",
       "  <thead>\n",
       "    <tr style=\"text-align: right;\">\n",
       "      <th></th>\n",
       "      <th>text</th>\n",
       "      <th>author</th>\n",
       "      <th>taille</th>\n",
       "    </tr>\n",
       "  </thead>\n",
       "  <tbody>\n",
       "    <tr>\n",
       "      <th>0</th>\n",
       "      <td>— Il paraît qu’il collectionne des cartes postales et des timbres-poste et des photos de gens qu’il n’a même pas connus. Je ne sais pas s’il a gardé une photo de moi. Autrefois, il en avait des tas et des tas. Il me découpait même dans le journal et puis il me collait dans un album. Une fois, j’ai eu droit à toute une page dans Pour vous. Il a acheté cent numéros. Il a dû jeter tout ça dehors, à présent. Je n’ai jamais vu un homme aussi rancunier. Évidemment, il était fou de moi, et alors il a dû détruire tous les souvenirs pour ne pas se rappeler. Tu sais, quand on s’est vus pour la dernière fois et qu’il m’a donné l’adresse de la cave où il s’est retiré pour que je vienne le voir, il tenait ma main dans la sienne et tout ce qu’il pouvait répéter, c’était Cora, Cora, Cora. J’ai fait une bêtise, j’aurais dû aller le voir, mais qu’est-ce que tu veux, quand j’ai rencontré Maurice, ça a été le coup de foudre, j’ai perdu la tête. Je ne suis pas le genre qui calcule et qui pense à l’avenir. Si j’avais été maligne, je serais allée le voir deux ou trois fois, juste pour le cas où les Allemands perdraient la guerre. Mais c’est pas mon genre. C’était le moment où j’avais le plus de succès, je chantais partout, j’étais très demandée. Mais il n’y avait que Maurice qui comptait, et rien d’autre. Un jour, il y a un garçon de café qui est venu me dire vous devriez faire attention, mademoiselle Cora, Maurice est un homme très dangereux. Vous aurez des ennuis, après. C’est tout ce qu’il m’a dit et puis il a eu des ennuis lui-même, la Gestapo l’a ramassé. Je me suis un peu renseignée, et c’est là que j’ai appris que Maurice travaillait pour la Gestapo. Mais c’était déjà trop tard, je l’aimais. Les gens ne comprennent jamais qu’on puisse aimer quelqu’un qui ne vous mérite pas. Moi non plus je ne comprends pas maintenant comment j’ai pu l’aimer. Seulement, en amour, il n’y a rien à comprendre, c’est comme ça, on n’y peut rien. C’est pas un truc où on peut faire ses comptes. C’est la plus belle connerie que j’ai faite dans ma vie mais je n’ai jamais été calculatrice. Je vivais comme si c’était une chanson. Et puis, quand on est jeune, on ne s’imagine pas qu’un jour on va être vieux. C’est trop loin, ça dépasse l’imagination. Une fois, je suis passée aux Champs-Élysées à côté de l’immeuble où monsieur Salomon était dans sa cave et j’ai eu du remords. Je me souviens très bien, j’ai même tout de suite traversé. Si tu m’avais dit à l’époque que j’allais avoir soixante-cinq ans et monsieur Salomon quatre-vingt-quatre, je t’aurais ri au nez. Évidemment, j’aurais pu venir le voir, la nuit, lui apporter du champagne et du foie gras, lui demander comment ça allait et s’il avait le moral. J’y ai pensé. Mais tu sais quoi ? Je</td>\n",
       "      <td>GARY Romain</td>\n",
       "      <td>512</td>\n",
       "    </tr>\n",
       "    <tr>\n",
       "      <th>1</th>\n",
       "      <td>crois que c’est maintenant seulement que je l’aime vraiment. Avant la guerre, il me couvrait de cadeaux, il était encore jeune, il me flattait, j’aimais aller dans des endroits avec lui, mais ce n’était pas le vrai sentiment. Alors tu comprends que quand j’ai rencontré Maurice et quand ça a été le vrai sentiment, la folie, la passion, quoi, monsieur Salomon, c’était comme s’il n’avait jamais existé. J’avais eu d’autres amants, tu sais. J’étais un peu folle de moi-même quand j’étais jeune. Je me souviens que ce qui me gênait le plus pendant l’occupation, quand je n’allais pas le voir dans sa cave, c’était qu’il était juif. Tu comprends bien que ce n’était pas du tout parce qu’il était juif. Ça m’était bien égal. C’est comme pour Maurice, ça m’était bien égal qu’il était pour les nazis. Un homme est un homme on aime ou on n’aime pas. J’étais trop jeune, je n’ai pas su apprécier monsieur Salomon à sa juste valeur. Il faut la maturité. Mais c’est trop tard. C’est ce qu’il y a de plus bête avec la maturité, ça vient toujours trop tard. Et tu veux que je te dise ? Monsieur Salomon, il n’a pas encore la maturité. Sans ça il y a longtemps qu’il m’aurait demandé de vivre avec lui. Il est aussi vieux que possible, et il a encore des passions, des intensités, des colères noires. Il n’a pas su s’adoucir. Parce qu’enfin, il n’y a pas de doute, il m’aime toujours, et c’est la passion qui le rend si rancunier. S’il ne m’aimait plus comme avant et si ce n’était pas la passion, il y a longtemps qu’il m’aurait demandé de venir vivre avec lui, on aurait eu un arrangement. Ce serait la maturité et le bon sens, chez lui. Mais non, mais non, c’est la passion, la rancune, la colère noire. Tu connais bien son regard : ça brûle là-dedans. [sep] Je me suis vite aperçu que, bien que très riche, monsieur Salomon était seul au monde. La plupart du temps, je le trouvais assis devant son grand bureau de philatéliste, une loupe dans l’œil, et il regardait les timbres avec plaisir, comme de vrais amis, et aussi les cartes postales qui lui parvenaient du passé et de tous les coins de la terre. Elles ne lui avaient pas été adressées personnellement, car il y en avait qui avaient été mises à la poste au siècle dernier, quand monsieur Salomon existait à peine, mais c’est chez lui qu’elles sont arrivées pour finir. Je l’ai plusieurs fois conduit aux puces et chez les brocanteurs où il les achète et les commerçants lui mettent tout spécialement de côté celles qui sont les plus personnelles et qui ont été écrites avec le plus d’émotion. J’en ai lu quelques-unes par indiscrétion, car monsieur Salomon les cache plutôt, à cause de leur caractère privé. Il y en avait une qui représentait une jeune fille habillée comme au début des temps modernes, avec quatre petits garçons en costumes de matelots et en chapeaux de paille canotiers, qui disait chéri chéri</td>\n",
       "      <td>GARY Romain</td>\n",
       "      <td>512</td>\n",
       "    </tr>\n",
       "  </tbody>\n",
       "</table>\n",
       "</div>"
      ],
      "text/plain": [
       "                                                                                                                                                                                                                                                                                                                                                                                                                                                                                                                                                                                                                                                                                                                                                                                                                                                                                                                                                                                                                                                                                                                                                                                                                                                                                                                                                                                                                                                                                                                                                                                                                                                                                                                                                                                                                                                                                                                                                                                                                                                                                                                                                                                                                                                                                                                                                                                                                                                                                                                                                                                                                                                                                                                                                                                                                                                                                                                                                                             text  \\\n",
       "0                                                                                                                        — Il paraît qu’il collectionne des cartes postales et des timbres-poste et des photos de gens qu’il n’a même pas connus. Je ne sais pas s’il a gardé une photo de moi. Autrefois, il en avait des tas et des tas. Il me découpait même dans le journal et puis il me collait dans un album. Une fois, j’ai eu droit à toute une page dans Pour vous. Il a acheté cent numéros. Il a dû jeter tout ça dehors, à présent. Je n’ai jamais vu un homme aussi rancunier. Évidemment, il était fou de moi, et alors il a dû détruire tous les souvenirs pour ne pas se rappeler. Tu sais, quand on s’est vus pour la dernière fois et qu’il m’a donné l’adresse de la cave où il s’est retiré pour que je vienne le voir, il tenait ma main dans la sienne et tout ce qu’il pouvait répéter, c’était Cora, Cora, Cora. J’ai fait une bêtise, j’aurais dû aller le voir, mais qu’est-ce que tu veux, quand j’ai rencontré Maurice, ça a été le coup de foudre, j’ai perdu la tête. Je ne suis pas le genre qui calcule et qui pense à l’avenir. Si j’avais été maligne, je serais allée le voir deux ou trois fois, juste pour le cas où les Allemands perdraient la guerre. Mais c’est pas mon genre. C’était le moment où j’avais le plus de succès, je chantais partout, j’étais très demandée. Mais il n’y avait que Maurice qui comptait, et rien d’autre. Un jour, il y a un garçon de café qui est venu me dire vous devriez faire attention, mademoiselle Cora, Maurice est un homme très dangereux. Vous aurez des ennuis, après. C’est tout ce qu’il m’a dit et puis il a eu des ennuis lui-même, la Gestapo l’a ramassé. Je me suis un peu renseignée, et c’est là que j’ai appris que Maurice travaillait pour la Gestapo. Mais c’était déjà trop tard, je l’aimais. Les gens ne comprennent jamais qu’on puisse aimer quelqu’un qui ne vous mérite pas. Moi non plus je ne comprends pas maintenant comment j’ai pu l’aimer. Seulement, en amour, il n’y a rien à comprendre, c’est comme ça, on n’y peut rien. C’est pas un truc où on peut faire ses comptes. C’est la plus belle connerie que j’ai faite dans ma vie mais je n’ai jamais été calculatrice. Je vivais comme si c’était une chanson. Et puis, quand on est jeune, on ne s’imagine pas qu’un jour on va être vieux. C’est trop loin, ça dépasse l’imagination. Une fois, je suis passée aux Champs-Élysées à côté de l’immeuble où monsieur Salomon était dans sa cave et j’ai eu du remords. Je me souviens très bien, j’ai même tout de suite traversé. Si tu m’avais dit à l’époque que j’allais avoir soixante-cinq ans et monsieur Salomon quatre-vingt-quatre, je t’aurais ri au nez. Évidemment, j’aurais pu venir le voir, la nuit, lui apporter du champagne et du foie gras, lui demander comment ça allait et s’il avait le moral. J’y ai pensé. Mais tu sais quoi ? Je   \n",
       "1  crois que c’est maintenant seulement que je l’aime vraiment. Avant la guerre, il me couvrait de cadeaux, il était encore jeune, il me flattait, j’aimais aller dans des endroits avec lui, mais ce n’était pas le vrai sentiment. Alors tu comprends que quand j’ai rencontré Maurice et quand ça a été le vrai sentiment, la folie, la passion, quoi, monsieur Salomon, c’était comme s’il n’avait jamais existé. J’avais eu d’autres amants, tu sais. J’étais un peu folle de moi-même quand j’étais jeune. Je me souviens que ce qui me gênait le plus pendant l’occupation, quand je n’allais pas le voir dans sa cave, c’était qu’il était juif. Tu comprends bien que ce n’était pas du tout parce qu’il était juif. Ça m’était bien égal. C’est comme pour Maurice, ça m’était bien égal qu’il était pour les nazis. Un homme est un homme on aime ou on n’aime pas. J’étais trop jeune, je n’ai pas su apprécier monsieur Salomon à sa juste valeur. Il faut la maturité. Mais c’est trop tard. C’est ce qu’il y a de plus bête avec la maturité, ça vient toujours trop tard. Et tu veux que je te dise ? Monsieur Salomon, il n’a pas encore la maturité. Sans ça il y a longtemps qu’il m’aurait demandé de vivre avec lui. Il est aussi vieux que possible, et il a encore des passions, des intensités, des colères noires. Il n’a pas su s’adoucir. Parce qu’enfin, il n’y a pas de doute, il m’aime toujours, et c’est la passion qui le rend si rancunier. S’il ne m’aimait plus comme avant et si ce n’était pas la passion, il y a longtemps qu’il m’aurait demandé de venir vivre avec lui, on aurait eu un arrangement. Ce serait la maturité et le bon sens, chez lui. Mais non, mais non, c’est la passion, la rancune, la colère noire. Tu connais bien son regard : ça brûle là-dedans. [sep] Je me suis vite aperçu que, bien que très riche, monsieur Salomon était seul au monde. La plupart du temps, je le trouvais assis devant son grand bureau de philatéliste, une loupe dans l’œil, et il regardait les timbres avec plaisir, comme de vrais amis, et aussi les cartes postales qui lui parvenaient du passé et de tous les coins de la terre. Elles ne lui avaient pas été adressées personnellement, car il y en avait qui avaient été mises à la poste au siècle dernier, quand monsieur Salomon existait à peine, mais c’est chez lui qu’elles sont arrivées pour finir. Je l’ai plusieurs fois conduit aux puces et chez les brocanteurs où il les achète et les commerçants lui mettent tout spécialement de côté celles qui sont les plus personnelles et qui ont été écrites avec le plus d’émotion. J’en ai lu quelques-unes par indiscrétion, car monsieur Salomon les cache plutôt, à cause de leur caractère privé. Il y en avait une qui représentait une jeune fille habillée comme au début des temps modernes, avec quatre petits garçons en costumes de matelots et en chapeaux de paille canotiers, qui disait chéri chéri   \n",
       "\n",
       "        author  taille  \n",
       "0  GARY Romain     512  \n",
       "1  GARY Romain     512  "
      ]
     },
     "execution_count": 27,
     "metadata": {},
     "output_type": "execute_result"
    }
   ],
   "source": [
    "data[\"taille\"] = data.text.apply(lambda x : len(x.split(\" \")))\n",
    "data.head(2)"
   ]
  },
  {
   "cell_type": "code",
   "execution_count": 28,
   "id": "eb218813",
   "metadata": {},
   "outputs": [
    {
     "data": {
      "text/plain": [
       "309      1\n",
       "399      1\n",
       "512    247\n",
       "Name: taille, dtype: int64"
      ]
     },
     "execution_count": 28,
     "metadata": {},
     "output_type": "execute_result"
    }
   ],
   "source": [
    "data.taille.value_counts().sort_index()"
   ]
  },
  {
   "cell_type": "code",
   "execution_count": 29,
   "id": "865767ad",
   "metadata": {},
   "outputs": [
    {
     "data": {
      "text/plain": [
       "(247, 249, 2)"
      ]
     },
     "execution_count": 29,
     "metadata": {},
     "output_type": "execute_result"
    }
   ],
   "source": [
    "len(data[data.taille >= 512]), len(data), len(data[data.taille < 512])"
   ]
  },
  {
   "cell_type": "code",
   "execution_count": 30,
   "id": "67344292",
   "metadata": {},
   "outputs": [
    {
     "data": {
      "text/plain": [
       "(247, 3)"
      ]
     },
     "execution_count": 30,
     "metadata": {},
     "output_type": "execute_result"
    }
   ],
   "source": [
    "data_lim = data[data.taille==seq_len]\n",
    "data_lim.shape"
   ]
  },
  {
   "cell_type": "code",
   "execution_count": 31,
   "id": "8995d6b5",
   "metadata": {},
   "outputs": [],
   "source": [
    "#data[data.taille >= 512].value_counts().plot(kind=\"bar\");"
   ]
  },
  {
   "cell_type": "code",
   "execution_count": 32,
   "id": "bc070aad",
   "metadata": {},
   "outputs": [
    {
     "data": {
      "image/png": "[encoded data removed]",
      "text/plain": [
       "<Figure size 432x288 with 1 Axes>"
      ]
     },
     "metadata": {
      "needs_background": "light"
     },
     "output_type": "display_data"
    }
   ],
   "source": [
    "data_lim.author.value_counts().plot(kind=\"bar\");"
   ]
  },
  {
   "cell_type": "code",
   "execution_count": 33,
   "id": "953a9c46",
   "metadata": {},
   "outputs": [],
   "source": [
    "car = pd.DataFrame(data_lim.author.value_counts())"
   ]
  },
  {
   "cell_type": "code",
   "execution_count": 34,
   "id": "df5c958c",
   "metadata": {},
   "outputs": [
    {
     "data": {
      "text/html": [
       "<div>\n",
       "<style scoped>\n",
       "    .dataframe tbody tr th:only-of-type {\n",
       "        vertical-align: middle;\n",
       "    }\n",
       "\n",
       "    .dataframe tbody tr th {\n",
       "        vertical-align: top;\n",
       "    }\n",
       "\n",
       "    .dataframe thead th {\n",
       "        text-align: right;\n",
       "    }\n",
       "</style>\n",
       "<table border=\"1\" class=\"dataframe\">\n",
       "  <thead>\n",
       "    <tr style=\"text-align: right;\">\n",
       "      <th></th>\n",
       "      <th>author</th>\n",
       "    </tr>\n",
       "  </thead>\n",
       "  <tbody>\n",
       "    <tr>\n",
       "      <th>GARY Romain</th>\n",
       "      <td>146</td>\n",
       "    </tr>\n",
       "    <tr>\n",
       "      <th>KESSEL Joseph</th>\n",
       "      <td>101</td>\n",
       "    </tr>\n",
       "  </tbody>\n",
       "</table>\n",
       "</div>"
      ],
      "text/plain": [
       "               author\n",
       "GARY Romain       146\n",
       "KESSEL Joseph     101"
      ]
     },
     "execution_count": 34,
     "metadata": {},
     "output_type": "execute_result"
    }
   ],
   "source": [
    "car"
   ]
  },
  {
   "cell_type": "code",
   "execution_count": 35,
   "id": "9e11d032",
   "metadata": {},
   "outputs": [],
   "source": [
    "#define variables\n",
    "min_lines = data_lim.author.value_counts().min()\n",
    "last_author = data_lim.author.value_counts().index[-1]\n",
    "author_without_last = data_lim.author.value_counts().index[:-1].to_list()"
   ]
  },
  {
   "cell_type": "code",
   "execution_count": 36,
   "id": "cdcddd12",
   "metadata": {},
   "outputs": [
    {
     "data": {
      "text/plain": [
       "['GARY Romain']"
      ]
     },
     "execution_count": 36,
     "metadata": {},
     "output_type": "execute_result"
    }
   ],
   "source": [
    "author_without_last "
   ]
  },
  {
   "cell_type": "code",
   "execution_count": 37,
   "id": "a80e1549",
   "metadata": {},
   "outputs": [
    {
     "data": {
      "text/html": [
       "<div>\n",
       "<style scoped>\n",
       "    .dataframe tbody tr th:only-of-type {\n",
       "        vertical-align: middle;\n",
       "    }\n",
       "\n",
       "    .dataframe tbody tr th {\n",
       "        vertical-align: top;\n",
       "    }\n",
       "\n",
       "    .dataframe thead th {\n",
       "        text-align: right;\n",
       "    }\n",
       "</style>\n",
       "<table border=\"1\" class=\"dataframe\">\n",
       "  <thead>\n",
       "    <tr style=\"text-align: right;\">\n",
       "      <th></th>\n",
       "      <th>text</th>\n",
       "      <th>author</th>\n",
       "      <th>taille</th>\n",
       "    </tr>\n",
       "  </thead>\n",
       "  <tbody>\n",
       "    <tr>\n",
       "      <th>147</th>\n",
       "      <td>« J’ai un souvenir… Il faut que je vous le raconte… Un souvenir du temps où je ne connaissais pas encore les terreurs contre quoi je ne puis rien. J’accompagnais toujours John… Et j’aimais cela… Un jour, nous étions de ce côté (Sybil pointait un doigt vers l’horizon à l’est de la grande montagne), sur une piste qui traversait une savane et s’arrêtait à une forêt profonde d’un vert très foncé, presque noir. Derrière, on voyait très bien le Kilimandjaro. C’est là, juste à la limite de la brousse et de la forêt, que nous les avons aperçus : l’éléphant et le rhinocéros. Ils se tenaient face à face, l’un contre l’autre, corne contre trompe. Ils s’étaient rencontrés au sortir des arbres sur le même sentier, et aucun ne voulait céder le passage. John m’a dit que c’était toujours ainsi. Vous comprenez : les deux monstres les plus puissants de la nature… L’orgueil… Ils se sont battus à mort sous nos yeux. Le fond du combat était ce mur de verdure sombre et, plus loin, la montagne. L’éléphant a eu le dessus – comme toujours, dit John. Il a fini par renverser le rhino d’un coup d’épaule – quel coup et quelle épaule ! – et par le piétiner. Mais les entrailles lui sortaient du ventre. John a dû le faire abattre peu après… Eh bien, j’aurais voulu que ce combat dure sans fin. C’était toute la force et la férocité du monde. Le commencement et la fin des temps. Et moi, je n’étais plus une femme quelconque, chétive, craintive. J’étais tout cela… » [sep] Mais les moranes, eux, s’élançaient à la rencontre de l’énorme fauve, projeté sur eux par toute sa fureur et toute sa puissance. Leurs cris de guerre étaient tellement stridents que les rugissements ne parvenaient pas à les couvrir. Leur cercle était devenu si réduit que, pour retrouver l’espace libre, le lion avait à rompre, abattre, ravager, lacérer un maillon de cet anneau si friable d’os et de muscles humains. Le morane qui se trouvait sur la trajectoire meurtrière, celui qui recevait contre son bouclier la force et la rage du choc s’écroulait aussitôt. Mais ni les crocs ni les griffes n’atteignaient son courage. Il s’agrippait au fauve. Et déjà tous les autres guerriers étaient sur la bête, enfonçaient leurs lances entre ses côtes, dans sa gueule et la frappaient à coups redoublés de leurs coutelas. Un, deux, trois moranes roulaient égorgés, éventrés, l’épaule, la nuque, l’échine rompues. Mais ils ne souffraient pas. Leur transe les rendait insensibles. Ils revenaient à l’assaut. Ils aidaient les autres. Et il en restait toujours assez pour terminer cette chasse frénétique, incroyable, pour massacrer, hacher le fauve. Les survivants revenaient alors à la manyatta, leur peau noire teinte de leur propre sang et du sang du lion et, à la pointe de leurs lances, ils faisaient flotter la crinière. [sep] La suite vint aisément. Il s’agissait de la poursuite d’une tribu de lions mangeurs d’hommes, d’une ruse et férocité diaboliques. Bullit contait bien et avec simplicité. De plus, son récit était nourri</td>\n",
       "      <td>KESSEL Joseph</td>\n",
       "      <td>512</td>\n",
       "    </tr>\n",
       "    <tr>\n",
       "      <th>148</th>\n",
       "      <td>d’une vibration particulière : s’il s’adressait à moi, il parlait en vérité pour Sybil. D’abord elle fut, en bonne maîtresse de maison, préoccupée de l’impression que me faisait le récit. Mais son attention se détourna vite de moi. Ses mains, ses traits se calmèrent. Son regard prit cette lumineuse innocence qui le rendait plus beau. Ce n’était pas Bullit distrayant l’hôte d’un soir que Sybil entendait et voyait. Mais Bullit tel qu’il avait été dix années auparavant, plus léger de corps, plus mince et ardent de visage, sans raucité dans la voix, sans fibrilles rouges dans les yeux. Bullit tel qu’elle l’avait connu pour la première fois, colosse timide, qui portait sur lui l’odeur de la brousse et l’auréole de ses dangers, Bullit dans sa pleine gloire de chasseur blanc. Et lui, il disait son histoire pour une jeune fille arrivée d’Europe, limpide, exaltée, joyeuse, qui, sur la véranda fleurie de l’hôtel Norfolk ou au bar du Stanley ou dans les salons du Muthaïga-Club, l’écoutait comme on ne l’avait jamais écouté, le contemplait comme personne jamais ne l’avait regardé. [sep] La lune était haut dans le ciel quand nous atteignîmes, au centre du Parc royal, une immense plage circulaire, brillante et lisse, qui avait été autrefois recouverte par les eaux d’un lac. La clarté nocturne faisait courir à sa surface un scintillement d’ondes argentées. Et dans ce mirage lunaire, qui s’étendait jusqu’à la muraille du Kilimandjaro, on voyait jouer les troupeaux sauvages attirés par la liberté de l’espace, la fraîcheur de l’air et l’éclat du ciel. Les bêtes les plus lourdes et les plus puissantes, gnous, girafes et buffles, se déplaçaient calmement le long du cirque enchanté. Mais les zèbres, les gazelles de Grant, les impalas, les bushbucks se mêlaient au milieu du lac desséché dans une ronde sans fin, ni pesanteur, ni matière. Ces silhouettes désincarnées et inscrites sur l’argent de la nuit ainsi qu’à l’encre de Chine, glissaient à la surface d’un liquide astral, filaient, s’élançaient, se cabraient, s’élevaient, s’envolaient avec une légèreté, une vitesse, une aisance et une grâce que leurs mouvements, même les plus nobles et les plus charmants, ne connaissaient pas dans les heures du jour. C’était, imprégnée, menée par le clair de lune, une danse folle et sacrée. [sep] Il fonça sur King. Le lion se dressa de toute sa hauteur sur ses pattes arrière et avec ses pattes avant enlaça le cou de Bullit. Cette fois, il ne s’agissait pas d’une caresse. Le lion pesait sur l’homme pour le renverser. Et l’homme faisait le même effort afin de jeter bas le lion. Sous la fourrure et la peau de King, on voyait la force onduler en longs mouvements fauves. Sous les bras nus de Bullit, sur son cou dégagé saillaient des muscles et des tendons d’athlète. Pesée contre pesée, balancement contre balancement, ni Bullit ni King ne cédaient d’un pouce. Assurément, si le lion avait voulu employer toute sa puissance ou si un accès de fureur avait soudain armé ses reins et son poitrail de leur véritable pouvoir, Bullit, malgré ses étonnantes ressources physiques, eût</td>\n",
       "      <td>KESSEL Joseph</td>\n",
       "      <td>512</td>\n",
       "    </tr>\n",
       "    <tr>\n",
       "      <th>...</th>\n",
       "      <td>...</td>\n",
       "      <td>...</td>\n",
       "      <td>...</td>\n",
       "    </tr>\n",
       "    <tr>\n",
       "      <th>246</th>\n",
       "      <td>avec béatitude la fumée d’un cigare très noir venu des Indes. [sep] L’éléphant s’ébranla, passa près de nous, s’enfonça dans un taillis d’épineux. On entendait craquer la brousse. [sep] — Comme le ferait une Française, dis-je (et c’était vrai). Cela ne m’étonne pas après avoir lu votre lettre. » [sep] Je m’arrêtai juste à temps pour qu’il fût possible à la jeune femme d’interpréter mon étonnement à sa manière. [sep] Patricia trempa un doigt dans son breuvage, se lécha le doigt autour de l’ongle cassé, ajouta un peu de sucre. [sep] Elle parla d’abord en anglais, puis elle usa de dialectes africains. Mais le mot « King » revenait sans cesse. [sep] « J’ai cru que je pourrais… Mais non… C’est trop ignoble… Ces petites… déjà… les femmes de ces fous furieux… » [sep] Sur le cou long et tendre, la tête coiffée en boule appuya ce refus d’un mouvement très doux mais sans appel. [sep] « Lise… Lise Darbois. » Elle demanda soudain avec timidité : « Est-ce que je prononce encore convenablement ? [sep] Mais aussitôt elle se mit à rire, et l’innocente malice que j’aimais tant la rendit à la gaieté de l’enfance. [sep] J’allai chercher deux verres avec empressement : quand j’étais seul avec Bullit, j’avais très envie d’alcool. [sep] — Je n’ai pas compris, et cela n’a sûrement aucune importance, maman chérie », dit Patricia avec gentillesse. [sep] J’étendis un bras par-dessus sa petite valise, cherchai sa main. Elle l’enfonça dans la poche de son manteau. [sep] La tête coiffée en boule confirma d’un signe bref, mais son regard demeurait attaché au mouvement des bêtes. [sep] Il me regardait misérablement. Je ne pouvais pas deviner s’il préférait que je partage ou refuse son effroi. [sep] « En tout cas, pour prendre le thé, nous n’attendrons pas notre petite coureuse de brousse », s’écria Sybil. [sep] Les douces lèvres de la petite fille et les ailes si fines de son nez frémirent en même temps. Elle ajouta : [sep] Cette question ne la surprit point. On eût dit qu’elle l’attendait et dans l’instant même où je la faisais. [sep] Il était désert : ce n’était pas la saison du tourisme. De plus, la terreur Mau-Mau hantait alors le Kenya. [sep] Le ranger monta dans notre voiture avec sa carabine pour s’asseoir près de Bogo. Je pris place à l’arrière. [sep] Je m’appuyai contre un arbre et fixai mes yeux sur le sommet de la montagne et ses neiges couleur d’aurore. [sep] Patricia obéit. Ses traits étaient paisibles mais ses yeux aux aguets. Elle attendait encore quelque chose. [sep] « Maman, dit-elle, parle toujours des beaux jouets que les enfants ont dans les villes. Des jouets ! Des… » [sep] Elle chercha un instant à mieux se faire comprendre, haussa légèrement ses épaules minces, et dit encore : [sep] Patricia eut de nouveau son étrange soupir maternel, mais elle reprit avec une intonation tout enfantine : [sep] « Les voilà, les voilà ! s’écria Patricia, penchée à moitié hors de la portière. Et nous sommes à temps. » [sep]</td>\n",
       "      <td>KESSEL Joseph</td>\n",
       "      <td>512</td>\n",
       "    </tr>\n",
       "    <tr>\n",
       "      <th>247</th>\n",
       "      <td>Nous étions au pied du monticule. Patricia bondit de la voiture avant qu’elle ne fût complètement arrêtée. [sep] — Il n’a pu vous raconter grand-chose, dis-je. Il n’y a pas d’homme plus renfermé, plus avare de paroles. [sep] Les yeux de la jeune femme allaient d’objet en objet comme d’ami en ami. Quelques-uns étaient très beaux. [sep] « Il était si faible, si menu, vous n’avez pas idée, quand Kihoro m’en a fait cadeau », s’écria Patricia. [sep] Quand elle vit la Land Rover s’engager sur la pente douce qui conduisait à la manyatta, Patricia me dit : [sep] — Et qu’est-ce que vous allez répondre ? demanda Sybil dont les lèvres blanchies remuaient difficilement. [sep] — Et je l’élèverai, et il sera mon ami, et, alors, vous, vous allez encore tirer sur lui », dit Patricia. [sep] « Je ne veux pas inquiéter les bêtes, lui dis-je. Mais seulement vivre un peu avec elles, comme elles. » [sep] Il m’est difficile d’expliquer la joie que me firent éprouver ce sourire et cette réponse. Je demandai : [sep] Bien que le matin fût encore très frais, de grosses mouches arrivaient en essaims pressés, bourdonnants. [sep] Bullit avait obéi. La petite fille fut au sol sans même ouvrir la portière. Bullit ébaucha un mouvement. [sep] — Il a passé la nuit aux environs de notre bungalow, dans le bois, à guetter que je sorte, dit Patricia. [sep] Pour la première fois depuis que nous voyagions ensemble, Bogo s’oublia suffisamment pour m’interrompre. [sep] Je quittai Sybil peu après. Elle ne chercha pas à me retenir. Elle pensait à sa lettre, à sa réception. [sep] Il ne gronda plus cette fois, mais sa gueule s’ouvrit comme un piège étincelant et il se dressa à demi. [sep] Je fis comme elle voulait. Ma paume se trouva posée sur le cou de King, juste au défaut de la crinière. [sep] Lui non plus il ne bougeait pas. Les gouttes elles-mêmes dans le loup de satin noir étaient immobiles. [sep] « Vos lions, vos rhinocéros, vos éléphants… Les animaux sauvages semblent pour vous un bien personnel. [sep] — Et sans le vouloir, ni même le savoir », dis-je. Bullit secoua son mufle avec entêtement et gronda : [sep] Les têtes superposées se déplacèrent insensiblement de branche en branche et finirent par disparaître. [sep] — Eh bien, conseilla Sybil, prenez l’histoire que vous m’avez dite le soir où nous nous sommes connus. [sep] Ce que je m’étais refusé jusque-là d’admettre à moi-même, il me parut tout simple soudain de l’avouer. [sep] « Vous avez tort, dit-elle. Si je le désire, King vous mettra en morceaux tout de suite. On essaie ? » [sep] Pour attaquer, les jeunes hommes n’avaient qu’une lance et un coutelas. Pour se défendre, un bouclier. [sep] Il n’y avait pas trace d’émotion dans sa voix et ses grands yeux fixés sur Ol’Kalou étaient paisibles. [sep] Pensait-il au Dieu des missionnaires ou à d’autres plus anciens et puissants sur la terre d’Afrique ? [sep] Le vieil homme se tenait aussi droit que la haute lance qu’il</td>\n",
       "      <td>KESSEL Joseph</td>\n",
       "      <td>512</td>\n",
       "    </tr>\n",
       "  </tbody>\n",
       "</table>\n",
       "<p>101 rows × 3 columns</p>\n",
       "</div>"
      ],
      "text/plain": [
       "                                                                                                                                                                                                                                                                                                                                                                                                                                                                                                                                                                                                                                                                                                                                                                                                                                                                                                                                                                                                                                                                                                                                                                                                                                                                                                                                                                                                                                                                                                                                                                                                                                                                                                                                                                                                                                                                                                                                                                                                                                                                                                                                                                                                                                                                                                                                                                                                                                                                                                                                                                                                                                                                                                                                                                                                                                                                                                                                                                                                                                                                                                                                                                                                            text  \\\n",
       "147                                                                                                    « J’ai un souvenir… Il faut que je vous le raconte… Un souvenir du temps où je ne connaissais pas encore les terreurs contre quoi je ne puis rien. J’accompagnais toujours John… Et j’aimais cela… Un jour, nous étions de ce côté (Sybil pointait un doigt vers l’horizon à l’est de la grande montagne), sur une piste qui traversait une savane et s’arrêtait à une forêt profonde d’un vert très foncé, presque noir. Derrière, on voyait très bien le Kilimandjaro. C’est là, juste à la limite de la brousse et de la forêt, que nous les avons aperçus : l’éléphant et le rhinocéros. Ils se tenaient face à face, l’un contre l’autre, corne contre trompe. Ils s’étaient rencontrés au sortir des arbres sur le même sentier, et aucun ne voulait céder le passage. John m’a dit que c’était toujours ainsi. Vous comprenez : les deux monstres les plus puissants de la nature… L’orgueil… Ils se sont battus à mort sous nos yeux. Le fond du combat était ce mur de verdure sombre et, plus loin, la montagne. L’éléphant a eu le dessus – comme toujours, dit John. Il a fini par renverser le rhino d’un coup d’épaule – quel coup et quelle épaule ! – et par le piétiner. Mais les entrailles lui sortaient du ventre. John a dû le faire abattre peu après… Eh bien, j’aurais voulu que ce combat dure sans fin. C’était toute la force et la férocité du monde. Le commencement et la fin des temps. Et moi, je n’étais plus une femme quelconque, chétive, craintive. J’étais tout cela… » [sep] Mais les moranes, eux, s’élançaient à la rencontre de l’énorme fauve, projeté sur eux par toute sa fureur et toute sa puissance. Leurs cris de guerre étaient tellement stridents que les rugissements ne parvenaient pas à les couvrir. Leur cercle était devenu si réduit que, pour retrouver l’espace libre, le lion avait à rompre, abattre, ravager, lacérer un maillon de cet anneau si friable d’os et de muscles humains. Le morane qui se trouvait sur la trajectoire meurtrière, celui qui recevait contre son bouclier la force et la rage du choc s’écroulait aussitôt. Mais ni les crocs ni les griffes n’atteignaient son courage. Il s’agrippait au fauve. Et déjà tous les autres guerriers étaient sur la bête, enfonçaient leurs lances entre ses côtes, dans sa gueule et la frappaient à coups redoublés de leurs coutelas. Un, deux, trois moranes roulaient égorgés, éventrés, l’épaule, la nuque, l’échine rompues. Mais ils ne souffraient pas. Leur transe les rendait insensibles. Ils revenaient à l’assaut. Ils aidaient les autres. Et il en restait toujours assez pour terminer cette chasse frénétique, incroyable, pour massacrer, hacher le fauve. Les survivants revenaient alors à la manyatta, leur peau noire teinte de leur propre sang et du sang du lion et, à la pointe de leurs lances, ils faisaient flotter la crinière. [sep] La suite vint aisément. Il s’agissait de la poursuite d’une tribu de lions mangeurs d’hommes, d’une ruse et férocité diaboliques. Bullit contait bien et avec simplicité. De plus, son récit était nourri   \n",
       "148  d’une vibration particulière : s’il s’adressait à moi, il parlait en vérité pour Sybil. D’abord elle fut, en bonne maîtresse de maison, préoccupée de l’impression que me faisait le récit. Mais son attention se détourna vite de moi. Ses mains, ses traits se calmèrent. Son regard prit cette lumineuse innocence qui le rendait plus beau. Ce n’était pas Bullit distrayant l’hôte d’un soir que Sybil entendait et voyait. Mais Bullit tel qu’il avait été dix années auparavant, plus léger de corps, plus mince et ardent de visage, sans raucité dans la voix, sans fibrilles rouges dans les yeux. Bullit tel qu’elle l’avait connu pour la première fois, colosse timide, qui portait sur lui l’odeur de la brousse et l’auréole de ses dangers, Bullit dans sa pleine gloire de chasseur blanc. Et lui, il disait son histoire pour une jeune fille arrivée d’Europe, limpide, exaltée, joyeuse, qui, sur la véranda fleurie de l’hôtel Norfolk ou au bar du Stanley ou dans les salons du Muthaïga-Club, l’écoutait comme on ne l’avait jamais écouté, le contemplait comme personne jamais ne l’avait regardé. [sep] La lune était haut dans le ciel quand nous atteignîmes, au centre du Parc royal, une immense plage circulaire, brillante et lisse, qui avait été autrefois recouverte par les eaux d’un lac. La clarté nocturne faisait courir à sa surface un scintillement d’ondes argentées. Et dans ce mirage lunaire, qui s’étendait jusqu’à la muraille du Kilimandjaro, on voyait jouer les troupeaux sauvages attirés par la liberté de l’espace, la fraîcheur de l’air et l’éclat du ciel. Les bêtes les plus lourdes et les plus puissantes, gnous, girafes et buffles, se déplaçaient calmement le long du cirque enchanté. Mais les zèbres, les gazelles de Grant, les impalas, les bushbucks se mêlaient au milieu du lac desséché dans une ronde sans fin, ni pesanteur, ni matière. Ces silhouettes désincarnées et inscrites sur l’argent de la nuit ainsi qu’à l’encre de Chine, glissaient à la surface d’un liquide astral, filaient, s’élançaient, se cabraient, s’élevaient, s’envolaient avec une légèreté, une vitesse, une aisance et une grâce que leurs mouvements, même les plus nobles et les plus charmants, ne connaissaient pas dans les heures du jour. C’était, imprégnée, menée par le clair de lune, une danse folle et sacrée. [sep] Il fonça sur King. Le lion se dressa de toute sa hauteur sur ses pattes arrière et avec ses pattes avant enlaça le cou de Bullit. Cette fois, il ne s’agissait pas d’une caresse. Le lion pesait sur l’homme pour le renverser. Et l’homme faisait le même effort afin de jeter bas le lion. Sous la fourrure et la peau de King, on voyait la force onduler en longs mouvements fauves. Sous les bras nus de Bullit, sur son cou dégagé saillaient des muscles et des tendons d’athlète. Pesée contre pesée, balancement contre balancement, ni Bullit ni King ne cédaient d’un pouce. Assurément, si le lion avait voulu employer toute sa puissance ou si un accès de fureur avait soudain armé ses reins et son poitrail de leur véritable pouvoir, Bullit, malgré ses étonnantes ressources physiques, eût   \n",
       "..                                                                                                                                                                                                                                                                                                                                                                                                                                                                                                                                                                                                                                                                                                                                                                                                                                                                                                                                                                                                                                                                                                                                                                                                                                                                                                                                                                                                                                                                                                                                                                                                                                                                                                                                                                                                                                                                                                                                                                                                                                                                                                                                                                                                                                                                                                                                                                                                                                                                                                                                                                                                                                                                                                                                                                                                                                                                                                                                                                                                                                                                                                                                                                                                           ...   \n",
       "246                                                                                                                                        avec béatitude la fumée d’un cigare très noir venu des Indes. [sep] L’éléphant s’ébranla, passa près de nous, s’enfonça dans un taillis d’épineux. On entendait craquer la brousse. [sep] — Comme le ferait une Française, dis-je (et c’était vrai). Cela ne m’étonne pas après avoir lu votre lettre. » [sep] Je m’arrêtai juste à temps pour qu’il fût possible à la jeune femme d’interpréter mon étonnement à sa manière. [sep] Patricia trempa un doigt dans son breuvage, se lécha le doigt autour de l’ongle cassé, ajouta un peu de sucre. [sep] Elle parla d’abord en anglais, puis elle usa de dialectes africains. Mais le mot « King » revenait sans cesse. [sep] « J’ai cru que je pourrais… Mais non… C’est trop ignoble… Ces petites… déjà… les femmes de ces fous furieux… » [sep] Sur le cou long et tendre, la tête coiffée en boule appuya ce refus d’un mouvement très doux mais sans appel. [sep] « Lise… Lise Darbois. » Elle demanda soudain avec timidité : « Est-ce que je prononce encore convenablement ? [sep] Mais aussitôt elle se mit à rire, et l’innocente malice que j’aimais tant la rendit à la gaieté de l’enfance. [sep] J’allai chercher deux verres avec empressement : quand j’étais seul avec Bullit, j’avais très envie d’alcool. [sep] — Je n’ai pas compris, et cela n’a sûrement aucune importance, maman chérie », dit Patricia avec gentillesse. [sep] J’étendis un bras par-dessus sa petite valise, cherchai sa main. Elle l’enfonça dans la poche de son manteau. [sep] La tête coiffée en boule confirma d’un signe bref, mais son regard demeurait attaché au mouvement des bêtes. [sep] Il me regardait misérablement. Je ne pouvais pas deviner s’il préférait que je partage ou refuse son effroi. [sep] « En tout cas, pour prendre le thé, nous n’attendrons pas notre petite coureuse de brousse », s’écria Sybil. [sep] Les douces lèvres de la petite fille et les ailes si fines de son nez frémirent en même temps. Elle ajouta : [sep] Cette question ne la surprit point. On eût dit qu’elle l’attendait et dans l’instant même où je la faisais. [sep] Il était désert : ce n’était pas la saison du tourisme. De plus, la terreur Mau-Mau hantait alors le Kenya. [sep] Le ranger monta dans notre voiture avec sa carabine pour s’asseoir près de Bogo. Je pris place à l’arrière. [sep] Je m’appuyai contre un arbre et fixai mes yeux sur le sommet de la montagne et ses neiges couleur d’aurore. [sep] Patricia obéit. Ses traits étaient paisibles mais ses yeux aux aguets. Elle attendait encore quelque chose. [sep] « Maman, dit-elle, parle toujours des beaux jouets que les enfants ont dans les villes. Des jouets ! Des… » [sep] Elle chercha un instant à mieux se faire comprendre, haussa légèrement ses épaules minces, et dit encore : [sep] Patricia eut de nouveau son étrange soupir maternel, mais elle reprit avec une intonation tout enfantine : [sep] « Les voilà, les voilà ! s’écria Patricia, penchée à moitié hors de la portière. Et nous sommes à temps. » [sep]   \n",
       "247                                                                                                                                                          Nous étions au pied du monticule. Patricia bondit de la voiture avant qu’elle ne fût complètement arrêtée. [sep] — Il n’a pu vous raconter grand-chose, dis-je. Il n’y a pas d’homme plus renfermé, plus avare de paroles. [sep] Les yeux de la jeune femme allaient d’objet en objet comme d’ami en ami. Quelques-uns étaient très beaux. [sep] « Il était si faible, si menu, vous n’avez pas idée, quand Kihoro m’en a fait cadeau », s’écria Patricia. [sep] Quand elle vit la Land Rover s’engager sur la pente douce qui conduisait à la manyatta, Patricia me dit : [sep] — Et qu’est-ce que vous allez répondre ? demanda Sybil dont les lèvres blanchies remuaient difficilement. [sep] — Et je l’élèverai, et il sera mon ami, et, alors, vous, vous allez encore tirer sur lui », dit Patricia. [sep] « Je ne veux pas inquiéter les bêtes, lui dis-je. Mais seulement vivre un peu avec elles, comme elles. » [sep] Il m’est difficile d’expliquer la joie que me firent éprouver ce sourire et cette réponse. Je demandai : [sep] Bien que le matin fût encore très frais, de grosses mouches arrivaient en essaims pressés, bourdonnants. [sep] Bullit avait obéi. La petite fille fut au sol sans même ouvrir la portière. Bullit ébaucha un mouvement. [sep] — Il a passé la nuit aux environs de notre bungalow, dans le bois, à guetter que je sorte, dit Patricia. [sep] Pour la première fois depuis que nous voyagions ensemble, Bogo s’oublia suffisamment pour m’interrompre. [sep] Je quittai Sybil peu après. Elle ne chercha pas à me retenir. Elle pensait à sa lettre, à sa réception. [sep] Il ne gronda plus cette fois, mais sa gueule s’ouvrit comme un piège étincelant et il se dressa à demi. [sep] Je fis comme elle voulait. Ma paume se trouva posée sur le cou de King, juste au défaut de la crinière. [sep] Lui non plus il ne bougeait pas. Les gouttes elles-mêmes dans le loup de satin noir étaient immobiles. [sep] « Vos lions, vos rhinocéros, vos éléphants… Les animaux sauvages semblent pour vous un bien personnel. [sep] — Et sans le vouloir, ni même le savoir », dis-je. Bullit secoua son mufle avec entêtement et gronda : [sep] Les têtes superposées se déplacèrent insensiblement de branche en branche et finirent par disparaître. [sep] — Eh bien, conseilla Sybil, prenez l’histoire que vous m’avez dite le soir où nous nous sommes connus. [sep] Ce que je m’étais refusé jusque-là d’admettre à moi-même, il me parut tout simple soudain de l’avouer. [sep] « Vous avez tort, dit-elle. Si je le désire, King vous mettra en morceaux tout de suite. On essaie ? » [sep] Pour attaquer, les jeunes hommes n’avaient qu’une lance et un coutelas. Pour se défendre, un bouclier. [sep] Il n’y avait pas trace d’émotion dans sa voix et ses grands yeux fixés sur Ol’Kalou étaient paisibles. [sep] Pensait-il au Dieu des missionnaires ou à d’autres plus anciens et puissants sur la terre d’Afrique ? [sep] Le vieil homme se tenait aussi droit que la haute lance qu’il   \n",
       "\n",
       "            author  taille  \n",
       "147  KESSEL Joseph     512  \n",
       "148  KESSEL Joseph     512  \n",
       "..             ...     ...  \n",
       "246  KESSEL Joseph     512  \n",
       "247  KESSEL Joseph     512  \n",
       "\n",
       "[101 rows x 3 columns]"
      ]
     },
     "execution_count": 37,
     "metadata": {},
     "output_type": "execute_result"
    }
   ],
   "source": [
    "#Downsample majority classPython\n",
    "# Separate majority and minority classes\n",
    "\n",
    "df_minority = data_lim[data_lim.author==last_author]\n",
    "df_minority"
   ]
  },
  {
   "cell_type": "code",
   "execution_count": 38,
   "id": "4803e3be",
   "metadata": {},
   "outputs": [],
   "source": [
    "from sklearn.utils import resample \n",
    "\n",
    "#Downsample majority classPython\n",
    "\n",
    "#df_downsampled=pd.DataFrame(columns=['text','author','title','book_date'])\n",
    "df_all = []\n",
    "\n",
    "for _ in author_without_last:\n",
    "    df_majority = data_lim[data_lim.author==_]\n",
    "\n",
    "\n",
    "    # Downsample majority class\n",
    "    df_majority_downsampled = resample(df_majority, \n",
    "                                     replace=False,    # sample without replacement\n",
    "                                     n_samples=min_lines,     # to match minority class\n",
    "                                     random_state=123) # reproducible results\n",
    "    \n",
    "    df_all.append(df_majority_downsampled)\n",
    "\n",
    "# Combine minority class with downsampled majority class\n",
    "df_all.append(df_minority)\n",
    "df_downsampled = pd.concat(df_all, ignore_index= True, axis=0)    "
   ]
  },
  {
   "cell_type": "code",
   "execution_count": 39,
   "id": "0741674e",
   "metadata": {},
   "outputs": [
    {
     "data": {
      "text/plain": [
       "GARY Romain      101\n",
       "KESSEL Joseph    101\n",
       "Name: author, dtype: int64"
      ]
     },
     "execution_count": 39,
     "metadata": {},
     "output_type": "execute_result"
    }
   ],
   "source": [
    "df_downsampled.author.value_counts()"
   ]
  },
  {
   "cell_type": "code",
   "execution_count": 40,
   "id": "61a9d914",
   "metadata": {},
   "outputs": [
    {
     "data": {
      "text/html": [
       "<div>\n",
       "<style scoped>\n",
       "    .dataframe tbody tr th:only-of-type {\n",
       "        vertical-align: middle;\n",
       "    }\n",
       "\n",
       "    .dataframe tbody tr th {\n",
       "        vertical-align: top;\n",
       "    }\n",
       "\n",
       "    .dataframe thead th {\n",
       "        text-align: right;\n",
       "    }\n",
       "</style>\n",
       "<table border=\"1\" class=\"dataframe\">\n",
       "  <thead>\n",
       "    <tr style=\"text-align: right;\">\n",
       "      <th></th>\n",
       "      <th>text</th>\n",
       "      <th>author</th>\n",
       "      <th>taille</th>\n",
       "    </tr>\n",
       "  </thead>\n",
       "  <tbody>\n",
       "    <tr>\n",
       "      <th>0</th>\n",
       "      <td>salle d’attente et j’ai frappé à la porte de monsieur Salomon. Il était vêtu avec sa dernière élégance et donnait une interview à un journaliste qui s’intéressait. [sep] Quand Chuck est parti, j’ai cherché dans le dictionnaire. J’ai trouvé que l’autre roi Salomon était le successeur de David, qui construisit des forteresses, équipa son armée de chars et s’assura des alliances, mais qu’il est mort quand même et est devenu rien et personne. Le petit Larousse disait que sa sagesse était restée légendaire dans tout l’Orient et dans l’Ancien Testament. Il était aussi connu pour ses fastes et c’est là qu’il ressemblait encore à monsieur Salomon, qui faisait pleuvoir ses largesses, lui aussi. Je pensais à cela parfois en allant porter de sa part des cadeaux à quelqu’un qui n’attendait plus rien. Il y en avait qui étaient tellement habitués à être oubliés que lorsqu’on déposait à leur porte des dons anonymes, ils croyaient que c’était tombé du ciel et qu’il y avait Quelqu’un qui s’était souvenu d’eux, là-haut. Moi je ne trouve pas que c’est de la volonté de puissance et de la folie des grandeurs mais peut-être que Chuck a raison lorsqu’il dit que c’est chez monsieur Salomon une façon polie de critiquer le ciel et de lui causer des remords. [sep] — Eh bien, justement, c’est la réponse qu’il faut… Allô, Nicolas ? Écoute-moi, Nicolas, c’est pas une question d’arithmétique. Tu as quel âge ? Dix-sept ans ? Alors tu dois comprendre que lorsqu’on dit qu’ils sont quatre milliards, ça veut dire que c’est toi qui es quatre milliards. C’est comme s’il y avait quatre milliards de plus de toi-même. Ça te rend important, non ? Tu comprends ? Tu n’es pas seul au monde, tu es quatre milliards. Tu te rends compte ? C’est formidable ! Ça change tout. Tu es français, tu es africain, tu es japonais… Tu es partout, mon vieux, tu es sur toute la terre ! Réfléchis à ça et rappelle-moi. Je serai là vendredi prochain de dix-sept heures à minuit. Je m’appelle Jérôme. Il faut réapprendre à compter, Nicolas. Tu as dix-sept ans, tu dois connaître les maths nouvelles. Seul au monde, c’est des maths anciennes. Tu as l’impression que tu ne comptes pas parce que tu ne sais pas compter. N’oublie pas de me rappeler, Nicolas. J’attends ton coup de téléphone. Je l’attends, ne m’oublie pas, Nicolas. Je compte sur toi, souviens-toi. [sep] J’étais donc assis là et je devais faire une drôle de tête, parce que monsieur Salomon s’est mis à rire, il voyait bien que je n’étais pas croyant, alors il a sorti son carnet de chèques et il m’en a signé un d’une brique et demie sans hésiter, comme si c’était la moindre des choses. Un homme que je ne connaissais ni d’Eve ni d’Adam une demi-heure auparavant. Là alors j’en ai eu les genoux qui se sont mis à trembler, parce que si des inconnus se mettent à vous signer des chèques d’une brique et demie, n’importe quoi peut vous arriver, et c’est l’angoisse. J’étais même devenu tout</td>\n",
       "      <td>GARY Romain</td>\n",
       "      <td>512</td>\n",
       "    </tr>\n",
       "    <tr>\n",
       "      <th>1</th>\n",
       "      <td>au moins qu’elle profite avant. [sep] — Non, ça ira, monsieur Salomon. J’ai ce qu’il faut. Ça l’amusera de danser un peu, même si ce ne sont plus les mêmes danses que de son temps, quand c’était le charleston et le shimmy. J’ai vu ça dans les films muets. [sep] J’ai quand même pris quelques gnons parce qu’il avait un copain qui nous venait du Maghreb et ça m’a gêné pour cogner, je ne suis pas raciste. En France, on ne doit taper que sur des Français, si on veut être correct. [sep] — Je suis là, fit la voix de monsieur Salomon, et avec la nuit elle était encore plus profonde. Je me porte bien, je suis là, je ne suis pas encore mort, quoi qu’on en dise. Vous êtes un grand angoissé, mon jeune ami. [sep] — Afin d’encourager les personnes âgées à acquérir une attitude entreprenante dans une nouvelle étape de l’existence ! gueula brusquement monsieur Salomon et c’est seulement lorsqu’il ajouta, en brandissant le poing : [sep] — Il ne faut surtout pas être impatient, Jeannot. Ça risque de prendre du temps. Il faut un peu de chance, bien sûr, mais la chance, c’est comme une femme, il faut la désirer. Ça tombe bien, j’ai besoin de m’occuper. [sep] — Pas du tout, pas du tout. Et à propos de mademoiselle Cora, si vous avez des dépenses, je suis prêt à m’en charger. C’était une femme charmante et qui a été très aimée. Alors permettez-moi d’assumer tous les frais. [sep] Il se tut, les mains sur les cuisses, regardant sur la table le bon pain solide et honnête. C’était même formidable, à la fin, cet homme tout blanc de soixante ans qui ne comprenait pas qu’on pouvait aimer les vieux. [sep] — C’est un peu de votre faute. Il ne sait pas que vous avez commencé à l’aimer vraiment. Vous ne lui avez pas fait savoir. Je suis sûr qu’aujourd’hui, si les Allemands revenaient, et s’il se retrouvait dans sa cave… [sep] — J’ai vu un film à la cinémathèque, Le facteur sonne toujours deux fois, c’est ce que je connais de plus vrai comme titre. Au-delà de deux, c’est plus le même facteur. C’est un autre. C’est un facteur sociologique. [sep] — Eh bien, nous allons prendre ma Citroën familiale. Peux-tu me mener rue Cambige ? Je n’aime pas conduire lentement dans Paris aujourd’hui. J’avais une Bugatti, autrefois. Mais elle est devenue une pièce de musée. [sep] Et j’ai tendu la main. Elle a hésité mais avec la gueule que j’ai elle n’a pas eu confiance. Pour elle, c’était moi l’assassin. Elle m’a regardé en battant des cils et puis elle m’a tout de suite donné l’enveloppe. [sep] Je lui ai pris le bras et on s’est dirigés vers la sortie. En passant près du micro elle a ralenti avec un sourire d’enfant coupable mais je l’ai retenue et ouf ! on était dehors. Je l’ai fait monter dans le taxi. [sep] La clé n’était pas sous le paillasson et quand Aline m’a ouvert j’ai tout de</td>\n",
       "      <td>GARY Romain</td>\n",
       "      <td>512</td>\n",
       "    </tr>\n",
       "    <tr>\n",
       "      <th>...</th>\n",
       "      <td>...</td>\n",
       "      <td>...</td>\n",
       "      <td>...</td>\n",
       "    </tr>\n",
       "    <tr>\n",
       "      <th>200</th>\n",
       "      <td>avec béatitude la fumée d’un cigare très noir venu des Indes. [sep] L’éléphant s’ébranla, passa près de nous, s’enfonça dans un taillis d’épineux. On entendait craquer la brousse. [sep] — Comme le ferait une Française, dis-je (et c’était vrai). Cela ne m’étonne pas après avoir lu votre lettre. » [sep] Je m’arrêtai juste à temps pour qu’il fût possible à la jeune femme d’interpréter mon étonnement à sa manière. [sep] Patricia trempa un doigt dans son breuvage, se lécha le doigt autour de l’ongle cassé, ajouta un peu de sucre. [sep] Elle parla d’abord en anglais, puis elle usa de dialectes africains. Mais le mot « King » revenait sans cesse. [sep] « J’ai cru que je pourrais… Mais non… C’est trop ignoble… Ces petites… déjà… les femmes de ces fous furieux… » [sep] Sur le cou long et tendre, la tête coiffée en boule appuya ce refus d’un mouvement très doux mais sans appel. [sep] « Lise… Lise Darbois. » Elle demanda soudain avec timidité : « Est-ce que je prononce encore convenablement ? [sep] Mais aussitôt elle se mit à rire, et l’innocente malice que j’aimais tant la rendit à la gaieté de l’enfance. [sep] J’allai chercher deux verres avec empressement : quand j’étais seul avec Bullit, j’avais très envie d’alcool. [sep] — Je n’ai pas compris, et cela n’a sûrement aucune importance, maman chérie », dit Patricia avec gentillesse. [sep] J’étendis un bras par-dessus sa petite valise, cherchai sa main. Elle l’enfonça dans la poche de son manteau. [sep] La tête coiffée en boule confirma d’un signe bref, mais son regard demeurait attaché au mouvement des bêtes. [sep] Il me regardait misérablement. Je ne pouvais pas deviner s’il préférait que je partage ou refuse son effroi. [sep] « En tout cas, pour prendre le thé, nous n’attendrons pas notre petite coureuse de brousse », s’écria Sybil. [sep] Les douces lèvres de la petite fille et les ailes si fines de son nez frémirent en même temps. Elle ajouta : [sep] Cette question ne la surprit point. On eût dit qu’elle l’attendait et dans l’instant même où je la faisais. [sep] Il était désert : ce n’était pas la saison du tourisme. De plus, la terreur Mau-Mau hantait alors le Kenya. [sep] Le ranger monta dans notre voiture avec sa carabine pour s’asseoir près de Bogo. Je pris place à l’arrière. [sep] Je m’appuyai contre un arbre et fixai mes yeux sur le sommet de la montagne et ses neiges couleur d’aurore. [sep] Patricia obéit. Ses traits étaient paisibles mais ses yeux aux aguets. Elle attendait encore quelque chose. [sep] « Maman, dit-elle, parle toujours des beaux jouets que les enfants ont dans les villes. Des jouets ! Des… » [sep] Elle chercha un instant à mieux se faire comprendre, haussa légèrement ses épaules minces, et dit encore : [sep] Patricia eut de nouveau son étrange soupir maternel, mais elle reprit avec une intonation tout enfantine : [sep] « Les voilà, les voilà ! s’écria Patricia, penchée à moitié hors de la portière. Et nous sommes à temps. » [sep]</td>\n",
       "      <td>KESSEL Joseph</td>\n",
       "      <td>512</td>\n",
       "    </tr>\n",
       "    <tr>\n",
       "      <th>201</th>\n",
       "      <td>Nous étions au pied du monticule. Patricia bondit de la voiture avant qu’elle ne fût complètement arrêtée. [sep] — Il n’a pu vous raconter grand-chose, dis-je. Il n’y a pas d’homme plus renfermé, plus avare de paroles. [sep] Les yeux de la jeune femme allaient d’objet en objet comme d’ami en ami. Quelques-uns étaient très beaux. [sep] « Il était si faible, si menu, vous n’avez pas idée, quand Kihoro m’en a fait cadeau », s’écria Patricia. [sep] Quand elle vit la Land Rover s’engager sur la pente douce qui conduisait à la manyatta, Patricia me dit : [sep] — Et qu’est-ce que vous allez répondre ? demanda Sybil dont les lèvres blanchies remuaient difficilement. [sep] — Et je l’élèverai, et il sera mon ami, et, alors, vous, vous allez encore tirer sur lui », dit Patricia. [sep] « Je ne veux pas inquiéter les bêtes, lui dis-je. Mais seulement vivre un peu avec elles, comme elles. » [sep] Il m’est difficile d’expliquer la joie que me firent éprouver ce sourire et cette réponse. Je demandai : [sep] Bien que le matin fût encore très frais, de grosses mouches arrivaient en essaims pressés, bourdonnants. [sep] Bullit avait obéi. La petite fille fut au sol sans même ouvrir la portière. Bullit ébaucha un mouvement. [sep] — Il a passé la nuit aux environs de notre bungalow, dans le bois, à guetter que je sorte, dit Patricia. [sep] Pour la première fois depuis que nous voyagions ensemble, Bogo s’oublia suffisamment pour m’interrompre. [sep] Je quittai Sybil peu après. Elle ne chercha pas à me retenir. Elle pensait à sa lettre, à sa réception. [sep] Il ne gronda plus cette fois, mais sa gueule s’ouvrit comme un piège étincelant et il se dressa à demi. [sep] Je fis comme elle voulait. Ma paume se trouva posée sur le cou de King, juste au défaut de la crinière. [sep] Lui non plus il ne bougeait pas. Les gouttes elles-mêmes dans le loup de satin noir étaient immobiles. [sep] « Vos lions, vos rhinocéros, vos éléphants… Les animaux sauvages semblent pour vous un bien personnel. [sep] — Et sans le vouloir, ni même le savoir », dis-je. Bullit secoua son mufle avec entêtement et gronda : [sep] Les têtes superposées se déplacèrent insensiblement de branche en branche et finirent par disparaître. [sep] — Eh bien, conseilla Sybil, prenez l’histoire que vous m’avez dite le soir où nous nous sommes connus. [sep] Ce que je m’étais refusé jusque-là d’admettre à moi-même, il me parut tout simple soudain de l’avouer. [sep] « Vous avez tort, dit-elle. Si je le désire, King vous mettra en morceaux tout de suite. On essaie ? » [sep] Pour attaquer, les jeunes hommes n’avaient qu’une lance et un coutelas. Pour se défendre, un bouclier. [sep] Il n’y avait pas trace d’émotion dans sa voix et ses grands yeux fixés sur Ol’Kalou étaient paisibles. [sep] Pensait-il au Dieu des missionnaires ou à d’autres plus anciens et puissants sur la terre d’Afrique ? [sep] Le vieil homme se tenait aussi droit que la haute lance qu’il</td>\n",
       "      <td>KESSEL Joseph</td>\n",
       "      <td>512</td>\n",
       "    </tr>\n",
       "  </tbody>\n",
       "</table>\n",
       "<p>202 rows × 3 columns</p>\n",
       "</div>"
      ],
      "text/plain": [
       "                                                                                                                                                                                                                                                                                                                                                                                                                                                                                                                                                                                                                                                                                                                                                                                                                                                                                                                                                                                                                                                                                                                                                                                                                                                                                                                                                                                                                                                                                                                                                                                                                                                                                                                                                                                                                                                                                                                                                                                                                                                                                                                                                                                                                                                                                                                                                                                                                                                                                                                                                                                                                                                                                                                                                                                                                                                                                                                                                                                                                                                                      text  \\\n",
       "0                                 salle d’attente et j’ai frappé à la porte de monsieur Salomon. Il était vêtu avec sa dernière élégance et donnait une interview à un journaliste qui s’intéressait. [sep] Quand Chuck est parti, j’ai cherché dans le dictionnaire. J’ai trouvé que l’autre roi Salomon était le successeur de David, qui construisit des forteresses, équipa son armée de chars et s’assura des alliances, mais qu’il est mort quand même et est devenu rien et personne. Le petit Larousse disait que sa sagesse était restée légendaire dans tout l’Orient et dans l’Ancien Testament. Il était aussi connu pour ses fastes et c’est là qu’il ressemblait encore à monsieur Salomon, qui faisait pleuvoir ses largesses, lui aussi. Je pensais à cela parfois en allant porter de sa part des cadeaux à quelqu’un qui n’attendait plus rien. Il y en avait qui étaient tellement habitués à être oubliés que lorsqu’on déposait à leur porte des dons anonymes, ils croyaient que c’était tombé du ciel et qu’il y avait Quelqu’un qui s’était souvenu d’eux, là-haut. Moi je ne trouve pas que c’est de la volonté de puissance et de la folie des grandeurs mais peut-être que Chuck a raison lorsqu’il dit que c’est chez monsieur Salomon une façon polie de critiquer le ciel et de lui causer des remords. [sep] — Eh bien, justement, c’est la réponse qu’il faut… Allô, Nicolas ? Écoute-moi, Nicolas, c’est pas une question d’arithmétique. Tu as quel âge ? Dix-sept ans ? Alors tu dois comprendre que lorsqu’on dit qu’ils sont quatre milliards, ça veut dire que c’est toi qui es quatre milliards. C’est comme s’il y avait quatre milliards de plus de toi-même. Ça te rend important, non ? Tu comprends ? Tu n’es pas seul au monde, tu es quatre milliards. Tu te rends compte ? C’est formidable ! Ça change tout. Tu es français, tu es africain, tu es japonais… Tu es partout, mon vieux, tu es sur toute la terre ! Réfléchis à ça et rappelle-moi. Je serai là vendredi prochain de dix-sept heures à minuit. Je m’appelle Jérôme. Il faut réapprendre à compter, Nicolas. Tu as dix-sept ans, tu dois connaître les maths nouvelles. Seul au monde, c’est des maths anciennes. Tu as l’impression que tu ne comptes pas parce que tu ne sais pas compter. N’oublie pas de me rappeler, Nicolas. J’attends ton coup de téléphone. Je l’attends, ne m’oublie pas, Nicolas. Je compte sur toi, souviens-toi. [sep] J’étais donc assis là et je devais faire une drôle de tête, parce que monsieur Salomon s’est mis à rire, il voyait bien que je n’étais pas croyant, alors il a sorti son carnet de chèques et il m’en a signé un d’une brique et demie sans hésiter, comme si c’était la moindre des choses. Un homme que je ne connaissais ni d’Eve ni d’Adam une demi-heure auparavant. Là alors j’en ai eu les genoux qui se sont mis à trembler, parce que si des inconnus se mettent à vous signer des chèques d’une brique et demie, n’importe quoi peut vous arriver, et c’est l’angoisse. J’étais même devenu tout   \n",
       "1                                                                                                                                                                        au moins qu’elle profite avant. [sep] — Non, ça ira, monsieur Salomon. J’ai ce qu’il faut. Ça l’amusera de danser un peu, même si ce ne sont plus les mêmes danses que de son temps, quand c’était le charleston et le shimmy. J’ai vu ça dans les films muets. [sep] J’ai quand même pris quelques gnons parce qu’il avait un copain qui nous venait du Maghreb et ça m’a gêné pour cogner, je ne suis pas raciste. En France, on ne doit taper que sur des Français, si on veut être correct. [sep] — Je suis là, fit la voix de monsieur Salomon, et avec la nuit elle était encore plus profonde. Je me porte bien, je suis là, je ne suis pas encore mort, quoi qu’on en dise. Vous êtes un grand angoissé, mon jeune ami. [sep] — Afin d’encourager les personnes âgées à acquérir une attitude entreprenante dans une nouvelle étape de l’existence ! gueula brusquement monsieur Salomon et c’est seulement lorsqu’il ajouta, en brandissant le poing : [sep] — Il ne faut surtout pas être impatient, Jeannot. Ça risque de prendre du temps. Il faut un peu de chance, bien sûr, mais la chance, c’est comme une femme, il faut la désirer. Ça tombe bien, j’ai besoin de m’occuper. [sep] — Pas du tout, pas du tout. Et à propos de mademoiselle Cora, si vous avez des dépenses, je suis prêt à m’en charger. C’était une femme charmante et qui a été très aimée. Alors permettez-moi d’assumer tous les frais. [sep] Il se tut, les mains sur les cuisses, regardant sur la table le bon pain solide et honnête. C’était même formidable, à la fin, cet homme tout blanc de soixante ans qui ne comprenait pas qu’on pouvait aimer les vieux. [sep] — C’est un peu de votre faute. Il ne sait pas que vous avez commencé à l’aimer vraiment. Vous ne lui avez pas fait savoir. Je suis sûr qu’aujourd’hui, si les Allemands revenaient, et s’il se retrouvait dans sa cave… [sep] — J’ai vu un film à la cinémathèque, Le facteur sonne toujours deux fois, c’est ce que je connais de plus vrai comme titre. Au-delà de deux, c’est plus le même facteur. C’est un autre. C’est un facteur sociologique. [sep] — Eh bien, nous allons prendre ma Citroën familiale. Peux-tu me mener rue Cambige ? Je n’aime pas conduire lentement dans Paris aujourd’hui. J’avais une Bugatti, autrefois. Mais elle est devenue une pièce de musée. [sep] Et j’ai tendu la main. Elle a hésité mais avec la gueule que j’ai elle n’a pas eu confiance. Pour elle, c’était moi l’assassin. Elle m’a regardé en battant des cils et puis elle m’a tout de suite donné l’enveloppe. [sep] Je lui ai pris le bras et on s’est dirigés vers la sortie. En passant près du micro elle a ralenti avec un sourire d’enfant coupable mais je l’ai retenue et ouf ! on était dehors. Je l’ai fait monter dans le taxi. [sep] La clé n’était pas sous le paillasson et quand Aline m’a ouvert j’ai tout de   \n",
       "..                                                                                                                                                                                                                                                                                                                                                                                                                                                                                                                                                                                                                                                                                                                                                                                                                                                                                                                                                                                                                                                                                                                                                                                                                                                                                                                                                                                                                                                                                                                                                                                                                                                                                                                                                                                                                                                                                                                                                                                                                                                                                                                                                                                                                                                                                                                                                                                                                                                                                                                                                                                                                                                                                                                                                                                                                                                                                                                                                                                                                                                                     ...   \n",
       "200  avec béatitude la fumée d’un cigare très noir venu des Indes. [sep] L’éléphant s’ébranla, passa près de nous, s’enfonça dans un taillis d’épineux. On entendait craquer la brousse. [sep] — Comme le ferait une Française, dis-je (et c’était vrai). Cela ne m’étonne pas après avoir lu votre lettre. » [sep] Je m’arrêtai juste à temps pour qu’il fût possible à la jeune femme d’interpréter mon étonnement à sa manière. [sep] Patricia trempa un doigt dans son breuvage, se lécha le doigt autour de l’ongle cassé, ajouta un peu de sucre. [sep] Elle parla d’abord en anglais, puis elle usa de dialectes africains. Mais le mot « King » revenait sans cesse. [sep] « J’ai cru que je pourrais… Mais non… C’est trop ignoble… Ces petites… déjà… les femmes de ces fous furieux… » [sep] Sur le cou long et tendre, la tête coiffée en boule appuya ce refus d’un mouvement très doux mais sans appel. [sep] « Lise… Lise Darbois. » Elle demanda soudain avec timidité : « Est-ce que je prononce encore convenablement ? [sep] Mais aussitôt elle se mit à rire, et l’innocente malice que j’aimais tant la rendit à la gaieté de l’enfance. [sep] J’allai chercher deux verres avec empressement : quand j’étais seul avec Bullit, j’avais très envie d’alcool. [sep] — Je n’ai pas compris, et cela n’a sûrement aucune importance, maman chérie », dit Patricia avec gentillesse. [sep] J’étendis un bras par-dessus sa petite valise, cherchai sa main. Elle l’enfonça dans la poche de son manteau. [sep] La tête coiffée en boule confirma d’un signe bref, mais son regard demeurait attaché au mouvement des bêtes. [sep] Il me regardait misérablement. Je ne pouvais pas deviner s’il préférait que je partage ou refuse son effroi. [sep] « En tout cas, pour prendre le thé, nous n’attendrons pas notre petite coureuse de brousse », s’écria Sybil. [sep] Les douces lèvres de la petite fille et les ailes si fines de son nez frémirent en même temps. Elle ajouta : [sep] Cette question ne la surprit point. On eût dit qu’elle l’attendait et dans l’instant même où je la faisais. [sep] Il était désert : ce n’était pas la saison du tourisme. De plus, la terreur Mau-Mau hantait alors le Kenya. [sep] Le ranger monta dans notre voiture avec sa carabine pour s’asseoir près de Bogo. Je pris place à l’arrière. [sep] Je m’appuyai contre un arbre et fixai mes yeux sur le sommet de la montagne et ses neiges couleur d’aurore. [sep] Patricia obéit. Ses traits étaient paisibles mais ses yeux aux aguets. Elle attendait encore quelque chose. [sep] « Maman, dit-elle, parle toujours des beaux jouets que les enfants ont dans les villes. Des jouets ! Des… » [sep] Elle chercha un instant à mieux se faire comprendre, haussa légèrement ses épaules minces, et dit encore : [sep] Patricia eut de nouveau son étrange soupir maternel, mais elle reprit avec une intonation tout enfantine : [sep] « Les voilà, les voilà ! s’écria Patricia, penchée à moitié hors de la portière. Et nous sommes à temps. » [sep]   \n",
       "201                    Nous étions au pied du monticule. Patricia bondit de la voiture avant qu’elle ne fût complètement arrêtée. [sep] — Il n’a pu vous raconter grand-chose, dis-je. Il n’y a pas d’homme plus renfermé, plus avare de paroles. [sep] Les yeux de la jeune femme allaient d’objet en objet comme d’ami en ami. Quelques-uns étaient très beaux. [sep] « Il était si faible, si menu, vous n’avez pas idée, quand Kihoro m’en a fait cadeau », s’écria Patricia. [sep] Quand elle vit la Land Rover s’engager sur la pente douce qui conduisait à la manyatta, Patricia me dit : [sep] — Et qu’est-ce que vous allez répondre ? demanda Sybil dont les lèvres blanchies remuaient difficilement. [sep] — Et je l’élèverai, et il sera mon ami, et, alors, vous, vous allez encore tirer sur lui », dit Patricia. [sep] « Je ne veux pas inquiéter les bêtes, lui dis-je. Mais seulement vivre un peu avec elles, comme elles. » [sep] Il m’est difficile d’expliquer la joie que me firent éprouver ce sourire et cette réponse. Je demandai : [sep] Bien que le matin fût encore très frais, de grosses mouches arrivaient en essaims pressés, bourdonnants. [sep] Bullit avait obéi. La petite fille fut au sol sans même ouvrir la portière. Bullit ébaucha un mouvement. [sep] — Il a passé la nuit aux environs de notre bungalow, dans le bois, à guetter que je sorte, dit Patricia. [sep] Pour la première fois depuis que nous voyagions ensemble, Bogo s’oublia suffisamment pour m’interrompre. [sep] Je quittai Sybil peu après. Elle ne chercha pas à me retenir. Elle pensait à sa lettre, à sa réception. [sep] Il ne gronda plus cette fois, mais sa gueule s’ouvrit comme un piège étincelant et il se dressa à demi. [sep] Je fis comme elle voulait. Ma paume se trouva posée sur le cou de King, juste au défaut de la crinière. [sep] Lui non plus il ne bougeait pas. Les gouttes elles-mêmes dans le loup de satin noir étaient immobiles. [sep] « Vos lions, vos rhinocéros, vos éléphants… Les animaux sauvages semblent pour vous un bien personnel. [sep] — Et sans le vouloir, ni même le savoir », dis-je. Bullit secoua son mufle avec entêtement et gronda : [sep] Les têtes superposées se déplacèrent insensiblement de branche en branche et finirent par disparaître. [sep] — Eh bien, conseilla Sybil, prenez l’histoire que vous m’avez dite le soir où nous nous sommes connus. [sep] Ce que je m’étais refusé jusque-là d’admettre à moi-même, il me parut tout simple soudain de l’avouer. [sep] « Vous avez tort, dit-elle. Si je le désire, King vous mettra en morceaux tout de suite. On essaie ? » [sep] Pour attaquer, les jeunes hommes n’avaient qu’une lance et un coutelas. Pour se défendre, un bouclier. [sep] Il n’y avait pas trace d’émotion dans sa voix et ses grands yeux fixés sur Ol’Kalou étaient paisibles. [sep] Pensait-il au Dieu des missionnaires ou à d’autres plus anciens et puissants sur la terre d’Afrique ? [sep] Le vieil homme se tenait aussi droit que la haute lance qu’il   \n",
       "\n",
       "            author  taille  \n",
       "0      GARY Romain     512  \n",
       "1      GARY Romain     512  \n",
       "..             ...     ...  \n",
       "200  KESSEL Joseph     512  \n",
       "201  KESSEL Joseph     512  \n",
       "\n",
       "[202 rows x 3 columns]"
      ]
     },
     "execution_count": 40,
     "metadata": {},
     "output_type": "execute_result"
    }
   ],
   "source": [
    "df_downsampled"
   ]
  },
  {
   "cell_type": "code",
   "execution_count": 43,
   "id": "d633480b",
   "metadata": {},
   "outputs": [],
   "source": [
    "my_data_text = df_downsampled[\"text\"].to_numpy()\n",
    "my_data_author = df_downsampled[\"author\"].to_numpy()"
   ]
  },
  {
   "cell_type": "code",
   "execution_count": 44,
   "id": "272b2e67",
   "metadata": {},
   "outputs": [
    {
     "data": {
      "text/plain": [
       "['y_test_512.pkl']"
      ]
     },
     "execution_count": 44,
     "metadata": {},
     "output_type": "execute_result"
    }
   ],
   "source": [
    "import joblib\n",
    "\n",
    "joblib.dump(my_data_text,f\"X_test_{seq_len}.pkl\")\n",
    "joblib.dump(my_data_author,f\"y_test_{seq_len}.pkl\")"
   ]
  },
  {
   "cell_type": "code",
   "execution_count": null,
   "id": "0668a0e8",
   "metadata": {},
   "outputs": [],
   "source": [
    "def dict_proba(pred):\n",
    "  \n",
    "  list_dicts = []\n",
    "  authors = cat_transformer.classes_ #label encoder\n",
    "\n",
    "  for probas in pred:\n",
    "    i = 0\n",
    "    dict = {}\n",
    "    for proba in probas:\n",
    "      dict[authors[i]] = round(proba,4)\n",
    "      i = i+1\n",
    "    list_dicts.append(dict)\n",
    "  \n",
    "  return list_dicts"
   ]
  },
  {
   "cell_type": "code",
   "execution_count": 81,
   "id": "62a5b7e9",
   "metadata": {},
   "outputs": [],
   "source": [
    "proba = [1.8824009e-07, 3.3401844e-01, 5.0492155e-05, 3.3612199e-05, 7.3939465e-02,\n",
    " 1.1347712e-01, 7.5885514e-04, 2.7993086e-01, 4.8975877e-02, 1.8440338e-04,\n",
    " 2.5028788e-02, 4.6786014e-02, 2.0136466e-02 ,3.5923633e-05, 4.6142832e-05,\n",
    " 9.3711233e-06, 1.8443435e-02, 8.6399080e-04, 3.6973104e-02, 3.0744291e-04]"
   ]
  },
  {
   "cell_type": "code",
   "execution_count": 82,
   "id": "acde9115",
   "metadata": {},
   "outputs": [
    {
     "data": {
      "text/plain": [
       "[1.8824009e-07,\n",
       " 9.3711233e-06,\n",
       " 3.3612199e-05,\n",
       " 3.5923633e-05,\n",
       " 4.6142832e-05,\n",
       " 5.0492155e-05,\n",
       " 0.00018440338,\n",
       " 0.00030744291,\n",
       " 0.00075885514,\n",
       " 0.0008639908,\n",
       " 0.018443435,\n",
       " 0.020136466,\n",
       " 0.025028788,\n",
       " 0.036973104,\n",
       " 0.046786014,\n",
       " 0.048975877,\n",
       " 0.073939465,\n",
       " 0.11347712,\n",
       " 0.27993086,\n",
       " 0.33401844]"
      ]
     },
     "execution_count": 82,
     "metadata": {},
     "output_type": "execute_result"
    }
   ],
   "source": []
  },
  {
   "cell_type": "code",
   "execution_count": 86,
   "id": "416dd5d3",
   "metadata": {},
   "outputs": [
    {
     "data": {
      "text/plain": [
       "[1.8824009e-07, 9.3711233e-06, 3.3612199e-05]"
      ]
     },
     "execution_count": 86,
     "metadata": {},
     "output_type": "execute_result"
    }
   ],
   "source": [
    "sorted(proba)[0:3]"
   ]
  },
  {
   "cell_type": "code",
   "execution_count": null,
   "id": "7d7026a2",
   "metadata": {},
   "outputs": [],
   "source": []
  }
 ],
 "metadata": {
  "kernelspec": {
   "display_name": "Python 3 (ipykernel)",
   "language": "python",
   "name": "python3"
  },
  "language_info": {
   "codemirror_mode": {
    "name": "ipython",
    "version": 3
   },
   "file_extension": ".py",
   "mimetype": "text/x-python",
   "name": "python",
   "nbconvert_exporter": "python",
   "pygments_lexer": "ipython3",
   "version": "3.8.6"
  },
  "toc": {
   "base_numbering": 1,
   "nav_menu": {},
   "number_sections": true,
   "sideBar": true,
   "skip_h1_title": false,
   "title_cell": "Table of Contents",
   "title_sidebar": "Contents",
   "toc_cell": false,
   "toc_position": {},
   "toc_section_display": true,
   "toc_window_display": false
  },
  "varInspector": {
   "cols": {
    "lenName": 16,
    "lenType": 16,
    "lenVar": 40
   },
   "kernels_config": {
    "python": {
     "delete_cmd_postfix": "",
     "delete_cmd_prefix": "del ",
     "library": "var_list.py",
     "varRefreshCmd": "print(var_dic_list())"
    },
    "r": {
     "delete_cmd_postfix": ") ",
     "delete_cmd_prefix": "rm(",
     "library": "var_list.r",
     "varRefreshCmd": "cat(var_dic_list()) "
    }
   },
   "types_to_exclude": [
    "module",
    "function",
    "builtin_function_or_method",
    "instance",
    "_Feature"
   ],
   "window_display": false
  }
 },
 "nbformat": 4,
 "nbformat_minor": 5
}
