{
 "cells": [
  {
   "cell_type": "code",
   "execution_count": null,
   "metadata": {
    "colab": {
     "base_uri": "https://localhost:8080/"
    },
    "id": "UkaPAsyZz3gh",
    "outputId": "26eac18b-5c80-4269-9a8b-8cfd2dcb914e"
   },
   "outputs": [
    {
     "name": "stdout",
     "output_type": "stream",
     "text": [
      "/content/drive/MyDrive/author_style\n"
     ]
    }
   ],
   "source": [
    "cd /content/drive/MyDrive/author_style"
   ]
  },
  {
   "cell_type": "code",
   "execution_count": null,
   "metadata": {
    "colab": {
     "base_uri": "https://localhost:8080/"
    },
    "id": "soodG3ypNrSt",
    "outputId": "0b15a9c5-7055-4a69-c176-2fb6fd6522ff"
   },
   "outputs": [
    {
     "name": "stdout",
     "output_type": "stream",
     "text": [
      "Requirement already satisfied: SentencePiece in /usr/local/lib/python3.7/dist-packages (0.1.96)\n",
      "Requirement already satisfied: transformers in /usr/local/lib/python3.7/dist-packages (4.9.2)\n",
      "Requirement already satisfied: regex!=2019.12.17 in /usr/local/lib/python3.7/dist-packages (from transformers) (2019.12.20)\n",
      "Requirement already satisfied: packaging in /usr/local/lib/python3.7/dist-packages (from transformers) (21.0)\n",
      "Requirement already satisfied: pyyaml>=5.1 in /usr/local/lib/python3.7/dist-packages (from transformers) (5.4.1)\n",
      "Requirement already satisfied: filelock in /usr/local/lib/python3.7/dist-packages (from transformers) (3.0.12)\n",
      "Requirement already satisfied: huggingface-hub==0.0.12 in /usr/local/lib/python3.7/dist-packages (from transformers) (0.0.12)\n",
      "Requirement already satisfied: tokenizers<0.11,>=0.10.1 in /usr/local/lib/python3.7/dist-packages (from transformers) (0.10.3)\n",
      "Requirement already satisfied: tqdm>=4.27 in /usr/local/lib/python3.7/dist-packages (from transformers) (4.62.0)\n",
      "Requirement already satisfied: numpy>=1.17 in /usr/local/lib/python3.7/dist-packages (from transformers) (1.19.5)\n",
      "Requirement already satisfied: sacremoses in /usr/local/lib/python3.7/dist-packages (from transformers) (0.0.45)\n",
      "Requirement already satisfied: requests in /usr/local/lib/python3.7/dist-packages (from transformers) (2.23.0)\n",
      "Requirement already satisfied: importlib-metadata in /usr/local/lib/python3.7/dist-packages (from transformers) (4.6.4)\n",
      "Requirement already satisfied: typing-extensions in /usr/local/lib/python3.7/dist-packages (from huggingface-hub==0.0.12->transformers) (3.7.4.3)\n",
      "Requirement already satisfied: pyparsing>=2.0.2 in /usr/local/lib/python3.7/dist-packages (from packaging->transformers) (2.4.7)\n",
      "Requirement already satisfied: zipp>=0.5 in /usr/local/lib/python3.7/dist-packages (from importlib-metadata->transformers) (3.5.0)\n",
      "Requirement already satisfied: chardet<4,>=3.0.2 in /usr/local/lib/python3.7/dist-packages (from requests->transformers) (3.0.4)\n",
      "Requirement already satisfied: idna<3,>=2.5 in /usr/local/lib/python3.7/dist-packages (from requests->transformers) (2.10)\n",
      "Requirement already satisfied: certifi>=2017.4.17 in /usr/local/lib/python3.7/dist-packages (from requests->transformers) (2021.5.30)\n",
      "Requirement already satisfied: urllib3!=1.25.0,!=1.25.1,<1.26,>=1.21.1 in /usr/local/lib/python3.7/dist-packages (from requests->transformers) (1.24.3)\n",
      "Requirement already satisfied: six in /usr/local/lib/python3.7/dist-packages (from sacremoses->transformers) (1.15.0)\n",
      "Requirement already satisfied: click in /usr/local/lib/python3.7/dist-packages (from sacremoses->transformers) (7.1.2)\n",
      "Requirement already satisfied: joblib in /usr/local/lib/python3.7/dist-packages (from sacremoses->transformers) (1.0.1)\n"
     ]
    }
   ],
   "source": [
    "!pip install SentencePiece\n",
    "!pip install transformers\n",
    "\n",
    "from author_style.utils import *\n",
    "\n",
    "import pandas as pd\n",
    "import numpy as np\n",
    "import tensorflow as tf\n",
    "\n",
    "from tensorflow.keras.utils import to_categorical\n",
    "from tensorflow.keras.layers import Dense, Dropout, Input, Lambda, LSTM\n",
    "from tensorflow.keras import Sequential\n",
    "from tensorflow.keras.models import Model\n",
    "from tensorflow.keras.optimizers import Adam\n",
    "\n",
    "from sklearn.model_selection import train_test_split\n",
    "\n",
    "from transformers import CamembertConfig\n",
    "from transformers import TFCamembertForMultipleChoice\n",
    "from transformers import TFCamembertModel\n",
    "from transformers import AutoTokenizer\n",
    "\n",
    "import matplotlib.pyplot as plt"
   ]
  },
  {
   "cell_type": "code",
   "execution_count": null,
   "metadata": {
    "id": "hBQNzjRs2tvT"
   },
   "outputs": [],
   "source": [
    "df_paragraphs, df_sentences = csv_to_dataframes()"
   ]
  },
  {
   "cell_type": "code",
   "execution_count": null,
   "metadata": {
    "id": "b2qpLRPZ3vnk"
   },
   "outputs": [],
   "source": [
    "df_paragraphs['text_len'] = df_paragraphs.text.apply(lambda x: len(x))"
   ]
  },
  {
   "cell_type": "code",
   "execution_count": null,
   "metadata": {
    "colab": {
     "base_uri": "https://localhost:8080/",
     "height": 1000
    },
    "id": "pdlV6Ls14RIj",
    "outputId": "5e4731c5-264d-4131-8d42-ef3ab134c399"
   },
   "outputs": [
    {
     "data": {
      "text/html": [
       "<div>\n",
       "<style scoped>\n",
       "    .dataframe tbody tr th:only-of-type {\n",
       "        vertical-align: middle;\n",
       "    }\n",
       "\n",
       "    .dataframe tbody tr th {\n",
       "        vertical-align: top;\n",
       "    }\n",
       "\n",
       "    .dataframe thead th {\n",
       "        text-align: right;\n",
       "    }\n",
       "</style>\n",
       "<table border=\"1\" class=\"dataframe\">\n",
       "  <thead>\n",
       "    <tr style=\"text-align: right;\">\n",
       "      <th></th>\n",
       "      <th>text</th>\n",
       "      <th>author</th>\n",
       "      <th>title</th>\n",
       "      <th>book_date</th>\n",
       "      <th>text_len</th>\n",
       "    </tr>\n",
       "  </thead>\n",
       "  <tbody>\n",
       "    <tr>\n",
       "      <th>11457</th>\n",
       "      <td>- L'Arcille! L'Arcille! Et votre boutique alors! La consigne! Où que vous êtes? Et l'appel? L'appel!</td>\n",
       "      <td>CELINE Louis-Ferdinand</td>\n",
       "      <td>Casse-pipe</td>\n",
       "      <td>1949</td>\n",
       "      <td>100</td>\n",
       "    </tr>\n",
       "    <tr>\n",
       "      <th>11149</th>\n",
       "      <td>– Voyez-vous, je pensais qu'il fallait, pour faire ce travail-là, certaines qualités indispensables.</td>\n",
       "      <td>DURAS Marguerite</td>\n",
       "      <td>Le Square</td>\n",
       "      <td>1955</td>\n",
       "      <td>100</td>\n",
       "    </tr>\n",
       "    <tr>\n",
       "      <th>14401</th>\n",
       "      <td>— J’ai mes fiches sur tous nos candidats. L’Académie est un club. Sachons à qui nous avons affaire !</td>\n",
       "      <td>GUTH Paul</td>\n",
       "      <td>Discours de déception à l_Académie française</td>\n",
       "      <td>1987</td>\n",
       "      <td>100</td>\n",
       "    </tr>\n",
       "    <tr>\n",
       "      <th>7098</th>\n",
       "      <td>Je n'insiste pas, je pars. Mais je dis ce qui est éprouvé par tous, même si on ne sait pas le vivre.</td>\n",
       "      <td>DURAS Marguerite</td>\n",
       "      <td>Écrire</td>\n",
       "      <td>1993</td>\n",
       "      <td>100</td>\n",
       "    </tr>\n",
       "    <tr>\n",
       "      <th>11456</th>\n",
       "      <td>- T'as qu'à foncer chez Le Croach, l'en a toujours dans son puce... Y ronfle dessus, le gros cochon!</td>\n",
       "      <td>CELINE Louis-Ferdinand</td>\n",
       "      <td>Casse-pipe</td>\n",
       "      <td>1949</td>\n",
       "      <td>100</td>\n",
       "    </tr>\n",
       "    <tr>\n",
       "      <th>...</th>\n",
       "      <td>...</td>\n",
       "      <td>...</td>\n",
       "      <td>...</td>\n",
       "      <td>...</td>\n",
       "      <td>...</td>\n",
       "    </tr>\n",
       "    <tr>\n",
       "      <th>12362</th>\n",
       "      <td>Solennels parmi les couples sans amour, ils dansaient, d’eux seuls préoccupés, goûtaient l’un à l’autre, soigneux, profonds, perdus. Béate d’être tenue et guidée, elle ignorait le monde, écoutait le bonheur dans ses veines, parfois s’admirant dans les hautes glaces des murs, élégante, émouvante, exceptionnelle, femme aimée, parfois reculant la tête pour mieux le voir qui lui murmurait des merveilles point toujours comprises, car elle le regardait trop, mais toujours de toute âme approuvées, qui lui murmurait qu’ils étaient amoureux, et elle avait alors un impalpable rire tremblé, voilà, oui, c’était cela, amoureux, et il lui murmurait qu’il se mourait de baiser et bénir les longs cils recourbés, mais non pas ici, plus tard, lorsqu’ils seraient seuls, et alors elle murmurait qu’ils avaient toute la vie, et soudain elle avait peur de lui avoir déplu, trop sûre d’elle, mais non, ô bonheur, il lui souriait et contre lui la gardait et murmurait que tous les soirs, oui, tous les soirs ils se verraient. Secoué dans son wagon-lit, il se reprochait d’avoir été une brute, une brute de l’avoir traitée de méchante. Après tout, si elle n’avait pas de sympathie pour le boss, elle n’y pouvait rien, pas de sa faute quoi. Elle avait du bon, allez. L’autre jour, chez le tailleur, elle l’avait si gentiment aidé à choisir le tissu, elle s’y était vrai ment intéressée. Elle dormait sûrement en ce moment, si mignonne quand elle dormait. Dors bien, ma chérie, lui dit-il en sa couche remuante, et il lui sourit, ferma les yeux pour dormir avec elle. L’orchestre tzigane stoppa, et ils s’arrêtèrent sans se détacher tandis que les ordinaires, aussitôt séparés, battaient des mains, battaient en vain. Mais sur un regard de Solal, Imre, le premier violon marqué de variole, cligna un sourire complice, essuya ses sueurs et attaqua avec grandeur tandis que les deux étranges, observés par les assis, repartaient en gravité d’amour, bientôt suivis par Imre fioriturant à grands effets de manches flottantes et tenant entre ses dents le billet de banque donné par Solal. Traînant derrière elle des serpentins lancés, lentes algues de toutes couleurs, elle détachait parfois sa main pour rajuster sa coiffure et n’y parvenait pas, oh tant pis, et puis son nez brillait peut-être, oh tant pis puisqu’elle était sa belle, puisqu’il le lui disait. La belle du seigneur, se disait-elle, souriant aux anges. Mais il ne parvenait pas à s’endormir et il se demandait si elle avait pensé à fermer le compteur du gaz. L’embêtant, c’était qu’elle allait être toute seule dans la villa, rien qu’avec une femme de ménage le matin, puisque Mariette ne reprendrait son service que dans un mois à peu près, et il n’y avait pas que le compteur du gaz, il y avait les verrous de la porte d’entrée qu’elle oublierait sûrement de pousser le soir avant de se coucher, et puis ses vitamines du matin, elle ne penserait sûrement pas à les prendre, ah que de soucis. Joue contre joue, elle et lui, secrets, lentement virant. Ô elle, murmurait-il, elle, tous les charmes, alpiniste de l’Himalaya en béret écossais, reine des bêtes de porcelaine, ô son sourire de demeurée lorsqu’elle était seule, ô ses allées et venues dans sa chambre, la pointe des pieds en dedans pour s’humilier, comme lui de ses ridicules jouissant, céleste grimacière et bouffon d’elle-même, rêvassière dans son bain, amie de la chouette et protectrice du crapaud, elle, sa folle sœur. Sa joue contre l’épaule de son seigneur, elle lui demandait de dire encore, les yeux fermés, bienheureuse d’être connue, mieux que d’elle-même connue, moquée et louangée par ce frère de l’âme, le seul au monde qui la connaissait, et c’était cela l’amour adorable, l’amour d’un homme, et Varvara ce n’était rien, plus rien, pauvretés évanouies. Rejetant la tête en arrière, elle s’aperçut qu’il avait des yeux bleus et verts, piqués de points d’or, si lumineux dans le visage hâlé, des yeux de la mer et du soleil, et elle se pressa contre lui, reconnaissante de ces ...</td>\n",
       "      <td>COHEN Albert</td>\n",
       "      <td>Belle du Seigneur</td>\n",
       "      <td>1968</td>\n",
       "      <td>24739</td>\n",
       "    </tr>\n",
       "    <tr>\n",
       "      <th>12361</th>\n",
       "      <td>Non je ne descendrai pas non je ne veux pas voir le type tant pis si scandale oh je suis bien dans mon bain il est trop chaud j’adore ça tralala dommage j’arrive pas à siffler vraiment bien comme un garçon oh je suis bien avec moi les tenant à deux mains je les aime j’en soupèse l’abondance j’en éprouve la fermeté ils me plaisent follement au fond je m’aime d’amour Éliane et moi à neuf dix ans on partait pour l’école l’hiver on se tenait par la main dans la bise glacée la chanson que j’avais inventée on la chantait lugubrement on chantait voici qu’il gèle à pierre fendre sur les chemins et nous pauvres devons descendre de bon matin voilà c’était tout et puis on recommençait voici qu’il gèle à pierre fendre oh une belle femme nue qui serait en même temps un homme pas bien ça ou plutôt oui je oui je descendrai je ferai scandale à table je l’insulterai je dirai ce qu’il a fait je lui lancerai une carafe à la tête oui qui serait en même temps un homme j’aimerais fumer un cigare une fois pour voir attention c’est un vilain mot je veux pas le dire j’ai envie de le dire non je le dirai pas ne le dirai pas tralala j’aimerais un bonbon au chocolat quand j’en mange un je le regarde avant de le mettre dans la bouche le mettre dans la bouche je le tourne de tous les côtés et puis je le mange un peu et puis je recommence je le regarde je le tourne de tous les côtés et puis crac je remords remords les cadeaux qu’il m’apporte son bon sourire et moi souvent méchante demander à Dieu un coup de main pour être épouse modèle oh le regard chien quand il commence à être chien quand il me regarde sérieux soucieux chien myope avec des intentions enfin quand il veut se servir de moi affreux ce qui est drôle c’est qu’il éternue quand ça lui vient quand il va faire le chien ça ne manque jamais il éternue deux fois atchoum atchoum et alors je me dis ça y est c’est le chien je n’y coupe pas il va faire sa gymnastique sur moi et en même temps j’ai envie de rire quand il éternue et en même temps angoisse parce que ça va venir il va monter sur moi une bête dessus une bête dessous mais la dernière fois il a inauguré un système comique il me mordille d’abord ça me fait penser à un pékinois qui joue c’est très désagréable mais pourquoi est-ce que je lui dis pas de pas me mordiller c’est pour pas l’offenser ne ne ne faut dire les ne mais aussi parce que je déguste le grotesque comme dans l’autobus quand je suis envoûtée attirée par un visage affreux alors je le regarde mais c’est peut-être aussi par méchanceté que je le laisse faire parce qu’il est ridicule oh de quel de quel droit cet étranger de quel droit il me fait mal me fait-il mal surtout au début comme un fer rouge oh j’aime pas les hommes ne ne et puis quelle drôle d’idée quelle imbécillité de vouloir introduire ce cette ce cette chose chez quelqu’un d’autre chez quelqu’un qui n’en veut pas à qui ça fait mal c’est du joli les voluptés des romanciers est-ce qu’il y a vraiment des idiotes qui aiment cette horreur oh affreux son haha canin sur moi comment est-ce que ça peut le captiver tellement et en même temps envie de rire quand il bouge sur moi tellement rouge affairé si occupé soucieux les sourcils froncés puis ce haha canin si intéressé est-ce que c’est si palpitant ce va-et-vient c’est c’est comique et puis ça manque de dignité oh il me fait mal cet imbécile et en même temps pitié de lui pauvre studieux qui bouge tellement là-dessus qui se donne tellement de peine et qui ne se doute pas que je le regarde que je le juge je ne veux pas l’humilier en moi-même mais je ne peux pas m’empêcher chaque fois de dire Didi Didi pour battre la mesure pour scander son va-et-vient scander les mouvements du malheureux de dessus scander les mouvements stupides incroyables d’arrière en avant d’avant en arrière si inutiles Didi Didi Didi je répète intérieurement j’ai honte je me déteste c’est un pauvre gentil mais j’y je n’y peux rien et ça dure ça dure lui sur moi Ariane d’Auble on dirait un fou un sauvage oh com...</td>\n",
       "      <td>COHEN Albert</td>\n",
       "      <td>Belle du Seigneur</td>\n",
       "      <td>1968</td>\n",
       "      <td>32417</td>\n",
       "    </tr>\n",
       "    <tr>\n",
       "      <th>12360</th>\n",
       "      <td>Comme le temps passe, quatre de février aujourd’hui, février de tous les mois le plus court et le moins courtois comme dit le proverbre, deux mois déjà que je suis arrivée à ce Agay, pauve Mariette on pense à elle que quand on a besoin d’elle, elle a eu la chance que j’étais juste encore à Genève, elle m’aurait térégraphié une semaine plus tard elle m’aurait plus trouvée vu que je voulais aller chez ma sœur me promener un peu à Paris étant portée sur la famille, même que le matin du térégramme je me disais avant que le térégramme arrive je me disais Mariette faut que tu prennes quand même un peu de bon temps rapport à l’âge que bientôt c’est le moment de me prendre les mesures pour la caisse que des fois il me vient une mérancolie que vous pouvez pas savoir la force qu’elle a, prête à partir que j’étais à cause que j’avais déjà quitté de chez la Chameau vu que monsieur Adrien bien guéri partait en Afrique en voyage de la politique c’était surtout pour lui que je restais mais entendre la Chameau toutes les heures du temps dire pis que prendre de madame Ariane moralité femme de mauvaise vie ça alors non, ça m’a fait peine de quitter pour monsieur Hippolyte lui jamais un mot contre madame Ariane, qu’est-ce que vous voulez l’amour ça se commande pas, l’amour est enfant de poème comme dit la chanson, mais enfin du moment que monsieur Adrien partait en Afrique j’avais le droit de ma conscience pour moi d’aller me promener un peu à Paris me changer les idées du coup que j’ai eu du grand drame pensez le voyant la tête en sang, parce que tard dans la nuit j’ai eu l’idée tant pire il faut que j’alle voir un peu de quoi ça retourne, un pressentiment comme on dit vu que le matin quand j’étais arrivée comme d’habitude me doutant de rien sachant pas qu’il était arrivé il m’avait dit qu’il avait pas besoin de moi madame Ariane étant partie pour toujours et il m’a fermé la porte au nez mais en tristesse pas en colère, toute la journée je suis restée à me dire j’y retourne ou j’y retourne pas mais j’osais pas vu la tête qu’il avait et puis contre les onze heures de la nuit tant pire j’y vais et alors vite je m’habille chapeau sur la tête j’ai mis mon noir le joli je prends la clef qu’elle m’en avait donné une pour pas sonner le matin, j’entre grand silence personne en bas, bon je monte, personne dans sa chambre, j’entre dans sa chambre de bain, à genoux par terre le pauvre tout cadavre la tête en sang sur le tabouret pauvre agneau, oh là là j’ai des élancements, le revolver par terre et moi chassant pas quoi faire, la police que j’ai voulu appeler tout de suite d’abord au téléphone mais c’est une sale bête la mécanique me tremblait dans la main alors vite je suis été appeler ma copine donc la femme de chambre d’à côté les voisins, vilaine comme tout mais gentille bien causante, elle tout de suite un manteau sur sa chemise de nuit courant avec moi à la maison du drame pour téléphoner à la police, oh elle est instruite espliquant bien, puis au docteur justement celui de Cologny tout près, le docteur Saladin, bel homme, enfin pour vous la faire courte le docteur a vu tout de suite qu’il était pas mort mais quand même le soigner en grande vitesse, alors vite l’ambulance, enfin c’est mon idée de venir qui l’a sauvé, vous y avez sauvé la vie madame le docteur Saladin m’a dit testuel, pensez moi l’émotion tout ce grand drame de l’amour mais ma capacité aussi d’avoir vite les idées qu’il faut disant à la femme de chambre de vite télégraphier à la Chameau de revenir subito presto, elle était en Belgique soignant une vieille riche probabe pour se faire mettre sur le testament perd pas la boule je vous garantis, mais enfin elle est arrivée tout de suite parce que faut lui laisser ça que son Didi c’est son grand amour, fallait l’entendre dire pis que prendre de madame Ariane à monsieur Hippolyte, une trigresse, forcément que j’ai dû tout y raconter à madame Ariane étant au courant de rien vu qu’on savait pas son adresse, elle à peine que je suis arriv...</td>\n",
       "      <td>COHEN Albert</td>\n",
       "      <td>Belle du Seigneur</td>\n",
       "      <td>1968</td>\n",
       "      <td>33723</td>\n",
       "    </tr>\n",
       "    <tr>\n",
       "      <th>12359</th>\n",
       "      <td>Six heures j’ai tout le temps vôtre vôtre ô mon amour pourquoi ne pas être ici avec moi dans ce bain chaud délicieux on serait si bien tous les deux tant pis si pas assez de place pour les deux on s’arrangerait tout de même on trouverait le moyen un moyen ancien depuis Adam oui je sais je l’ai déjà dit ce truc de venir me rejoindre dans le bain ça m’arrive tout le temps de me répéter Ève la première idiote qui disait personne ne comprend mon Adam personne ne se rend compte de la merveille qu’il est enfin bref ce que je dis de vous mon chéri je me demande si les poules éternuent enfin si ça leur arrive quelquefois elles ont tout de même le droit d’être enrhumées dans trente ans j’aurai non c’est horrible tant pis ce n’est pas pour ce soir on a le temps folle de tendresse quand il dort vulnérable sur son visage une grâce rayonnant au-dessus de la mâle beauté folle aussi quand je vois son poignet si étroit parfois soudain je me dégoûte de l’aimer tant j’ai perdu mon fil ah oui vôtre vôtre je me vautre dans votre vôtre oui mais s’il ne m’avait pas rencontrée il il télégraphierait peut-être un vôtre à Elizabeth Vanstead en somme j’aimerais assez qu’elle perde toutes ses dents non tout de même la bouche toute vide ce ne serait pas charitable qu’elle en perde deux seulement ou même une seule de devant enfin juste ce qu’il faut pour qu’elle soit un peu dégoûtante je me plais trop j’aime me regarder je me désire en somme si ce n’était pas lui ce serait un autre et si cet autre était explorateur je me passionnerais pour l’Amazonie ou pour les mouches du vinaigre si c’était un biologiste non pas vrai il n’y a que lui il est le seul l’unique en tout cas le croire c’est un dogme est-ce que les catholiques croient à tout ce qu’ils croient pourquoi quand il y a un masculin et un féminin l’adjectif doit être masculin c’est pas juste pourquoi est-ce qu’on ne pourrait pas dire que la mer et le lac sont belles pourquoi Dieu au masculin pas juste non plus pitié de moi tout à l’heure en me savonnant une esclave bonne qu’à plaire injuste sort des femmes toujours à attendre à espérer à se préparer qu’est-ce qu’ils ont de plus que nous ces crétins-là nous les pauvres toujours à faire les mignonnes gracieuses faiblettes pudiquettes attendantes acceptantes et puis il en prend trop à son aise avec moi ce type qui arrive à Genève à sept heures vingt-deux et qui s’amène ici à neuf heures tout ça parce que monsieur veut plaire bain d’une heure peut-être rasage minutieux c’est d’ailleurs votre côté féminin mon cher féminins aussi vos coups d’œil dans la glace vous vous regardez un peu trop une faiblesse ça mon ami et puis comédien avec ses robes de chambre trop belles trop longues oui mon ami c’est ainsi que nous sommes nous autres vos esclaves nous ne disons rien nous prenons des airs extasiés mais nous remarquons tout seulement nous sommes indulgentes avez-vous compris mon bonhomme toute la peine que ce Staline se donne tout le temps s’occuper de tout se méfier de tous faire espionner faire tuer tout ça pour le plaisir idiot fatigant de commander quand il me raccompagne en voiture je baise toujours ses manchettes avant de le quitter parce que bien coupées belle soie adoration de la force qui est pouvoir de tuer vous voyez mon chéri je sais bien ma leçon j’aimerais qu’il me fouette le dos mais fort que ça fasse des zébrures en relief d’abord rouges puis blanches comme marque que je lui appartiens j’aimerais que ça me fasse mal que je crie de douleur que je le supplie de s’arrêter mais non il continue oui frappez encore mon chéri frappez aussi au bas du dos oui tout en bas après les reins oui parfaitement là très fort d’abord la joue droite puis la joue gauche c’est parce que je suis bien élevée que je dis joue droite joue gauche c’est les joues spéciales du bas du dos fouettez-les fort s’il vous plaît très fort que le sang coule oh merci merci aimé venez dans ce bain je suis votre terre et vous êtes mon maître et laboureur oh oui labourez-moi à fond as...</td>\n",
       "      <td>COHEN Albert</td>\n",
       "      <td>Belle du Seigneur</td>\n",
       "      <td>1968</td>\n",
       "      <td>43045</td>\n",
       "    </tr>\n",
       "    <tr>\n",
       "      <th>12358</th>\n",
       "      <td>— Nous avons dîné dans notre salle à manger pour vingt-quatre personnes maintenant nous voilà installés dans notre inutile grand salon assis dans des mousses au chocolat désespérantes de confort, je fais semblant de lire pour n’avoir pas à parler à la pauvrette qui recoud un tas d’ourlets que j’ai défaits en douce pour lui donner une occupation elle m’a dit que ça va lui prendre longtemps peut-être deux heures parce que des fils à enlever d’abord et après elle veut faire un travail soigné pauvre chérie elle a dit des petits points très réguliers qui ne se voient pas et que ça ne bâille pas très bien chérie faites un travail parfait la pauvre elle doit être assez godiche en couture enfin elle a un but de vie en ce moment, défense de s’arrêter de faire semblant de lire sous peine de conversation espérons que pas de récital de borborygmes ce soir, pardon chérie mais tout de même reconnais que je fais de mon mieux depuis mon retour de Paris, si sympathique l’autre soir quand je suis entré chez elle pour lui dire bonne nuit elle était en train de lire j’ai dit allons il faut dormir maintenant elle a fermé tout de suite son livre elle a dit un oui qui m’a percé le cœur un oui d’ange un sage petit oui d’enfance bouleversant si docile j’ai fondu d’amour fondu de cette pitié qui est amour, mon enfant Ariane qui pleure si fort quand je me fâche ses gros chagrins ses paupières enflées de tant pleurer son nez grossi de tant se moucher mais si je lui dis que je regrette elle me pardonne tout de suite dépourvue de fiel et un peu plus tard je l’entends qui chante dans sa chambre fini le gros chagrin, cette pitié qui me vient pour mon enfant si vite revenue à l’espoir si prête à du bonheur, chérie ton organe me fait peur m’a fait peur quand nue tu t’es penchée pour ramasser, ce matin tu es sortie pour des courses alors seul à la maison j’ai baisé ton joli blazer gris il était pendu dans le hall plusieurs fois je l’ai baisé j’ai baisé même la doublure, je vais tout te dire sans danger de perte de prestige puisque tu ne m’entends pas hélas oui il faut que j’aie du prestige pour que tu sois fière de m’aimer mais une fois tout de même je t’avouerai peut-être la cave Silberstein, je voulais rester longtemps avec eux mais ils m’ont demandé de les sauver alors je suis parti le quatrième jour j’ai échoué dans les capitales échoué à Londres échoué à Washington échoué devant le Conseil de leur Essdéenne quand j’ai demandé aux importants bouffons d’accueillir mes Juifs allemands de se les répartir, ils ont dit que mon projet était utopique que si on les acceptait tous il y aurait une montée d’antisémitisme dans les pays d’accueil bref c’est par horreur de l’antisémitisme qu’ils les ont abandonnés à leurs bourreaux, alors je les ai mis en accusation eux et leur amour du prochain ô grand Christ trahi alors scandale et bref chassé ignominieusement comme a dit la Forbes renvoi sans préavis pour conduite préjudiciable aux intérêts de la Société des Nations a précisé la lettre du vieux Cheyne ensuite le décret annulant ma naturalisation pour cause d’irrégularités et voilà il y a quelques jours mon idiote tentative de faire révoquer le décret l’échec et alors le piteux réconfort de ses photos, pauvre malheureuse combinant la prochaine pose oui encore celle-là elle lui plaira moi nue devant la glace ainsi il me verra des deux côtés la main gauche levée appuyée sur la glace et la main droite passée entre les comme pour saisir oui il aimera, pauvre malheureuse se mettant devant le déclencheur automatique prenant vite la lamentable pose, ensuite la décision de retourner vers elle chercher les consolations de nos pauvres corps mais soudain un espoir oui aller d’abord à Genève, convaincre le bouffon général de me reprendre, ma couseuse tranquille lève tes yeux regarde l’imbécile Solal à Genève qui prépare une lettre pour la remettre au vieux Cheyne quand il ira le voir une lettre de vingt pages où il raconte son malheur notre pauvre vie une longue lettre à lui f...</td>\n",
       "      <td>COHEN Albert</td>\n",
       "      <td>Belle du Seigneur</td>\n",
       "      <td>1968</td>\n",
       "      <td>65535</td>\n",
       "    </tr>\n",
       "  </tbody>\n",
       "</table>\n",
       "<p>18778 rows × 5 columns</p>\n",
       "</div>"
      ],
      "text/plain": [
       "                                                                                                                                                                                                                                                                                                                                                                                                                                                                                                                                                                                                                                                                                                                                                                                                                                                                                                                                                                                                                                                                                                                                                                                                                                                                                                                                                                                                                                                                                                                                                                                                                                                                                                                                                                                                                                                                                                                                                                                                                                                                                                                                                                                                                                                                                                                                                                                                                                                                                                                                                                                                                                                                                                                                                                                                                                                                                                                                                                                                                                                                                                                                                                                                                                                                                                                                                                                                                                                                                                                                                                                                                                                                                                                                                                                                                                                                                                                                                                                                                                                                                                                                                                  text  ... text_len\n",
       "11457                                                                                                                                                                                                                                                                                                                                                                                                                                                                                                                                                                                                                                                                                                                                                                                                                                                                                                                                                                                                                                                                                                                                                                                                                                                                                                                                                                                                                                                                                                                                                                                                                                                                                                                                                                                                                                                                                                                                                                                                                                                                                                                                                                                                                                                                                                                                                                                                                                                                                                                                                                                                                                                                                                                                                                                                                                                                                                                                                                                                                                                                                                                                                                                                                                                                                                                                                                                                                                                                                                                                                                                                                                                                                                                                                                                                                                                                                                                                                                                                                                                             - L'Arcille! L'Arcille! Et votre boutique alors! La consigne! Où que vous êtes? Et l'appel? L'appel!  ...      100\n",
       "11149                                                                                                                                                                                                                                                                                                                                                                                                                                                                                                                                                                                                                                                                                                                                                                                                                                                                                                                                                                                                                                                                                                                                                                                                                                                                                                                                                                                                                                                                                                                                                                                                                                                                                                                                                                                                                                                                                                                                                                                                                                                                                                                                                                                                                                                                                                                                                                                                                                                                                                                                                                                                                                                                                                                                                                                                                                                                                                                                                                                                                                                                                                                                                                                                                                                                                                                                                                                                                                                                                                                                                                                                                                                                                                                                                                                                                                                                                                                                                                                                                                                             – Voyez-vous, je pensais qu'il fallait, pour faire ce travail-là, certaines qualités indispensables.  ...      100\n",
       "14401                                                                                                                                                                                                                                                                                                                                                                                                                                                                                                                                                                                                                                                                                                                                                                                                                                                                                                                                                                                                                                                                                                                                                                                                                                                                                                                                                                                                                                                                                                                                                                                                                                                                                                                                                                                                                                                                                                                                                                                                                                                                                                                                                                                                                                                                                                                                                                                                                                                                                                                                                                                                                                                                                                                                                                                                                                                                                                                                                                                                                                                                                                                                                                                                                                                                                                                                                                                                                                                                                                                                                                                                                                                                                                                                                                                                                                                                                                                                                                                                                                                             — J’ai mes fiches sur tous nos candidats. L’Académie est un club. Sachons à qui nous avons affaire !  ...      100\n",
       "7098                                                                                                                                                                                                                                                                                                                                                                                                                                                                                                                                                                                                                                                                                                                                                                                                                                                                                                                                                                                                                                                                                                                                                                                                                                                                                                                                                                                                                                                                                                                                                                                                                                                                                                                                                                                                                                                                                                                                                                                                                                                                                                                                                                                                                                                                                                                                                                                                                                                                                                                                                                                                                                                                                                                                                                                                                                                                                                                                                                                                                                                                                                                                                                                                                                                                                                                                                                                                                                                                                                                                                                                                                                                                                                                                                                                                                                                                                                                                                                                                                                                              Je n'insiste pas, je pars. Mais je dis ce qui est éprouvé par tous, même si on ne sait pas le vivre.  ...      100\n",
       "11456                                                                                                                                                                                                                                                                                                                                                                                                                                                                                                                                                                                                                                                                                                                                                                                                                                                                                                                                                                                                                                                                                                                                                                                                                                                                                                                                                                                                                                                                                                                                                                                                                                                                                                                                                                                                                                                                                                                                                                                                                                                                                                                                                                                                                                                                                                                                                                                                                                                                                                                                                                                                                                                                                                                                                                                                                                                                                                                                                                                                                                                                                                                                                                                                                                                                                                                                                                                                                                                                                                                                                                                                                                                                                                                                                                                                                                                                                                                                                                                                                                                             - T'as qu'à foncer chez Le Croach, l'en a toujours dans son puce... Y ronfle dessus, le gros cochon!  ...      100\n",
       "...                                                                                                                                                                                                                                                                                                                                                                                                                                                                                                                                                                                                                                                                                                                                                                                                                                                                                                                                                                                                                                                                                                                                                                                                                                                                                                                                                                                                                                                                                                                                                                                                                                                                                                                                                                                                                                                                                                                                                                                                                                                                                                                                                                                                                                                                                                                                                                                                                                                                                                                                                                                                                                                                                                                                                                                                                                                                                                                                                                                                                                                                                                                                                                                                                                                                                                                                                                                                                                                                                                                                                                                                                                                                                                                                                                                                                                                                                                                                                                                                                                                                                                                                                                ...  ...      ...\n",
       "12362  Solennels parmi les couples sans amour, ils dansaient, d’eux seuls préoccupés, goûtaient l’un à l’autre, soigneux, profonds, perdus. Béate d’être tenue et guidée, elle ignorait le monde, écoutait le bonheur dans ses veines, parfois s’admirant dans les hautes glaces des murs, élégante, émouvante, exceptionnelle, femme aimée, parfois reculant la tête pour mieux le voir qui lui murmurait des merveilles point toujours comprises, car elle le regardait trop, mais toujours de toute âme approuvées, qui lui murmurait qu’ils étaient amoureux, et elle avait alors un impalpable rire tremblé, voilà, oui, c’était cela, amoureux, et il lui murmurait qu’il se mourait de baiser et bénir les longs cils recourbés, mais non pas ici, plus tard, lorsqu’ils seraient seuls, et alors elle murmurait qu’ils avaient toute la vie, et soudain elle avait peur de lui avoir déplu, trop sûre d’elle, mais non, ô bonheur, il lui souriait et contre lui la gardait et murmurait que tous les soirs, oui, tous les soirs ils se verraient. Secoué dans son wagon-lit, il se reprochait d’avoir été une brute, une brute de l’avoir traitée de méchante. Après tout, si elle n’avait pas de sympathie pour le boss, elle n’y pouvait rien, pas de sa faute quoi. Elle avait du bon, allez. L’autre jour, chez le tailleur, elle l’avait si gentiment aidé à choisir le tissu, elle s’y était vrai ment intéressée. Elle dormait sûrement en ce moment, si mignonne quand elle dormait. Dors bien, ma chérie, lui dit-il en sa couche remuante, et il lui sourit, ferma les yeux pour dormir avec elle. L’orchestre tzigane stoppa, et ils s’arrêtèrent sans se détacher tandis que les ordinaires, aussitôt séparés, battaient des mains, battaient en vain. Mais sur un regard de Solal, Imre, le premier violon marqué de variole, cligna un sourire complice, essuya ses sueurs et attaqua avec grandeur tandis que les deux étranges, observés par les assis, repartaient en gravité d’amour, bientôt suivis par Imre fioriturant à grands effets de manches flottantes et tenant entre ses dents le billet de banque donné par Solal. Traînant derrière elle des serpentins lancés, lentes algues de toutes couleurs, elle détachait parfois sa main pour rajuster sa coiffure et n’y parvenait pas, oh tant pis, et puis son nez brillait peut-être, oh tant pis puisqu’elle était sa belle, puisqu’il le lui disait. La belle du seigneur, se disait-elle, souriant aux anges. Mais il ne parvenait pas à s’endormir et il se demandait si elle avait pensé à fermer le compteur du gaz. L’embêtant, c’était qu’elle allait être toute seule dans la villa, rien qu’avec une femme de ménage le matin, puisque Mariette ne reprendrait son service que dans un mois à peu près, et il n’y avait pas que le compteur du gaz, il y avait les verrous de la porte d’entrée qu’elle oublierait sûrement de pousser le soir avant de se coucher, et puis ses vitamines du matin, elle ne penserait sûrement pas à les prendre, ah que de soucis. Joue contre joue, elle et lui, secrets, lentement virant. Ô elle, murmurait-il, elle, tous les charmes, alpiniste de l’Himalaya en béret écossais, reine des bêtes de porcelaine, ô son sourire de demeurée lorsqu’elle était seule, ô ses allées et venues dans sa chambre, la pointe des pieds en dedans pour s’humilier, comme lui de ses ridicules jouissant, céleste grimacière et bouffon d’elle-même, rêvassière dans son bain, amie de la chouette et protectrice du crapaud, elle, sa folle sœur. Sa joue contre l’épaule de son seigneur, elle lui demandait de dire encore, les yeux fermés, bienheureuse d’être connue, mieux que d’elle-même connue, moquée et louangée par ce frère de l’âme, le seul au monde qui la connaissait, et c’était cela l’amour adorable, l’amour d’un homme, et Varvara ce n’était rien, plus rien, pauvretés évanouies. Rejetant la tête en arrière, elle s’aperçut qu’il avait des yeux bleus et verts, piqués de points d’or, si lumineux dans le visage hâlé, des yeux de la mer et du soleil, et elle se pressa contre lui, reconnaissante de ces ...  ...    24739\n",
       "12361  Non je ne descendrai pas non je ne veux pas voir le type tant pis si scandale oh je suis bien dans mon bain il est trop chaud j’adore ça tralala dommage j’arrive pas à siffler vraiment bien comme un garçon oh je suis bien avec moi les tenant à deux mains je les aime j’en soupèse l’abondance j’en éprouve la fermeté ils me plaisent follement au fond je m’aime d’amour Éliane et moi à neuf dix ans on partait pour l’école l’hiver on se tenait par la main dans la bise glacée la chanson que j’avais inventée on la chantait lugubrement on chantait voici qu’il gèle à pierre fendre sur les chemins et nous pauvres devons descendre de bon matin voilà c’était tout et puis on recommençait voici qu’il gèle à pierre fendre oh une belle femme nue qui serait en même temps un homme pas bien ça ou plutôt oui je oui je descendrai je ferai scandale à table je l’insulterai je dirai ce qu’il a fait je lui lancerai une carafe à la tête oui qui serait en même temps un homme j’aimerais fumer un cigare une fois pour voir attention c’est un vilain mot je veux pas le dire j’ai envie de le dire non je le dirai pas ne le dirai pas tralala j’aimerais un bonbon au chocolat quand j’en mange un je le regarde avant de le mettre dans la bouche le mettre dans la bouche je le tourne de tous les côtés et puis je le mange un peu et puis je recommence je le regarde je le tourne de tous les côtés et puis crac je remords remords les cadeaux qu’il m’apporte son bon sourire et moi souvent méchante demander à Dieu un coup de main pour être épouse modèle oh le regard chien quand il commence à être chien quand il me regarde sérieux soucieux chien myope avec des intentions enfin quand il veut se servir de moi affreux ce qui est drôle c’est qu’il éternue quand ça lui vient quand il va faire le chien ça ne manque jamais il éternue deux fois atchoum atchoum et alors je me dis ça y est c’est le chien je n’y coupe pas il va faire sa gymnastique sur moi et en même temps j’ai envie de rire quand il éternue et en même temps angoisse parce que ça va venir il va monter sur moi une bête dessus une bête dessous mais la dernière fois il a inauguré un système comique il me mordille d’abord ça me fait penser à un pékinois qui joue c’est très désagréable mais pourquoi est-ce que je lui dis pas de pas me mordiller c’est pour pas l’offenser ne ne ne faut dire les ne mais aussi parce que je déguste le grotesque comme dans l’autobus quand je suis envoûtée attirée par un visage affreux alors je le regarde mais c’est peut-être aussi par méchanceté que je le laisse faire parce qu’il est ridicule oh de quel de quel droit cet étranger de quel droit il me fait mal me fait-il mal surtout au début comme un fer rouge oh j’aime pas les hommes ne ne et puis quelle drôle d’idée quelle imbécillité de vouloir introduire ce cette ce cette chose chez quelqu’un d’autre chez quelqu’un qui n’en veut pas à qui ça fait mal c’est du joli les voluptés des romanciers est-ce qu’il y a vraiment des idiotes qui aiment cette horreur oh affreux son haha canin sur moi comment est-ce que ça peut le captiver tellement et en même temps envie de rire quand il bouge sur moi tellement rouge affairé si occupé soucieux les sourcils froncés puis ce haha canin si intéressé est-ce que c’est si palpitant ce va-et-vient c’est c’est comique et puis ça manque de dignité oh il me fait mal cet imbécile et en même temps pitié de lui pauvre studieux qui bouge tellement là-dessus qui se donne tellement de peine et qui ne se doute pas que je le regarde que je le juge je ne veux pas l’humilier en moi-même mais je ne peux pas m’empêcher chaque fois de dire Didi Didi pour battre la mesure pour scander son va-et-vient scander les mouvements du malheureux de dessus scander les mouvements stupides incroyables d’arrière en avant d’avant en arrière si inutiles Didi Didi Didi je répète intérieurement j’ai honte je me déteste c’est un pauvre gentil mais j’y je n’y peux rien et ça dure ça dure lui sur moi Ariane d’Auble on dirait un fou un sauvage oh com...  ...    32417\n",
       "12360  Comme le temps passe, quatre de février aujourd’hui, février de tous les mois le plus court et le moins courtois comme dit le proverbre, deux mois déjà que je suis arrivée à ce Agay, pauve Mariette on pense à elle que quand on a besoin d’elle, elle a eu la chance que j’étais juste encore à Genève, elle m’aurait térégraphié une semaine plus tard elle m’aurait plus trouvée vu que je voulais aller chez ma sœur me promener un peu à Paris étant portée sur la famille, même que le matin du térégramme je me disais avant que le térégramme arrive je me disais Mariette faut que tu prennes quand même un peu de bon temps rapport à l’âge que bientôt c’est le moment de me prendre les mesures pour la caisse que des fois il me vient une mérancolie que vous pouvez pas savoir la force qu’elle a, prête à partir que j’étais à cause que j’avais déjà quitté de chez la Chameau vu que monsieur Adrien bien guéri partait en Afrique en voyage de la politique c’était surtout pour lui que je restais mais entendre la Chameau toutes les heures du temps dire pis que prendre de madame Ariane moralité femme de mauvaise vie ça alors non, ça m’a fait peine de quitter pour monsieur Hippolyte lui jamais un mot contre madame Ariane, qu’est-ce que vous voulez l’amour ça se commande pas, l’amour est enfant de poème comme dit la chanson, mais enfin du moment que monsieur Adrien partait en Afrique j’avais le droit de ma conscience pour moi d’aller me promener un peu à Paris me changer les idées du coup que j’ai eu du grand drame pensez le voyant la tête en sang, parce que tard dans la nuit j’ai eu l’idée tant pire il faut que j’alle voir un peu de quoi ça retourne, un pressentiment comme on dit vu que le matin quand j’étais arrivée comme d’habitude me doutant de rien sachant pas qu’il était arrivé il m’avait dit qu’il avait pas besoin de moi madame Ariane étant partie pour toujours et il m’a fermé la porte au nez mais en tristesse pas en colère, toute la journée je suis restée à me dire j’y retourne ou j’y retourne pas mais j’osais pas vu la tête qu’il avait et puis contre les onze heures de la nuit tant pire j’y vais et alors vite je m’habille chapeau sur la tête j’ai mis mon noir le joli je prends la clef qu’elle m’en avait donné une pour pas sonner le matin, j’entre grand silence personne en bas, bon je monte, personne dans sa chambre, j’entre dans sa chambre de bain, à genoux par terre le pauvre tout cadavre la tête en sang sur le tabouret pauvre agneau, oh là là j’ai des élancements, le revolver par terre et moi chassant pas quoi faire, la police que j’ai voulu appeler tout de suite d’abord au téléphone mais c’est une sale bête la mécanique me tremblait dans la main alors vite je suis été appeler ma copine donc la femme de chambre d’à côté les voisins, vilaine comme tout mais gentille bien causante, elle tout de suite un manteau sur sa chemise de nuit courant avec moi à la maison du drame pour téléphoner à la police, oh elle est instruite espliquant bien, puis au docteur justement celui de Cologny tout près, le docteur Saladin, bel homme, enfin pour vous la faire courte le docteur a vu tout de suite qu’il était pas mort mais quand même le soigner en grande vitesse, alors vite l’ambulance, enfin c’est mon idée de venir qui l’a sauvé, vous y avez sauvé la vie madame le docteur Saladin m’a dit testuel, pensez moi l’émotion tout ce grand drame de l’amour mais ma capacité aussi d’avoir vite les idées qu’il faut disant à la femme de chambre de vite télégraphier à la Chameau de revenir subito presto, elle était en Belgique soignant une vieille riche probabe pour se faire mettre sur le testament perd pas la boule je vous garantis, mais enfin elle est arrivée tout de suite parce que faut lui laisser ça que son Didi c’est son grand amour, fallait l’entendre dire pis que prendre de madame Ariane à monsieur Hippolyte, une trigresse, forcément que j’ai dû tout y raconter à madame Ariane étant au courant de rien vu qu’on savait pas son adresse, elle à peine que je suis arriv...  ...    33723\n",
       "12359  Six heures j’ai tout le temps vôtre vôtre ô mon amour pourquoi ne pas être ici avec moi dans ce bain chaud délicieux on serait si bien tous les deux tant pis si pas assez de place pour les deux on s’arrangerait tout de même on trouverait le moyen un moyen ancien depuis Adam oui je sais je l’ai déjà dit ce truc de venir me rejoindre dans le bain ça m’arrive tout le temps de me répéter Ève la première idiote qui disait personne ne comprend mon Adam personne ne se rend compte de la merveille qu’il est enfin bref ce que je dis de vous mon chéri je me demande si les poules éternuent enfin si ça leur arrive quelquefois elles ont tout de même le droit d’être enrhumées dans trente ans j’aurai non c’est horrible tant pis ce n’est pas pour ce soir on a le temps folle de tendresse quand il dort vulnérable sur son visage une grâce rayonnant au-dessus de la mâle beauté folle aussi quand je vois son poignet si étroit parfois soudain je me dégoûte de l’aimer tant j’ai perdu mon fil ah oui vôtre vôtre je me vautre dans votre vôtre oui mais s’il ne m’avait pas rencontrée il il télégraphierait peut-être un vôtre à Elizabeth Vanstead en somme j’aimerais assez qu’elle perde toutes ses dents non tout de même la bouche toute vide ce ne serait pas charitable qu’elle en perde deux seulement ou même une seule de devant enfin juste ce qu’il faut pour qu’elle soit un peu dégoûtante je me plais trop j’aime me regarder je me désire en somme si ce n’était pas lui ce serait un autre et si cet autre était explorateur je me passionnerais pour l’Amazonie ou pour les mouches du vinaigre si c’était un biologiste non pas vrai il n’y a que lui il est le seul l’unique en tout cas le croire c’est un dogme est-ce que les catholiques croient à tout ce qu’ils croient pourquoi quand il y a un masculin et un féminin l’adjectif doit être masculin c’est pas juste pourquoi est-ce qu’on ne pourrait pas dire que la mer et le lac sont belles pourquoi Dieu au masculin pas juste non plus pitié de moi tout à l’heure en me savonnant une esclave bonne qu’à plaire injuste sort des femmes toujours à attendre à espérer à se préparer qu’est-ce qu’ils ont de plus que nous ces crétins-là nous les pauvres toujours à faire les mignonnes gracieuses faiblettes pudiquettes attendantes acceptantes et puis il en prend trop à son aise avec moi ce type qui arrive à Genève à sept heures vingt-deux et qui s’amène ici à neuf heures tout ça parce que monsieur veut plaire bain d’une heure peut-être rasage minutieux c’est d’ailleurs votre côté féminin mon cher féminins aussi vos coups d’œil dans la glace vous vous regardez un peu trop une faiblesse ça mon ami et puis comédien avec ses robes de chambre trop belles trop longues oui mon ami c’est ainsi que nous sommes nous autres vos esclaves nous ne disons rien nous prenons des airs extasiés mais nous remarquons tout seulement nous sommes indulgentes avez-vous compris mon bonhomme toute la peine que ce Staline se donne tout le temps s’occuper de tout se méfier de tous faire espionner faire tuer tout ça pour le plaisir idiot fatigant de commander quand il me raccompagne en voiture je baise toujours ses manchettes avant de le quitter parce que bien coupées belle soie adoration de la force qui est pouvoir de tuer vous voyez mon chéri je sais bien ma leçon j’aimerais qu’il me fouette le dos mais fort que ça fasse des zébrures en relief d’abord rouges puis blanches comme marque que je lui appartiens j’aimerais que ça me fasse mal que je crie de douleur que je le supplie de s’arrêter mais non il continue oui frappez encore mon chéri frappez aussi au bas du dos oui tout en bas après les reins oui parfaitement là très fort d’abord la joue droite puis la joue gauche c’est parce que je suis bien élevée que je dis joue droite joue gauche c’est les joues spéciales du bas du dos fouettez-les fort s’il vous plaît très fort que le sang coule oh merci merci aimé venez dans ce bain je suis votre terre et vous êtes mon maître et laboureur oh oui labourez-moi à fond as...  ...    43045\n",
       "12358  — Nous avons dîné dans notre salle à manger pour vingt-quatre personnes maintenant nous voilà installés dans notre inutile grand salon assis dans des mousses au chocolat désespérantes de confort, je fais semblant de lire pour n’avoir pas à parler à la pauvrette qui recoud un tas d’ourlets que j’ai défaits en douce pour lui donner une occupation elle m’a dit que ça va lui prendre longtemps peut-être deux heures parce que des fils à enlever d’abord et après elle veut faire un travail soigné pauvre chérie elle a dit des petits points très réguliers qui ne se voient pas et que ça ne bâille pas très bien chérie faites un travail parfait la pauvre elle doit être assez godiche en couture enfin elle a un but de vie en ce moment, défense de s’arrêter de faire semblant de lire sous peine de conversation espérons que pas de récital de borborygmes ce soir, pardon chérie mais tout de même reconnais que je fais de mon mieux depuis mon retour de Paris, si sympathique l’autre soir quand je suis entré chez elle pour lui dire bonne nuit elle était en train de lire j’ai dit allons il faut dormir maintenant elle a fermé tout de suite son livre elle a dit un oui qui m’a percé le cœur un oui d’ange un sage petit oui d’enfance bouleversant si docile j’ai fondu d’amour fondu de cette pitié qui est amour, mon enfant Ariane qui pleure si fort quand je me fâche ses gros chagrins ses paupières enflées de tant pleurer son nez grossi de tant se moucher mais si je lui dis que je regrette elle me pardonne tout de suite dépourvue de fiel et un peu plus tard je l’entends qui chante dans sa chambre fini le gros chagrin, cette pitié qui me vient pour mon enfant si vite revenue à l’espoir si prête à du bonheur, chérie ton organe me fait peur m’a fait peur quand nue tu t’es penchée pour ramasser, ce matin tu es sortie pour des courses alors seul à la maison j’ai baisé ton joli blazer gris il était pendu dans le hall plusieurs fois je l’ai baisé j’ai baisé même la doublure, je vais tout te dire sans danger de perte de prestige puisque tu ne m’entends pas hélas oui il faut que j’aie du prestige pour que tu sois fière de m’aimer mais une fois tout de même je t’avouerai peut-être la cave Silberstein, je voulais rester longtemps avec eux mais ils m’ont demandé de les sauver alors je suis parti le quatrième jour j’ai échoué dans les capitales échoué à Londres échoué à Washington échoué devant le Conseil de leur Essdéenne quand j’ai demandé aux importants bouffons d’accueillir mes Juifs allemands de se les répartir, ils ont dit que mon projet était utopique que si on les acceptait tous il y aurait une montée d’antisémitisme dans les pays d’accueil bref c’est par horreur de l’antisémitisme qu’ils les ont abandonnés à leurs bourreaux, alors je les ai mis en accusation eux et leur amour du prochain ô grand Christ trahi alors scandale et bref chassé ignominieusement comme a dit la Forbes renvoi sans préavis pour conduite préjudiciable aux intérêts de la Société des Nations a précisé la lettre du vieux Cheyne ensuite le décret annulant ma naturalisation pour cause d’irrégularités et voilà il y a quelques jours mon idiote tentative de faire révoquer le décret l’échec et alors le piteux réconfort de ses photos, pauvre malheureuse combinant la prochaine pose oui encore celle-là elle lui plaira moi nue devant la glace ainsi il me verra des deux côtés la main gauche levée appuyée sur la glace et la main droite passée entre les comme pour saisir oui il aimera, pauvre malheureuse se mettant devant le déclencheur automatique prenant vite la lamentable pose, ensuite la décision de retourner vers elle chercher les consolations de nos pauvres corps mais soudain un espoir oui aller d’abord à Genève, convaincre le bouffon général de me reprendre, ma couseuse tranquille lève tes yeux regarde l’imbécile Solal à Genève qui prépare une lettre pour la remettre au vieux Cheyne quand il ira le voir une lettre de vingt pages où il raconte son malheur notre pauvre vie une longue lettre à lui f...  ...    65535\n",
       "\n",
       "[18778 rows x 5 columns]"
      ]
     },
     "execution_count": 6,
     "metadata": {},
     "output_type": "execute_result"
    }
   ],
   "source": [
    "pd.options.display.max_rows = 200\n",
    "pd.options.display.max_seq_items = None\n",
    "pd.options.display.max_colwidth = 4000\n",
    "df_paragraphs.sort_values(by='text_len')\n",
    "\n",
    "# max len : 2566 char ; 2ème : 1468, 1446, 1355, etc.\n",
    "# min len : 403"
   ]
  },
  {
   "cell_type": "code",
   "execution_count": null,
   "metadata": {
    "id": "XiA373p5OjW8"
   },
   "outputs": [],
   "source": [
    "X = df_paragraphs.text.tolist()\n",
    "y = df_paragraphs.author.tolist()"
   ]
  },
  {
   "cell_type": "code",
   "execution_count": null,
   "metadata": {
    "colab": {
     "base_uri": "https://localhost:8080/"
    },
    "id": "WEP8FrSjPhLt",
    "outputId": "d4d87912-c454-4c13-8e8a-e835522d6613"
   },
   "outputs": [
    {
     "name": "stdout",
     "output_type": "stream",
     "text": [
      "['BASTIDE Francois-Regis' 'BAZIN Herve' 'BAZIN Hervé' 'CAMUS Albert'\n",
      " 'CELINE Louis-Ferdinand' 'COHEN Albert' 'DEBEAUVOIR SIMONE'\n",
      " 'DEBEAUVOIR Simone' 'DURAS Marguerite' 'ECHENOZ Jean' 'GARY Romain'\n",
      " 'GASCAR Pierre' 'GIONO Jean' 'GRAINVILLE Patrick' 'GUTH Paul'\n",
      " 'JOFFO Joseph' 'KESSEL Joseph' 'MODIANO Patrick' 'PEREC Georges'\n",
      " 'QUEFFELEC Henri' 'QUEFFELEC Yann' 'SAGAN Fraçoise' 'SARRAUTE Nathalie'\n",
      " 'SCHOENDOERFFER Pierre' 'VIAN Boris' 'YOURCENAR Marguerite']\n"
     ]
    }
   ],
   "source": [
    "from sklearn.preprocessing import LabelEncoder\n",
    "\n",
    "le = LabelEncoder()\n",
    "le.fit(y)\n",
    "LabelEncoder()\n",
    "print(le.classes_)\n",
    "y = le.transform(y)"
   ]
  },
  {
   "cell_type": "code",
   "execution_count": null,
   "metadata": {
    "id": "L3VXUjRLtHh8"
   },
   "outputs": [],
   "source": [
    "y_cat = to_categorical(y)"
   ]
  },
  {
   "cell_type": "code",
   "execution_count": null,
   "metadata": {
    "id": "fI4qKFYJPopz"
   },
   "outputs": [],
   "source": [
    "from sklearn.model_selection import train_test_split\n",
    "X_train, X_test, y_train, y_test = train_test_split(X, y_cat, test_size=0.3)"
   ]
  },
  {
   "cell_type": "code",
   "execution_count": null,
   "metadata": {
    "id": "zF4VXIOoB7vX"
   },
   "outputs": [],
   "source": [
    "LONGUEUR_MAX_PARAGRAPH = 512\n",
    "\n",
    "#instancier le tokenizeur\n",
    "tokenizer = AutoTokenizer.from_pretrained('jplu/tf-camembert-base')\n",
    "\n",
    "#préparation des données d'entrainement/test\n",
    "output_tokenizer_train = tokenizer(X_train, max_length=LONGUEUR_MAX_PARAGRAPH, padding=\"max_length\", truncation=True, return_tensors='tf', add_special_tokens=True)\n",
    "output_tokenizer_test = tokenizer(X_test, max_length=LONGUEUR_MAX_PARAGRAPH, padding=\"max_length\", truncation=True, return_tensors='tf', add_special_tokens=True)"
   ]
  },
  {
   "cell_type": "code",
   "execution_count": null,
   "metadata": {
    "colab": {
     "base_uri": "https://localhost:8080/"
    },
    "id": "RJK6C1svGndp",
    "outputId": "028a54fe-01d4-4f57-a7c0-56bb8663f37b"
   },
   "outputs": [
    {
     "name": "stderr",
     "output_type": "stream",
     "text": [
      "Some layers from the model checkpoint at jplu/tf-camembert-base were not used when initializing TFCamembertModel: ['lm_head']\n",
      "- This IS expected if you are initializing TFCamembertModel from the checkpoint of a model trained on another task or with another architecture (e.g. initializing a BertForSequenceClassification model from a BertForPreTraining model).\n",
      "- This IS NOT expected if you are initializing TFCamembertModel from the checkpoint of a model that you expect to be exactly identical (initializing a BertForSequenceClassification model from a BertForSequenceClassification model).\n",
      "All the layers of TFCamembertModel were initialized from the model checkpoint at jplu/tf-camembert-base.\n",
      "If your task is similar to the task the model of the checkpoint was trained on, you can already use TFCamembertModel for predictions without further training.\n"
     ]
    },
    {
     "name": "stdout",
     "output_type": "stream",
     "text": [
      "WARNING:tensorflow:The parameters `output_attentions`, `output_hidden_states` and `use_cache` cannot be updated when calling a model.They have to be set to True/False in the config object (i.e.: `config=XConfig.from_pretrained('name', output_attentions=True)`).\n",
      "WARNING:tensorflow:The parameter `return_dict` cannot be set in graph mode and will always be set to `True`.\n",
      "TFBaseModelOutputWithPooling(last_hidden_state=<KerasTensor: shape=(None, 512, 768) dtype=float32 (created by layer 'tf_camembert_model_6')>, pooler_output=<KerasTensor: shape=(None, 768) dtype=float32 (created by layer 'tf_camembert_model_6')>, hidden_states=None, attentions=None)\n",
      "WARNING:tensorflow:The parameters `output_attentions`, `output_hidden_states` and `use_cache` cannot be updated when calling a model.They have to be set to True/False in the config object (i.e.: `config=XConfig.from_pretrained('name', output_attentions=True)`).\n",
      "WARNING:tensorflow:The parameter `return_dict` cannot be set in graph mode and will always be set to `True`.\n",
      "(None, 512, 768)\n",
      "KerasTensor(type_spec=TensorSpec(shape=(None, 512, 768), dtype=tf.float32, name=None), name='tf_camembert_model_6/roberta/encoder/layer_._11/output/LayerNorm/batchnorm/add_1:0', description=\"created by layer 'tf_camembert_model_6'\")\n",
      "(None, 26)\n",
      "<keras.engine.input_layer.InputLayer object at 0x7f1841eac890>\n",
      "<keras.engine.input_layer.InputLayer object at 0x7f1841eaca50>\n",
      "<transformers.models.camembert.modeling_tf_camembert.TFCamembertModel object at 0x7f18f6eb6610>\n",
      "Model: \"model_14\"\n",
      "__________________________________________________________________________________________________\n",
      "Layer (type)                    Output Shape         Param #     Connected to                     \n",
      "==================================================================================================\n",
      "input_token (InputLayer)        [(None, 512)]        0                                            \n",
      "__________________________________________________________________________________________________\n",
      "masked_token (InputLayer)       [(None, 512)]        0                                            \n",
      "__________________________________________________________________________________________________\n",
      "tf_camembert_model_6 (TFCamembe TFBaseModelOutputWit 110621952   input_token[0][0]                \n",
      "                                                                 masked_token[0][0]               \n",
      "__________________________________________________________________________________________________\n",
      "lambda_3 (Lambda)               (None, 768)          0           tf_camembert_model_6[1][0]       \n",
      "__________________________________________________________________________________________________\n",
      "dense_12 (Dense)                (None, 128)          98432       lambda_3[0][0]                   \n",
      "__________________________________________________________________________________________________\n",
      "dense_13 (Dense)                (None, 26)           3354        dense_12[0][0]                   \n",
      "==================================================================================================\n",
      "Total params: 110,723,738\n",
      "Trainable params: 101,786\n",
      "Non-trainable params: 110,621,952\n",
      "__________________________________________________________________________________________________\n"
     ]
    }
   ],
   "source": [
    "#Instanciation du modèle\n",
    "transformer_model = TFCamembertModel.from_pretrained('jplu/tf-camembert-base')\n",
    "\n",
    "#Définition des formats d'entrée\n",
    "entrees_ids = tf.keras.layers.Input(shape=(LONGUEUR_MAX_PARAGRAPH,), name='input_token', dtype='int32')\n",
    "entrees_masks = tf.keras.layers.Input(shape=(LONGUEUR_MAX_PARAGRAPH,), name='masked_token', dtype='int32')\n",
    "\n",
    "#Création de la sortie du modèle\n",
    "sortie_camemBERT = transformer_model([entrees_ids, entrees_masks])\n",
    "#print(sortie_camemBERT.shape)\n",
    "print(sortie_camemBERT)\n",
    "#>>TFBaseModelOutputWithPooling(\n",
    "    #last_hidden_state=<KerasTensor: shape=(None, 300, 768) dtype=float32 (created by layer 'tf_camembert_model_5')>, \n",
    "    #pooler_output=<KerasTensor: shape=(None, 768) dtype=float32 (created by layer 'tf_camembert_model_5')>, \n",
    "    #hidden_states=None, attentions=None)\n",
    "\n",
    "#Instanciation du modèle avec Keras\n",
    "model_camemBERT = tf.keras.Model(inputs=[entrees_ids, entrees_masks], outputs = sortie_camemBERT, trainable=False)\n",
    "\n",
    "#Définition du format d'entrée du modèle\n",
    "entrees_ids = tf.keras.layers.Input(shape=(LONGUEUR_MAX_PARAGRAPH,), name='input_token', dtype='int32')\n",
    "entrees_masks = tf.keras.layers.Input(shape=(LONGUEUR_MAX_PARAGRAPH,), name='masked_token', dtype='int32')\n",
    "#?\n",
    "\n",
    "#Création de la sortie du modèle\n",
    "sortie_camemBERT = transformer_model([entrees_ids, entrees_masks])[0]\n",
    "print(sortie_camemBERT.shape)\n",
    "print(sortie_camemBERT)\n",
    "\n",
    "l1 = Lambda(lambda seq: seq[:,0,:])(sortie_camemBERT) #pour ne récupérer que les vecteurs CLS\n",
    "#print(l1.shape)\n",
    "\n",
    "#lstm = LSTM(20, activation='tanh')(l1)\n",
    "#dense1 = Dense(512, activation='relu')(l1)\n",
    "#dense2 = Dense(256, activation='relu')(l1)\n",
    "dense3 = Dense(128, activation='relu')(l1)\n",
    "output = Dense(26, activation='softmax')(dense3)\n",
    "print(output.shape)\n",
    "\n",
    "model = tf.keras.Model(inputs=[entrees_ids, entrees_masks], outputs = output)\n",
    "model.layers[2].trainable = False   #Désactive l'entraînement de camemBERT\n",
    "print(model.layers[0])\n",
    "print(model.layers[1])\n",
    "print(model.layers[2])\n",
    "\n",
    "model.compile(loss='categorical_crossentropy', optimizer=Adam(), metrics=['accuracy'])\n",
    "model.summary()"
   ]
  },
  {
   "cell_type": "code",
   "execution_count": null,
   "metadata": {
    "colab": {
     "base_uri": "https://localhost:8080/",
     "height": 542
    },
    "id": "4I9W7cvJa2lW",
    "outputId": "5c143206-8312-43fd-d69b-dfa2f9b28bca"
   },
   "outputs": [
    {
     "name": "stdout",
     "output_type": "stream",
     "text": [
      "Epoch 1/2\n",
      "WARNING:tensorflow:The parameters `output_attentions`, `output_hidden_states` and `use_cache` cannot be updated when calling a model.They have to be set to True/False in the config object (i.e.: `config=XConfig.from_pretrained('name', output_attentions=True)`).\n",
      "WARNING:tensorflow:The parameter `return_dict` cannot be set in graph mode and will always be set to `True`.\n",
      "WARNING:tensorflow:The parameters `output_attentions`, `output_hidden_states` and `use_cache` cannot be updated when calling a model.They have to be set to True/False in the config object (i.e.: `config=XConfig.from_pretrained('name', output_attentions=True)`).\n",
      "WARNING:tensorflow:The parameter `return_dict` cannot be set in graph mode and will always be set to `True`.\n",
      "3286/3286 [==============================] - ETA: 0s - loss: 2.1556 - accuracy: 0.3743WARNING:tensorflow:The parameters `output_attentions`, `output_hidden_states` and `use_cache` cannot be updated when calling a model.They have to be set to True/False in the config object (i.e.: `config=XConfig.from_pretrained('name', output_attentions=True)`).\n",
      "WARNING:tensorflow:The parameter `return_dict` cannot be set in graph mode and will always be set to `True`.\n",
      "3286/3286 [==============================] - 302s 90ms/step - loss: 2.1556 - accuracy: 0.3743 - val_loss: 1.6149 - val_accuracy: 0.5309\n",
      "Epoch 2/2\n",
      " 773/3286 [======>.......................] - ETA: 2:32 - loss: 1.5778 - accuracy: 0.5197"
     ]
    },
    {
     "ename": "KeyboardInterrupt",
     "evalue": "ignored",
     "output_type": "error",
     "traceback": [
      "\u001b[0;31m---------------------------------------------------------------------------\u001b[0m",
      "\u001b[0;31mKeyboardInterrupt\u001b[0m                         Traceback (most recent call last)",
      "\u001b[0;32m<ipython-input-63-e20f691c21c9>\u001b[0m in \u001b[0;36m<module>\u001b[0;34m()\u001b[0m\n\u001b[1;32m      1\u001b[0m history = model.fit([np.array(output_tokenizer_train['input_ids']), np.array(output_tokenizer_train['attention_mask'])],np.array(y_train),\n\u001b[0;32m----> 2\u001b[0;31m                     \u001b[0mepochs\u001b[0m\u001b[0;34m=\u001b[0m\u001b[0;36m2\u001b[0m\u001b[0;34m,\u001b[0m \u001b[0mbatch_size\u001b[0m\u001b[0;34m=\u001b[0m\u001b[0;36m4\u001b[0m\u001b[0;34m,\u001b[0m \u001b[0mverbose\u001b[0m\u001b[0;34m=\u001b[0m\u001b[0;36m1\u001b[0m\u001b[0;34m,\u001b[0m \u001b[0mvalidation_data\u001b[0m\u001b[0;34m=\u001b[0m\u001b[0;34m(\u001b[0m\u001b[0;34m[\u001b[0m\u001b[0mnp\u001b[0m\u001b[0;34m.\u001b[0m\u001b[0marray\u001b[0m\u001b[0;34m(\u001b[0m\u001b[0moutput_tokenizer_test\u001b[0m\u001b[0;34m[\u001b[0m\u001b[0;34m'input_ids'\u001b[0m\u001b[0;34m]\u001b[0m\u001b[0;34m)\u001b[0m\u001b[0;34m,\u001b[0m \u001b[0mnp\u001b[0m\u001b[0;34m.\u001b[0m\u001b[0marray\u001b[0m\u001b[0;34m(\u001b[0m\u001b[0moutput_tokenizer_test\u001b[0m\u001b[0;34m[\u001b[0m\u001b[0;34m'attention_mask'\u001b[0m\u001b[0;34m]\u001b[0m\u001b[0;34m)\u001b[0m\u001b[0;34m]\u001b[0m\u001b[0;34m,\u001b[0m\u001b[0mnp\u001b[0m\u001b[0;34m.\u001b[0m\u001b[0marray\u001b[0m\u001b[0;34m(\u001b[0m\u001b[0my_test\u001b[0m\u001b[0;34m)\u001b[0m\u001b[0;34m)\u001b[0m\u001b[0;34m\u001b[0m\u001b[0;34m\u001b[0m\u001b[0m\n\u001b[0m\u001b[1;32m      3\u001b[0m           )\n",
      "\u001b[0;32m/usr/local/lib/python3.7/dist-packages/keras/engine/training.py\u001b[0m in \u001b[0;36mfit\u001b[0;34m(self, x, y, batch_size, epochs, verbose, callbacks, validation_split, validation_data, shuffle, class_weight, sample_weight, initial_epoch, steps_per_epoch, validation_steps, validation_batch_size, validation_freq, max_queue_size, workers, use_multiprocessing)\u001b[0m\n\u001b[1;32m   1182\u001b[0m                 _r=1):\n\u001b[1;32m   1183\u001b[0m               \u001b[0mcallbacks\u001b[0m\u001b[0;34m.\u001b[0m\u001b[0mon_train_batch_begin\u001b[0m\u001b[0;34m(\u001b[0m\u001b[0mstep\u001b[0m\u001b[0;34m)\u001b[0m\u001b[0;34m\u001b[0m\u001b[0;34m\u001b[0m\u001b[0m\n\u001b[0;32m-> 1184\u001b[0;31m               \u001b[0mtmp_logs\u001b[0m \u001b[0;34m=\u001b[0m \u001b[0mself\u001b[0m\u001b[0;34m.\u001b[0m\u001b[0mtrain_function\u001b[0m\u001b[0;34m(\u001b[0m\u001b[0miterator\u001b[0m\u001b[0;34m)\u001b[0m\u001b[0;34m\u001b[0m\u001b[0;34m\u001b[0m\u001b[0m\n\u001b[0m\u001b[1;32m   1185\u001b[0m               \u001b[0;32mif\u001b[0m \u001b[0mdata_handler\u001b[0m\u001b[0;34m.\u001b[0m\u001b[0mshould_sync\u001b[0m\u001b[0;34m:\u001b[0m\u001b[0;34m\u001b[0m\u001b[0;34m\u001b[0m\u001b[0m\n\u001b[1;32m   1186\u001b[0m                 \u001b[0mcontext\u001b[0m\u001b[0;34m.\u001b[0m\u001b[0masync_wait\u001b[0m\u001b[0;34m(\u001b[0m\u001b[0;34m)\u001b[0m\u001b[0;34m\u001b[0m\u001b[0;34m\u001b[0m\u001b[0m\n",
      "\u001b[0;32m/usr/local/lib/python3.7/dist-packages/tensorflow/python/eager/def_function.py\u001b[0m in \u001b[0;36m__call__\u001b[0;34m(self, *args, **kwds)\u001b[0m\n\u001b[1;32m    883\u001b[0m \u001b[0;34m\u001b[0m\u001b[0m\n\u001b[1;32m    884\u001b[0m       \u001b[0;32mwith\u001b[0m \u001b[0mOptionalXlaContext\u001b[0m\u001b[0;34m(\u001b[0m\u001b[0mself\u001b[0m\u001b[0;34m.\u001b[0m\u001b[0m_jit_compile\u001b[0m\u001b[0;34m)\u001b[0m\u001b[0;34m:\u001b[0m\u001b[0;34m\u001b[0m\u001b[0;34m\u001b[0m\u001b[0m\n\u001b[0;32m--> 885\u001b[0;31m         \u001b[0mresult\u001b[0m \u001b[0;34m=\u001b[0m \u001b[0mself\u001b[0m\u001b[0;34m.\u001b[0m\u001b[0m_call\u001b[0m\u001b[0;34m(\u001b[0m\u001b[0;34m*\u001b[0m\u001b[0margs\u001b[0m\u001b[0;34m,\u001b[0m \u001b[0;34m**\u001b[0m\u001b[0mkwds\u001b[0m\u001b[0;34m)\u001b[0m\u001b[0;34m\u001b[0m\u001b[0;34m\u001b[0m\u001b[0m\n\u001b[0m\u001b[1;32m    886\u001b[0m \u001b[0;34m\u001b[0m\u001b[0m\n\u001b[1;32m    887\u001b[0m       \u001b[0mnew_tracing_count\u001b[0m \u001b[0;34m=\u001b[0m \u001b[0mself\u001b[0m\u001b[0;34m.\u001b[0m\u001b[0mexperimental_get_tracing_count\u001b[0m\u001b[0;34m(\u001b[0m\u001b[0;34m)\u001b[0m\u001b[0;34m\u001b[0m\u001b[0;34m\u001b[0m\u001b[0m\n",
      "\u001b[0;32m/usr/local/lib/python3.7/dist-packages/tensorflow/python/eager/def_function.py\u001b[0m in \u001b[0;36m_call\u001b[0;34m(self, *args, **kwds)\u001b[0m\n\u001b[1;32m    915\u001b[0m       \u001b[0;31m# In this case we have created variables on the first call, so we run the\u001b[0m\u001b[0;34m\u001b[0m\u001b[0;34m\u001b[0m\u001b[0;34m\u001b[0m\u001b[0m\n\u001b[1;32m    916\u001b[0m       \u001b[0;31m# defunned version which is guaranteed to never create variables.\u001b[0m\u001b[0;34m\u001b[0m\u001b[0;34m\u001b[0m\u001b[0;34m\u001b[0m\u001b[0m\n\u001b[0;32m--> 917\u001b[0;31m       \u001b[0;32mreturn\u001b[0m \u001b[0mself\u001b[0m\u001b[0;34m.\u001b[0m\u001b[0m_stateless_fn\u001b[0m\u001b[0;34m(\u001b[0m\u001b[0;34m*\u001b[0m\u001b[0margs\u001b[0m\u001b[0;34m,\u001b[0m \u001b[0;34m**\u001b[0m\u001b[0mkwds\u001b[0m\u001b[0;34m)\u001b[0m  \u001b[0;31m# pylint: disable=not-callable\u001b[0m\u001b[0;34m\u001b[0m\u001b[0;34m\u001b[0m\u001b[0m\n\u001b[0m\u001b[1;32m    918\u001b[0m     \u001b[0;32melif\u001b[0m \u001b[0mself\u001b[0m\u001b[0;34m.\u001b[0m\u001b[0m_stateful_fn\u001b[0m \u001b[0;32mis\u001b[0m \u001b[0;32mnot\u001b[0m \u001b[0;32mNone\u001b[0m\u001b[0;34m:\u001b[0m\u001b[0;34m\u001b[0m\u001b[0;34m\u001b[0m\u001b[0m\n\u001b[1;32m    919\u001b[0m       \u001b[0;31m# Release the lock early so that multiple threads can perform the call\u001b[0m\u001b[0;34m\u001b[0m\u001b[0;34m\u001b[0m\u001b[0;34m\u001b[0m\u001b[0m\n",
      "\u001b[0;32m/usr/local/lib/python3.7/dist-packages/tensorflow/python/eager/function.py\u001b[0m in \u001b[0;36m__call__\u001b[0;34m(self, *args, **kwargs)\u001b[0m\n\u001b[1;32m   3038\u001b[0m        filtered_flat_args) = self._maybe_define_function(args, kwargs)\n\u001b[1;32m   3039\u001b[0m     return graph_function._call_flat(\n\u001b[0;32m-> 3040\u001b[0;31m         filtered_flat_args, captured_inputs=graph_function.captured_inputs)  # pylint: disable=protected-access\n\u001b[0m\u001b[1;32m   3041\u001b[0m \u001b[0;34m\u001b[0m\u001b[0m\n\u001b[1;32m   3042\u001b[0m   \u001b[0;34m@\u001b[0m\u001b[0mproperty\u001b[0m\u001b[0;34m\u001b[0m\u001b[0;34m\u001b[0m\u001b[0m\n",
      "\u001b[0;32m/usr/local/lib/python3.7/dist-packages/tensorflow/python/eager/function.py\u001b[0m in \u001b[0;36m_call_flat\u001b[0;34m(self, args, captured_inputs, cancellation_manager)\u001b[0m\n\u001b[1;32m   1962\u001b[0m       \u001b[0;31m# No tape is watching; skip to running the function.\u001b[0m\u001b[0;34m\u001b[0m\u001b[0;34m\u001b[0m\u001b[0;34m\u001b[0m\u001b[0m\n\u001b[1;32m   1963\u001b[0m       return self._build_call_outputs(self._inference_function.call(\n\u001b[0;32m-> 1964\u001b[0;31m           ctx, args, cancellation_manager=cancellation_manager))\n\u001b[0m\u001b[1;32m   1965\u001b[0m     forward_backward = self._select_forward_and_backward_functions(\n\u001b[1;32m   1966\u001b[0m         \u001b[0margs\u001b[0m\u001b[0;34m,\u001b[0m\u001b[0;34m\u001b[0m\u001b[0;34m\u001b[0m\u001b[0m\n",
      "\u001b[0;32m/usr/local/lib/python3.7/dist-packages/tensorflow/python/eager/function.py\u001b[0m in \u001b[0;36mcall\u001b[0;34m(self, ctx, args, cancellation_manager)\u001b[0m\n\u001b[1;32m    594\u001b[0m               \u001b[0minputs\u001b[0m\u001b[0;34m=\u001b[0m\u001b[0margs\u001b[0m\u001b[0;34m,\u001b[0m\u001b[0;34m\u001b[0m\u001b[0;34m\u001b[0m\u001b[0m\n\u001b[1;32m    595\u001b[0m               \u001b[0mattrs\u001b[0m\u001b[0;34m=\u001b[0m\u001b[0mattrs\u001b[0m\u001b[0;34m,\u001b[0m\u001b[0;34m\u001b[0m\u001b[0;34m\u001b[0m\u001b[0m\n\u001b[0;32m--> 596\u001b[0;31m               ctx=ctx)\n\u001b[0m\u001b[1;32m    597\u001b[0m         \u001b[0;32melse\u001b[0m\u001b[0;34m:\u001b[0m\u001b[0;34m\u001b[0m\u001b[0;34m\u001b[0m\u001b[0m\n\u001b[1;32m    598\u001b[0m           outputs = execute.execute_with_cancellation(\n",
      "\u001b[0;32m/usr/local/lib/python3.7/dist-packages/tensorflow/python/eager/execute.py\u001b[0m in \u001b[0;36mquick_execute\u001b[0;34m(op_name, num_outputs, inputs, attrs, ctx, name)\u001b[0m\n\u001b[1;32m     58\u001b[0m     \u001b[0mctx\u001b[0m\u001b[0;34m.\u001b[0m\u001b[0mensure_initialized\u001b[0m\u001b[0;34m(\u001b[0m\u001b[0;34m)\u001b[0m\u001b[0;34m\u001b[0m\u001b[0;34m\u001b[0m\u001b[0m\n\u001b[1;32m     59\u001b[0m     tensors = pywrap_tfe.TFE_Py_Execute(ctx._handle, device_name, op_name,\n\u001b[0;32m---> 60\u001b[0;31m                                         inputs, attrs, num_outputs)\n\u001b[0m\u001b[1;32m     61\u001b[0m   \u001b[0;32mexcept\u001b[0m \u001b[0mcore\u001b[0m\u001b[0;34m.\u001b[0m\u001b[0m_NotOkStatusException\u001b[0m \u001b[0;32mas\u001b[0m \u001b[0me\u001b[0m\u001b[0;34m:\u001b[0m\u001b[0;34m\u001b[0m\u001b[0;34m\u001b[0m\u001b[0m\n\u001b[1;32m     62\u001b[0m     \u001b[0;32mif\u001b[0m \u001b[0mname\u001b[0m \u001b[0;32mis\u001b[0m \u001b[0;32mnot\u001b[0m \u001b[0;32mNone\u001b[0m\u001b[0;34m:\u001b[0m\u001b[0;34m\u001b[0m\u001b[0;34m\u001b[0m\u001b[0m\n",
      "\u001b[0;31mKeyboardInterrupt\u001b[0m: "
     ]
    }
   ],
   "source": [
    "history = model.fit([np.array(output_tokenizer_train['input_ids']), np.array(output_tokenizer_train['attention_mask'])],np.array(y_train),\n",
    "                    epochs=4, batch_size=4, verbose=1, validation_data=([np.array(output_tokenizer_test['input_ids']), np.array(output_tokenizer_test['attention_mask'])],np.array(y_test)) \n",
    "          )"
   ]
  },
  {
   "cell_type": "code",
   "execution_count": null,
   "metadata": {
    "id": "rB80E_zvUycg"
   },
   "outputs": [],
   "source": [
    "ajar1 = \"Il n'a pas répondu. Il but un peu de thé de menthe qui est bon pour la santé. Monsieur machin portait toujours une machin grise, depuis quelque temps, pour ne pas être surpris en veston s'il était appelé. Il m'a regardé et a observé le silence. Il devait penser que j'étais encore interdit aux mineurs et qu'il y avait des choses que je ne devais pas savoir. En ce moment je devais avoir sept ans ou peut-être huit, je ne peux pas vous dire juste parce que je n'ai pas été daté, comme vous allez voir quand on se connaîtra mieux, si vous trouvez que ça vaut la peine\""
   ]
  },
  {
   "cell_type": "code",
   "execution_count": null,
   "metadata": {
    "id": "D3-ZGUmXogrL"
   },
   "outputs": [],
   "source": [
    "ajar2 = \"Madame Rosa était née en Pologne comme Juive mais elle s'était défendue, au Maroc et en Algérie pendant plusieurs années et elle savait l'arabe comme vous et moi. Elle savait aussi le juif pour les mêmes raisons et on se parlait souvent dans cette langue. La plupart des autres locataires de l'immeuble étaient des Noirs. Il y a trois foyers noirs rue Bisson et deux autres où ils vivent par tribus, comme ils font ça en Afrique. Il y a surtout les Sarakollé, qui sont les plus nombreux et les Toucouleurs, qui sont pas mal non plus. Il y a beaucoup d'autres tribus rue Bisson mais je n'ai pas le temps de vous les nommer toutes. Le reste de la rue et du boulevard de Belleville est surtout juif et arabe. Ça continue Comme ça jusqu’à la Goutte d’Or et après c’est les quartiers français qui commencent.\""
   ]
  },
  {
   "cell_type": "code",
   "execution_count": null,
   "metadata": {
    "id": "szraadPsonXK"
   },
   "outputs": [],
   "source": [
    "ajar3 = \"Au début je ne savais pas que je n'avais pas de mère et je ne savais même pas qu'il en fallait une. Madame Rosa évitait d'en parler pour ne pas me donner des idées. Je ne sais pas pourquoi je suis né et qu'est-ce qui s'est passé exactement. Mon copain le Mahoute qui a plusieurs années de plus que moi m'a dit que c'est les conditions d'hygiène qui font ça. Lui était né à la Casbah à Alger et il était venu en France seulement après. Il n'y avait pas encore d'hygiène à la Casbah et il était né parce qu'il n'y avait ni bidet ni eau potable ni rien. Le Mahoute a appris tout cela plus tard, quand son père a cherché à se justifier et lui a juré qu'il n'y avait aucune mauvaise volonté chez personne. Le Mahoute m'a dit que les femmes qui se défendent ont maintenant une pilule pour l'hygiène mais qu'il était né trop tôt.\""
   ]
  },
  {
   "cell_type": "code",
   "execution_count": null,
   "metadata": {
    "id": "ZoR7vGzrFHtA"
   },
   "outputs": [],
   "source": [
    "ajar4 = \"Il y avait chez nous pas mal de mères qui venaient une ou deux fois par semaine mais c'était toujours pour les autres. Nous étions presque tous des enfants de putes chez Madame Rosa, et quand elles partaient plusieurs mois en province pour se défendre là-bas, elles venaient voir leurs mômes avant et après. C'est comme ça que j'ai commencé à avoir des ennuis avec ma mère. Il me semblait que tout le monde en avait une sauf moi. \""
   ]
  },
  {
   "cell_type": "code",
   "execution_count": null,
   "metadata": {
    "id": "A-sGbKakFKnn"
   },
   "outputs": [],
   "source": [
    "ajar5 = \"J'ai commencé à avoir des crampes d'estomac et des convulsions pour la faire venir. Il y avait sur le trottoir d'en face un môme qui avait un ballon et qui m'avait dit que sa mère venait toujours quand il avait mal au ventre. J'ai eu mal au ventre mais ça n'a rien donné et ensuite j'ai eu des convulsions, pour rien aussi. J'ai même chié partout dans l'appartement pour plus de remarque. Rien. Ma mère n'est pas venue et Madame Rosa m'a traité de cul d'Arabe pour la première fois, car elle n'était pas française. \""
   ]
  },
  {
   "cell_type": "code",
   "execution_count": null,
   "metadata": {
    "id": "GU8BAJTDFN0f"
   },
   "outputs": [],
   "source": [
    "ajar6 = \"Je lui hurlais que je voulais voir ma mère et pendant des semaines j'ai continué à chier partout pour me venger. Madame Rosa a fini par me dire que si je continuais c'était l'Assistance publique et là j'ai eu peur, parce que l'Assistance publique c'est la première chose qu'on apprend aux enfants. J'ai continué à chier pour le principe mais ce n'était pas une vie. On était alors sept enfants de putes en pension chez Madame Rosa et ils se sont tous mis à chier à qui mieux mieux car il n'y a rien de plus conformiste que les mômes et il y avait tant de caca partout que je passais inaperçu là-dedans.\""
   ]
  },
  {
   "cell_type": "code",
   "execution_count": null,
   "metadata": {
    "id": "XoCWxHU2obPD"
   },
   "outputs": [],
   "source": [
    "ajar_list = []"
   ]
  },
  {
   "cell_type": "code",
   "execution_count": null,
   "metadata": {
    "id": "9s-osLmgokOe"
   },
   "outputs": [],
   "source": [
    "for i in range(1,7,1):\n",
    "  ajar_list.append(eval(f'ajar{i}'))"
   ]
  },
  {
   "cell_type": "code",
   "execution_count": null,
   "metadata": {
    "id": "xOORoXC-mOLp"
   },
   "outputs": [],
   "source": [
    "ajar_token = tokenizer(ajar_list, max_length=LONGUEUR_MAX_PARAGRAPH, padding=\"max_length\", truncation=True, return_tensors='tf', add_special_tokens=True)\n",
    "inputs_ids = np.array(ajar_token['input_ids'])\n",
    "attention_mask = np.array(ajar_token['attention_mask'])"
   ]
  },
  {
   "cell_type": "code",
   "execution_count": null,
   "metadata": {
    "colab": {
     "base_uri": "https://localhost:8080/"
    },
    "id": "CkRNVZFHaLip",
    "outputId": "d41b0db9-f4ea-41e6-ad95-c0276664606a"
   },
   "outputs": [
    {
     "name": "stdout",
     "output_type": "stream",
     "text": [
      "WARNING:tensorflow:The parameters `output_attentions`, `output_hidden_states` and `use_cache` cannot be updated when calling a model.They have to be set to True/False in the config object (i.e.: `config=XConfig.from_pretrained('name', output_attentions=True)`).\n",
      "WARNING:tensorflow:The parameter `return_dict` cannot be set in graph mode and will always be set to `True`.\n"
     ]
    }
   ],
   "source": [
    "pred = model.predict([inputs_ids,attention_mask])"
   ]
  },
  {
   "cell_type": "code",
   "execution_count": null,
   "metadata": {
    "colab": {
     "base_uri": "https://localhost:8080/"
    },
    "id": "8RReF10Sav-J",
    "outputId": "ccfcdc1d-432d-4748-dc25-ac02d20ec6db"
   },
   "outputs": [
    {
     "data": {
      "text/plain": [
       "array(['GARY Romain', 'MODIANO Patrick', 'DEBEAUVOIR Simone',\n",
       "       'DURAS Marguerite', 'DURAS Marguerite', 'DURAS Marguerite'],\n",
       "      dtype='<U22')"
      ]
     },
     "execution_count": 57,
     "metadata": {},
     "output_type": "execute_result"
    }
   ],
   "source": [
    "le.inverse_transform([np.argmax(pred[i]) for i in range(0,6,1)])"
   ]
  },
  {
   "cell_type": "code",
   "execution_count": null,
   "metadata": {
    "colab": {
     "base_uri": "https://localhost:8080/"
    },
    "id": "6giBmsfaq94G",
    "outputId": "819e7939-a6de-4337-a5b9-34fd130978d2"
   },
   "outputs": [
    {
     "name": "stdout",
     "output_type": "stream",
     "text": [
      "[3.20807993e-02 3.59245198e-04 2.08586454e-04 1.91727374e-02\n",
      " 4.24767099e-03 9.54917341e-05 6.39927760e-03 1.00717845e-03\n",
      " 1.50003545e-02 1.79646508e-04 5.96367419e-01 6.47042086e-03\n",
      " 9.18567032e-02 2.61141281e-07 1.37484303e-05 1.30430125e-02\n",
      " 2.30684108e-03 1.98237047e-01 2.47214848e-05 1.37941664e-04\n",
      " 4.40377480e-05 1.58131518e-03 2.21742131e-03 2.43368340e-04\n",
      " 8.70327465e-03 1.37613176e-06]\n"
     ]
    },
    {
     "data": {
      "text/plain": [
       "array(['BASTIDE Francois-Regis', 'BAZIN Herve', 'BAZIN Hervé',\n",
       "       'CAMUS Albert', 'CELINE Louis-Ferdinand', 'COHEN Albert',\n",
       "       'DEBEAUVOIR SIMONE', 'DEBEAUVOIR Simone', 'DURAS Marguerite',\n",
       "       'ECHENOZ Jean', 'GARY Romain', 'GASCAR Pierre', 'GIONO Jean',\n",
       "       'GRAINVILLE Patrick', 'GUTH Paul', 'JOFFO Joseph', 'KESSEL Joseph',\n",
       "       'MODIANO Patrick', 'PEREC Georges', 'QUEFFELEC Henri',\n",
       "       'QUEFFELEC Yann', 'SAGAN Fraçoise', 'SARRAUTE Nathalie',\n",
       "       'SCHOENDOERFFER Pierre', 'VIAN Boris', 'YOURCENAR Marguerite'],\n",
       "      dtype='<U22')"
      ]
     },
     "execution_count": 48,
     "metadata": {},
     "output_type": "execute_result"
    }
   ],
   "source": [
    "print(pred[0])\n",
    "le.classes_"
   ]
  },
  {
   "cell_type": "code",
   "execution_count": null,
   "metadata": {
    "id": "jzW27rZMDVF_"
   },
   "outputs": [],
   "source": [
    "def dict_proba(pred):\n",
    "  \n",
    "  list_dicts = []\n",
    "  authors = le.classes_ #label encoder\n",
    "\n",
    "  for probas in pred:\n",
    "    i = 0\n",
    "    dict = {}\n",
    "    for proba in probas:\n",
    "      dict[authors[i]] = round(proba,2)\n",
    "      i = i+1\n",
    "    list_dicts.append(dict)\n",
    "  \n",
    "  return list_dicts"
   ]
  },
  {
   "cell_type": "code",
   "execution_count": null,
   "metadata": {
    "colab": {
     "base_uri": "https://localhost:8080/"
    },
    "id": "Dus9rmYuAT-U",
    "outputId": "06fc7a20-4e5c-485b-d2c9-1e2f59de3d02"
   },
   "outputs": [
    {
     "data": {
      "text/plain": [
       "[{'BASTIDE Francois-Regis': 0.03,\n",
       "  'BAZIN Herve': 0.0,\n",
       "  'BAZIN Hervé': 0.0,\n",
       "  'CAMUS Albert': 0.02,\n",
       "  'CELINE Louis-Ferdinand': 0.0,\n",
       "  'COHEN Albert': 0.0,\n",
       "  'DEBEAUVOIR SIMONE': 0.01,\n",
       "  'DEBEAUVOIR Simone': 0.0,\n",
       "  'DURAS Marguerite': 0.02,\n",
       "  'ECHENOZ Jean': 0.0,\n",
       "  'GARY Romain': 0.6,\n",
       "  'GASCAR Pierre': 0.01,\n",
       "  'GIONO Jean': 0.09,\n",
       "  'GRAINVILLE Patrick': 0.0,\n",
       "  'GUTH Paul': 0.0,\n",
       "  'JOFFO Joseph': 0.01,\n",
       "  'KESSEL Joseph': 0.0,\n",
       "  'MODIANO Patrick': 0.2,\n",
       "  'PEREC Georges': 0.0,\n",
       "  'QUEFFELEC Henri': 0.0,\n",
       "  'QUEFFELEC Yann': 0.0,\n",
       "  'SAGAN Fraçoise': 0.0,\n",
       "  'SARRAUTE Nathalie': 0.0,\n",
       "  'SCHOENDOERFFER Pierre': 0.0,\n",
       "  'VIAN Boris': 0.01,\n",
       "  'YOURCENAR Marguerite': 0.0},\n",
       " {'BASTIDE Francois-Regis': 0.0,\n",
       "  'BAZIN Herve': 0.0,\n",
       "  'BAZIN Hervé': 0.0,\n",
       "  'CAMUS Albert': 0.07,\n",
       "  'CELINE Louis-Ferdinand': 0.0,\n",
       "  'COHEN Albert': 0.0,\n",
       "  'DEBEAUVOIR SIMONE': 0.0,\n",
       "  'DEBEAUVOIR Simone': 0.0,\n",
       "  'DURAS Marguerite': 0.16,\n",
       "  'ECHENOZ Jean': 0.0,\n",
       "  'GARY Romain': 0.23,\n",
       "  'GASCAR Pierre': 0.0,\n",
       "  'GIONO Jean': 0.08,\n",
       "  'GRAINVILLE Patrick': 0.0,\n",
       "  'GUTH Paul': 0.0,\n",
       "  'JOFFO Joseph': 0.03,\n",
       "  'KESSEL Joseph': 0.09,\n",
       "  'MODIANO Patrick': 0.28,\n",
       "  'PEREC Georges': 0.0,\n",
       "  'QUEFFELEC Henri': 0.0,\n",
       "  'QUEFFELEC Yann': 0.0,\n",
       "  'SAGAN Fraçoise': 0.0,\n",
       "  'SARRAUTE Nathalie': 0.0,\n",
       "  'SCHOENDOERFFER Pierre': 0.0,\n",
       "  'VIAN Boris': 0.03,\n",
       "  'YOURCENAR Marguerite': 0.0},\n",
       " {'BASTIDE Francois-Regis': 0.02,\n",
       "  'BAZIN Herve': 0.0,\n",
       "  'BAZIN Hervé': 0.0,\n",
       "  'CAMUS Albert': 0.05,\n",
       "  'CELINE Louis-Ferdinand': 0.0,\n",
       "  'COHEN Albert': 0.0,\n",
       "  'DEBEAUVOIR SIMONE': 0.01,\n",
       "  'DEBEAUVOIR Simone': 0.01,\n",
       "  'DURAS Marguerite': 0.3,\n",
       "  'ECHENOZ Jean': 0.0,\n",
       "  'GARY Romain': 0.37,\n",
       "  'GASCAR Pierre': 0.0,\n",
       "  'GIONO Jean': 0.11,\n",
       "  'GRAINVILLE Patrick': 0.0,\n",
       "  'GUTH Paul': 0.0,\n",
       "  'JOFFO Joseph': 0.05,\n",
       "  'KESSEL Joseph': 0.01,\n",
       "  'MODIANO Patrick': 0.08,\n",
       "  'PEREC Georges': 0.0,\n",
       "  'QUEFFELEC Henri': 0.0,\n",
       "  'QUEFFELEC Yann': 0.0,\n",
       "  'SAGAN Fraçoise': 0.0,\n",
       "  'SARRAUTE Nathalie': 0.0,\n",
       "  'SCHOENDOERFFER Pierre': 0.0,\n",
       "  'VIAN Boris': 0.0,\n",
       "  'YOURCENAR Marguerite': 0.0},\n",
       " {'BASTIDE Francois-Regis': 0.02,\n",
       "  'BAZIN Herve': 0.01,\n",
       "  'BAZIN Hervé': 0.0,\n",
       "  'CAMUS Albert': 0.0,\n",
       "  'CELINE Louis-Ferdinand': 0.0,\n",
       "  'COHEN Albert': 0.0,\n",
       "  'DEBEAUVOIR SIMONE': 0.03,\n",
       "  'DEBEAUVOIR Simone': 0.02,\n",
       "  'DURAS Marguerite': 0.21,\n",
       "  'ECHENOZ Jean': 0.0,\n",
       "  'GARY Romain': 0.17,\n",
       "  'GASCAR Pierre': 0.0,\n",
       "  'GIONO Jean': 0.05,\n",
       "  'GRAINVILLE Patrick': 0.0,\n",
       "  'GUTH Paul': 0.0,\n",
       "  'JOFFO Joseph': 0.08,\n",
       "  'KESSEL Joseph': 0.0,\n",
       "  'MODIANO Patrick': 0.33,\n",
       "  'PEREC Georges': 0.0,\n",
       "  'QUEFFELEC Henri': 0.0,\n",
       "  'QUEFFELEC Yann': 0.0,\n",
       "  'SAGAN Fraçoise': 0.0,\n",
       "  'SARRAUTE Nathalie': 0.02,\n",
       "  'SCHOENDOERFFER Pierre': 0.0,\n",
       "  'VIAN Boris': 0.04,\n",
       "  'YOURCENAR Marguerite': 0.0},\n",
       " {'BASTIDE Francois-Regis': 0.05,\n",
       "  'BAZIN Herve': 0.0,\n",
       "  'BAZIN Hervé': 0.0,\n",
       "  'CAMUS Albert': 0.01,\n",
       "  'CELINE Louis-Ferdinand': 0.0,\n",
       "  'COHEN Albert': 0.0,\n",
       "  'DEBEAUVOIR SIMONE': 0.02,\n",
       "  'DEBEAUVOIR Simone': 0.01,\n",
       "  'DURAS Marguerite': 0.14,\n",
       "  'ECHENOZ Jean': 0.0,\n",
       "  'GARY Romain': 0.41,\n",
       "  'GASCAR Pierre': 0.0,\n",
       "  'GIONO Jean': 0.12,\n",
       "  'GRAINVILLE Patrick': 0.0,\n",
       "  'GUTH Paul': 0.0,\n",
       "  'JOFFO Joseph': 0.09,\n",
       "  'KESSEL Joseph': 0.0,\n",
       "  'MODIANO Patrick': 0.12,\n",
       "  'PEREC Georges': 0.0,\n",
       "  'QUEFFELEC Henri': 0.0,\n",
       "  'QUEFFELEC Yann': 0.0,\n",
       "  'SAGAN Fraçoise': 0.0,\n",
       "  'SARRAUTE Nathalie': 0.01,\n",
       "  'SCHOENDOERFFER Pierre': 0.0,\n",
       "  'VIAN Boris': 0.01,\n",
       "  'YOURCENAR Marguerite': 0.0},\n",
       " {'BASTIDE Francois-Regis': 0.05,\n",
       "  'BAZIN Herve': 0.01,\n",
       "  'BAZIN Hervé': 0.0,\n",
       "  'CAMUS Albert': 0.0,\n",
       "  'CELINE Louis-Ferdinand': 0.32,\n",
       "  'COHEN Albert': 0.0,\n",
       "  'DEBEAUVOIR SIMONE': 0.01,\n",
       "  'DEBEAUVOIR Simone': 0.0,\n",
       "  'DURAS Marguerite': 0.06,\n",
       "  'ECHENOZ Jean': 0.0,\n",
       "  'GARY Romain': 0.12,\n",
       "  'GASCAR Pierre': 0.0,\n",
       "  'GIONO Jean': 0.34,\n",
       "  'GRAINVILLE Patrick': 0.0,\n",
       "  'GUTH Paul': 0.0,\n",
       "  'JOFFO Joseph': 0.06,\n",
       "  'KESSEL Joseph': 0.0,\n",
       "  'MODIANO Patrick': 0.01,\n",
       "  'PEREC Georges': 0.0,\n",
       "  'QUEFFELEC Henri': 0.0,\n",
       "  'QUEFFELEC Yann': 0.0,\n",
       "  'SAGAN Fraçoise': 0.0,\n",
       "  'SARRAUTE Nathalie': 0.0,\n",
       "  'SCHOENDOERFFER Pierre': 0.0,\n",
       "  'VIAN Boris': 0.0,\n",
       "  'YOURCENAR Marguerite': 0.0}]"
      ]
     },
     "execution_count": 50,
     "metadata": {},
     "output_type": "execute_result"
    }
   ],
   "source": [
    "dict_proba(pred)"
   ]
  },
  {
   "cell_type": "code",
   "execution_count": null,
   "metadata": {
    "id": "Z6HtyPmWFfZr"
   },
   "outputs": [],
   "source": []
  }
 ],
 "metadata": {
  "accelerator": "GPU",
  "colab": {
   "collapsed_sections": [],
   "machine_shape": "hm",
   "name": "CamemBERT-authorship_identification.ipynb",
   "provenance": []
  },
  "kernelspec": {
   "display_name": "Python 3 (ipykernel)",
   "language": "python",
   "name": "python3"
  },
  "language_info": {
   "codemirror_mode": {
    "name": "ipython",
    "version": 3
   },
   "file_extension": ".py",
   "mimetype": "text/x-python",
   "name": "python",
   "nbconvert_exporter": "python",
   "pygments_lexer": "ipython3",
   "version": "3.8.6"
  },
  "varInspector": {
   "cols": {
    "lenName": 16,
    "lenType": 16,
    "lenVar": 40
   },
   "kernels_config": {
    "python": {
     "delete_cmd_postfix": "",
     "delete_cmd_prefix": "del ",
     "library": "var_list.py",
     "varRefreshCmd": "print(var_dic_list())"
    },
    "r": {
     "delete_cmd_postfix": ") ",
     "delete_cmd_prefix": "rm(",
     "library": "var_list.r",
     "varRefreshCmd": "cat(var_dic_list()) "
    }
   },
   "types_to_exclude": [
    "module",
    "function",
    "builtin_function_or_method",
    "instance",
    "_Feature"
   ],
   "window_display": false
  }
 },
 "nbformat": 4,
 "nbformat_minor": 1
}
