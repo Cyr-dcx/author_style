{
  "nbformat": 4,
  "nbformat_minor": 5,
  "metadata": {
    "kernelspec": {
      "display_name": "Python 3 (ipykernel)",
      "language": "python",
      "name": "python3"
    },
    "language_info": {
      "codemirror_mode": {
        "name": "ipython",
        "version": 3
      },
      "file_extension": ".py",
      "mimetype": "text/x-python",
      "name": "python",
      "nbconvert_exporter": "python",
      "pygments_lexer": "ipython3",
      "version": "3.8.6"
    },
    "toc": {
      "base_numbering": 1,
      "nav_menu": {},
      "number_sections": true,
      "sideBar": true,
      "skip_h1_title": false,
      "title_cell": "Table of Contents",
      "title_sidebar": "Contents",
      "toc_cell": false,
      "toc_position": {},
      "toc_section_display": true,
      "toc_window_display": false
    },
    "varInspector": {
      "cols": {
        "lenName": 16,
        "lenType": 16,
        "lenVar": 40
      },
      "kernels_config": {
        "python": {
          "delete_cmd_postfix": "",
          "delete_cmd_prefix": "del ",
          "library": "var_list.py",
          "varRefreshCmd": "print(var_dic_list())"
        },
        "r": {
          "delete_cmd_postfix": ") ",
          "delete_cmd_prefix": "rm(",
          "library": "var_list.r",
          "varRefreshCmd": "cat(var_dic_list()) "
        }
      },
      "types_to_exclude": [
        "module",
        "function",
        "builtin_function_or_method",
        "instance",
        "_Feature"
      ],
      "window_display": false
    },
    "colab": {
      "name": "Lilou- Embedding.ipynb",
      "provenance": [],
      "collapsed_sections": [],
      "machine_shape": "hm"
    },
    "accelerator": "GPU"
  },
  "cells": [
    {
      "cell_type": "code",
      "metadata": {
        "ExecuteTime": {
          "end_time": "2021-08-25T10:10:46.067059Z",
          "start_time": "2021-08-25T10:10:46.033169Z"
        },
        "id": "68531c5d"
      },
      "source": [
        "%load_ext autoreload\n",
        "%autoreload 2"
      ],
      "id": "68531c5d",
      "execution_count": 1,
      "outputs": []
    },
    {
      "cell_type": "code",
      "metadata": {
        "colab": {
          "base_uri": "https://localhost:8080/"
        },
        "id": "CB1FgoQWvHbd",
        "outputId": "2c6ac78e-7689-4eb4-e415-41e5a457c1ae"
      },
      "source": [
        "from google.colab import drive\n",
        "drive.mount('/content/drive')"
      ],
      "id": "CB1FgoQWvHbd",
      "execution_count": null,
      "outputs": [
        {
          "output_type": "stream",
          "text": [
            "Mounted at /content/drive\n"
          ],
          "name": "stdout"
        }
      ]
    },
    {
      "cell_type": "code",
      "metadata": {
        "colab": {
          "base_uri": "https://localhost:8080/"
        },
        "id": "9H7PpWY7vU61",
        "outputId": "ba190830-0364-44f5-ae94-81f05294a25c"
      },
      "source": [
        "cd /content/drive/MyDrive/Colab_Notebooks/Author_style/author_style"
      ],
      "id": "9H7PpWY7vU61",
      "execution_count": null,
      "outputs": [
        {
          "output_type": "stream",
          "text": [
            "/content/drive/MyDrive/Colab_Notebooks/Author_style/author_style\n"
          ],
          "name": "stdout"
        }
      ]
    },
    {
      "cell_type": "code",
      "metadata": {
        "colab": {
          "base_uri": "https://localhost:8080/"
        },
        "id": "YzQQnTfwva6G",
        "outputId": "4c2ca84d-76c6-4588-8aa7-ce3fa3b12c3d"
      },
      "source": [
        "!pip install unidecode"
      ],
      "id": "YzQQnTfwva6G",
      "execution_count": null,
      "outputs": [
        {
          "output_type": "stream",
          "text": [
            "Collecting unidecode\n",
            "  Downloading Unidecode-1.2.0-py2.py3-none-any.whl (241 kB)\n",
            "\u001b[?25l\r\u001b[K     |█▍                              | 10 kB 35.2 MB/s eta 0:00:01\r\u001b[K     |██▊                             | 20 kB 24.0 MB/s eta 0:00:01\r\u001b[K     |████                            | 30 kB 17.1 MB/s eta 0:00:01\r\u001b[K     |█████▍                          | 40 kB 15.1 MB/s eta 0:00:01\r\u001b[K     |██████▉                         | 51 kB 7.2 MB/s eta 0:00:01\r\u001b[K     |████████▏                       | 61 kB 8.4 MB/s eta 0:00:01\r\u001b[K     |█████████▌                      | 71 kB 8.0 MB/s eta 0:00:01\r\u001b[K     |██████████▉                     | 81 kB 8.9 MB/s eta 0:00:01\r\u001b[K     |████████████▏                   | 92 kB 9.5 MB/s eta 0:00:01\r\u001b[K     |█████████████▋                  | 102 kB 7.2 MB/s eta 0:00:01\r\u001b[K     |███████████████                 | 112 kB 7.2 MB/s eta 0:00:01\r\u001b[K     |████████████████▎               | 122 kB 7.2 MB/s eta 0:00:01\r\u001b[K     |█████████████████▋              | 133 kB 7.2 MB/s eta 0:00:01\r\u001b[K     |███████████████████             | 143 kB 7.2 MB/s eta 0:00:01\r\u001b[K     |████████████████████▍           | 153 kB 7.2 MB/s eta 0:00:01\r\u001b[K     |█████████████████████▊          | 163 kB 7.2 MB/s eta 0:00:01\r\u001b[K     |███████████████████████         | 174 kB 7.2 MB/s eta 0:00:01\r\u001b[K     |████████████████████████▍       | 184 kB 7.2 MB/s eta 0:00:01\r\u001b[K     |█████████████████████████▊      | 194 kB 7.2 MB/s eta 0:00:01\r\u001b[K     |███████████████████████████▏    | 204 kB 7.2 MB/s eta 0:00:01\r\u001b[K     |████████████████████████████▌   | 215 kB 7.2 MB/s eta 0:00:01\r\u001b[K     |█████████████████████████████▉  | 225 kB 7.2 MB/s eta 0:00:01\r\u001b[K     |███████████████████████████████▏| 235 kB 7.2 MB/s eta 0:00:01\r\u001b[K     |████████████████████████████████| 241 kB 7.2 MB/s \n",
            "\u001b[?25hInstalling collected packages: unidecode\n",
            "Successfully installed unidecode-1.2.0\n"
          ],
          "name": "stdout"
        }
      ]
    },
    {
      "cell_type": "code",
      "metadata": {
        "ExecuteTime": {
          "end_time": "2021-08-26T07:50:47.191632Z",
          "start_time": "2021-08-26T07:50:46.153101Z"
        },
        "id": "9e2898f6"
      },
      "source": [
        "from author_style.utils import *\n",
        "from author_style.preprocessing import *\n"
      ],
      "id": "9e2898f6",
      "execution_count": null,
      "outputs": []
    },
    {
      "cell_type": "code",
      "metadata": {
        "colab": {
          "resources": {
            "http://localhost:8080/nbextensions/google.colab/files.js": {
              "data": "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",
              "ok": true,
              "headers": [
                [
                  "content-type",
                  "application/javascript"
                ]
              ],
              "status": 200,
              "status_text": ""
            }
          },
          "base_uri": "https://localhost:8080/",
          "height": 72
        },
        "id": "a09bc74d",
        "outputId": "24d85b01-30a9-4e42-bb4d-580f5c8c9320"
      },
      "source": [
        "import joblib \n",
        "\n",
        "from google.colab import files\n",
        "uploaded = files.upload()"
      ],
      "id": "a09bc74d",
      "execution_count": 4,
      "outputs": [
        {
          "output_type": "display_data",
          "data": {
            "text/html": [
              "\n",
              "     <input type=\"file\" id=\"files-f4b21403-ddb6-4a38-bb8d-c62fea32c448\" name=\"files[]\" multiple disabled\n",
              "        style=\"border:none\" />\n",
              "     <output id=\"result-f4b21403-ddb6-4a38-bb8d-c62fea32c448\">\n",
              "      Upload widget is only available when the cell has been executed in the\n",
              "      current browser session. Please rerun this cell to enable.\n",
              "      </output>\n",
              "      <script src=\"/nbextensions/google.colab/files.js\"></script> "
            ],
            "text/plain": [
              "<IPython.core.display.HTML object>"
            ]
          },
          "metadata": {}
        },
        {
          "output_type": "stream",
          "text": [
            "Saving X.pkl to X (3).pkl\n"
          ],
          "name": "stdout"
        }
      ]
    },
    {
      "cell_type": "code",
      "metadata": {
        "id": "c3rCaXnrvibs"
      },
      "source": [
        "import io \n",
        "y=io.BytesIO(uploaded['y.pkl'])"
      ],
      "id": "c3rCaXnrvibs",
      "execution_count": 3,
      "outputs": []
    },
    {
      "cell_type": "code",
      "metadata": {
        "id": "1hDsK-7HW4qZ"
      },
      "source": [
        "import io \n",
        "X=io.BytesIO(uploaded['X.pkl'])"
      ],
      "id": "1hDsK-7HW4qZ",
      "execution_count": 5,
      "outputs": []
    },
    {
      "cell_type": "code",
      "metadata": {
        "id": "wPqyBIVjW95J"
      },
      "source": [
        "y = joblib.load(y)\n",
        "X = joblib.load(X)"
      ],
      "id": "wPqyBIVjW95J",
      "execution_count": 6,
      "outputs": []
    },
    {
      "cell_type": "markdown",
      "metadata": {
        "id": "boD6Cg-iAz0M"
      },
      "source": [
        "### DATA"
      ],
      "id": "boD6Cg-iAz0M"
    },
    {
      "cell_type": "code",
      "metadata": {
        "colab": {
          "base_uri": "https://localhost:8080/"
        },
        "id": "-7j0KuCAy2fX",
        "outputId": "7e25b263-4176-4a91-918a-b061b87f5dc1"
      },
      "source": [
        "X"
      ],
      "id": "-7j0KuCAy2fX",
      "execution_count": null,
      "outputs": [
        {
          "output_type": "execute_result",
          "data": {
            "text/plain": [
              "array([[\"pendant que nous franchissions la porte du nord, dediee a ishtar, deesse de la fecondite, la vierge, toujours l'esprit en eveil, me donna une idee qui recut immediatement force de loi. pour compenser la fatigue que pourrait causer le jacassement universel, la derniere semaine de chaque mois serait vouee entierement au silence. un silence de reve suspendrait, sur la terre, le grondement des mers, le fracas des cascades, le souffle des vents, le vrombissement des avions, le bruit des trains, des voitures, des machines. il eteindrait, dans l'univers, la musique des spheres et tout fremissement de vie. cette semaine mensuelle de silence serait vouee a l'amour. en retenant leur souffle, les amoureux redoubleraient de regards, de caresses. ils ne seraient plus que rayonnements d'ame, scintillements d'indicible. quand ils retourneraient au monde de la parole, ils garderaient une telle nostalgie du silence qu'ils croiraient en dire infiniment moins avec leurs mots qu'auparavant avec leurs yeux. les plus nostalgiques seront les perroquets. et surtout kohkoh, perroquet en chef de nabuchodonosor, qui s'etait illustre en chantant des hymnes, des psaumes et les chefs-d'oeuvre de la poesie de babylone. apres chaque cure de silence, il etait si malheureux d'avoir a parler en service commande que, pour clore son bec a jamais, il finit par le plonger dans un ciment indestructible. pleure par le roi et par tout le royaume, il mourut d'amour du silence et du silence de l'amour.\"],\n",
              "       ['<< en  apres jesus-christ, les troupes de syagrius avaient enleve d\\'une eglise un vase d\\'une grandeur et d\\'une beaute merveilleuse, avec tous les autres ornements du ministere sacre. l\\'eveque de cette ville envoya au roi clovis des messagers demandant que, s\\'ils ne pouvaient obtenir de recouvrer les autres vases, on lui rendit au moins celui-la. aux paroles de l\\'envoye le roi repondit : \" suis-nous jusqu\\'a soissons car c est la que sera partage le butin ; et quand ce vase sera entre dans ma part, je ferai ce que l\\'eveque demande. \" en arrivant a soissons, le roi fit deposer la charge du butin au milieu de ses soldats et dit : \" je vous prie, mes braves guerriers, de bien vouloir m\\'accorder, hors part, le vase que voila \", et il montrait le vase dont nous avons parle. a ces paroles, les plus senses repondirent : \" glorieux roi, tout ce que nous avons ici est a toi, et nous-memes sommes soumis a ton pouvoir ; qu\\'il en soit donc fait selon ton jugement car personne ne peut resister a ta puissance. \" comme ils avaient ainsi parle, l\\'un des soldats, leger, jaloux et emporte, eleva la voix, brandit la hache a deux tranchants et frappa le vase en disant : \" tu n\\'auras rien de plus que ce qui te sera donne veritablement par le sort. \" tous resterent stupefaits. le roi comprima l\\'outrage, avec une patiente douceur, et le vase lui etant echu, il le rendit a l\\'envoye de l\\'eveque, gardant la blessure dans son coeur.'],\n",
              "       [\"van eyck presenta la vierge au chanoine van der paele, avec le chanoine lui-meme, la vierge a la fontaine et, avec le chancelier en personne, << gros et gras, le teint frais et la bouche vermeille >>, la vierge au chancelier rolin. pour mieux contempler ce chef-d'oeuvre, je fis arreter le cortege. serenite de la vierge peinte dans son grand manteau rouge. ce regard en biais, attentif, de sage et discrete personne, empechant, du bout des doigts, l'enfant de glisser sur son genou et s'appretant a lui donner l'envol. les magiques cheveux d'or crespeles cascadant sur les epaules. au-dessus de sa tete, un ange eleve une couronne a faire palir d'envie saint eloi. un immense joyau arachneen, une dentelle d'or, un souffle de filigranes, royaute des cieux. et puis le coup de genie, que j'ai inspire, auquel van eyck a obei, autant que le permettaient ses forces : la vierge a l'enfant est assise dans la penombre d'une loggia, a l'angle de laquelle l'ange se niche comme une hirondelle. des arceaux s'ouvrent sur un ciel ideal. en bas, apparait une de ces villes de reve dont le petit paul guth, au musee de toulouse, pendant la grande guerre, nourrissait a jamais ses songes. assise au bord d'un fleuve, une cite, herissee de fleches et de tours, ciselee, orfevree comme la couronne de la vierge. une de ces villes ou l'on voudrait vivre, dans la realisation de tous les voeux, sous un ciel sans bornes.\"],\n",
              "       ...,\n",
              "       [\"reste la possibilite d'aller faire un tour dans le jardin qui est un espace a trois cotes, herbu, pentu, bombe comme un triangle de fille. mais ce jardin, ce jour-la, ravel a beau s'y tenir d'habitude attentif, c'est a peine a present s'il le voit, a peine s'il s'interesse aux travaux effectues en son absence par le jardinier. on dirait qu'il commence a s'ennuyer.\"],\n",
              "       [\"le lendemain matin, il se leve tard, trainant au lit jusqu'a rater le bouillon sur le pont puis, vetu de coton gaufre decontracte, il va faire un tour sur le pont promenade a peu pres desert : deux mousses y regroupent sur des plateaux des bols epars entre les pieds des chaises longues, la mer est d'un vert presque noir.\"],\n",
              "       [\"il part en direction de la gare maritime du havre afin de se rendre en amerique du nord. c'est la premiere fois qu'il y va, ce sera la derniere. il lui reste aujourd'hui, pile, dix ans a vivre.\"]],\n",
              "      dtype=object)"
            ]
          },
          "metadata": {},
          "execution_count": 88
        }
      ]
    },
    {
      "cell_type": "code",
      "metadata": {
        "colab": {
          "base_uri": "https://localhost:8080/"
        },
        "id": "hyFbvigZz_RZ",
        "outputId": "8ddc26db-2fb5-4f6f-e9e3-b4137d7d02f5"
      },
      "source": [
        "from nltk.stem.porter import PorterStemmer\n",
        "from nltk.corpus import stopwords\n",
        "from nltk.tokenize import word_tokenize\n",
        "import nltk\n",
        "from nltk.corpus import wordnet\n",
        "\n",
        "#-------------------------------------------------------\n",
        "\n",
        "try:\n",
        "  nltk.data.find('punkt')\n",
        "  nltk.data.find('stopwords')\n",
        "  nltk.data.find('averaged_perceptron_tagger')\n",
        "  nltk.data.find('wordnet')\n",
        "except LookupError:\n",
        "  nltk.download('punkt', quiet=True)\n",
        "  nltk.download('stopwords', quiet=True)\n",
        "  nltk.download('averaged_perceptron_tagger', quiet=True)\n",
        "  nltk.download('wordnet', quiet=True)\n",
        "\n",
        "X_token = [word_tokenize(list(elem)[0]) for elem in X]\n",
        "X_token_len = [ len(sequence) for sequence in X_token]\n",
        "print(\"X_token_len =\",len(X_token_len))"
      ],
      "id": "hyFbvigZz_RZ",
      "execution_count": 7,
      "outputs": [
        {
          "output_type": "stream",
          "text": [
            "X_token_len = 17779\n"
          ],
          "name": "stdout"
        }
      ]
    },
    {
      "cell_type": "code",
      "metadata": {
        "id": "sO9Yd4BD5uzl",
        "colab": {
          "base_uri": "https://localhost:8080/"
        },
        "outputId": "81cd5395-e7c7-4c18-f58b-a138b17ca5e3"
      },
      "source": [
        "print(y.shape)\n",
        "print(X.shape)"
      ],
      "id": "sO9Yd4BD5uzl",
      "execution_count": null,
      "outputs": [
        {
          "output_type": "stream",
          "text": [
            "(17779,)\n",
            "(17779, 1)\n"
          ],
          "name": "stdout"
        }
      ]
    },
    {
      "cell_type": "code",
      "metadata": {
        "id": "zz-PHOGT5d9N"
      },
      "source": [
        "from sklearn.model_selection import train_test_split\n",
        "\n",
        "X_train, X_test, y_train, y_test = train_test_split(X_token,y, test_size=0.3)"
      ],
      "id": "zz-PHOGT5d9N",
      "execution_count": 8,
      "outputs": []
    },
    {
      "cell_type": "code",
      "metadata": {
        "id": "tlNRghJy9M6-"
      },
      "source": [
        "X_train[0]"
      ],
      "id": "tlNRghJy9M6-",
      "execution_count": null,
      "outputs": []
    },
    {
      "cell_type": "code",
      "metadata": {
        "id": "6kJQ5pNM5QyH"
      },
      "source": [
        "from gensim.models import Word2Vec\n",
        "word2vec= Word2Vec(X_train, min_count=6, size=40)"
      ],
      "id": "6kJQ5pNM5QyH",
      "execution_count": 9,
      "outputs": []
    },
    {
      "cell_type": "code",
      "metadata": {
        "id": "3x27mWKS5t4H"
      },
      "source": [
        "import numpy as np\n",
        "def embed_sentence(word2vec, sentence):\n",
        "    # $CHALLENGIFY_BEGIN\n",
        "    embedded_sentence = []\n",
        "    for word in sentence:\n",
        "        if word in word2vec.wv:\n",
        "            embedded_sentence.append(word2vec.wv[word])\n",
        "        \n",
        "    return np.array(embedded_sentence)"
      ],
      "id": "3x27mWKS5t4H",
      "execution_count": 10,
      "outputs": []
    },
    {
      "cell_type": "code",
      "metadata": {
        "id": "wEoMmNrF9KTz"
      },
      "source": [
        "def embedding(word2vec, sentences):\n",
        "    # $CHALLENGIFY_BEGIN\n",
        "    embed = []\n",
        "    \n",
        "    for sentence in sentences:\n",
        "        embedded_sentence = embed_sentence(word2vec, sentence)\n",
        "        embed.append(embedded_sentence)\n",
        "        \n",
        "    return embed"
      ],
      "id": "wEoMmNrF9KTz",
      "execution_count": 11,
      "outputs": []
    },
    {
      "cell_type": "code",
      "metadata": {
        "id": "IGXY8P9_9-hO"
      },
      "source": [
        "from tensorflow.keras.preprocessing.sequence import pad_sequences\n",
        "from tensorflow.keras.utils import to_categorical\n",
        "\n",
        "y_train_encoded=to_categorical(y_train)\n",
        "y_test_encoded=to_categorical(y_test)\n",
        "\n",
        "X_train = embedding(word2vec, X_train)\n",
        "X_test = embedding(word2vec, X_test)\n",
        "\n",
        "X_train_pad = pad_sequences(X_train, dtype='float32', padding='post', maxlen=1000)\n",
        "X_test_pad = pad_sequences(X_test, dtype='float32', padding='post', maxlen=1000)"
      ],
      "id": "IGXY8P9_9-hO",
      "execution_count": 12,
      "outputs": []
    },
    {
      "cell_type": "markdown",
      "metadata": {
        "id": "qoi5YCImA4W1"
      },
      "source": [
        "### Baseline Model"
      ],
      "id": "qoi5YCImA4W1"
    },
    {
      "cell_type": "code",
      "metadata": {
        "id": "e_YB85y9A7yE"
      },
      "source": [
        "import numpy as np\n",
        "\n",
        "np.unique(y_train, return_counts=True)"
      ],
      "id": "e_YB85y9A7yE",
      "execution_count": null,
      "outputs": []
    },
    {
      "cell_type": "code",
      "metadata": {
        "id": "b2wPEmykBAZP",
        "colab": {
          "base_uri": "https://localhost:8080/"
        },
        "outputId": "566733c3-efe6-49ca-9c07-4c22972376a5"
      },
      "source": [
        "baseline_accuracy=1/25\n",
        "baseline_accuracy"
      ],
      "id": "b2wPEmykBAZP",
      "execution_count": null,
      "outputs": [
        {
          "output_type": "execute_result",
          "data": {
            "text/plain": [
              "0.04"
            ]
          },
          "metadata": {},
          "execution_count": 19
        }
      ]
    },
    {
      "cell_type": "markdown",
      "metadata": {
        "id": "jGzk_xT0aygG"
      },
      "source": [
        "## RNN"
      ],
      "id": "jGzk_xT0aygG"
    },
    {
      "cell_type": "markdown",
      "metadata": {
        "id": "3e3jqgVABKFM"
      },
      "source": [
        "### MODEL LSTM"
      ],
      "id": "3e3jqgVABKFM"
    },
    {
      "cell_type": "code",
      "metadata": {
        "id": "tthvbicWXsk6",
        "colab": {
          "base_uri": "https://localhost:8080/"
        },
        "outputId": "7caf81fb-1c81-4555-985f-44c92463041a"
      },
      "source": [
        "X_train_pad.shape"
      ],
      "id": "tthvbicWXsk6",
      "execution_count": null,
      "outputs": [
        {
          "output_type": "execute_result",
          "data": {
            "text/plain": [
              "(12445, 1000, 50)"
            ]
          },
          "metadata": {},
          "execution_count": 35
        }
      ]
    },
    {
      "cell_type": "code",
      "metadata": {
        "colab": {
          "base_uri": "https://localhost:8080/"
        },
        "id": "imGw1LVHtUGO",
        "outputId": "ca3f5fd8-77a0-44fd-a638-a64a36c05bcc"
      },
      "source": [
        "len(X_train_pad[0])"
      ],
      "id": "imGw1LVHtUGO",
      "execution_count": null,
      "outputs": [
        {
          "output_type": "execute_result",
          "data": {
            "text/plain": [
              "1000"
            ]
          },
          "metadata": {},
          "execution_count": 37
        }
      ]
    },
    {
      "cell_type": "code",
      "metadata": {
        "id": "BuI59quwX3AS",
        "colab": {
          "base_uri": "https://localhost:8080/"
        },
        "outputId": "21399817-8cce-4c93-e95c-5a6572770531"
      },
      "source": [
        "X_train_pad.shape"
      ],
      "id": "BuI59quwX3AS",
      "execution_count": null,
      "outputs": [
        {
          "output_type": "execute_result",
          "data": {
            "text/plain": [
              "(12445, 1000, 50)"
            ]
          },
          "metadata": {},
          "execution_count": 18
        }
      ]
    },
    {
      "cell_type": "code",
      "metadata": {
        "colab": {
          "base_uri": "https://localhost:8080/"
        },
        "id": "BLbXYkED1VwW",
        "outputId": "26cf519e-6749-4b82-bcee-85711bd8044e"
      },
      "source": [
        "y_train_encoded.shape"
      ],
      "id": "BLbXYkED1VwW",
      "execution_count": null,
      "outputs": [
        {
          "output_type": "execute_result",
          "data": {
            "text/plain": [
              "(12445, 25)"
            ]
          },
          "metadata": {},
          "execution_count": 19
        }
      ]
    },
    {
      "cell_type": "code",
      "metadata": {
        "id": "id-aV2DtBLpe"
      },
      "source": [
        "from keras.models import Sequential\n",
        "from keras.layers import LSTM, Dense, Masking, AveragePooling1D, TimeDistributed, Dropout\n",
        "from tensorflow.keras.optimizers import RMSprop\n",
        "\n",
        "model=Sequential([\n",
        "                  (Masking(mask_value=0.0)),\n",
        "                  (LSTM(units=100, activation='tanh', return_sequences=True)),\n",
        "                  (LSTM(200, activation='tanh', return_sequences=True)),\n",
        "                  (LSTM(300, activation='tanh')),\n",
        "                  #(AveragePooling1D()),\n",
        "                  (Dropout(.2)),\n",
        "                  #(Dense(300, activation='relu')),\n",
        "                  (Dense(100, activation='relu')),\n",
        "                  (Dense(50, activation='relu')),\n",
        "                  (Dense(25, activation='softmax'))\n",
        "])\n",
        "optimizer=RMSprop(0.0001)\n",
        "\n",
        "model.compile(loss='categorical_crossentropy',\n",
        "              optimizer=optimizer,\n",
        "              metrics='accuracy')\n",
        "\n",
        "#model.summary()"
      ],
      "id": "id-aV2DtBLpe",
      "execution_count": null,
      "outputs": []
    },
    {
      "cell_type": "code",
      "metadata": {
        "id": "OlXH9ty-Bob8"
      },
      "source": [
        "from keras.callbacks import EarlyStopping\n",
        "\n",
        "es=EarlyStopping(patience=5, restore_best_weights=True, monitor='val_accuracy')\n",
        "\n",
        "model.fit(X_train_pad, y_train_encoded, epochs=30, batch_size=16, callbacks=[es], validation_split=0.2)"
      ],
      "id": "OlXH9ty-Bob8",
      "execution_count": null,
      "outputs": []
    },
    {
      "cell_type": "code",
      "metadata": {
        "colab": {
          "base_uri": "https://localhost:8080/"
        },
        "id": "e82xK5EHE2G8",
        "outputId": "9f9a019c-aacf-4b7e-83b8-58608e7a3c41"
      },
      "source": [
        "model.evaluate(X_test_pad, y_test_encoded)"
      ],
      "id": "e82xK5EHE2G8",
      "execution_count": null,
      "outputs": [
        {
          "output_type": "stream",
          "text": [
            "167/167 [==============================] - 6s 36ms/step - loss: 2.0377 - accuracy: 0.4456\n"
          ],
          "name": "stdout"
        },
        {
          "output_type": "execute_result",
          "data": {
            "text/plain": [
              "[2.0376901626586914, 0.44563180208206177]"
            ]
          },
          "metadata": {},
          "execution_count": 28
        }
      ]
    },
    {
      "cell_type": "markdown",
      "metadata": {
        "id": "0cZb6Oy6kkLN"
      },
      "source": [
        "BIDIRECTIONAL LSTM"
      ],
      "id": "0cZb6Oy6kkLN"
    },
    {
      "cell_type": "code",
      "metadata": {
        "id": "QPo0GiR1krSO"
      },
      "source": [
        "from keras.models import Sequential\n",
        "from keras.layers import LSTM, Dense, Masking, AveragePooling1D, TimeDistributed, Dropout, Bidirectional\n",
        "from tensorflow.keras.optimizers import RMSprop\n",
        "\n",
        "model_1=Sequential([\n",
        "                  (Masking(mask_value=0.0)),\n",
        "                  (Bidirectional(LSTM(units=100, activation='tanh', return_sequences=True))),\n",
        "                  (Bidirectional(LSTM(units=200, activation='tanh', return_sequences=True))),\n",
        "                  (Bidirectional(LSTM(units=300, activation='tanh'))),\n",
        "                  (Dropout(.2)),\n",
        "                  (Dense(100, activation='relu')),\n",
        "                  (Dropout(.2)),\n",
        "                  (Dense(50, activation='relu')),\n",
        "                  (Dense(25, activation='softmax'))\n",
        "])\n",
        "optimizer=RMSprop(0.0001)\n",
        "\n",
        "model_1.compile(loss='categorical_crossentropy',\n",
        "              optimizer=optimizer,\n",
        "              metrics='accuracy')"
      ],
      "id": "QPo0GiR1krSO",
      "execution_count": null,
      "outputs": []
    },
    {
      "cell_type": "code",
      "metadata": {
        "colab": {
          "base_uri": "https://localhost:8080/"
        },
        "id": "lsc5R5mts34u",
        "outputId": "97681252-f126-4816-b0ab-a610e0561f8f"
      },
      "source": [
        "from keras.callbacks import EarlyStopping\n",
        "\n",
        "es=EarlyStopping(patience=5, restore_best_weights=True, monitor='val_accuracy')\n",
        "\n",
        "model_1.fit(X_train_pad, y_train_encoded, epochs=20, batch_size=16, callbacks=[es], validation_split=0.2)"
      ],
      "id": "lsc5R5mts34u",
      "execution_count": null,
      "outputs": [
        {
          "output_type": "stream",
          "text": [
            "Epoch 1/20\n",
            "623/623 [==============================] - 123s 162ms/step - loss: 3.0052 - accuracy: 0.1229 - val_loss: 2.7974 - val_accuracy: 0.1784\n",
            "Epoch 2/20\n",
            "623/623 [==============================] - 95s 153ms/step - loss: 2.7022 - accuracy: 0.2143 - val_loss: 2.6403 - val_accuracy: 0.2218\n",
            "Epoch 3/20\n",
            "623/623 [==============================] - 96s 154ms/step - loss: 2.4666 - accuracy: 0.2721 - val_loss: 2.3810 - val_accuracy: 0.2816\n",
            "Epoch 4/20\n",
            "623/623 [==============================] - 95s 153ms/step - loss: 2.3042 - accuracy: 0.3101 - val_loss: 2.2586 - val_accuracy: 0.3126\n",
            "Epoch 5/20\n",
            "623/623 [==============================] - 95s 153ms/step - loss: 2.1540 - accuracy: 0.3535 - val_loss: 2.2276 - val_accuracy: 0.3335\n",
            "Epoch 6/20\n",
            "623/623 [==============================] - 96s 154ms/step - loss: 2.0456 - accuracy: 0.3863 - val_loss: 2.1423 - val_accuracy: 0.3640\n",
            "Epoch 7/20\n",
            "623/623 [==============================] - 95s 153ms/step - loss: 1.9397 - accuracy: 0.4165 - val_loss: 2.0643 - val_accuracy: 0.3933\n",
            "Epoch 8/20\n",
            "623/623 [==============================] - 96s 154ms/step - loss: 1.8570 - accuracy: 0.4430 - val_loss: 1.9781 - val_accuracy: 0.4038\n",
            "Epoch 9/20\n",
            "623/623 [==============================] - 95s 153ms/step - loss: 1.7541 - accuracy: 0.4727 - val_loss: 1.9832 - val_accuracy: 0.4118\n",
            "Epoch 10/20\n",
            "623/623 [==============================] - 96s 154ms/step - loss: 1.6713 - accuracy: 0.4955 - val_loss: 1.9698 - val_accuracy: 0.4066\n",
            "Epoch 11/20\n",
            "623/623 [==============================] - 95s 153ms/step - loss: 1.6031 - accuracy: 0.5156 - val_loss: 1.9151 - val_accuracy: 0.4363\n",
            "Epoch 12/20\n",
            "623/623 [==============================] - 96s 153ms/step - loss: 1.5116 - accuracy: 0.5391 - val_loss: 1.8916 - val_accuracy: 0.4468\n",
            "Epoch 13/20\n",
            "623/623 [==============================] - 95s 153ms/step - loss: 1.4214 - accuracy: 0.5633 - val_loss: 1.9184 - val_accuracy: 0.4387\n",
            "Epoch 14/20\n",
            "623/623 [==============================] - 96s 154ms/step - loss: 1.3433 - accuracy: 0.5903 - val_loss: 1.9119 - val_accuracy: 0.4528\n",
            "Epoch 15/20\n",
            "623/623 [==============================] - 96s 155ms/step - loss: 1.2607 - accuracy: 0.6097 - val_loss: 1.9791 - val_accuracy: 0.4444\n",
            "Epoch 16/20\n",
            "623/623 [==============================] - 95s 153ms/step - loss: 1.1893 - accuracy: 0.6357 - val_loss: 1.9199 - val_accuracy: 0.4737\n",
            "Epoch 17/20\n",
            "623/623 [==============================] - 94s 152ms/step - loss: 1.1032 - accuracy: 0.6558 - val_loss: 1.9221 - val_accuracy: 0.4693\n",
            "Epoch 18/20\n",
            "623/623 [==============================] - 95s 153ms/step - loss: 1.0178 - accuracy: 0.6832 - val_loss: 2.0238 - val_accuracy: 0.4693\n",
            "Epoch 19/20\n",
            "623/623 [==============================] - 96s 154ms/step - loss: 0.9447 - accuracy: 0.7047 - val_loss: 2.0553 - val_accuracy: 0.4644\n",
            "Epoch 20/20\n",
            "623/623 [==============================] - 95s 153ms/step - loss: 0.8699 - accuracy: 0.7339 - val_loss: 2.2368 - val_accuracy: 0.4576\n"
          ],
          "name": "stdout"
        },
        {
          "output_type": "execute_result",
          "data": {
            "text/plain": [
              "<keras.callbacks.History at 0x7f01653d7c90>"
            ]
          },
          "metadata": {},
          "execution_count": 32
        }
      ]
    },
    {
      "cell_type": "code",
      "metadata": {
        "colab": {
          "base_uri": "https://localhost:8080/"
        },
        "id": "oWdECoFtu6Gu",
        "outputId": "894281ea-7a6f-4932-ffa2-415c555effe9"
      },
      "source": [
        "model_1.evaluate(X_test_pad, y_test_encoded)"
      ],
      "id": "oWdECoFtu6Gu",
      "execution_count": null,
      "outputs": [
        {
          "output_type": "stream",
          "text": [
            "167/167 [==============================] - 13s 76ms/step - loss: 2.3090 - accuracy: 0.4426\n"
          ],
          "name": "stdout"
        },
        {
          "output_type": "execute_result",
          "data": {
            "text/plain": [
              "[2.308995008468628, 0.44263216853141785]"
            ]
          },
          "metadata": {},
          "execution_count": 33
        }
      ]
    },
    {
      "cell_type": "markdown",
      "metadata": {
        "id": "psi8X_YnscIc"
      },
      "source": [
        "Boucle FOR"
      ],
      "id": "psi8X_YnscIc"
    },
    {
      "cell_type": "code",
      "metadata": {
        "id": "6WfaroNSblmH"
      },
      "source": [
        "from sklearn.metrics import accuracy_score\n",
        "from keras.models import Sequential\n",
        "from keras.layers import LSTM, Dense, Masking, AveragePooling1D, TimeDistributed\n",
        "from tensorflow.keras.preprocessing.sequence import pad_sequences\n",
        "from keras.callbacks import EarlyStopping\n",
        "\n",
        "results={}\n",
        "sizes=[25, 50, 75, 100, 150, 200]\n",
        "for size in sizes:\n",
        "  word2vec= Word2Vec(X_train, min_count=1, size=size)\n",
        "\n",
        "  X_train_embeded = embedding(word2vec, X_train)\n",
        "  X_test_embeded = embedding(word2vec, X_test)\n",
        "\n",
        "  X_train_pad = pad_sequences(X_train_embeded, dtype='float32', padding='post', maxlen=1000)\n",
        "  X_test_pad = pad_sequences(X_test_embeded, dtype='float32', padding='post', maxlen=1000)\n",
        "\n",
        "  model=Sequential([\n",
        "                  (Masking(mask_value=0.0)),\n",
        "                  (LSTM(units=50, activation='tanh', return_sequences=True)),\n",
        "                  (LSTM(75, activation='tanh', return_sequences=True)),\n",
        "                  (LSTM(100, activation='tanh', return_sequences=True)),\n",
        "                  #(AveragePooling1D()),\n",
        "                  (Dense(100, activation='relu')),\n",
        "                  (Dense(50, activation='relu')),\n",
        "                  (Dense(25, activation='softmax'))\n",
        "])\n",
        "\n",
        "  \n",
        "  \n",
        "  \n",
        "  model.compile(loss='categorical_crossentropy',\n",
        "                optimizer='rmsprop',\n",
        "                metrics='accuracy')\n",
        "  \n",
        "  es=EarlyStopping(patience=8, restore_best_weights=True, monitor='val_accuracy')\n",
        "\n",
        "  model.fit(X_train_pad, y_train_encoded, epochs=10, batch_size=16, callbacks=[es], validation_split=0.2)\n",
        "\n",
        "  y_pred=model.predict(X_test_pad)\n",
        "  accuracy=accuracy_score(X_test_pad, y_test_encoded)\n",
        "\n",
        "  results[size]=accuracy\n"
      ],
      "id": "6WfaroNSblmH",
      "execution_count": null,
      "outputs": []
    },
    {
      "cell_type": "markdown",
      "metadata": {
        "id": "krVQK1Euaizg"
      },
      "source": [
        "## CNN"
      ],
      "id": "krVQK1Euaizg"
    },
    {
      "cell_type": "markdown",
      "metadata": {
        "id": "YlSVPzAaa5LQ"
      },
      "source": [
        "MODEL CONV1D"
      ],
      "id": "YlSVPzAaa5LQ"
    },
    {
      "cell_type": "code",
      "metadata": {
        "id": "1BBR9q10a428"
      },
      "source": [
        "from keras.models import Sequential\n",
        "from keras.layers import Dense, Masking, Conv1D, Flatten, Dropout, MaxPool1D\n",
        "from tensorflow.keras.optimizers import Adam\n",
        "\n",
        "model_2=Sequential([\n",
        "                  (Masking(mask_value=0.0)),\n",
        "                  (Conv1D(32, kernel_size=3)),\n",
        "                  (Conv1D(32, kernel_size=3)),\n",
        "                  (Dropout(.2)),\n",
        "                  (MaxPool1D(20)),\n",
        "                  (Flatten()),\n",
        "                  #(Dropout(.2)),\n",
        "\n",
        "                  (Dense(50, activation='relu')),\n",
        "                  (Dense(25, activation='softmax'))])\n",
        "\n",
        "optimizer=Adam(0.001)\n",
        "\n",
        "model_2.compile(loss='categorical_crossentropy',\n",
        "              optimizer=optimizer,\n",
        "              metrics='accuracy')\n",
        "\n"
      ],
      "id": "1BBR9q10a428",
      "execution_count": 15,
      "outputs": []
    },
    {
      "cell_type": "code",
      "metadata": {
        "id": "57CwPcdVgQnZ",
        "colab": {
          "base_uri": "https://localhost:8080/"
        },
        "outputId": "b6e68ed3-0a29-4f05-b05d-df8bce8263af"
      },
      "source": [
        "from keras.callbacks import EarlyStopping, ReduceLROnPlateau\n",
        "\n",
        "es=EarlyStopping(patience=15, restore_best_weights=True, monitor='val_accuracy')\n",
        "rlp=ReduceLROnPlateau(patience=2, factor=0.3, monitor='loss', verbose=True)\n",
        "model_2.fit(X_train_pad, y_train_encoded, epochs=50, batch_size=64, callbacks=[es, rlp], validation_split=0.2)"
      ],
      "id": "57CwPcdVgQnZ",
      "execution_count": 16,
      "outputs": [
        {
          "output_type": "stream",
          "text": [
            "Epoch 1/50\n",
            "156/156 [==============================] - 2s 11ms/step - loss: 2.9465 - accuracy: 0.1322 - val_loss: 2.7876 - val_accuracy: 0.1543\n",
            "Epoch 2/50\n",
            "156/156 [==============================] - 1s 8ms/step - loss: 2.6797 - accuracy: 0.1979 - val_loss: 2.6313 - val_accuracy: 0.2113\n",
            "Epoch 3/50\n",
            "156/156 [==============================] - 1s 8ms/step - loss: 2.4901 - accuracy: 0.2501 - val_loss: 2.4750 - val_accuracy: 0.2571\n",
            "Epoch 4/50\n",
            "156/156 [==============================] - 1s 8ms/step - loss: 2.3251 - accuracy: 0.2966 - val_loss: 2.4004 - val_accuracy: 0.2720\n",
            "Epoch 5/50\n",
            "156/156 [==============================] - 1s 8ms/step - loss: 2.1984 - accuracy: 0.3315 - val_loss: 2.3358 - val_accuracy: 0.2857\n",
            "Epoch 6/50\n",
            "156/156 [==============================] - 1s 8ms/step - loss: 2.0921 - accuracy: 0.3633 - val_loss: 2.2613 - val_accuracy: 0.3021\n",
            "Epoch 7/50\n",
            "156/156 [==============================] - 1s 8ms/step - loss: 2.0095 - accuracy: 0.3844 - val_loss: 2.3340 - val_accuracy: 0.3061\n",
            "Epoch 8/50\n",
            "156/156 [==============================] - 1s 8ms/step - loss: 1.9360 - accuracy: 0.4065 - val_loss: 2.3008 - val_accuracy: 0.3146\n",
            "Epoch 9/50\n",
            "156/156 [==============================] - 1s 8ms/step - loss: 1.8825 - accuracy: 0.4191 - val_loss: 2.3745 - val_accuracy: 0.3174\n",
            "Epoch 10/50\n",
            "156/156 [==============================] - 1s 8ms/step - loss: 1.8237 - accuracy: 0.4334 - val_loss: 2.3828 - val_accuracy: 0.3154\n",
            "Epoch 11/50\n",
            "156/156 [==============================] - 1s 8ms/step - loss: 1.7699 - accuracy: 0.4518 - val_loss: 2.3751 - val_accuracy: 0.3307\n",
            "Epoch 12/50\n",
            "156/156 [==============================] - 1s 8ms/step - loss: 1.7136 - accuracy: 0.4698 - val_loss: 2.4496 - val_accuracy: 0.3150\n",
            "Epoch 13/50\n",
            "156/156 [==============================] - 1s 8ms/step - loss: 1.6634 - accuracy: 0.4855 - val_loss: 2.5045 - val_accuracy: 0.3178\n",
            "Epoch 14/50\n",
            "156/156 [==============================] - 1s 8ms/step - loss: 1.6308 - accuracy: 0.4937 - val_loss: 2.6363 - val_accuracy: 0.3070\n",
            "Epoch 15/50\n",
            "156/156 [==============================] - 1s 8ms/step - loss: 1.5973 - accuracy: 0.5026 - val_loss: 2.6647 - val_accuracy: 0.3033\n",
            "Epoch 16/50\n",
            "156/156 [==============================] - 1s 8ms/step - loss: 1.5660 - accuracy: 0.5087 - val_loss: 2.6257 - val_accuracy: 0.3114\n",
            "Epoch 17/50\n",
            "156/156 [==============================] - 1s 8ms/step - loss: 1.5244 - accuracy: 0.5248 - val_loss: 2.7475 - val_accuracy: 0.3070\n",
            "Epoch 18/50\n",
            "156/156 [==============================] - 1s 8ms/step - loss: 1.4962 - accuracy: 0.5338 - val_loss: 2.7091 - val_accuracy: 0.3174\n",
            "Epoch 19/50\n",
            "156/156 [==============================] - 1s 8ms/step - loss: 1.4712 - accuracy: 0.5355 - val_loss: 2.7396 - val_accuracy: 0.3041\n",
            "Epoch 20/50\n",
            "156/156 [==============================] - 1s 8ms/step - loss: 1.4385 - accuracy: 0.5481 - val_loss: 2.8173 - val_accuracy: 0.3146\n",
            "Epoch 21/50\n",
            "156/156 [==============================] - 1s 8ms/step - loss: 1.4295 - accuracy: 0.5492 - val_loss: 2.9619 - val_accuracy: 0.2977\n",
            "Epoch 22/50\n",
            "156/156 [==============================] - 1s 8ms/step - loss: 1.4089 - accuracy: 0.5565 - val_loss: 2.8998 - val_accuracy: 0.3041\n",
            "Epoch 23/50\n",
            "156/156 [==============================] - 1s 8ms/step - loss: 1.3685 - accuracy: 0.5652 - val_loss: 3.0564 - val_accuracy: 0.2840\n",
            "Epoch 24/50\n",
            "156/156 [==============================] - 1s 8ms/step - loss: 1.3536 - accuracy: 0.5723 - val_loss: 3.1687 - val_accuracy: 0.2989\n",
            "Epoch 25/50\n",
            "156/156 [==============================] - 1s 8ms/step - loss: 1.3298 - accuracy: 0.5762 - val_loss: 3.1183 - val_accuracy: 0.3045\n",
            "Epoch 26/50\n",
            "156/156 [==============================] - 1s 8ms/step - loss: 1.3189 - accuracy: 0.5786 - val_loss: 3.2115 - val_accuracy: 0.2925\n"
          ],
          "name": "stdout"
        },
        {
          "output_type": "execute_result",
          "data": {
            "text/plain": [
              "<keras.callbacks.History at 0x7f98e6374610>"
            ]
          },
          "metadata": {},
          "execution_count": 16
        }
      ]
    },
    {
      "cell_type": "code",
      "metadata": {
        "id": "YARIUiPrgb9N",
        "colab": {
          "base_uri": "https://localhost:8080/"
        },
        "outputId": "759371e7-5f83-4630-abc2-9e7a75b728eb"
      },
      "source": [
        "model_2.evaluate(X_test_pad, y_test_encoded)"
      ],
      "id": "YARIUiPrgb9N",
      "execution_count": 17,
      "outputs": [
        {
          "output_type": "stream",
          "text": [
            "167/167 [==============================] - 1s 4ms/step - loss: 2.4350 - accuracy: 0.3127\n"
          ],
          "name": "stdout"
        },
        {
          "output_type": "execute_result",
          "data": {
            "text/plain": [
              "[2.435047149658203, 0.3127109110355377]"
            ]
          },
          "metadata": {},
          "execution_count": 17
        }
      ]
    },
    {
      "cell_type": "code",
      "metadata": {
        "id": "OHIPO2yCGMb-"
      },
      "source": [
        ""
      ],
      "id": "OHIPO2yCGMb-",
      "execution_count": null,
      "outputs": []
    }
  ]
}