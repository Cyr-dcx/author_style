{
 "cells": [
  {
   "cell_type": "code",
   "execution_count": 2,
   "id": "81eb65db",
   "metadata": {},
   "outputs": [],
   "source": [
    "from author_style.utils import *\n",
    "import tensorflow"
   ]
  },
  {
   "cell_type": "code",
   "execution_count": 20,
   "id": "a06054de",
   "metadata": {},
   "outputs": [],
   "source": [
    "import numpy as np\n",
    "from tensorflow.keras.preprocessing.sequence import pad_sequences\n",
    "from tensorflow.keras.preprocessing.text import Tokenizer\n"
   ]
  },
  {
   "cell_type": "markdown",
   "id": "b0f7f698",
   "metadata": {},
   "source": [
    "## Faire un test avec deux auteurs"
   ]
  },
  {
   "cell_type": "code",
   "execution_count": 3,
   "id": "bb204a2b",
   "metadata": {},
   "outputs": [
    {
     "ename": "IndexError",
     "evalue": "list index out of range",
     "output_type": "error",
     "traceback": [
      "\u001b[0;31m---------------------------------------------------------------------------\u001b[0m",
      "\u001b[0;31mIndexError\u001b[0m                                Traceback (most recent call last)",
      "\u001b[0;32m/var/folders/t8/clhcfp2n5sgcs4b81syf8xym0000gp/T/ipykernel_16571/2090724249.py\u001b[0m in \u001b[0;36m<module>\u001b[0;34m\u001b[0m\n\u001b[0;32m----> 1\u001b[0;31m \u001b[0mdf\u001b[0m \u001b[0;34m=\u001b[0m \u001b[0mcsv_to_dataframes\u001b[0m\u001b[0;34m(\u001b[0m\u001b[0moutput\u001b[0m\u001b[0;34m=\u001b[0m\u001b[0;34m\"p\"\u001b[0m\u001b[0;34m)\u001b[0m\u001b[0;34m.\u001b[0m\u001b[0mquery\u001b[0m\u001b[0;34m(\u001b[0m\u001b[0;34m\"author == 'GARY Romain' | author == 'SARRAUTE Nathalie'\"\u001b[0m\u001b[0;34m)\u001b[0m\u001b[0;34m\u001b[0m\u001b[0;34m\u001b[0m\u001b[0m\n\u001b[0m",
      "\u001b[0;32m~/code/Cyr-dcx/author_style/author_style/utils.py\u001b[0m in \u001b[0;36mcsv_to_dataframes\u001b[0;34m(output)\u001b[0m\n\u001b[1;32m     83\u001b[0m     \u001b[0;31m# and putting these elements in lists that have the same index as the list 'books'\u001b[0m\u001b[0;34m\u001b[0m\u001b[0;34m\u001b[0m\u001b[0;34m\u001b[0m\u001b[0m\n\u001b[1;32m     84\u001b[0m     \u001b[0mauthors\u001b[0m \u001b[0;34m=\u001b[0m \u001b[0;34m[\u001b[0m\u001b[0mcsv_file\u001b[0m\u001b[0;34m.\u001b[0m\u001b[0msplit\u001b[0m\u001b[0;34m(\u001b[0m\u001b[0;34m' '\u001b[0m\u001b[0;34m)\u001b[0m\u001b[0;34m[\u001b[0m\u001b[0;36m0\u001b[0m\u001b[0;34m]\u001b[0m\u001b[0;34m+\u001b[0m\u001b[0;34m' '\u001b[0m\u001b[0;34m+\u001b[0m\u001b[0mcsv_file\u001b[0m\u001b[0;34m.\u001b[0m\u001b[0msplit\u001b[0m\u001b[0;34m(\u001b[0m\u001b[0;34m' '\u001b[0m\u001b[0;34m)\u001b[0m\u001b[0;34m[\u001b[0m\u001b[0;36m1\u001b[0m\u001b[0;34m]\u001b[0m \u001b[0;32mfor\u001b[0m \u001b[0mcsv_file\u001b[0m \u001b[0;32min\u001b[0m \u001b[0mbooks\u001b[0m\u001b[0;34m]\u001b[0m\u001b[0;34m\u001b[0m\u001b[0;34m\u001b[0m\u001b[0m\n\u001b[0;32m---> 85\u001b[0;31m     \u001b[0mtitles\u001b[0m \u001b[0;34m=\u001b[0m \u001b[0;34m[\u001b[0m\u001b[0mcsv_file\u001b[0m\u001b[0;34m.\u001b[0m\u001b[0msplit\u001b[0m\u001b[0;34m(\u001b[0m\u001b[0;34m' - '\u001b[0m\u001b[0;34m)\u001b[0m\u001b[0;34m[\u001b[0m\u001b[0;36m1\u001b[0m\u001b[0;34m]\u001b[0m \u001b[0;32mfor\u001b[0m \u001b[0mcsv_file\u001b[0m \u001b[0;32min\u001b[0m \u001b[0mbooks\u001b[0m\u001b[0;34m]\u001b[0m\u001b[0;34m\u001b[0m\u001b[0;34m\u001b[0m\u001b[0m\n\u001b[0m\u001b[1;32m     86\u001b[0m     \u001b[0mbook_dates\u001b[0m \u001b[0;34m=\u001b[0m \u001b[0;34m[\u001b[0m\u001b[0mcsv_file\u001b[0m\u001b[0;34m.\u001b[0m\u001b[0msplit\u001b[0m\u001b[0;34m(\u001b[0m\u001b[0;34m' - '\u001b[0m\u001b[0;34m)\u001b[0m\u001b[0;34m[\u001b[0m\u001b[0;36m2\u001b[0m\u001b[0;34m]\u001b[0m\u001b[0;34m.\u001b[0m\u001b[0mreplace\u001b[0m\u001b[0;34m(\u001b[0m\u001b[0;34m'.csv'\u001b[0m\u001b[0;34m,\u001b[0m\u001b[0;34m''\u001b[0m\u001b[0;34m)\u001b[0m \u001b[0;32mfor\u001b[0m \u001b[0mcsv_file\u001b[0m \u001b[0;32min\u001b[0m \u001b[0mbooks\u001b[0m\u001b[0;34m]\u001b[0m\u001b[0;34m\u001b[0m\u001b[0;34m\u001b[0m\u001b[0m\n\u001b[1;32m     87\u001b[0m \u001b[0;34m\u001b[0m\u001b[0m\n",
      "\u001b[0;32m~/code/Cyr-dcx/author_style/author_style/utils.py\u001b[0m in \u001b[0;36m<listcomp>\u001b[0;34m(.0)\u001b[0m\n\u001b[1;32m     83\u001b[0m     \u001b[0;31m# and putting these elements in lists that have the same index as the list 'books'\u001b[0m\u001b[0;34m\u001b[0m\u001b[0;34m\u001b[0m\u001b[0;34m\u001b[0m\u001b[0m\n\u001b[1;32m     84\u001b[0m     \u001b[0mauthors\u001b[0m \u001b[0;34m=\u001b[0m \u001b[0;34m[\u001b[0m\u001b[0mcsv_file\u001b[0m\u001b[0;34m.\u001b[0m\u001b[0msplit\u001b[0m\u001b[0;34m(\u001b[0m\u001b[0;34m' '\u001b[0m\u001b[0;34m)\u001b[0m\u001b[0;34m[\u001b[0m\u001b[0;36m0\u001b[0m\u001b[0;34m]\u001b[0m\u001b[0;34m+\u001b[0m\u001b[0;34m' '\u001b[0m\u001b[0;34m+\u001b[0m\u001b[0mcsv_file\u001b[0m\u001b[0;34m.\u001b[0m\u001b[0msplit\u001b[0m\u001b[0;34m(\u001b[0m\u001b[0;34m' '\u001b[0m\u001b[0;34m)\u001b[0m\u001b[0;34m[\u001b[0m\u001b[0;36m1\u001b[0m\u001b[0;34m]\u001b[0m \u001b[0;32mfor\u001b[0m \u001b[0mcsv_file\u001b[0m \u001b[0;32min\u001b[0m \u001b[0mbooks\u001b[0m\u001b[0;34m]\u001b[0m\u001b[0;34m\u001b[0m\u001b[0;34m\u001b[0m\u001b[0m\n\u001b[0;32m---> 85\u001b[0;31m     \u001b[0mtitles\u001b[0m \u001b[0;34m=\u001b[0m \u001b[0;34m[\u001b[0m\u001b[0mcsv_file\u001b[0m\u001b[0;34m.\u001b[0m\u001b[0msplit\u001b[0m\u001b[0;34m(\u001b[0m\u001b[0;34m' - '\u001b[0m\u001b[0;34m)\u001b[0m\u001b[0;34m[\u001b[0m\u001b[0;36m1\u001b[0m\u001b[0;34m]\u001b[0m \u001b[0;32mfor\u001b[0m \u001b[0mcsv_file\u001b[0m \u001b[0;32min\u001b[0m \u001b[0mbooks\u001b[0m\u001b[0;34m]\u001b[0m\u001b[0;34m\u001b[0m\u001b[0;34m\u001b[0m\u001b[0m\n\u001b[0m\u001b[1;32m     86\u001b[0m     \u001b[0mbook_dates\u001b[0m \u001b[0;34m=\u001b[0m \u001b[0;34m[\u001b[0m\u001b[0mcsv_file\u001b[0m\u001b[0;34m.\u001b[0m\u001b[0msplit\u001b[0m\u001b[0;34m(\u001b[0m\u001b[0;34m' - '\u001b[0m\u001b[0;34m)\u001b[0m\u001b[0;34m[\u001b[0m\u001b[0;36m2\u001b[0m\u001b[0;34m]\u001b[0m\u001b[0;34m.\u001b[0m\u001b[0mreplace\u001b[0m\u001b[0;34m(\u001b[0m\u001b[0;34m'.csv'\u001b[0m\u001b[0;34m,\u001b[0m\u001b[0;34m''\u001b[0m\u001b[0;34m)\u001b[0m \u001b[0;32mfor\u001b[0m \u001b[0mcsv_file\u001b[0m \u001b[0;32min\u001b[0m \u001b[0mbooks\u001b[0m\u001b[0;34m]\u001b[0m\u001b[0;34m\u001b[0m\u001b[0;34m\u001b[0m\u001b[0m\n\u001b[1;32m     87\u001b[0m \u001b[0;34m\u001b[0m\u001b[0m\n",
      "\u001b[0;31mIndexError\u001b[0m: list index out of range"
     ]
    }
   ],
   "source": [
    "df = csv_to_dataframes(output=\"p\").query(\"author == 'GARY Romain' | author == 'SARRAUTE Nathalie'\")"
   ]
  },
  {
   "cell_type": "code",
   "execution_count": 5,
   "id": "086207fa",
   "metadata": {},
   "outputs": [
    {
     "data": {
      "text/html": [
       "<div>\n",
       "<style scoped>\n",
       "    .dataframe tbody tr th:only-of-type {\n",
       "        vertical-align: middle;\n",
       "    }\n",
       "\n",
       "    .dataframe tbody tr th {\n",
       "        vertical-align: top;\n",
       "    }\n",
       "\n",
       "    .dataframe thead th {\n",
       "        text-align: right;\n",
       "    }\n",
       "</style>\n",
       "<table border=\"1\" class=\"dataframe\">\n",
       "  <thead>\n",
       "    <tr style=\"text-align: right;\">\n",
       "      <th></th>\n",
       "      <th>text</th>\n",
       "      <th>author</th>\n",
       "      <th>title</th>\n",
       "      <th>book_date</th>\n",
       "    </tr>\n",
       "  </thead>\n",
       "  <tbody>\n",
       "    <tr>\n",
       "      <th>300</th>\n",
       "      <td>1907. Son père quitte Ivanovo pour aller à Par...</td>\n",
       "      <td>SARRAUTE Nathalie</td>\n",
       "      <td>Le mensonge</td>\n",
       "      <td>1966</td>\n",
       "    </tr>\n",
       "    <tr>\n",
       "      <th>301</th>\n",
       "      <td>1 Cette didascalie n'était ni dans l'édition p...</td>\n",
       "      <td>SARRAUTE Nathalie</td>\n",
       "      <td>Le mensonge</td>\n",
       "      <td>1966</td>\n",
       "    </tr>\n",
       "    <tr>\n",
       "      <th>302</th>\n",
       "      <td>6 Nathalie Sarraute fit des études de droit et...</td>\n",
       "      <td>SARRAUTE Nathalie</td>\n",
       "      <td>Le mensonge</td>\n",
       "      <td>1966</td>\n",
       "    </tr>\n",
       "    <tr>\n",
       "      <th>303</th>\n",
       "      <td>1923. Durant l'été, Nathalie fait l'ascension ...</td>\n",
       "      <td>SARRAUTE Nathalie</td>\n",
       "      <td>Le mensonge</td>\n",
       "      <td>1966</td>\n",
       "    </tr>\n",
       "    <tr>\n",
       "      <th>304</th>\n",
       "      <td>Se détourner de l'objet. Se fixer sur l'humain...</td>\n",
       "      <td>SARRAUTE Nathalie</td>\n",
       "      <td>Le mensonge</td>\n",
       "      <td>1966</td>\n",
       "    </tr>\n",
       "    <tr>\n",
       "      <th>...</th>\n",
       "      <td>...</td>\n",
       "      <td>...</td>\n",
       "      <td>...</td>\n",
       "      <td>...</td>\n",
       "    </tr>\n",
       "    <tr>\n",
       "      <th>18349</th>\n",
       "      <td>Lui, comme il est prudent. Comme il se tient e...</td>\n",
       "      <td>SARRAUTE Nathalie</td>\n",
       "      <td>Portrait d_un inconnu</td>\n",
       "      <td>1948</td>\n",
       "    </tr>\n",
       "    <tr>\n",
       "      <th>18350</th>\n",
       "      <td>Parfois, incapable de le contenir, il le laiss...</td>\n",
       "      <td>SARRAUTE Nathalie</td>\n",
       "      <td>Portrait d_un inconnu</td>\n",
       "      <td>1948</td>\n",
       "    </tr>\n",
       "    <tr>\n",
       "      <th>18351</th>\n",
       "      <td>Immobile comme une grosse araignée dans sa toi...</td>\n",
       "      <td>SARRAUTE Nathalie</td>\n",
       "      <td>Portrait d_un inconnu</td>\n",
       "      <td>1948</td>\n",
       "    </tr>\n",
       "    <tr>\n",
       "      <th>18352</th>\n",
       "      <td>Mais le masque ne se laisse pas faire. Il ne s...</td>\n",
       "      <td>SARRAUTE Nathalie</td>\n",
       "      <td>Portrait d_un inconnu</td>\n",
       "      <td>1948</td>\n",
       "    </tr>\n",
       "    <tr>\n",
       "      <th>18353</th>\n",
       "      <td>Ils étaient, épars à travers le monde, des poi...</td>\n",
       "      <td>SARRAUTE Nathalie</td>\n",
       "      <td>Portrait d_un inconnu</td>\n",
       "      <td>1948</td>\n",
       "    </tr>\n",
       "  </tbody>\n",
       "</table>\n",
       "<p>2874 rows × 4 columns</p>\n",
       "</div>"
      ],
      "text/plain": [
       "                                                    text             author  \\\n",
       "300    1907. Son père quitte Ivanovo pour aller à Par...  SARRAUTE Nathalie   \n",
       "301    1 Cette didascalie n'était ni dans l'édition p...  SARRAUTE Nathalie   \n",
       "302    6 Nathalie Sarraute fit des études de droit et...  SARRAUTE Nathalie   \n",
       "303    1923. Durant l'été, Nathalie fait l'ascension ...  SARRAUTE Nathalie   \n",
       "304    Se détourner de l'objet. Se fixer sur l'humain...  SARRAUTE Nathalie   \n",
       "...                                                  ...                ...   \n",
       "18349  Lui, comme il est prudent. Comme il se tient e...  SARRAUTE Nathalie   \n",
       "18350  Parfois, incapable de le contenir, il le laiss...  SARRAUTE Nathalie   \n",
       "18351  Immobile comme une grosse araignée dans sa toi...  SARRAUTE Nathalie   \n",
       "18352  Mais le masque ne se laisse pas faire. Il ne s...  SARRAUTE Nathalie   \n",
       "18353  Ils étaient, épars à travers le monde, des poi...  SARRAUTE Nathalie   \n",
       "\n",
       "                       title book_date  \n",
       "300              Le mensonge      1966  \n",
       "301              Le mensonge      1966  \n",
       "302              Le mensonge      1966  \n",
       "303              Le mensonge      1966  \n",
       "304              Le mensonge      1966  \n",
       "...                      ...       ...  \n",
       "18349  Portrait d_un inconnu      1948  \n",
       "18350  Portrait d_un inconnu      1948  \n",
       "18351  Portrait d_un inconnu      1948  \n",
       "18352  Portrait d_un inconnu      1948  \n",
       "18353  Portrait d_un inconnu      1948  \n",
       "\n",
       "[2874 rows x 4 columns]"
      ]
     },
     "execution_count": 5,
     "metadata": {},
     "output_type": "execute_result"
    }
   ],
   "source": [
    "df"
   ]
  },
  {
   "cell_type": "code",
   "execution_count": 7,
   "id": "4388756b",
   "metadata": {},
   "outputs": [],
   "source": [
    "data = df.drop([\"book_date\",\"title\"], axis=1)"
   ]
  },
  {
   "cell_type": "code",
   "execution_count": 9,
   "id": "5cd9ec24",
   "metadata": {},
   "outputs": [],
   "source": [
    "data.author = data.author.map({\n",
    "    \"SARRAUTE Nathalie\" : 0,\n",
    "    \"GARY Romain\" : 1\n",
    "})"
   ]
  },
  {
   "cell_type": "code",
   "execution_count": 10,
   "id": "44f4fcf4",
   "metadata": {},
   "outputs": [
    {
     "data": {
      "text/html": [
       "<div>\n",
       "<style scoped>\n",
       "    .dataframe tbody tr th:only-of-type {\n",
       "        vertical-align: middle;\n",
       "    }\n",
       "\n",
       "    .dataframe tbody tr th {\n",
       "        vertical-align: top;\n",
       "    }\n",
       "\n",
       "    .dataframe thead th {\n",
       "        text-align: right;\n",
       "    }\n",
       "</style>\n",
       "<table border=\"1\" class=\"dataframe\">\n",
       "  <thead>\n",
       "    <tr style=\"text-align: right;\">\n",
       "      <th></th>\n",
       "      <th>text</th>\n",
       "      <th>author</th>\n",
       "      <th>title</th>\n",
       "    </tr>\n",
       "  </thead>\n",
       "  <tbody>\n",
       "    <tr>\n",
       "      <th>300</th>\n",
       "      <td>1907. Son père quitte Ivanovo pour aller à Par...</td>\n",
       "      <td>0</td>\n",
       "      <td>Le mensonge</td>\n",
       "    </tr>\n",
       "    <tr>\n",
       "      <th>301</th>\n",
       "      <td>1 Cette didascalie n'était ni dans l'édition p...</td>\n",
       "      <td>0</td>\n",
       "      <td>Le mensonge</td>\n",
       "    </tr>\n",
       "    <tr>\n",
       "      <th>302</th>\n",
       "      <td>6 Nathalie Sarraute fit des études de droit et...</td>\n",
       "      <td>0</td>\n",
       "      <td>Le mensonge</td>\n",
       "    </tr>\n",
       "    <tr>\n",
       "      <th>303</th>\n",
       "      <td>1923. Durant l'été, Nathalie fait l'ascension ...</td>\n",
       "      <td>0</td>\n",
       "      <td>Le mensonge</td>\n",
       "    </tr>\n",
       "    <tr>\n",
       "      <th>304</th>\n",
       "      <td>Se détourner de l'objet. Se fixer sur l'humain...</td>\n",
       "      <td>0</td>\n",
       "      <td>Le mensonge</td>\n",
       "    </tr>\n",
       "    <tr>\n",
       "      <th>...</th>\n",
       "      <td>...</td>\n",
       "      <td>...</td>\n",
       "      <td>...</td>\n",
       "    </tr>\n",
       "    <tr>\n",
       "      <th>18349</th>\n",
       "      <td>Lui, comme il est prudent. Comme il se tient e...</td>\n",
       "      <td>0</td>\n",
       "      <td>Portrait d_un inconnu</td>\n",
       "    </tr>\n",
       "    <tr>\n",
       "      <th>18350</th>\n",
       "      <td>Parfois, incapable de le contenir, il le laiss...</td>\n",
       "      <td>0</td>\n",
       "      <td>Portrait d_un inconnu</td>\n",
       "    </tr>\n",
       "    <tr>\n",
       "      <th>18351</th>\n",
       "      <td>Immobile comme une grosse araignée dans sa toi...</td>\n",
       "      <td>0</td>\n",
       "      <td>Portrait d_un inconnu</td>\n",
       "    </tr>\n",
       "    <tr>\n",
       "      <th>18352</th>\n",
       "      <td>Mais le masque ne se laisse pas faire. Il ne s...</td>\n",
       "      <td>0</td>\n",
       "      <td>Portrait d_un inconnu</td>\n",
       "    </tr>\n",
       "    <tr>\n",
       "      <th>18353</th>\n",
       "      <td>Ils étaient, épars à travers le monde, des poi...</td>\n",
       "      <td>0</td>\n",
       "      <td>Portrait d_un inconnu</td>\n",
       "    </tr>\n",
       "  </tbody>\n",
       "</table>\n",
       "<p>2874 rows × 3 columns</p>\n",
       "</div>"
      ],
      "text/plain": [
       "                                                    text  author  \\\n",
       "300    1907. Son père quitte Ivanovo pour aller à Par...       0   \n",
       "301    1 Cette didascalie n'était ni dans l'édition p...       0   \n",
       "302    6 Nathalie Sarraute fit des études de droit et...       0   \n",
       "303    1923. Durant l'été, Nathalie fait l'ascension ...       0   \n",
       "304    Se détourner de l'objet. Se fixer sur l'humain...       0   \n",
       "...                                                  ...     ...   \n",
       "18349  Lui, comme il est prudent. Comme il se tient e...       0   \n",
       "18350  Parfois, incapable de le contenir, il le laiss...       0   \n",
       "18351  Immobile comme une grosse araignée dans sa toi...       0   \n",
       "18352  Mais le masque ne se laisse pas faire. Il ne s...       0   \n",
       "18353  Ils étaient, épars à travers le monde, des poi...       0   \n",
       "\n",
       "                       title  \n",
       "300              Le mensonge  \n",
       "301              Le mensonge  \n",
       "302              Le mensonge  \n",
       "303              Le mensonge  \n",
       "304              Le mensonge  \n",
       "...                      ...  \n",
       "18349  Portrait d_un inconnu  \n",
       "18350  Portrait d_un inconnu  \n",
       "18351  Portrait d_un inconnu  \n",
       "18352  Portrait d_un inconnu  \n",
       "18353  Portrait d_un inconnu  \n",
       "\n",
       "[2874 rows x 3 columns]"
      ]
     },
     "execution_count": 10,
     "metadata": {},
     "output_type": "execute_result"
    }
   ],
   "source": [
    "data"
   ]
  },
  {
   "cell_type": "markdown",
   "id": "75131444",
   "metadata": {},
   "source": [
    "### Checker la taille des phrases"
   ]
  },
  {
   "cell_type": "code",
   "execution_count": null,
   "id": "12f218d9",
   "metadata": {},
   "outputs": [],
   "source": [
    "data[\"taille\"] = data.text.apply(lambda x : len(x))"
   ]
  },
  {
   "cell_type": "code",
   "execution_count": 34,
   "id": "734a2dad",
   "metadata": {},
   "outputs": [
    {
     "data": {
      "text/html": [
       "<div>\n",
       "<style scoped>\n",
       "    .dataframe tbody tr th:only-of-type {\n",
       "        vertical-align: middle;\n",
       "    }\n",
       "\n",
       "    .dataframe tbody tr th {\n",
       "        vertical-align: top;\n",
       "    }\n",
       "\n",
       "    .dataframe thead th {\n",
       "        text-align: right;\n",
       "    }\n",
       "</style>\n",
       "<table border=\"1\" class=\"dataframe\">\n",
       "  <thead>\n",
       "    <tr style=\"text-align: right;\">\n",
       "      <th></th>\n",
       "      <th>text</th>\n",
       "      <th>author</th>\n",
       "      <th>taille</th>\n",
       "    </tr>\n",
       "  </thead>\n",
       "  <tbody>\n",
       "    <tr>\n",
       "      <th>300</th>\n",
       "      <td>1907. Son père quitte Ivanovo pour aller à Par...</td>\n",
       "      <td>0</td>\n",
       "      <td>1109</td>\n",
       "    </tr>\n",
       "    <tr>\n",
       "      <th>301</th>\n",
       "      <td>1 Cette didascalie n'était ni dans l'édition p...</td>\n",
       "      <td>0</td>\n",
       "      <td>912</td>\n",
       "    </tr>\n",
       "    <tr>\n",
       "      <th>302</th>\n",
       "      <td>6 Nathalie Sarraute fit des études de droit et...</td>\n",
       "      <td>0</td>\n",
       "      <td>746</td>\n",
       "    </tr>\n",
       "    <tr>\n",
       "      <th>303</th>\n",
       "      <td>1923. Durant l'été, Nathalie fait l'ascension ...</td>\n",
       "      <td>0</td>\n",
       "      <td>613</td>\n",
       "    </tr>\n",
       "    <tr>\n",
       "      <th>304</th>\n",
       "      <td>Se détourner de l'objet. Se fixer sur l'humain...</td>\n",
       "      <td>0</td>\n",
       "      <td>572</td>\n",
       "    </tr>\n",
       "    <tr>\n",
       "      <th>...</th>\n",
       "      <td>...</td>\n",
       "      <td>...</td>\n",
       "      <td>...</td>\n",
       "    </tr>\n",
       "    <tr>\n",
       "      <th>18349</th>\n",
       "      <td>Lui, comme il est prudent. Comme il se tient e...</td>\n",
       "      <td>0</td>\n",
       "      <td>189</td>\n",
       "    </tr>\n",
       "    <tr>\n",
       "      <th>18350</th>\n",
       "      <td>Parfois, incapable de le contenir, il le laiss...</td>\n",
       "      <td>0</td>\n",
       "      <td>187</td>\n",
       "    </tr>\n",
       "    <tr>\n",
       "      <th>18351</th>\n",
       "      <td>Immobile comme une grosse araignée dans sa toi...</td>\n",
       "      <td>0</td>\n",
       "      <td>187</td>\n",
       "    </tr>\n",
       "    <tr>\n",
       "      <th>18352</th>\n",
       "      <td>Mais le masque ne se laisse pas faire. Il ne s...</td>\n",
       "      <td>0</td>\n",
       "      <td>183</td>\n",
       "    </tr>\n",
       "    <tr>\n",
       "      <th>18353</th>\n",
       "      <td>Ils étaient, épars à travers le monde, des poi...</td>\n",
       "      <td>0</td>\n",
       "      <td>178</td>\n",
       "    </tr>\n",
       "  </tbody>\n",
       "</table>\n",
       "<p>2874 rows × 3 columns</p>\n",
       "</div>"
      ],
      "text/plain": [
       "                                                    text  author  taille\n",
       "300    1907. Son père quitte Ivanovo pour aller à Par...       0    1109\n",
       "301    1 Cette didascalie n'était ni dans l'édition p...       0     912\n",
       "302    6 Nathalie Sarraute fit des études de droit et...       0     746\n",
       "303    1923. Durant l'été, Nathalie fait l'ascension ...       0     613\n",
       "304    Se détourner de l'objet. Se fixer sur l'humain...       0     572\n",
       "...                                                  ...     ...     ...\n",
       "18349  Lui, comme il est prudent. Comme il se tient e...       0     189\n",
       "18350  Parfois, incapable de le contenir, il le laiss...       0     187\n",
       "18351  Immobile comme une grosse araignée dans sa toi...       0     187\n",
       "18352  Mais le masque ne se laisse pas faire. Il ne s...       0     183\n",
       "18353  Ils étaient, épars à travers le monde, des poi...       0     178\n",
       "\n",
       "[2874 rows x 3 columns]"
      ]
     },
     "execution_count": 34,
     "metadata": {},
     "output_type": "execute_result"
    }
   ],
   "source": [
    "data"
   ]
  },
  {
   "cell_type": "code",
   "execution_count": 12,
   "id": "61e22b4d",
   "metadata": {},
   "outputs": [],
   "source": [
    "data = data[[\"text\",\"author\"]]"
   ]
  },
  {
   "cell_type": "code",
   "execution_count": 13,
   "id": "4cb49190",
   "metadata": {},
   "outputs": [
    {
     "data": {
      "text/html": [
       "<div>\n",
       "<style scoped>\n",
       "    .dataframe tbody tr th:only-of-type {\n",
       "        vertical-align: middle;\n",
       "    }\n",
       "\n",
       "    .dataframe tbody tr th {\n",
       "        vertical-align: top;\n",
       "    }\n",
       "\n",
       "    .dataframe thead th {\n",
       "        text-align: right;\n",
       "    }\n",
       "</style>\n",
       "<table border=\"1\" class=\"dataframe\">\n",
       "  <thead>\n",
       "    <tr style=\"text-align: right;\">\n",
       "      <th></th>\n",
       "      <th>text</th>\n",
       "      <th>author</th>\n",
       "    </tr>\n",
       "  </thead>\n",
       "  <tbody>\n",
       "    <tr>\n",
       "      <th>300</th>\n",
       "      <td>1907. Son père quitte Ivanovo pour aller à Par...</td>\n",
       "      <td>0</td>\n",
       "    </tr>\n",
       "    <tr>\n",
       "      <th>301</th>\n",
       "      <td>1 Cette didascalie n'était ni dans l'édition p...</td>\n",
       "      <td>0</td>\n",
       "    </tr>\n",
       "    <tr>\n",
       "      <th>302</th>\n",
       "      <td>6 Nathalie Sarraute fit des études de droit et...</td>\n",
       "      <td>0</td>\n",
       "    </tr>\n",
       "    <tr>\n",
       "      <th>303</th>\n",
       "      <td>1923. Durant l'été, Nathalie fait l'ascension ...</td>\n",
       "      <td>0</td>\n",
       "    </tr>\n",
       "    <tr>\n",
       "      <th>304</th>\n",
       "      <td>Se détourner de l'objet. Se fixer sur l'humain...</td>\n",
       "      <td>0</td>\n",
       "    </tr>\n",
       "    <tr>\n",
       "      <th>...</th>\n",
       "      <td>...</td>\n",
       "      <td>...</td>\n",
       "    </tr>\n",
       "    <tr>\n",
       "      <th>18349</th>\n",
       "      <td>Lui, comme il est prudent. Comme il se tient e...</td>\n",
       "      <td>0</td>\n",
       "    </tr>\n",
       "    <tr>\n",
       "      <th>18350</th>\n",
       "      <td>Parfois, incapable de le contenir, il le laiss...</td>\n",
       "      <td>0</td>\n",
       "    </tr>\n",
       "    <tr>\n",
       "      <th>18351</th>\n",
       "      <td>Immobile comme une grosse araignée dans sa toi...</td>\n",
       "      <td>0</td>\n",
       "    </tr>\n",
       "    <tr>\n",
       "      <th>18352</th>\n",
       "      <td>Mais le masque ne se laisse pas faire. Il ne s...</td>\n",
       "      <td>0</td>\n",
       "    </tr>\n",
       "    <tr>\n",
       "      <th>18353</th>\n",
       "      <td>Ils étaient, épars à travers le monde, des poi...</td>\n",
       "      <td>0</td>\n",
       "    </tr>\n",
       "  </tbody>\n",
       "</table>\n",
       "<p>2874 rows × 2 columns</p>\n",
       "</div>"
      ],
      "text/plain": [
       "                                                    text  author\n",
       "300    1907. Son père quitte Ivanovo pour aller à Par...       0\n",
       "301    1 Cette didascalie n'était ni dans l'édition p...       0\n",
       "302    6 Nathalie Sarraute fit des études de droit et...       0\n",
       "303    1923. Durant l'été, Nathalie fait l'ascension ...       0\n",
       "304    Se détourner de l'objet. Se fixer sur l'humain...       0\n",
       "...                                                  ...     ...\n",
       "18349  Lui, comme il est prudent. Comme il se tient e...       0\n",
       "18350  Parfois, incapable de le contenir, il le laiss...       0\n",
       "18351  Immobile comme une grosse araignée dans sa toi...       0\n",
       "18352  Mais le masque ne se laisse pas faire. Il ne s...       0\n",
       "18353  Ils étaient, épars à travers le monde, des poi...       0\n",
       "\n",
       "[2874 rows x 2 columns]"
      ]
     },
     "execution_count": 13,
     "metadata": {},
     "output_type": "execute_result"
    }
   ],
   "source": [
    "data"
   ]
  },
  {
   "cell_type": "markdown",
   "id": "6da34094",
   "metadata": {},
   "source": [
    "## Déterminer X et y"
   ]
  },
  {
   "cell_type": "code",
   "execution_count": null,
   "id": "539b16ab",
   "metadata": {},
   "outputs": [],
   "source": [
    "X = data[\"text\"].to_numpy()\n",
    "y = data[\"author\"].to_numpy()"
   ]
  },
  {
   "cell_type": "markdown",
   "id": "c83ad1d0",
   "metadata": {},
   "source": [
    "### Sauvegarder X et y pour les utiliser plus tard"
   ]
  },
  {
   "cell_type": "code",
   "execution_count": 44,
   "id": "0822a8b8",
   "metadata": {},
   "outputs": [
    {
     "data": {
      "text/plain": [
       "['y.pkl']"
      ]
     },
     "execution_count": 44,
     "metadata": {},
     "output_type": "execute_result"
    }
   ],
   "source": [
    "import joblib\n",
    "\n",
    "joblib.dump(X_pad,\"X.pkl\")\n",
    "joblib.dump(y,\"y.pkl\")"
   ]
  },
  {
   "cell_type": "markdown",
   "id": "45780e0f",
   "metadata": {},
   "source": [
    "## Tokenizer et pader la data"
   ]
  },
  {
   "cell_type": "code",
   "execution_count": 27,
   "id": "f26e5987",
   "metadata": {},
   "outputs": [
    {
     "name": "stdout",
     "output_type": "stream",
     "text": [
      "There are 30063 different words in your corpus\n"
     ]
    }
   ],
   "source": [
    "### Let's tokenize the vocabulary \n",
    "tk = Tokenizer()\n",
    "\n",
    "tk.fit_on_texts(X)\n",
    "\n",
    "vocab_size = len(tk.word_index)\n",
    "\n",
    "print(f'There are {vocab_size} different words in your corpus')"
   ]
  },
  {
   "cell_type": "code",
   "execution_count": 28,
   "id": "47163e6c",
   "metadata": {},
   "outputs": [],
   "source": [
    "X_token = tk.texts_to_sequences(X)"
   ]
  },
  {
   "cell_type": "code",
   "execution_count": 36,
   "id": "3c86cd9e",
   "metadata": {},
   "outputs": [
    {
     "name": "stdout",
     "output_type": "stream",
     "text": [
      "X_pad.shape (2874, 1852)\n"
     ]
    },
    {
     "data": {
      "text/plain": [
       "array([[8.3020e+03, 2.9000e+01, 1.5900e+02, ..., 0.0000e+00, 0.0000e+00,\n",
       "        0.0000e+00],\n",
       "       [6.4600e+02, 5.7000e+01, 1.0969e+04, ..., 0.0000e+00, 0.0000e+00,\n",
       "        0.0000e+00],\n",
       "       [1.5741e+04, 2.8100e+02, 3.7300e+02, ..., 0.0000e+00, 0.0000e+00,\n",
       "        0.0000e+00],\n",
       "       ...,\n",
       "       [9.4000e+02, 3.3000e+01, 1.5000e+01, ..., 0.0000e+00, 0.0000e+00,\n",
       "        0.0000e+00],\n",
       "       [2.4000e+01, 5.0000e+00, 1.8270e+03, ..., 0.0000e+00, 0.0000e+00,\n",
       "        0.0000e+00],\n",
       "       [5.0000e+01, 1.2200e+02, 1.0872e+04, ..., 0.0000e+00, 0.0000e+00,\n",
       "        0.0000e+00]])"
      ]
     },
     "execution_count": 36,
     "metadata": {},
     "output_type": "execute_result"
    }
   ],
   "source": [
    "### Pad your inputs\n",
    "X_pad = pad_sequences(X_token, dtype='float64', padding='post')\n",
    "\n",
    "\n",
    "print(\"X_pad.shape\", X_pad.shape)\n",
    "X_pad"
   ]
  },
  {
   "cell_type": "code",
   "execution_count": 35,
   "id": "8d3ce516",
   "metadata": {},
   "outputs": [],
   "source": [
    "### Let's build the Neural network now\n",
    "from tensorflow.keras import layers, Sequential"
   ]
  },
  {
   "cell_type": "markdown",
   "id": "7a92c0f1",
   "metadata": {},
   "source": [
    "## Construire le model"
   ]
  },
  {
   "cell_type": "markdown",
   "id": "324cf85e",
   "metadata": {},
   "source": [
    "### GRU"
   ]
  },
  {
   "cell_type": "code",
   "execution_count": 40,
   "id": "1a10b4f7",
   "metadata": {},
   "outputs": [
    {
     "name": "stdout",
     "output_type": "stream",
     "text": [
      "Model: \"sequential_2\"\n",
      "_________________________________________________________________\n",
      "Layer (type)                 Output Shape              Param #   \n",
      "=================================================================\n",
      "embedding_2 (Embedding)      (None, 1852, 100)         3006400   \n",
      "_________________________________________________________________\n",
      "gru_2 (GRU)                  (None, 1852, 64)          31872     \n",
      "_________________________________________________________________\n",
      "gru_3 (GRU)                  (None, 64)                24960     \n",
      "_________________________________________________________________\n",
      "dense (Dense)                (None, 1)                 65        \n",
      "=================================================================\n",
      "Total params: 3,063,297\n",
      "Trainable params: 3,063,297\n",
      "Non-trainable params: 0\n",
      "_________________________________________________________________\n"
     ]
    }
   ],
   "source": [
    "# Size of your embedding space = size to represent each word\n",
    "embedding_size = 100\n",
    "\n",
    "model = Sequential()\n",
    "\n",
    "model.add(layers.Embedding(\n",
    "    input_dim=vocab_size+1, # 16 +1 for the 0 padding\n",
    "    input_length=1852, # Max_sentence_length (optional, for model summary)\n",
    "    output_dim=embedding_size,# 100\n",
    "    mask_zero=True, # Included masking layer :)\n",
    "))\n",
    "\n",
    "model.add(layers.GRU(64,return_sequences= True))\n",
    "model.add(layers.GRU(64))\n",
    "model.add(layers.Dense(1, activation=\"sigmoid\"))\n",
    "model.summary()"
   ]
  },
  {
   "cell_type": "code",
   "execution_count": 41,
   "id": "2370039d",
   "metadata": {},
   "outputs": [],
   "source": [
    "model.compile(loss='binary_crossentropy',\n",
    "              optimizer='rmsprop',\n",
    "              metrics=['accuracy'])"
   ]
  },
  {
   "cell_type": "code",
   "execution_count": 43,
   "id": "5c8a3b77",
   "metadata": {},
   "outputs": [
    {
     "name": "stdout",
     "output_type": "stream",
     "text": [
      "Epoch 1/2\n",
      "45/45 [==============================] - 147s 3s/step - loss: 0.5920 - accuracy: 0.6545\n",
      "Epoch 2/2\n",
      "45/45 [==============================] - 131s 3s/step - loss: 0.1530 - accuracy: 0.9485\n"
     ]
    },
    {
     "data": {
      "text/plain": [
       "<keras.callbacks.History at 0x14c8ee6a0>"
      ]
     },
     "execution_count": 43,
     "metadata": {},
     "output_type": "execute_result"
    }
   ],
   "source": [
    "model.fit(X_pad, y, epochs=2, batch_size=64, verbose=1)"
   ]
  },
  {
   "cell_type": "markdown",
   "id": "85bf57f8",
   "metadata": {},
   "source": [
    "### LSMT"
   ]
  },
  {
   "cell_type": "code",
   "execution_count": null,
   "id": "1f7078a4",
   "metadata": {},
   "outputs": [],
   "source": [
    "# Size of your embedding space = size to represent each word\n",
    "embedding_size = 100\n",
    "\n",
    "model = Sequential()\n",
    "\n",
    "model.add(layers.Embedding(\n",
    "    input_dim=vocab_size+1, # 16 +1 for the 0 padding\n",
    "    input_length=1852, # Max_sentence_length (optional, for model summary)\n",
    "    output_dim=embedding_size,# 100\n",
    "    mask_zero=True, # Included masking layer :)\n",
    "))\n",
    "\n",
    "model.add(layers.LMST(64,return_sequences= True))\n",
    "model.add(layers.LMST(64))\n",
    "model.add(layers.Dense(1, activation=\"sigmoid\"))\n",
    "\n",
    "\n",
    "print(model.summary())\n",
    "\n",
    "\n",
    "model.compile(loss='binary_crossentropy',\n",
    "              optimizer='rmsprop',\n",
    "              metrics=['accuracy'])\n",
    "\n",
    "model.fit(X_pad, y, epochs=2, batch_size=64, verbose=1)"
   ]
  }
 ],
 "metadata": {
  "kernelspec": {
   "display_name": "Python 3 (ipykernel)",
   "language": "python",
   "name": "python3"
  },
  "language_info": {
   "codemirror_mode": {
    "name": "ipython",
    "version": 3
   },
   "file_extension": ".py",
   "mimetype": "text/x-python",
   "name": "python",
   "nbconvert_exporter": "python",
   "pygments_lexer": "ipython3",
   "version": "3.8.6"
  },
  "toc": {
   "base_numbering": 1,
   "nav_menu": {},
   "number_sections": true,
   "sideBar": true,
   "skip_h1_title": false,
   "title_cell": "Table of Contents",
   "title_sidebar": "Contents",
   "toc_cell": false,
   "toc_position": {},
   "toc_section_display": true,
   "toc_window_display": false
  },
  "varInspector": {
   "cols": {
    "lenName": 16,
    "lenType": 16,
    "lenVar": 40
   },
   "kernels_config": {
    "python": {
     "delete_cmd_postfix": "",
     "delete_cmd_prefix": "del ",
     "library": "var_list.py",
     "varRefreshCmd": "print(var_dic_list())"
    },
    "r": {
     "delete_cmd_postfix": ") ",
     "delete_cmd_prefix": "rm(",
     "library": "var_list.r",
     "varRefreshCmd": "cat(var_dic_list()) "
    }
   },
   "types_to_exclude": [
    "module",
    "function",
    "builtin_function_or_method",
    "instance",
    "_Feature"
   ],
   "window_display": false
  }
 },
 "nbformat": 4,
 "nbformat_minor": 5
}
