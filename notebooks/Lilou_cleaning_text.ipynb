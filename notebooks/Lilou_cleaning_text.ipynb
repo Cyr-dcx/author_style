{
 "cells": [
  {
   "cell_type": "code",
   "execution_count": 4,
   "id": "cb2917fb",
   "metadata": {
    "ExecuteTime": {
     "end_time": "2021-08-24T13:29:04.112676Z",
     "start_time": "2021-08-24T13:29:04.102136Z"
    }
   },
   "outputs": [
    {
     "data": {
      "text/plain": [
       "'/Users/lilouconquet/code/cyrdecx/author_style'"
      ]
     },
     "execution_count": 4,
     "metadata": {},
     "output_type": "execute_result"
    }
   ],
   "source": [
    "import os \n",
    "os.path.dirname(os.getcwd())"
   ]
  },
  {
   "cell_type": "code",
   "execution_count": 7,
   "id": "55fc7a6b",
   "metadata": {
    "ExecuteTime": {
     "end_time": "2021-08-24T13:41:52.916153Z",
     "start_time": "2021-08-24T13:41:52.861622Z"
    }
   },
   "outputs": [
    {
     "data": {
      "text/plain": [
       "['Patrick Modiano\\n',\n",
       " '\\n',\n",
       " '\\n',\n",
       " '\\n',\n",
       " '\\n',\n",
       " '\\n',\n",
       " 'Voyage de noces\\n',\n",
       " '\\n',\n",
       " '\\n',\n",
       " '\\n',\n",
       " '\\n',\n",
       " '\\n',\n",
       " '(1990)\\n',\n",
       " '\\n',\n",
       " '\\n',\n",
       " '\\n',\n",
       " '\\n',\n",
       " '\\n',\n",
       " 'Pour Robert Gallimard\\n',\n",
       " '\\n',\n",
       " '\\n',\n",
       " '\\n',\n",
       " '\\n',\n",
       " '\\n',\n",
       " \"Les jours d'été reviendront encore mais la chaleur ne sera plus jamais aussi lourde ni les rues aussi vides qu'à Milan, ce mardi-là. C'était le lendemain du 15 août. J'avais déposé ma valise à la consigne et quand j'étais sorti de la gare j'avais hésité un instant : on ne pouvait pas marcher dans la ville sous ce soleil de plomb. Cinq heures du soir. Quatre heures à attendre le train pour Paris. Il fallait trouver un refuge et mes pas m'ont entraîné à quelques centaines de mètres au-delà d'une avenue qui longeait la gare jusqu'à un hôtel dont j'avais repéré la façade imposante.\\n\",\n",
       " '\\n',\n",
       " \"Les couloirs de marbre blond vous protégeaient du soleil et dans la fraîcheur et la demipénombre du bar, vous étiez au fond d'un puits. Aujourd'hui, ce bar m'évoque un puits et cet hôtel un gigantesque blockhaus, mais, sur le moment, je me contentais de boire, à l'aide d'une paille, un mélange de grenadine et de jus d'orange. J'écoutais le barman dont le visage s'est effacé de ma mémoire. Il parlait à un autre client, et je serais bien incapable de décrire'l'aspect et le vêtement de cet homme. Une seule chose subsiste de lui, dans mon souvenir : sa manière de ponctuer la conversation par un « Mah » qui résonnait comme un aboiement ' funèbre.\\n\",\n",
       " '\\n',\n",
       " \"Une femme s'était suicidée dans une chambre de l'hôtel, deux jours auparavant, la veille du\\n\",\n",
       " '\\n',\n",
       " \"15 août. Le barman expliquait qu'on avait appelé une ambulance mais que cela n'avait servi à rien. Dans l'après-midi, il avait vu cette femme. Elle était venue au bar. Elle était seule. Après ce suicide, la police l'avait interrogé, lui, le barman. Il n'avait pas pu leur fournir beaucoup de détails. Une brune. Le directeur de l'hôtel avait éprouvé un certain soulagement car la chose était passée inaperçue grâce à la clientèle peu nombreuse en cette période de l'année. Il y avait eu un entrefilet, ce matin, dans le Carrière. Une Française. Que venait-elle faire à Milan au mois d'août? Ils s'étaient retournés vers moi, comme s'ils attendaient que je leur donne la réponse. Puis le barman m'avait dit en français :\\n\",\n",
       " '\\n',\n",
       " \"« II ne faut pas venir ici au mois d'août. A Milan tout est fermé au mois d'août. »\\n\",\n",
       " '\\n',\n",
       " 'L\\'autre avait approuvé de son « Mah ! » funèbre. Et chacun d\\'eux m\\'avait considéré d\\'un œil \" réprobateur, pour me faire bien sentir que j\\'avais commis une maladresse et même plus qu\\'une maladresse, une faute assez grave, en* échouant à Milan au mois d\\'août.\\n',\n",
       " '\\n',\n",
       " \"« Vous pouvez vérifier, m'avait dit le barman. Pas un seul magasin ouvert à Milan aujourd'hui. »\\n\",\n",
       " '\\n',\n",
       " \"Je me suis retrouvé dans l'un des taxis jaunes qui stationnaient devant l'hôtel. Le chauffeur, remarquant mon hésitation de touriste, m'a proposé de me conduire place du Dôme.\\n\",\n",
       " '\\n',\n",
       " \"Les avenues étaient vides et tous les magasins fermés. Je me suis demandé si la femme dont ils parlaient tout à l'heure avait elle aussi traversé Milan dans un taxi jaune avant de rentrer à l'hôtel et de se tuer. Je ne crois pas avoir pensé, sur le moment, que le spectacle de cette ville déserte ait pu l'amener à prendre sa décision. Au contraire, si je cherche un terme qui traduise l'impression que me faisait Milan ce 16 août, il me vient aussitôt à l'esprit celui de : Ville ouverte. La ville, me semblait-il, 's'accordait une pause et le mouvement et le bruit reprendraient, j'en étais sûr.\\n\",\n",
       " '\\n',\n",
       " \"Place du Dôme, des touristes en casquettes erraient au pied de la cathédrale, et une grande librairie était éclairée, à l'entrée de la galerie Victor-Emmanuel. J'étais le seul client et je feuilletais les livres sous la lumière électrique. Était-elle venue dans cette librairie, la veille du 15 août? J'avais envie de le demander à l'homme qui se tenait derrière un bureau au fond de la librairie, au rayon des ouvrages d'art. Mais je ne savais presque rien d'elle sinon qu'elle était brune et française.\\n\",\n",
       " '\\n',\n",
       " 'J\\'ai marché le long de la galerie Victor-Emmanuel. Tout ce qu\\'il y avait de vie, à Milan, s\\'était réfugié là pour échapper aux rayons meurtriers du soleil : des enfants autour d\\'un marchand de glaces, des Japonais et des Allemands, des Italiens du Sud qui visitaient la ville pour la première fois. A trois jours d\\'intervalle, nous nous serions peut-être rencontrés cette femme et moi, dans la galerie, et comme nous étions français l\\'un et l\\'autre, nous aurions \"engagé la conversation.\\n',\n",
       " '\\n',\n",
       " \"Encore deux heures à passer, avant de prendre le train pour Paris. De nouveau je suis monté dans l'un des taxis jaunes qui attendaient, en file, sur la place du Dôme, et j'ai indiqué au chauffeur le nom de l'hôtel. Le soir tombait. Aujourd'hui, les avenues, les jardins, les tramways de cette ville étrangère et la chaleur qui vous isole encore plus, tout cela, pour moi, s'accorde avec le suicide de cette femme. Mais à ce moment-là, dans le taxi, je me disais que c'était le fait d'un mauvais hasard.\\n\",\n",
       " '\\n',\n",
       " \"Le barman était seul. Il m'a servi de nouveau un mélange de grenadine et de jus d'orange.\\n\",\n",
       " '\\n',\n",
       " '« Alors, vous avez vu... Les magasins sont fermés à Milan... »\\n',\n",
       " '\\n',\n",
       " \"Je lui ai demandé si la femme dont il pariait tout à l'heure, et dont il disait avec respect et / grandiloquence qu'« elle avait mis fin a^ses jours », était arrivée depuis longtemps à l'hôtel.\\n\",\n",
       " '\\n',\n",
       " '« Non, non... Trois jours avant de mettre fin à ses jours...\\n',\n",
       " '\\n',\n",
       " \"- Elle venait d'où?\\n\",\n",
       " '\\n',\n",
       " \"- De Paris. Elle allait rejoindre des amis en vacances dans le Sud. A Capri... C'est la police qui l'a dit... Quelqu'un doit venir demain de Capn pour régler tous les problèmes. »\\n\",\n",
       " '\\n',\n",
       " \"Régler tous les problèmes. Quoi de commun entre ces mots lugubres et l'azur, les grottes marines, la légèreté estivale qu'évoquait Capri?\\n\",\n",
       " '\\n',\n",
       " '« Une très jolie femme... Elle était assise ici... »\\n',\n",
       " '\\n',\n",
       " 'II me désignait une table, tout au fond.\\n',\n",
       " '\\n',\n",
       " \"« Je lui ai servi la même chose qu'à vous». »\\n\",\n",
       " '\\n',\n",
       " \"L'heure de mon train pour Paris. Dehors il faisait nuit mais la chaleur était aussi étouffante qu'en plein après-midi. Je traversais l'avenue, le regard fixé sur la façade monumentale de la gare. Dans l'immense salle de la consigne, j'ai fouillé toutes mes poches à la recherche du ticket qui me permettrait de rentrer en possession de ma valise.\\n\",\n",
       " '\\n',\n",
       " \"J'avais acheté le Currière délla Sera. Je voulais lire « l'entrefilet » consacré à cette femme. Elle était sans doute arrivée de Paris sur le quai où je me trouvais maintenant, et moi j'allais faire le chemin inverse, à cinq jours d'intervalle... Quelle drôle d'idée de venir se suicider ici, quand des amis vous attendaient à Capri... Il y avait peut-être à ce geste un motif que j'ignorerais toujours.\\n\",\n",
       " '\\n',\n",
       " \"Milan, j'y suis revenu la semaine dernière mais je n'ai pas quitté l'aéroport. Ce n'était plus comme il y a dix-huit ans. Oui : dix-huit ans, j'ai compté les années sur les doigts de ma main. Cette fois-ci, je n'ai pas pris de taxi jaune pour me conduire place du Dôme et sous la galerie Victor-Emmanuel. Il pleuvait, une pluie lourde de juin. A peine une heure d'attente et je monterais dans un avion qui me ramènerait à Paris.\\n\",\n",
       " '\\n',\n",
       " \"J'étais en transit, assis dans une grande salle vitrée de l'aéroport de Milan. J'ai pensé à cette journée d'il y a dix-huit ans, et pour la première fois depuis tout ce temps-là, cette femme qui « avait mis fin à ses jours » - comme disait le barman - a commencé vraiment à m'occuper l'esprit.\\n\",\n",
       " '\\n',\n",
       " \"Le billet d'avion pour Milan aller-retour, je l'avais acheté au hasard, la veille, dans une agence de voyages de la rue Jouffroy. Chez moi, je l'avais *dissimulé au fond de l'une de mes valises, à cause d'Annette, ma femme. Milan. J'avais choisi cette ville au hasard parmi trois autres : Vienne, Athènes et Lisbonne. Peu importait la destination. Le seul problème, c'était que l'avion parte à la même heure que celui que je devais prendre pour Rio de Janeiro.\\n\",\n",
       " '\\n',\n",
       " \"Ils m'avaient accompagné à l'aéroport : Annette, Wetzel et Cavanaugh. Ils manifestaient cette fausse gaieté que j'avais souvent remarquée, au départ de nos expéditions. Moi, je n'ai jamais aimé partir, et ce jour-là encore moins que d'habitude. J'avais envie de leur dire que nous avions passé l'âge d'exercer ce métier qu'il faut bien appeler du nom'désuet d' « explorateur ». Allions-nous encore longtemps projeter nos films documentaires à Pleyel ou dans des salles de cinémas de province de plus en plus rares? Nous avions voulu très jeunes suivre l'exemple de nos aînés, mais il était déjà trop tard pour nous. Il n'y avait plus de terre vierge à*explorer.\\n\",\n",
       " '\\n',\n",
       " '« Tu nous téléphones dès que tu seras à Rio... » a dit Wetzel.\\n',\n",
       " '\\n',\n",
       " \"Il s'agissait d'une expédition de routine : un nouveau documentaire que je devais tourner et qui s'intitulerait après tant d'autres : Sur les traces du colonel Fawcett, prétexte à filmer quelques villages à la lisière du Mato Grosso. Cette fois-ci, j'avais décidé qu'on ne me verrait pas au Brésil, mais je n'osais l'avouer à Annette et aux autres. Ils n'auraient rien compris. Et puis Annette attendait mon départ pour se retrouver seule avec Cavanaugh.\\n\",\n",
       " '\\n',\n",
       " '« Tu embrasses les amis du Brésil », a dit Cavanaugh.\\n',\n",
       " '\\n',\n",
       " \"Il faisait allusion à l'équipe technique qui était déjà partie et m'attendait de l'autre côté de l'Océan à l'hôtel Souza de Rio de Janeiro. Eh bien, ils pourraient m'attendre longtemps... Au bout de quarante-huit heures, une vague inquiétude commencerait à lesétreindre. Ils téléphoneraient à Paris. Annette décrocherait le combiné, Cavanaugh prendrait l'écouteur. Disparu, oui, j'avais disparu. Comme le colonel Fawcett. Mais à cette différence près : je m'étais volatilisé dès le départ de l'expédition, ce qui les inquiéterait encore plus, c"
      ]
     },
     "execution_count": 7,
     "metadata": {},
     "output_type": "execute_result"
    },
    {
     "data": {
      "text/html": [
       "<b>limit_output extension: Maximum message size of 10000 exceeded with 105739 characters</b>"
      ]
     },
     "metadata": {},
     "output_type": "display_data"
    }
   ],
   "source": [
    "import os\n",
    "\n",
    "actual=os.getcwd()\n",
    "path_folder=os.path.join(os.path.dirname(actual), 'raw_data', 'comp_aut')\n",
    "\n",
    "book_names=[f for f in os.listdir(path_folder) if f.endswith('.txt')]\n",
    "book_one=book_names[0]\n",
    "with open(os.path.join(path_folder, book_one)) as f:\n",
    "    lines = f.readlines()\n",
    "lines   "
   ]
  },
  {
   "cell_type": "code",
   "execution_count": null,
   "id": "70edc043",
   "metadata": {},
   "outputs": [],
   "source": [
    "lenghts=[]\n",
    "for line in lines:\n",
    "    "
   ]
  },
  {
   "cell_type": "code",
   "execution_count": 11,
   "id": "13b51623",
   "metadata": {
    "ExecuteTime": {
     "end_time": "2021-08-24T13:49:01.871230Z",
     "start_time": "2021-08-24T13:49:01.865516Z"
    }
   },
   "outputs": [
    {
     "data": {
      "text/plain": [
       "'blablabla.csv'"
      ]
     },
     "execution_count": 11,
     "metadata": {},
     "output_type": "execute_result"
    }
   ],
   "source": [
    "''.join(['blablabla.txt'.strip('.txt'), '.csv'])"
   ]
  },
  {
   "cell_type": "code",
   "execution_count": 16,
   "id": "385560a0",
   "metadata": {
    "ExecuteTime": {
     "end_time": "2021-08-24T13:53:05.845677Z",
     "start_time": "2021-08-24T13:53:05.823874Z"
    }
   },
   "outputs": [
    {
     "data": {
      "text/plain": [
       "204814"
      ]
     },
     "execution_count": 16,
     "metadata": {},
     "output_type": "execute_result"
    }
   ],
   "source": [
    "import os\n",
    "\n",
    "actual=os.getcwd()\n",
    "path_folder=os.path.join(os.path.dirname(actual), 'raw_data', 'comp_aut')\n",
    "\n",
    "book_names=[f for f in os.listdir(path_folder) if f.endswith('.txt')]\n",
    "book_one=book_names[0]\n",
    "with open(os.path.join(path_folder, book_one)) as f:\n",
    "    lines = f.readlines()\n",
    "lines=''.join(lines).strip()\n",
    "file=open(os.path.join(os.path.dirname(actual), 'author_style', 'data','comp_aut', ''.join([book_one.strip('.txt'), '.csv'])), 'w')\n",
    "file.write(lines)"
   ]
  },
  {
   "cell_type": "code",
   "execution_count": null,
   "id": "33119d5c",
   "metadata": {},
   "outputs": [],
   "source": []
  }
 ],
 "metadata": {
  "kernelspec": {
   "display_name": "Python 3 (ipykernel)",
   "language": "python",
   "name": "python3"
  },
  "language_info": {
   "codemirror_mode": {
    "name": "ipython",
    "version": 3
   },
   "file_extension": ".py",
   "mimetype": "text/x-python",
   "name": "python",
   "nbconvert_exporter": "python",
   "pygments_lexer": "ipython3",
   "version": "3.8.6"
  },
  "toc": {
   "base_numbering": 1,
   "nav_menu": {},
   "number_sections": true,
   "sideBar": true,
   "skip_h1_title": false,
   "title_cell": "Table of Contents",
   "title_sidebar": "Contents",
   "toc_cell": false,
   "toc_position": {},
   "toc_section_display": true,
   "toc_window_display": false
  },
  "varInspector": {
   "cols": {
    "lenName": 16,
    "lenType": 16,
    "lenVar": 40
   },
   "kernels_config": {
    "python": {
     "delete_cmd_postfix": "",
     "delete_cmd_prefix": "del ",
     "library": "var_list.py",
     "varRefreshCmd": "print(var_dic_list())"
    },
    "r": {
     "delete_cmd_postfix": ") ",
     "delete_cmd_prefix": "rm(",
     "library": "var_list.r",
     "varRefreshCmd": "cat(var_dic_list()) "
    }
   },
   "types_to_exclude": [
    "module",
    "function",
    "builtin_function_or_method",
    "instance",
    "_Feature"
   ],
   "window_display": false
  }
 },
 "nbformat": 4,
 "nbformat_minor": 5
}
